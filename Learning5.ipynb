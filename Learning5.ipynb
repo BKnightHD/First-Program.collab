{
  "nbformat": 4,
  "nbformat_minor": 0,
  "metadata": {
    "colab": {
      "provenance": [],
      "authorship_tag": "ABX9TyNdDDby5Cat9zIVIy50COXK",
      "include_colab_link": true
    },
    "kernelspec": {
      "name": "python3",
      "display_name": "Python 3"
    },
    "language_info": {
      "name": "python"
    }
  },
  "cells": [
    {
      "cell_type": "markdown",
      "metadata": {
        "id": "view-in-github",
        "colab_type": "text"
      },
      "source": [
        "<a href=\"https://colab.research.google.com/github/BKnightHD/Python/blob/main/Learning5.ipynb\" target=\"_parent\"><img src=\"https://colab.research.google.com/assets/colab-badge.svg\" alt=\"Open In Colab\"/></a>"
      ]
    },
    {
      "cell_type": "code",
      "execution_count": null,
      "metadata": {
        "colab": {
          "base_uri": "https://localhost:8080/"
        },
        "id": "PYgMBS2EDpcl",
        "outputId": "36db0017-7013-46cf-e54b-159c9b72cb4c"
      },
      "outputs": [
        {
          "output_type": "stream",
          "name": "stdout",
          "text": [
            "[1, 4, 9, 16, 25, 36, 49, 64, 81]\n"
          ]
        }
      ],
      "source": [
        "numbers = []\n",
        "for value in range(1,10):\n",
        "  numbers.append(value**2)\n",
        "print(numbers)"
      ]
    },
    {
      "cell_type": "code",
      "source": [
        "more_numbers = [more_values**2 for more_values in range(1,10)]\n",
        "print(more_numbers)"
      ],
      "metadata": {
        "colab": {
          "base_uri": "https://localhost:8080/"
        },
        "id": "g1GFGoaQJrVZ",
        "outputId": "e5dd619b-191a-4b6e-e625-6838f063cfd4"
      },
      "execution_count": null,
      "outputs": [
        {
          "output_type": "stream",
          "name": "stdout",
          "text": [
            "[1, 4, 9, 16, 25, 36, 49, 64, 81]\n"
          ]
        }
      ]
    },
    {
      "cell_type": "code",
      "source": [
        "cars = ['audi', 'bmw', 'subaru', 'toyota']\n",
        "for car in cars: # checks if the current value of car is 'bmw'\n",
        "  if car == 'bmw':\n",
        "    print(car.upper())\n",
        "  else:\n",
        "    print(car.title())\n",
        "# this conditional test checks whether the value of a varibale is equal to the value of interest:\n",
        "car = 'bmw' # setting the value\n",
        "print(car =='bmw') # checking if its true\n",
        "print(f\"{car =='subaru'}\\n----------\")\n",
        "\n",
        "car = 'Audi'\n",
        "print(car =='audi')\n",
        "print(car.lower() == \"audi\") # checks validation but does not change the value stored\n",
        "print(car)"
      ],
      "metadata": {
        "colab": {
          "base_uri": "https://localhost:8080/"
        },
        "id": "pzglzd09U3jC",
        "outputId": "9ea5e53b-046e-4764-f1b5-df251fe7ff3c"
      },
      "execution_count": null,
      "outputs": [
        {
          "output_type": "stream",
          "name": "stdout",
          "text": [
            "Audi\n",
            "BMW\n",
            "Subaru\n",
            "Toyota\n",
            "True\n",
            "False\n",
            "----------\n",
            "False\n",
            "True\n",
            "Audi\n"
          ]
        }
      ]
    },
    {
      "cell_type": "code",
      "source": [
        "requested_topping = 'mushrooms'\n",
        "if requested_topping != 'anchovies':\n",
        "  print(\"Hold the anchovies!\")\n",
        "\n",
        "moreideas = 'value'\n",
        "if moreideas != 'lesser':\n",
        "  print(\"More than less\")\n",
        "\n",
        "age = '18'\n",
        "age == '18' # does age equal 18, true or false?\n"
      ],
      "metadata": {
        "id": "UUezBHNtVX1E",
        "colab": {
          "base_uri": "https://localhost:8080/"
        },
        "outputId": "e2edd23a-992b-434d-d513-ba85766d1f0d"
      },
      "execution_count": 29,
      "outputs": [
        {
          "output_type": "stream",
          "name": "stdout",
          "text": [
            "Hold the anchovies!\n",
            "More than less\n"
          ]
        },
        {
          "output_type": "execute_result",
          "data": {
            "text/plain": [
              "True"
            ]
          },
          "metadata": {},
          "execution_count": 29
        }
      ]
    },
    {
      "cell_type": "code",
      "source": [],
      "metadata": {
        "colab": {
          "base_uri": "https://localhost:8080/"
        },
        "id": "cnZnsGlNYma4",
        "outputId": "487eeb09-47ab-4caa-bfac-5a827171224a"
      },
      "execution_count": 24,
      "outputs": [
        {
          "output_type": "stream",
          "name": "stdout",
          "text": [
            "more than less\n"
          ]
        }
      ]
    },
    {
      "cell_type": "code",
      "source": [],
      "metadata": {
        "id": "GN5-nROmWJaD"
      },
      "execution_count": 26,
      "outputs": []
    },
    {
      "cell_type": "code",
      "source": [],
      "metadata": {
        "id": "5_pn_LdXZg6a"
      },
      "execution_count": null,
      "outputs": []
    }
  ]
}