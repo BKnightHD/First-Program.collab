{
  "nbformat": 4,
  "nbformat_minor": 0,
  "metadata": {
    "colab": {
      "provenance": [],
      "authorship_tag": "ABX9TyMes+xzNOAj0/F96axwK5DI",
      "include_colab_link": true
    },
    "kernelspec": {
      "name": "python3",
      "display_name": "Python 3"
    },
    "language_info": {
      "name": "python"
    }
  },
  "cells": [
    {
      "cell_type": "markdown",
      "metadata": {
        "id": "view-in-github",
        "colab_type": "text"
      },
      "source": [
        "<a href=\"https://colab.research.google.com/github/BKnightHD/Python-Practice/blob/main/PythonCC_Chp4.ipynb\" target=\"_parent\"><img src=\"https://colab.research.google.com/assets/colab-badge.svg\" alt=\"Open In Colab\"/></a>"
      ]
    },
    {
      "cell_type": "markdown",
      "source": [
        "# Working With Lists (Looping)"
      ],
      "metadata": {
        "id": "kSU_a7u-9nOQ"
      }
    },
    {
      "cell_type": "markdown",
      "source": [
        "- For Loops"
      ],
      "metadata": {
        "id": "Pp-MrBPg_W7_"
      }
    },
    {
      "cell_type": "code",
      "execution_count": 4,
      "metadata": {
        "colab": {
          "base_uri": "https://localhost:8080/"
        },
        "id": "0RSe-ZSV9g1H",
        "outputId": "220f23b8-cb46-4bbd-84f5-674fb3b8c0b6"
      },
      "outputs": [
        {
          "output_type": "stream",
          "name": "stdout",
          "text": [
            "Alice\n",
            "David\n",
            "Carolina\n"
          ]
        }
      ],
      "source": [
        "magicians = ['alice', 'david', 'carolina'] # first we define the list\n",
        "for magician in magicians: # this line tells Python to pull a name from the list magicians, and associate it with the variable magician\n",
        "  print(magician.title()) # Python repeats line 2 and 3 for each item in the list"
      ]
    },
    {
      "cell_type": "markdown",
      "source": [
        "We can interpret the above code as follows: \"For every magician in the list of magicians, print the magician's name,\"\n",
        "\n",
        "It's good to keep naming conventions simple and intuitive like so:\n",
        "\n",
        "- for cat in cats:\n",
        "\n",
        "- for dog in dogs:\n",
        "\n",
        "- for item in list_of_items:\n"
      ],
      "metadata": {
        "id": "RLkCfsyY_JWR"
      }
    },
    {
      "cell_type": "code",
      "source": [
        "for magician in magicians:\n",
        "  print(f\"{magician.title()}, that was a great trick!\")\n",
        "  print(f\"I can't wait to see your next trick {magician.title()}!\\n\")\n",
        "print(\"Thank you all for the great show!\") # This line is not indented, so Python does not count it in the for loop"
      ],
      "metadata": {
        "colab": {
          "base_uri": "https://localhost:8080/"
        },
        "id": "g95OOe3i-Ua7",
        "outputId": "dcab5ad4-b07a-450e-963e-4edf7516053d"
      },
      "execution_count": 11,
      "outputs": [
        {
          "output_type": "stream",
          "name": "stdout",
          "text": [
            "Alice, that was a great trick!\n",
            "I can't wait to see your next trick Alice!\n",
            "\n",
            "David, that was a great trick!\n",
            "I can't wait to see your next trick David!\n",
            "\n",
            "Carolina, that was a great trick!\n",
            "I can't wait to see your next trick Carolina!\n",
            "\n",
            "Thank you all for the great show!\n"
          ]
        }
      ]
    },
    {
      "cell_type": "code",
      "source": [],
      "metadata": {
        "id": "l3cLBHg8A6fF"
      },
      "execution_count": null,
      "outputs": []
    }
  ]
}