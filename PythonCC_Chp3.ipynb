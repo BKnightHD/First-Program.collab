{
  "nbformat": 4,
  "nbformat_minor": 0,
  "metadata": {
    "colab": {
      "provenance": [],
      "authorship_tag": "ABX9TyNqjKXtwtAN9Tfytye2o0uL",
      "include_colab_link": true
    },
    "kernelspec": {
      "name": "python3",
      "display_name": "Python 3"
    },
    "language_info": {
      "name": "python"
    }
  },
  "cells": [
    {
      "cell_type": "markdown",
      "metadata": {
        "id": "view-in-github",
        "colab_type": "text"
      },
      "source": [
        "<a href=\"https://colab.research.google.com/github/BKnightHD/Python-Practice/blob/main/PythonCC_Chp3.ipynb\" target=\"_parent\"><img src=\"https://colab.research.google.com/assets/colab-badge.svg\" alt=\"Open In Colab\"/></a>"
      ]
    },
    {
      "cell_type": "code",
      "execution_count": null,
      "metadata": {
        "id": "bvGUz5O26uhX",
        "outputId": "9cf5362a-f860-42ae-f930-76941e43ab36",
        "colab": {
          "base_uri": "https://localhost:8080/"
        }
      },
      "outputs": [
        {
          "output_type": "stream",
          "name": "stdout",
          "text": [
            "['trek', 'cannondale', 'redline', 'specialized']\n",
            "    Trek\n",
            "\tCannondale\n",
            "\t\tREDLINE\n",
            "\t\t\tSpecialized\n",
            "specialized redline\n"
          ]
        }
      ],
      "source": [
        "bicycles = ['trek', 'cannondale', 'redline', 'specialized'] #first list\n",
        "print(bicycles)\n",
        "#index positions start at 0, not 1\n",
        "print(\"    \" + bicycles[0].title())\n",
        "print(\"\\t\" + bicycles[1].title())\n",
        "print(\"\\t\\t\" + bicycles[2].upper())\n",
        "print(\"\\t\\t\\t\" + bicycles[3].title())\n",
        "print(bicycles[-1], bicycles[-2])"
      ]
    },
    {
      "cell_type": "code",
      "source": [
        "message = \"My first bicycle was a \" + bicycles[2].title() + \".\"\n",
        "print(message)"
      ],
      "metadata": {
        "colab": {
          "base_uri": "https://localhost:8080/"
        },
        "id": "sYr94OooA869",
        "outputId": "c7e1ebb3-f89a-4eba-b92b-cff4df0c2e2d"
      },
      "execution_count": null,
      "outputs": [
        {
          "output_type": "stream",
          "name": "stdout",
          "text": [
            "My first bicycle was a Redline.\n"
          ]
        }
      ]
    },
    {
      "cell_type": "markdown",
      "source": [
        "Try if yourself\n",
        "* 3-1 Names\n",
        "* 3-2 Greetings\n",
        "* 3-3 Your Own List"
      ],
      "metadata": {
        "id": "Y6vCeae_NHy-"
      }
    },
    {
      "cell_type": "code",
      "source": [
        "#3-1\n",
        "names = [\"Giuseppe\", \"Maisam\", \"Joe\", \"Devin\", \"Eddie\"]\n",
        "print(names[0],\"\\n\",names[1],\"\\n\",names[2],\"\\n\",names[3],\"\\n\",names[4])\n",
        "\n",
        "#3-2\n",
        "print(\"Hey \" + names[0] + \", I hope you're having a great day!\")\n",
        "print(\"Hey \" + names[1] + \", I hope you're having a great day!\")\n",
        "print(\"Hey \" + names[2] + \", I hope you're having a great day!\")\n",
        "print(\"Hey \" + names[3] + \", I hope you're having a great day!\")\n",
        "print(\"Hey \" + names[4] + \", I hope you're having a great day!\")\n",
        "\n",
        "#3-3\n",
        "stores = ['nordstroms', 'express', 'levis', 'north face', 'nike']\n",
        "print(\"I use to go to West County mall all the time top shop at \" + stores[-5].title())"
      ],
      "metadata": {
        "colab": {
          "base_uri": "https://localhost:8080/"
        },
        "id": "b975IUZUNGwu",
        "outputId": "0607b9b5-b6c4-464a-d8ec-44fc0f6fec1d"
      },
      "execution_count": null,
      "outputs": [
        {
          "output_type": "stream",
          "name": "stdout",
          "text": [
            "Giuseppe \n",
            " Maisam \n",
            " Joe \n",
            " Devin \n",
            " Eddie\n",
            "Hey Giuseppe, I hope you're having a great day!\n",
            "Hey Maisam, I hope you're having a great day!\n",
            "Hey Joe, I hope you're having a great day!\n",
            "Hey Devin, I hope you're having a great day!\n",
            "Hey Eddie, I hope you're having a great day!\n",
            "I use to go to West County mall all the time top shop at Nordstroms\n"
          ]
        }
      ]
    },
    {
      "cell_type": "code",
      "source": [
        "motercycles = ['honda', 'yamaha', 'suzuki']\n",
        "print(motercycles)\n",
        "\n",
        "motercycles[0] = 'ducati' # here, we are changing the value stored in the first position of our motercycle list\n",
        "print(motercycles)"
      ],
      "metadata": {
        "colab": {
          "base_uri": "https://localhost:8080/"
        },
        "id": "50XAmsMFSjra",
        "outputId": "c44b509a-ee33-4f11-cdbb-f1f152b2c579"
      },
      "execution_count": null,
      "outputs": [
        {
          "output_type": "stream",
          "name": "stdout",
          "text": [
            "['honda', 'yamaha', 'suzuki']\n",
            "['ducati', 'yamaha', 'suzuki']\n"
          ]
        }
      ]
    },
    {
      "cell_type": "code",
      "source": [
        "motercycles = []\n",
        "motercycles.append('honda')\n",
        "motercycles.append('yamaha')\n",
        "motercycles.append('suzuki')\n",
        "print(motercycles)"
      ],
      "metadata": {
        "id": "VnmDlKnAAaQ-",
        "colab": {
          "base_uri": "https://localhost:8080/"
        },
        "outputId": "cae76eb5-f391-4914-fbf7-664102c399bc"
      },
      "execution_count": null,
      "outputs": [
        {
          "output_type": "stream",
          "name": "stdout",
          "text": [
            "['honda', 'yamaha', 'suzuki']\n"
          ]
        }
      ]
    },
    {
      "cell_type": "code",
      "source": [
        "motercycles = ['honda', 'yamaha', 'suzuki']\n",
        "last_owned = motercycles.pop()\n",
        "first_owned = motercycles.pop(0)\n",
        "\n",
        "\n",
        "print(f\"The first motercycle I owned was a {last_owned.title()}.\") #inputing a varibale within a str without concatinating it, the f represents a \"f-string\"\n",
        "print(f\"The first motercycle I owned was a {first_owned.title()}.\")"
      ],
      "metadata": {
        "colab": {
          "base_uri": "https://localhost:8080/"
        },
        "id": "JRJJUmwlIJYk",
        "outputId": "9a3272f2-8c47-464d-b719-8c01f7afc21b"
      },
      "execution_count": null,
      "outputs": [
        {
          "output_type": "stream",
          "name": "stdout",
          "text": [
            "The first motercycle I owned was a Suzuki.\n",
            "The first motercycle I owned was a Honda.\n"
          ]
        }
      ]
    },
    {
      "cell_type": "code",
      "source": [
        "names = ['jeffery', 'tristan', 'jank', 'miles']\n",
        "names.append('mason')\n",
        "family = \"jappa\"\n",
        "names.insert(0, 'maisam')\n",
        "print(\"I'm praying for the \" + str(family).title() + \" family in there time of need.\")\n",
        "print(\"I hope this doesn't take my man \" + names[-4].title() + \" down the wrong path.\")"
      ],
      "metadata": {
        "colab": {
          "base_uri": "https://localhost:8080/"
        },
        "id": "IvAOE-lM_N2u",
        "outputId": "56f1182b-edb4-410d-8157-a927bb8d9778"
      },
      "execution_count": null,
      "outputs": [
        {
          "output_type": "stream",
          "name": "stdout",
          "text": [
            "I'm praying for the Jappa family in there time of need.\n",
            "I hope this doesn't take my man Tristan down the wrong path.\n"
          ]
        }
      ]
    },
    {
      "cell_type": "markdown",
      "source": [
        "Introducing the append and pop methods\n",
        "* append() - adds a nother item to the list\n",
        "* pop() - popping (or removing) the last item on the list"
      ],
      "metadata": {
        "id": "FmPKfQl7HQ-A"
      }
    },
    {
      "cell_type": "code",
      "source": [
        "colors = ['red', 'blue']\n",
        "print(colors[1])\n",
        "\n",
        "colors.append('green') # adding an item to the end of the list with the append method\n",
        "print(colors)\n",
        "\n",
        "popped_colors = colors.pop() # here, we are storing the value of the poped item into the variable named popped_colors\n",
        "print(popped_colors)\n",
        "\n",
        "colors.pop(1) # another way to pop an item form the list. Now the list only contains 1 item\n",
        "print(colors)"
      ],
      "metadata": {
        "id": "7muFZoPHCTq6",
        "colab": {
          "base_uri": "https://localhost:8080/"
        },
        "outputId": "43c376d1-4e3d-457f-91d1-d73c0f5dc11c"
      },
      "execution_count": null,
      "outputs": [
        {
          "output_type": "stream",
          "name": "stdout",
          "text": [
            "blue\n",
            "['red', 'blue', 'green']\n",
            "green\n",
            "['red']\n"
          ]
        }
      ]
    },
    {
      "cell_type": "code",
      "source": [
        "motercycles = ['honda', 'yamaha', 'suzuki', 'ducanti']\n",
        "print(motercycles)\n",
        "motercycles.remove('honda') #remove function works well if you do not know the position of the item you want to delete\n",
        "print(motercycles)\n",
        "\n",
        "too_expensive = motercycles[1]\n",
        "motercycles.remove(too_expensive)\n",
        "print(motercycles)\n",
        "\n",
        "print(f\"\\n{too_expensive.title()} is too expensive for me.\")"
      ],
      "metadata": {
        "colab": {
          "base_uri": "https://localhost:8080/"
        },
        "id": "pN8aBdFuF_EQ",
        "outputId": "4d5b7a05-7ef6-4450-99db-75037ec22e43"
      },
      "execution_count": null,
      "outputs": [
        {
          "output_type": "stream",
          "name": "stdout",
          "text": [
            "['honda', 'yamaha', 'suzuki', 'ducanti']\n",
            "['yamaha', 'suzuki', 'ducanti']\n",
            "['yamaha', 'ducanti']\n",
            "\n",
            "Suzuki is too expensive for me.\n"
          ]
        }
      ]
    },
    {
      "cell_type": "markdown",
      "source": [
        "Try it youreself\n",
        "* 3-4 Guest List\n",
        "* 3-5 Changing the Gues list\n",
        "* 3-6 More Guests\n",
        "* 3-7 Shrinking Guest List"
      ],
      "metadata": {
        "id": "ajxpjBlDLPKW"
      }
    },
    {
      "cell_type": "code",
      "source": [
        "#3-4\n",
        "invitations = ['Jesus Christ', 'sade', 'rayfield']\n",
        "\n",
        "print(f\"Hello {invitations[0].title()}, I'd like to formally invite you to dinner. It would be an honor to have you.\")\n",
        "print(f\"Hello {invitations[1].title()}, I'd like to formally invite you to dinner. It would be an honor to have you.\")\n",
        "print(f\"Hello {invitations[2].title()}, I'd like to formally invite you to dinner. It would be an honor to have you.\")\n",
        "\n",
        "#3-5\n",
        "absent = invitations.pop(0)\n",
        "invitations.insert(0,'mom') #insert function will add mom like append but I can now choose which position to add her\n",
        "print(f\"\\nHello my honored guests, unfortunately {absent.title()} won't be joing us tonight.\")\n",
        "print(f\"\\nHello {invitations[0].title()}, I'd like to formally invite you to dinner. It would be an honor to have you.\")\n",
        "print(f\"Hello {invitations[1].title()}, I'd like to formally invite you to dinner. It would be an honor to have you.\")\n",
        "print(f\"Hello {invitations[2].title()}, I'd like to formally invite you to dinner. It would be an honor to have you.\")\n",
        "\n",
        "#3-6\n",
        "\n",
        "invitations.append('dad')\n",
        "invitations.append('brenelle')\n",
        "invitations.append('marvin gaye')\n",
        "\n",
        "print(f\"\\nHello {invitations[3].title()}, I'd like to formally invite you to dinner. It would be an honor to have you.\")\n",
        "print(f\"Hello {invitations[4].title()}, I'd like to formally invite you to dinner. It would be an honor to have you.\")\n",
        "print(f\"Hello {invitations[5].title()}, I'd like to formally invite you to dinner. It would be an honor to have you.\")\n",
        "\n",
        "print(f\"\\nGreat news {invitations[0].title()}! I've found a bigger table for more guests.\")\n",
        "print(f\"Great news {invitations[1].title()}! I've found a bigger table for more guests.\")\n",
        "print(f\"Great news {invitations[2].title()}! I've found a bigger table for more guests.\")\n",
        "\n",
        "#3-7\n",
        "\n",
        "print(\"\\nHey everyone, unfortunately I can only have two people at dinner now.\")\n",
        "invitations.pop()\n",
        "invitations.pop()\n",
        "invitations.pop()\n",
        "invitations.pop()\n",
        "print(invitations)\n",
        "\n",
        "print(f\"\\nHey {invitations[0].title()}, just wanted to let you know that you're still invited\")\n",
        "print(f\"\\nHey {invitations[1].title()}, just wanted to let you know that you're still invited\")\n",
        "\n",
        "del invitations[1]\n",
        "\n",
        "print(invitations)"
      ],
      "metadata": {
        "colab": {
          "base_uri": "https://localhost:8080/"
        },
        "id": "srfxTZmZKVgW",
        "outputId": "b9b060bd-d46d-4967-fec6-23cfae8cdde3"
      },
      "execution_count": null,
      "outputs": [
        {
          "output_type": "stream",
          "name": "stdout",
          "text": [
            "Hello Jesus Christ, I'd like to formally invite you to dinner. It would be an honor to have you.\n",
            "Hello Sade, I'd like to formally invite you to dinner. It would be an honor to have you.\n",
            "Hello Rayfield, I'd like to formally invite you to dinner. It would be an honor to have you.\n",
            "\n",
            "Hello my honored guests, unfortunately Jesus Christ won't be joing us tonight.\n",
            "\n",
            "Hello Mom, I'd like to formally invite you to dinner. It would be an honor to have you.\n",
            "Hello Sade, I'd like to formally invite you to dinner. It would be an honor to have you.\n",
            "Hello Rayfield, I'd like to formally invite you to dinner. It would be an honor to have you.\n",
            "\n",
            "Hello Dad, I'd like to formally invite you to dinner. It would be an honor to have you.\n",
            "Hello Brenelle, I'd like to formally invite you to dinner. It would be an honor to have you.\n",
            "Hello Marvin Gaye, I'd like to formally invite you to dinner. It would be an honor to have you.\n",
            "\n",
            "Great news Mom! I've found a bigger table for more guests.\n",
            "Great news Sade! I've found a bigger table for more guests.\n",
            "Great news Rayfield! I've found a bigger table for more guests.\n",
            "\n",
            "Hey everyone, unfortunately I can only have two people at dinner now.\n",
            "['mom', 'sade']\n",
            "\n",
            "Hey Mom, just wanted to let you know that you're still invited\n",
            "\n",
            "Hey Sade, just wanted to let you know that you're still invited\n",
            "['mom']\n"
          ]
        }
      ]
    },
    {
      "cell_type": "code",
      "source": [
        "cars = ['bmw', 'audi', 'toyota', 'subaru']\n",
        "cars.sort #sort function sorts the list in aphabetical order\n",
        "print(cars)\n",
        "\n",
        "cars.sort(reverse=True)\n",
        "print(cars)"
      ],
      "metadata": {
        "colab": {
          "base_uri": "https://localhost:8080/"
        },
        "id": "WqJcG7JCMzu7",
        "outputId": "2e89e6de-59a9-4484-e95e-e54c50853bd3"
      },
      "execution_count": null,
      "outputs": [
        {
          "output_type": "stream",
          "name": "stdout",
          "text": [
            "['bmw', 'audi', 'toyota', 'subaru']\n",
            "['toyota', 'subaru', 'bmw', 'audi']\n"
          ]
        }
      ]
    },
    {
      "cell_type": "code",
      "source": [
        "cars = ['bmw', 'audi', 'toyota', 'subaru']\n",
        "print(\"Here is the original list:\")\n",
        "print(cars)\n",
        "\n",
        "print(\"\\nHere is the sorted list:\")\n",
        "print(sorted(cars)) #sored() function allows us to sort the list momentarily\n",
        "\n",
        "print(\"\\nHere is the original list again:\")\n",
        "print(cars)\n",
        "\n",
        "cars.reverse() # reverse function is permenant, but you can revert by reversing again\n",
        "print(cars)\n",
        "cars.reverse()\n",
        "print(cars)\n",
        "len(cars) # the len function tells you how many items are in your list"
      ],
      "metadata": {
        "id": "mZW74Vs44K1w",
        "colab": {
          "base_uri": "https://localhost:8080/"
        },
        "outputId": "e40af64c-f716-40ef-9ad3-afef94cbcf0b"
      },
      "execution_count": 1,
      "outputs": [
        {
          "output_type": "stream",
          "name": "stdout",
          "text": [
            "Here is the original list:\n",
            "['bmw', 'audi', 'toyota', 'subaru']\n",
            "\n",
            "Here is the sorted list:\n",
            "['audi', 'bmw', 'subaru', 'toyota']\n",
            "\n",
            "Here is the original list again:\n",
            "['bmw', 'audi', 'toyota', 'subaru']\n",
            "['subaru', 'toyota', 'audi', 'bmw']\n",
            "['bmw', 'audi', 'toyota', 'subaru']\n"
          ]
        },
        {
          "output_type": "execute_result",
          "data": {
            "text/plain": [
              "4"
            ]
          },
          "metadata": {},
          "execution_count": 1
        }
      ]
    },
    {
      "cell_type": "markdown",
      "source": [
        "* 3-8 Seeing the World\n",
        "* 3-9 Dinner Guests\n",
        "* 3-10 Every Function"
      ],
      "metadata": {
        "id": "UxatreVgxrV6"
      }
    },
    {
      "cell_type": "code",
      "source": [
        "#3-8\n",
        "destinations = ['rio de janerio', \"new york\", \"japan\", \"paris\", \"porofino\"] #Store locations in a list. Make sure the list is not in alphabetical order\n",
        "print(destinations) # Print your list in its original order. Don't worry about printing the list neatly, just print it as a row Python list\n",
        "print(\"\\n\")\n",
        "\n",
        "print(sorted(destinations)) # Use sorted() to print your list in alphabetical order without modifying the actual list\n",
        "print(destinations) # Show that your list is still in it's original order by printing it\n",
        "print(\"\\n\")\n",
        "\n",
        "print(sorted(destinations, reverse = True)) # Use sorted() to print your list in reverse alphabetical order without changing the order of the original list\n",
        "print(\"\\n\")\n",
        "\n",
        "destinations.reverse() # Use reverse() to change the order of your list. Print the list to show that its order has changed\n",
        "print(destinations)\n",
        "destinations.reverse() # Use reverse() again to change the oder back\n",
        "print(destinations)\n",
        "print(\"\\n\")\n",
        "\n",
        "destinations.sort() # Use sort() to change your list so it's stored in alphabetical order. Print the list to show that it has changed\n",
        "print(destinations)\n",
        "print(\"\\n\")\n",
        "\n",
        "destinations.sort(reverse = True) # Use sort to change your lsit so it's stored in reverse alphabetical order\n",
        "print(destinations)"
      ],
      "metadata": {
        "id": "yZ_RIGmUAQwx",
        "colab": {
          "base_uri": "https://localhost:8080/"
        },
        "outputId": "5ffcfbac-d527-450d-9e3b-048cc1393320"
      },
      "execution_count": 28,
      "outputs": [
        {
          "output_type": "stream",
          "name": "stdout",
          "text": [
            "['rio de janerio', 'new york', 'japan', 'paris', 'porofino']\n",
            "\n",
            "\n",
            "['japan', 'new york', 'paris', 'porofino', 'rio de janerio']\n",
            "['rio de janerio', 'new york', 'japan', 'paris', 'porofino']\n",
            "\n",
            "\n",
            "['rio de janerio', 'porofino', 'paris', 'new york', 'japan']\n",
            "\n",
            "\n",
            "['porofino', 'paris', 'japan', 'new york', 'rio de janerio']\n",
            "['rio de janerio', 'new york', 'japan', 'paris', 'porofino']\n",
            "\n",
            "\n",
            "['japan', 'new york', 'paris', 'porofino', 'rio de janerio']\n",
            "\n",
            "\n",
            "['rio de janerio', 'porofino', 'paris', 'new york', 'japan']\n"
          ]
        }
      ]
    },
    {
      "cell_type": "markdown",
      "source": [
        "# Avoiding Index Errors When Working with Lists\n",
        "You will get an index error if you try to return an item from the list that is not there / in that position. If an index error occurs and you can't figure out how to resolve it, try printing your list or just printing the length of your list."
      ],
      "metadata": {
        "id": "knkzaiK93bt0"
      }
    },
    {
      "cell_type": "code",
      "source": [
        "help(sorted) #help function tells python to give you help for things you don't understand"
      ],
      "metadata": {
        "colab": {
          "base_uri": "https://localhost:8080/"
        },
        "id": "BlSc7zYe3-dz",
        "outputId": "7e0254c8-6f97-4aa8-d99f-b70d8b12f596"
      },
      "execution_count": 32,
      "outputs": [
        {
          "output_type": "stream",
          "name": "stdout",
          "text": [
            "Help on built-in function sorted in module builtins:\n",
            "\n",
            "sorted(iterable, /, *, key=None, reverse=False)\n",
            "    Return a new list containing all items from the iterable in ascending order.\n",
            "    \n",
            "    A custom key function can be supplied to customize the sort order, and the\n",
            "    reverse flag can be set to request the result in descending order.\n",
            "\n"
          ]
        }
      ]
    },
    {
      "cell_type": "code",
      "source": [],
      "metadata": {
        "id": "ZW1-KCQD4Bhx"
      },
      "execution_count": null,
      "outputs": []
    }
  ]
}