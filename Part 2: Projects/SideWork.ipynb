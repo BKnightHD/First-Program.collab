{
  "nbformat": 4,
  "nbformat_minor": 0,
  "metadata": {
    "colab": {
      "provenance": [],
      "authorship_tag": "ABX9TyNLDUBoKbuqGgtO0b02e4ty",
      "include_colab_link": true
    },
    "kernelspec": {
      "name": "python3",
      "display_name": "Python 3"
    },
    "language_info": {
      "name": "python"
    }
  },
  "cells": [
    {
      "cell_type": "markdown",
      "metadata": {
        "id": "view-in-github",
        "colab_type": "text"
      },
      "source": [
        "<a href=\"https://colab.research.google.com/github/BKnightHD/Python-CC/blob/main/Part%202%3A%20Projects/SideWork.ipynb\" target=\"_parent\"><img src=\"https://colab.research.google.com/assets/colab-badge.svg\" alt=\"Open In Colab\"/></a>"
      ]
    },
    {
      "cell_type": "markdown",
      "source": [
        "## Review\n",
        "* Lists\n",
        "* Strings\n",
        "* Methods\n",
        "* Dictionaries\n",
        "* For Loops\n",
        "* Inputs"
      ],
      "metadata": {
        "id": "u9LfdoyCfDTa"
      }
    },
    {
      "cell_type": "code",
      "execution_count": null,
      "metadata": {
        "colab": {
          "base_uri": "https://localhost:8080/"
        },
        "id": "LRfs9eykfAQ6",
        "outputId": "699ea058-ebfe-403a-e274-ade749c16c30"
      },
      "outputs": [
        {
          "output_type": "stream",
          "name": "stdout",
          "text": [
            "Here are a list of names:\n",
            "Brandon\n",
            "Giuseppe\n",
            "Joe\n",
            "Devin\n",
            "Eddie\n",
            "Type in someone's name from the list to find out their favorite coding language. jack\n",
            "jack\n",
            "Sorry, None is not a name from the list\n"
          ]
        }
      ],
      "source": [
        "people = {\n",
        "    'brandon': 'python',\n",
        "    'giuseppe': 'c++',\n",
        "    'joe': 'r',\n",
        "    'devin': 'java script',\n",
        "    'eddie' : 'python'\n",
        "  }\n",
        "\n",
        "print(\"Here are a list of names:\")\n",
        "for names in people:\n",
        "  print(names.title())\n",
        "names = print(input(\"Type in someone's name from the list to find out their favorite coding language. \"))\n",
        "if names not in people:\n",
        "  print(f\"Sorry, {str(names)} is not a name from the list\")\n",
        "else:\n",
        "  print(f\"{str(people.key.title())} likes to write in {people.items.title()}!\")"
      ]
    },
    {
      "cell_type": "code",
      "source": [
        "books = {\n",
        "    '48 laws of power': 'robert greene',\n",
        "    '12 rules for live': 'jordan peterson',\n",
        "    'atomic habits': 'james clear',\n",
        "    'love and math': 'edward frenkel',\n",
        "    \"can't hurt me\": 'daivd goggins'\n",
        "    }\n",
        "\n",
        "print(\"these are aurthors and some of their books:\\n\")\n",
        "for book, author in books.items():\n",
        "  print(f\"{author.title()}: {book.title()}\")\n",
        "\n",
        "print(f\"These are just the titles of the books:\\n\")\n",
        "for book in books:\n",
        "  print(f\"{book.title()}\")"
      ],
      "metadata": {
        "id": "wB_VIyrPgEqs",
        "outputId": "8cb92b1b-78a3-4270-a2e0-5169fedb8654",
        "colab": {
          "base_uri": "https://localhost:8080/"
        }
      },
      "execution_count": 5,
      "outputs": [
        {
          "output_type": "stream",
          "name": "stdout",
          "text": [
            "these are aurthors and some of their books:\n",
            "\n",
            "Robert Greene: 48 Laws Of Power\n",
            "Jordan Peterson: 12 Rules For Live\n",
            "James Clear: Atomic Habits\n",
            "Edward Frenkel: Love And Math\n",
            "Daivd Goggins: Can'T Hurt Me\n",
            "These are just the titles of the books:\n",
            "\n",
            "48 Laws Of Power\n",
            "12 Rules For Live\n",
            "Atomic Habits\n",
            "Love And Math\n",
            "Can'T Hurt Me\n"
          ]
        }
      ]
    },
    {
      "cell_type": "code",
      "source": [],
      "metadata": {
        "id": "dWjXlo8iGblq"
      },
      "execution_count": null,
      "outputs": []
    }
  ]
}