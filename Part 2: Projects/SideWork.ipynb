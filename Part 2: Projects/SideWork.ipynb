{
  "nbformat": 4,
  "nbformat_minor": 0,
  "metadata": {
    "colab": {
      "provenance": [],
      "authorship_tag": "ABX9TyMlXhTWXJZ3csHeijok5EAZ",
      "include_colab_link": true
    },
    "kernelspec": {
      "name": "python3",
      "display_name": "Python 3"
    },
    "language_info": {
      "name": "python"
    }
  },
  "cells": [
    {
      "cell_type": "markdown",
      "metadata": {
        "id": "view-in-github",
        "colab_type": "text"
      },
      "source": [
        "<a href=\"https://colab.research.google.com/github/BKnightHD/Python-CC/blob/main/Part%202%3A%20Projects/SideWork.ipynb\" target=\"_parent\"><img src=\"https://colab.research.google.com/assets/colab-badge.svg\" alt=\"Open In Colab\"/></a>"
      ]
    },
    {
      "cell_type": "markdown",
      "source": [
        "## Review\n",
        "* Lists\n",
        "* Strings\n",
        "* Methods\n",
        "* Dictionaries\n",
        "* For Loops\n",
        "* Inputs"
      ],
      "metadata": {
        "id": "u9LfdoyCfDTa"
      }
    },
    {
      "cell_type": "code",
      "execution_count": null,
      "metadata": {
        "colab": {
          "base_uri": "https://localhost:8080/"
        },
        "id": "LRfs9eykfAQ6",
        "outputId": "699ea058-ebfe-403a-e274-ade749c16c30"
      },
      "outputs": [
        {
          "output_type": "stream",
          "name": "stdout",
          "text": [
            "Here are a list of names:\n",
            "Brandon\n",
            "Giuseppe\n",
            "Joe\n",
            "Devin\n",
            "Eddie\n",
            "Type in someone's name from the list to find out their favorite coding language. jack\n",
            "jack\n",
            "Sorry, None is not a name from the list\n"
          ]
        }
      ],
      "source": [
        "people = {\n",
        "    'brandon': 'python',\n",
        "    'giuseppe': 'c++',\n",
        "    'joe': 'r',\n",
        "    'devin': 'java script',\n",
        "    'eddie' : 'python'\n",
        "  }\n",
        "\n",
        "print(\"Here are a list of names:\")\n",
        "for names in people:\n",
        "  print(names.title())\n",
        "names = print(input(\"Type in someone's name from the list to find out their favorite coding language. \"))\n",
        "if names not in people:\n",
        "  print(f\"Sorry, {str(names)} is not a name from the list\")\n",
        "else:\n",
        "  print(f\"{str(people.key.title())} likes to write in {people.items.title()}!\")"
      ]
    },
    {
      "cell_type": "code",
      "source": [
        "books = {\n",
        "    '48 laws of power': 'robert greene',\n",
        "    '12 rules for live': 'jordan peterson',\n",
        "    'atomic habits': 'james clear',\n",
        "    'love and math': 'edward frenkel',\n",
        "    \"can't hurt me\": 'daivd goggins'\n",
        "    }\n",
        "\n",
        "print(\"these are aurthors and some of their books:\\n\")\n",
        "for book, author in books.items():\n",
        "  print(f\"{author.title()}: {book.title()}\")\n",
        "\n",
        "print(f\"These are just the titles of the books:\\n\")\n",
        "for book in books:\n",
        "  print(f\"{book.title()}\")"
      ],
      "metadata": {
        "id": "wB_VIyrPgEqs",
        "outputId": "8cb92b1b-78a3-4270-a2e0-5169fedb8654",
        "colab": {
          "base_uri": "https://localhost:8080/"
        }
      },
      "execution_count": null,
      "outputs": [
        {
          "output_type": "stream",
          "name": "stdout",
          "text": [
            "these are aurthors and some of their books:\n",
            "\n",
            "Robert Greene: 48 Laws Of Power\n",
            "Jordan Peterson: 12 Rules For Live\n",
            "James Clear: Atomic Habits\n",
            "Edward Frenkel: Love And Math\n",
            "Daivd Goggins: Can'T Hurt Me\n",
            "These are just the titles of the books:\n",
            "\n",
            "48 Laws Of Power\n",
            "12 Rules For Live\n",
            "Atomic Habits\n",
            "Love And Math\n",
            "Can'T Hurt Me\n"
          ]
        }
      ]
    },
    {
      "cell_type": "code",
      "source": [
        "i = 0\n",
        "while i  < 6:\n",
        "  print(i)\n",
        "  i = i + 1\n",
        "# prints value of i until it gets to 6 and then the program stops"
      ],
      "metadata": {
        "id": "dWjXlo8iGblq",
        "colab": {
          "base_uri": "https://localhost:8080/"
        },
        "outputId": "6173dd6c-b694-41bb-f4e9-92d1ce0496cf"
      },
      "execution_count": null,
      "outputs": [
        {
          "output_type": "stream",
          "name": "stdout",
          "text": [
            "0\n",
            "1\n",
            "2\n",
            "3\n",
            "4\n",
            "5\n"
          ]
        }
      ]
    },
    {
      "cell_type": "code",
      "source": [
        "names = {\n",
        "    'brandon': 'python',\n",
        "    'jack': 'c++',\n",
        "    'austin': 'java script',\n",
        "    'eddie': 'assembly'\n",
        "    }\n",
        "\n",
        "for name, language in names.items():\n",
        "  message = f\"Hello, my mame is {name.title()}\"\n",
        "  message += \"\\nIt's nice to meet you\"\n",
        "  message += f\"I like to use {language.title()}\"\n",
        "  print(message)\n",
        "  print('\\n')"
      ],
      "metadata": {
        "colab": {
          "base_uri": "https://localhost:8080/"
        },
        "id": "UanTW3hoPW1v",
        "outputId": "2fc725f1-41c3-4050-b685-251851294b3b"
      },
      "execution_count": null,
      "outputs": [
        {
          "output_type": "stream",
          "name": "stdout",
          "text": [
            "Hello, my mame is Brandon\n",
            "It's nice to meet youI like to use Python\n",
            "\n",
            "\n",
            "Hello, my mame is Jack\n",
            "It's nice to meet youI like to use C++\n",
            "\n",
            "\n",
            "Hello, my mame is Austin\n",
            "It's nice to meet youI like to use Java Script\n",
            "\n",
            "\n",
            "Hello, my mame is Eddie\n",
            "It's nice to meet youI like to use Assembly\n",
            "\n",
            "\n"
          ]
        }
      ]
    },
    {
      "cell_type": "code",
      "source": [
        "name = input(\"Type your name here and I will return it in all caps \")\n",
        "name_upper = name.upper()\n",
        "print(name_upper)"
      ],
      "metadata": {
        "id": "UJuhkkH1QRRR",
        "colab": {
          "base_uri": "https://localhost:8080/"
        },
        "outputId": "9e2b20f7-7f0d-4c79-a973-0093104aabea"
      },
      "execution_count": 7,
      "outputs": [
        {
          "output_type": "stream",
          "name": "stdout",
          "text": [
            "Type your name here and I will return it in all caps brandon\n",
            "BRANDON\n"
          ]
        }
      ]
    },
    {
      "cell_type": "code",
      "source": [
        "my_list = (\n",
        "    'brandon',\n",
        "    'andy',\n",
        "    'austin',\n",
        "    'dan',\n",
        "    )\n",
        "for names in my_list:\n",
        "  print(f\"{names.title()}\")"
      ],
      "metadata": {
        "colab": {
          "base_uri": "https://localhost:8080/"
        },
        "id": "pHs_pxQjW1kf",
        "outputId": "c5f16895-6eaf-430d-ee5d-ea69c0114d9d"
      },
      "execution_count": 12,
      "outputs": [
        {
          "output_type": "stream",
          "name": "stdout",
          "text": [
            "Brandon\n",
            "Andy\n",
            "Austin\n",
            "Dan\n"
          ]
        }
      ]
    },
    {
      "cell_type": "code",
      "source": [],
      "metadata": {
        "id": "rwLBjfxZYFOt"
      },
      "execution_count": null,
      "outputs": []
    }
  ]
}