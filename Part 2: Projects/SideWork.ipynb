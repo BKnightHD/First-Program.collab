{
  "nbformat": 4,
  "nbformat_minor": 0,
  "metadata": {
    "colab": {
      "provenance": [],
      "authorship_tag": "ABX9TyOk+QoIxQfDLpz/npG6QcDO",
      "include_colab_link": true
    },
    "kernelspec": {
      "name": "python3",
      "display_name": "Python 3"
    },
    "language_info": {
      "name": "python"
    }
  },
  "cells": [
    {
      "cell_type": "markdown",
      "metadata": {
        "id": "view-in-github",
        "colab_type": "text"
      },
      "source": [
        "<a href=\"https://colab.research.google.com/github/BKnightHD/Python-CC/blob/main/Part%202%3A%20Projects/SideWork.ipynb\" target=\"_parent\"><img src=\"https://colab.research.google.com/assets/colab-badge.svg\" alt=\"Open In Colab\"/></a>"
      ]
    },
    {
      "cell_type": "markdown",
      "source": [
        "## Review\n",
        "* Lists\n",
        "* Strings\n",
        "* Methods\n",
        "* Dictionaries\n",
        "* For Loops\n",
        "* Inputs"
      ],
      "metadata": {
        "id": "u9LfdoyCfDTa"
      }
    },
    {
      "cell_type": "code",
      "execution_count": null,
      "metadata": {
        "colab": {
          "base_uri": "https://localhost:8080/"
        },
        "id": "LRfs9eykfAQ6",
        "outputId": "699ea058-ebfe-403a-e274-ade749c16c30"
      },
      "outputs": [
        {
          "output_type": "stream",
          "name": "stdout",
          "text": [
            "Here are a list of names:\n",
            "Brandon\n",
            "Giuseppe\n",
            "Joe\n",
            "Devin\n",
            "Eddie\n",
            "Type in someone's name from the list to find out their favorite coding language. jack\n",
            "jack\n",
            "Sorry, None is not a name from the list\n"
          ]
        }
      ],
      "source": [
        "people = {\n",
        "    'brandon': 'python',\n",
        "    'giuseppe': 'c++',\n",
        "    'joe': 'r',\n",
        "    'devin': 'java script',\n",
        "    'eddie' : 'python'\n",
        "  }\n",
        "\n",
        "print(\"Here are a list of names:\")\n",
        "for names in people:\n",
        "  print(names.title())\n",
        "names = print(input(\"Type in someone's name from the list to find out their favorite coding language. \"))\n",
        "if names not in people:\n",
        "  print(f\"Sorry, {str(names)} is not a name from the list\")\n",
        "else:\n",
        "  print(f\"{str(people.key.title())} likes to write in {people.items.title()}!\")"
      ]
    },
    {
      "cell_type": "code",
      "source": [
        "books = {\n",
        "    '48 laws of power': 'robert greene',\n",
        "    '12 rules for live': 'jordan peterson',\n",
        "    'atomic habits': 'james clear',\n",
        "    'love and math': 'edward frenkel',\n",
        "    \"can't hurt me\": 'daivd goggins'\n",
        "    }\n",
        "\n",
        "print(\"these are aurthors and some of their books:\\n\")\n",
        "for book, author in books.items():\n",
        "  print(f\"{author.title()}: {book.title()}\")\n",
        "\n",
        "print(f\"These are just the titles of the books:\\n\")\n",
        "for book in books:\n",
        "  print(f\"{book.title()}\")"
      ],
      "metadata": {
        "id": "wB_VIyrPgEqs",
        "outputId": "8cb92b1b-78a3-4270-a2e0-5169fedb8654",
        "colab": {
          "base_uri": "https://localhost:8080/"
        }
      },
      "execution_count": null,
      "outputs": [
        {
          "output_type": "stream",
          "name": "stdout",
          "text": [
            "these are aurthors and some of their books:\n",
            "\n",
            "Robert Greene: 48 Laws Of Power\n",
            "Jordan Peterson: 12 Rules For Live\n",
            "James Clear: Atomic Habits\n",
            "Edward Frenkel: Love And Math\n",
            "Daivd Goggins: Can'T Hurt Me\n",
            "These are just the titles of the books:\n",
            "\n",
            "48 Laws Of Power\n",
            "12 Rules For Live\n",
            "Atomic Habits\n",
            "Love And Math\n",
            "Can'T Hurt Me\n"
          ]
        }
      ]
    },
    {
      "cell_type": "code",
      "source": [
        "i = 0\n",
        "while i  < 6:\n",
        "  print(i)\n",
        "  i = i + 1\n",
        "# prints value of i until it gets to 6 and then the program stops"
      ],
      "metadata": {
        "id": "dWjXlo8iGblq",
        "colab": {
          "base_uri": "https://localhost:8080/"
        },
        "outputId": "6173dd6c-b694-41bb-f4e9-92d1ce0496cf"
      },
      "execution_count": null,
      "outputs": [
        {
          "output_type": "stream",
          "name": "stdout",
          "text": [
            "0\n",
            "1\n",
            "2\n",
            "3\n",
            "4\n",
            "5\n"
          ]
        }
      ]
    },
    {
      "cell_type": "code",
      "source": [
        "names = {\n",
        "    'brandon': 'python',\n",
        "    'jack': 'c++',\n",
        "    'austin': 'java script',\n",
        "    'eddie': 'assembly'\n",
        "    }\n",
        "\n",
        "for name, language in names.items():\n",
        "  message = f\"Hello, my mame is {name.title()}\"\n",
        "  message += \"\\nIt's nice to meet you\"\n",
        "  message += f\"I like to use {language.title()}\"\n",
        "  print(message)\n",
        "  print('\\n')"
      ],
      "metadata": {
        "colab": {
          "base_uri": "https://localhost:8080/"
        },
        "id": "UanTW3hoPW1v",
        "outputId": "2fc725f1-41c3-4050-b685-251851294b3b"
      },
      "execution_count": null,
      "outputs": [
        {
          "output_type": "stream",
          "name": "stdout",
          "text": [
            "Hello, my mame is Brandon\n",
            "It's nice to meet youI like to use Python\n",
            "\n",
            "\n",
            "Hello, my mame is Jack\n",
            "It's nice to meet youI like to use C++\n",
            "\n",
            "\n",
            "Hello, my mame is Austin\n",
            "It's nice to meet youI like to use Java Script\n",
            "\n",
            "\n",
            "Hello, my mame is Eddie\n",
            "It's nice to meet youI like to use Assembly\n",
            "\n",
            "\n"
          ]
        }
      ]
    },
    {
      "cell_type": "code",
      "source": [
        "name = input(\"Type your name here and I will return it in all caps \")\n",
        "name_upper = name.upper()\n",
        "print(name_upper)"
      ],
      "metadata": {
        "id": "UJuhkkH1QRRR",
        "colab": {
          "base_uri": "https://localhost:8080/"
        },
        "outputId": "9e2b20f7-7f0d-4c79-a973-0093104aabea"
      },
      "execution_count": null,
      "outputs": [
        {
          "output_type": "stream",
          "name": "stdout",
          "text": [
            "Type your name here and I will return it in all caps brandon\n",
            "BRANDON\n"
          ]
        }
      ]
    },
    {
      "cell_type": "code",
      "source": [
        "my_list = (\n",
        "    'brandon',\n",
        "    'andy',\n",
        "    'austin',\n",
        "    'dan',\n",
        "    )\n",
        "for names in my_list:\n",
        "  print(f\"{names.title()}\")"
      ],
      "metadata": {
        "colab": {
          "base_uri": "https://localhost:8080/"
        },
        "id": "pHs_pxQjW1kf",
        "outputId": "c5f16895-6eaf-430d-ee5d-ea69c0114d9d"
      },
      "execution_count": null,
      "outputs": [
        {
          "output_type": "stream",
          "name": "stdout",
          "text": [
            "Brandon\n",
            "Andy\n",
            "Austin\n",
            "Dan\n"
          ]
        }
      ]
    },
    {
      "cell_type": "code",
      "source": [
        "i = 1\n",
        "while i < 10:\n",
        "  print(i)\n",
        "  i = i + 1"
      ],
      "metadata": {
        "id": "rwLBjfxZYFOt",
        "outputId": "1202ac2d-f4e8-421a-b937-a122ba483e56",
        "colab": {
          "base_uri": "https://localhost:8080/"
        }
      },
      "execution_count": null,
      "outputs": [
        {
          "output_type": "stream",
          "name": "stdout",
          "text": [
            "1\n",
            "2\n",
            "3\n",
            "4\n",
            "5\n",
            "6\n",
            "7\n",
            "8\n",
            "9\n"
          ]
        }
      ]
    },
    {
      "cell_type": "code",
      "source": [
        "close = \"I can't belive I almost missed a commit\"\n",
        "close += \"\\nThat would have been really bad\"\n",
        "print(close)"
      ],
      "metadata": {
        "id": "SMLxAzukz1uu",
        "colab": {
          "base_uri": "https://localhost:8080/"
        },
        "outputId": "b91ace97-cb7b-4756-a49f-4d5eed623dd4"
      },
      "execution_count": null,
      "outputs": [
        {
          "output_type": "stream",
          "name": "stdout",
          "text": [
            "I can't belive I almost missed a commit\n",
            "That would have been really bad\n"
          ]
        }
      ]
    },
    {
      "cell_type": "code",
      "source": [
        "name = input(\"Enter your name and I will send it back to you:  \")\n",
        "print(name.title())"
      ],
      "metadata": {
        "colab": {
          "base_uri": "https://localhost:8080/"
        },
        "id": "BmqjPYcGWyj7",
        "outputId": "36e70666-47dd-4242-dd72-a38f145e341e"
      },
      "execution_count": null,
      "outputs": [
        {
          "output_type": "stream",
          "name": "stdout",
          "text": [
            "Enter your name and I will send it back to you:  brandon\n",
            "Brandon\n"
          ]
        }
      ]
    },
    {
      "cell_type": "code",
      "source": [
        "print(\"Yesterday I missed myt first commit, I am ashamed lol.\")"
      ],
      "metadata": {
        "id": "r7jbqjtzXQBY",
        "outputId": "e6f12a20-7caa-4753-db2b-4e645398fc55",
        "colab": {
          "base_uri": "https://localhost:8080/"
        }
      },
      "execution_count": null,
      "outputs": [
        {
          "output_type": "stream",
          "name": "stdout",
          "text": [
            "Yesterday I missed myt first commit, I am ashamed lol.\n"
          ]
        }
      ]
    },
    {
      "cell_type": "code",
      "source": [
        "print(\"nothing changes if nothing changes\")"
      ],
      "metadata": {
        "id": "IBEVbbM_HACp",
        "outputId": "01c93398-ff7d-440e-f304-ce2c0513b067",
        "colab": {
          "base_uri": "https://localhost:8080/"
        }
      },
      "execution_count": null,
      "outputs": [
        {
          "output_type": "stream",
          "name": "stdout",
          "text": [
            "nothing changes if nothing changes\n"
          ]
        }
      ]
    },
    {
      "cell_type": "code",
      "source": [
        "age = 23\n",
        "message = \"Happy \" + str(age) + \"rd Birthday!\" # converting int to str\n",
        "print(message)"
      ],
      "metadata": {
        "id": "tYGeaMHCaSPb",
        "colab": {
          "base_uri": "https://localhost:8080/"
        },
        "outputId": "13c28b79-bf10-4ddc-dbd7-90e40f636a9d"
      },
      "execution_count": null,
      "outputs": [
        {
          "output_type": "stream",
          "name": "stdout",
          "text": [
            "Happy 23rd Birthday!\n"
          ]
        }
      ]
    },
    {
      "cell_type": "code",
      "source": [
        "bicycles = ['trek', 'connodale', 'redline', 'specialized']\n",
        "print(bicycles[1].title())\n",
        "print(bicycles[2].upper())\n",
        "print(bicycles[-1].title())\n",
        "print('...\\n')\n",
        "\n",
        "motercycles = ['honda', 'yamaha', 'suzuki']\n",
        "print(motercycles)\n",
        "\n",
        "motercycles[0] = 'ducanti'\n",
        "print(motercycles)\n",
        "\n",
        "motercycles.append('kia') # adding to a list\n",
        "print(motercycles)"
      ],
      "metadata": {
        "colab": {
          "base_uri": "https://localhost:8080/"
        },
        "id": "DFhCA-eLy8FB",
        "outputId": "867e92ab-1451-4b34-e390-cba15f7ceb55"
      },
      "execution_count": null,
      "outputs": [
        {
          "output_type": "stream",
          "name": "stdout",
          "text": [
            "Connodale\n",
            "REDLINE\n",
            "Specialized\n",
            "...\n",
            "\n",
            "['honda', 'yamaha', 'suzuki']\n",
            "['ducanti', 'yamaha', 'suzuki']\n",
            "['ducanti', 'yamaha', 'suzuki', 'kia']\n"
          ]
        }
      ]
    },
    {
      "cell_type": "code",
      "source": [
        "motercycles = []\n",
        "\n",
        "motercycles.append('honda')\n",
        "motercycles.append('suzuki')\n",
        "print(motercycles)\n",
        "\n",
        "motercycles.insert(1, 'kia') # insert an item in a specific location of a list\n",
        "print(motercycles)\n",
        "\n",
        "popped_motercycles = motercycles.pop() # pop method, popping the last item of a list\n",
        "print(popped_motercycles)\n",
        "\n",
        "popped_motercycles2 = motercycles.pop(1) # using pop on any location from a list\n",
        "print(popped_motercycles2)"
      ],
      "metadata": {
        "colab": {
          "base_uri": "https://localhost:8080/"
        },
        "id": "RLF0A8kNzeCT",
        "outputId": "5004f906-e9fb-45e6-e319-84298409bfc5"
      },
      "execution_count": null,
      "outputs": [
        {
          "output_type": "stream",
          "name": "stdout",
          "text": [
            "['honda', 'suzuki']\n",
            "['honda', 'kia', 'suzuki']\n",
            "suzuki\n",
            "kia\n"
          ]
        }
      ]
    },
    {
      "cell_type": "code",
      "source": [
        "cars = ['bmw', 'audi', 'toyota', 'subaru']\n",
        "print(\"Here is the original list:\")\n",
        "for items in cars:\n",
        "  print(items.title())\n",
        "\n",
        "print(\"\\nHere is the sorted list:\")\n",
        "cars2 = sorted(cars) # sorted method temporarily sorts a list\n",
        "for items in cars2:\n",
        "  print(items.title())\n",
        "\n",
        "print(\"\\nHere is the original list again:\")\n",
        "for items in cars:\n",
        "  print(items.title())"
      ],
      "metadata": {
        "colab": {
          "base_uri": "https://localhost:8080/"
        },
        "id": "qJzHuBF40sZe",
        "outputId": "a8b604b8-c1bf-44e5-a88d-a242b15d39fa"
      },
      "execution_count": null,
      "outputs": [
        {
          "output_type": "stream",
          "name": "stdout",
          "text": [
            "Here is the original list:\n",
            "Bmw\n",
            "Audi\n",
            "Toyota\n",
            "Subaru\n",
            "\n",
            "Here is the sorted list:\n",
            "Audi\n",
            "Bmw\n",
            "Subaru\n",
            "Toyota\n",
            "\n",
            "Here is the original list again:\n",
            "Bmw\n",
            "Audi\n",
            "Toyota\n",
            "Subaru\n"
          ]
        }
      ]
    },
    {
      "cell_type": "code",
      "source": [
        "cars = ['bmw', 'audi', 'toyota', 'subaru']\n",
        "print(cars)\n",
        "\n",
        "cars.reverse()\n",
        "print(cars)"
      ],
      "metadata": {
        "colab": {
          "base_uri": "https://localhost:8080/"
        },
        "id": "u7NqFXlN3uCU",
        "outputId": "e774de63-1a2d-49f5-8270-93a861250379"
      },
      "execution_count": null,
      "outputs": [
        {
          "output_type": "stream",
          "name": "stdout",
          "text": [
            "['bmw', 'audi', 'toyota', 'subaru']\n",
            "['subaru', 'toyota', 'audi', 'bmw']\n"
          ]
        }
      ]
    },
    {
      "cell_type": "markdown",
      "source": [
        "\n",
        "* 7-1 Rental Car\n",
        "* 7-2 Restaurant Seating\n",
        "* 7-3 Multiples of Ten"
      ],
      "metadata": {
        "id": "BQCunSUMp7IA"
      }
    },
    {
      "cell_type": "code",
      "source": [
        "# Write a program that asks the user what kind of rental car they would like.\n",
        "rental = input(\"What kind of rental car would you like? \")\n",
        "rental = rental.title()\n",
        "print(f\"Excellent choice, let me see if I can find you a {rental}.\")\n",
        "\n",
        "# Write a program that asks the use rhow many people are in their dinner group\n",
        "\n",
        "group = input(\"How many people are with you today? \")\n",
        "group = int(group)\n",
        "\n",
        "if group > 8:\n",
        "  print(f\"Unfortunately becuase you have {group} people, you'll have to wait for a table.\")\n",
        "else:\n",
        "  print(f\"Perfect, we can seat your group of {group} right away!\")\n",
        "\n",
        "# Ask the use rfor a number, and then report whether the number is a multiple of 10 or not\n",
        "\n",
        "\n",
        "number = input(\"Give me a nuber and I will tell you if it's a multiple of 10 or not: \")\n",
        "number = int(number)\n",
        "\n",
        "check = number % 10\n",
        "\n",
        "if check == 0:\n",
        "  print(f\"{number} is a multiple of 10\")\n",
        "else:\n",
        "  print(f\"{number} is not a multiple of 10\")"
      ],
      "metadata": {
        "id": "rxm1ouFv4vyV",
        "outputId": "11397d15-cce6-44e7-8e76-ec1d08d681ab",
        "colab": {
          "base_uri": "https://localhost:8080/"
        }
      },
      "execution_count": null,
      "outputs": [
        {
          "output_type": "stream",
          "name": "stdout",
          "text": [
            "What kind of rental car would you like? G wagon\n",
            "Excellent choice, let me see if I can find you a G Wagon.\n",
            "How many people are with you today? 9\n",
            "Unfortunately becuase you have 9 people, you'll have to wait for a table.\n",
            "Give me a nuber and I will tell you if it's a multiple of 10 or not: 200\n",
            "200 is a multiple of 10\n"
          ]
        }
      ]
    },
    {
      "cell_type": "code",
      "source": [
        "current_number = 1\n",
        "while current_number <= 5:\n",
        "  print(current_number)\n",
        "  current_number += 1 # adding 1 to the previos number running through the while loop"
      ],
      "metadata": {
        "id": "sGJvo-BCsWGV",
        "outputId": "dbdb2fcc-1836-465a-85c0-9921e89386a8",
        "colab": {
          "base_uri": "https://localhost:8080/"
        }
      },
      "execution_count": null,
      "outputs": [
        {
          "output_type": "stream",
          "name": "stdout",
          "text": [
            "1\n",
            "2\n",
            "3\n",
            "4\n",
            "5\n"
          ]
        }
      ]
    },
    {
      "cell_type": "markdown",
      "source": [
        "## Assigning a quit value to a while loop"
      ],
      "metadata": {
        "id": "z6OlMNjVtkwn"
      }
    },
    {
      "cell_type": "code",
      "source": [
        "prompt = \"\\nTell me something, and I will repeat it back to you:\"\n",
        "prompt += \"\\nEnter 'quit' to end the program. \"\n",
        "message = \"\" # we define message as an empty string so python has something to check when it reached the while line.\n",
        "while message != 'quit': #while statement to check\n",
        "  message = input(prompt)\n",
        "  print(message)"
      ],
      "metadata": {
        "id": "v2yrAdlQtKnL",
        "outputId": "5a0bc3ad-b62a-4aba-cedb-dfe771431d04",
        "colab": {
          "base_uri": "https://localhost:8080/"
        }
      },
      "execution_count": null,
      "outputs": [
        {
          "output_type": "stream",
          "name": "stdout",
          "text": [
            "\n",
            "Tell me something, and I will repeat it back to you:\n",
            "Enter 'quit' to end the program. Hello my name is Brandon\n",
            "Hello my name is Brandon\n",
            "\n",
            "Tell me something, and I will repeat it back to you:\n",
            "Enter 'quit' to end the program. quit\n",
            "quit\n"
          ]
        }
      ]
    },
    {
      "cell_type": "code",
      "source": [
        "# the while loop much first have something in the message to compare it to, so we give the message a blank value\n",
        "question = \"\\nWhat is your favorite language to code in? \"\n",
        "question += \"\\nThis program will end when you type 'quit'. \"\n",
        "message = \"\"\n",
        "\n",
        "while message != 'quit':\n",
        "  message = input(question)\n",
        "  if message != 'quit':\n",
        "    message = message.title()\n",
        "    print(f\"Wow, {message} is a great a language! \")\n",
        "    print(\"And so I ask again..\")\n",
        "  else:\n",
        "    print(\"Have a nice day!\")"
      ],
      "metadata": {
        "id": "DuFpj9YQuEXP",
        "outputId": "782ebf87-fac5-4557-a67e-af5b0fceabe5",
        "colab": {
          "base_uri": "https://localhost:8080/"
        }
      },
      "execution_count": null,
      "outputs": [
        {
          "output_type": "stream",
          "name": "stdout",
          "text": [
            "\n",
            "What is your favorite language to code in? \n",
            "This program will end when you type 'quit'. python\n",
            "Wow, Python is a great a language! \n",
            "And so I ask again..\n",
            "\n",
            "What is your favorite language to code in? \n",
            "This program will end when you type 'quit'. R\n",
            "Wow, R is a great a language! \n",
            "And so I ask again..\n",
            "\n",
            "What is your favorite language to code in? \n",
            "This program will end when you type 'quit'. quit\n",
            "Have a nice day!\n"
          ]
        }
      ]
    },
    {
      "cell_type": "code",
      "source": [
        "name = \"brandon knight\"\n",
        "print(f\"Hello World! My name is {name.title()}\")"
      ],
      "metadata": {
        "id": "f3KwBVYCvg9V",
        "outputId": "ad77f578-1b1e-46c3-fb46-17970901c5eb",
        "colab": {
          "base_uri": "https://localhost:8080/"
        }
      },
      "execution_count": null,
      "outputs": [
        {
          "output_type": "stream",
          "name": "stdout",
          "text": [
            "Hello World! My name is Brandon Knight\n"
          ]
        }
      ]
    },
    {
      "cell_type": "code",
      "source": [],
      "metadata": {
        "id": "1hBDnahRA-vO"
      },
      "execution_count": null,
      "outputs": []
    }
  ]
}