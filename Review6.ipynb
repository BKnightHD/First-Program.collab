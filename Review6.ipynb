{
  "nbformat": 4,
  "nbformat_minor": 0,
  "metadata": {
    "colab": {
      "provenance": [],
      "authorship_tag": "ABX9TyMlqyou6d9SsIII+75/Y8d1",
      "include_colab_link": true
    },
    "kernelspec": {
      "name": "python3",
      "display_name": "Python 3"
    },
    "language_info": {
      "name": "python"
    }
  },
  "cells": [
    {
      "cell_type": "markdown",
      "metadata": {
        "id": "view-in-github",
        "colab_type": "text"
      },
      "source": [
        "<a href=\"https://colab.research.google.com/github/BKnightHD/Python-CC/blob/main/Review6.ipynb\" target=\"_parent\"><img src=\"https://colab.research.google.com/assets/colab-badge.svg\" alt=\"Open In Colab\"/></a>"
      ]
    },
    {
      "cell_type": "code",
      "execution_count": 25,
      "metadata": {
        "colab": {
          "base_uri": "https://localhost:8080/"
        },
        "id": "daH_iW4dfg_R",
        "outputId": "580fe72d-9769-43bc-9156-e70106b01223"
      },
      "outputs": [
        {
          "output_type": "stream",
          "name": "stdout",
          "text": [
            "Green\n"
          ]
        }
      ],
      "source": [
        "# Reviewing dictionaries\n",
        "alien_0 = {'color': 'green'}\n",
        "print(alien_0['color'].title())"
      ]
    },
    {
      "cell_type": "code",
      "source": [
        "people = {\n",
        "    'alex': 'python',\n",
        "    'jordan': 'c++',\n",
        "    'eddie': 'java',\n",
        "    'aldin': 'scala',\n",
        "    'devin': 'r'\n",
        "    }\n",
        "\n",
        "for names, languages in people.items():\n",
        "  print(f\"{names.title()} likes {languages.title()}.\")"
      ],
      "metadata": {
        "colab": {
          "base_uri": "https://localhost:8080/"
        },
        "id": "TAboQvpqgQVV",
        "outputId": "b8635974-3c60-4d32-d51e-5fa0b9fdb537"
      },
      "execution_count": 30,
      "outputs": [
        {
          "output_type": "stream",
          "name": "stdout",
          "text": [
            "Alex likes Python.\n",
            "Jordan likes C++.\n",
            "Eddie likes Java.\n",
            "Aldin likes Scala.\n",
            "Devin likes R.\n"
          ]
        }
      ]
    },
    {
      "cell_type": "code",
      "source": [],
      "metadata": {
        "id": "dm5GQlE5jH3f"
      },
      "execution_count": null,
      "outputs": []
    }
  ]
}