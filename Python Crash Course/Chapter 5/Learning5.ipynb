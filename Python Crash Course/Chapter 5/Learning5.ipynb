{
  "nbformat": 4,
  "nbformat_minor": 0,
  "metadata": {
    "colab": {
      "provenance": [],
      "authorship_tag": "ABX9TyO9YiFd6G2zgt0B1DTr8D44",
      "include_colab_link": true
    },
    "kernelspec": {
      "name": "python3",
      "display_name": "Python 3"
    },
    "language_info": {
      "name": "python"
    }
  },
  "cells": [
    {
      "cell_type": "markdown",
      "metadata": {
        "id": "view-in-github",
        "colab_type": "text"
      },
      "source": [
        "<a href=\"https://colab.research.google.com/github/BKnightHD/Python/blob/main/Learning5.ipynb\" target=\"_parent\"><img src=\"https://colab.research.google.com/assets/colab-badge.svg\" alt=\"Open In Colab\"/></a>"
      ]
    },
    {
      "cell_type": "markdown",
      "source": [
        "# Cahpter 5"
      ],
      "metadata": {
        "id": "ZjxLhlxiwLc_"
      }
    },
    {
      "cell_type": "code",
      "execution_count": null,
      "metadata": {
        "colab": {
          "base_uri": "https://localhost:8080/"
        },
        "id": "PYgMBS2EDpcl",
        "outputId": "36db0017-7013-46cf-e54b-159c9b72cb4c"
      },
      "outputs": [
        {
          "output_type": "stream",
          "name": "stdout",
          "text": [
            "[1, 4, 9, 16, 25, 36, 49, 64, 81]\n"
          ]
        }
      ],
      "source": [
        "numbers = []\n",
        "for value in range(1,10):\n",
        "  numbers.append(value**2)\n",
        "print(numbers)"
      ]
    },
    {
      "cell_type": "code",
      "source": [
        "more_numbers = [more_values**2 for more_values in range(1,10)]\n",
        "print(more_numbers)"
      ],
      "metadata": {
        "colab": {
          "base_uri": "https://localhost:8080/"
        },
        "id": "g1GFGoaQJrVZ",
        "outputId": "e5dd619b-191a-4b6e-e625-6838f063cfd4"
      },
      "execution_count": null,
      "outputs": [
        {
          "output_type": "stream",
          "name": "stdout",
          "text": [
            "[1, 4, 9, 16, 25, 36, 49, 64, 81]\n"
          ]
        }
      ]
    },
    {
      "cell_type": "markdown",
      "source": [
        "# Intro to if statements"
      ],
      "metadata": {
        "id": "w89w1rvowTNX"
      }
    },
    {
      "cell_type": "code",
      "source": [
        "cars = ['audi', 'bmw', 'subaru', 'toyota']\n",
        "for car in cars: # checks if the current value of car is 'bmw'\n",
        "  if car == 'bmw':\n",
        "    print(car.upper())\n",
        "  else:\n",
        "    print(car.title())\n",
        "# this conditional test checks whether the value of a varibale is equal to the value of interest:\n",
        "car = 'bmw' # setting the value\n",
        "print(car =='bmw') # checking if its true\n",
        "print(f\"{car =='subaru'}\\n----------\")\n",
        "\n",
        "car = 'Audi'\n",
        "print(car =='audi')\n",
        "print(car.lower() == \"audi\") # checks validation but does not change the value stored\n",
        "print(car)"
      ],
      "metadata": {
        "colab": {
          "base_uri": "https://localhost:8080/"
        },
        "id": "pzglzd09U3jC",
        "outputId": "9ea5e53b-046e-4764-f1b5-df251fe7ff3c"
      },
      "execution_count": null,
      "outputs": [
        {
          "output_type": "stream",
          "name": "stdout",
          "text": [
            "Audi\n",
            "BMW\n",
            "Subaru\n",
            "Toyota\n",
            "True\n",
            "False\n",
            "----------\n",
            "False\n",
            "True\n",
            "Audi\n"
          ]
        }
      ]
    },
    {
      "cell_type": "code",
      "source": [
        "requested_topping = 'mushrooms'\n",
        "if requested_topping != 'anchovies':\n",
        "  print(\"Hold the anchovies!\")\n",
        "\n",
        "moreideas = 'value'\n",
        "if moreideas != 'lesser':\n",
        "  print(\"More than less\")\n",
        "\n",
        "age = '18'\n",
        "age == '18' # does age equal 18, true or false?\n",
        "answer = '17'\n",
        "if answer != '42':\n",
        "  print(\"That is not the correct answer. Please try again!\")\n",
        "age = '19'\n",
        "print(age < '21')\n",
        "print(age <= '21')\n",
        "print(age > '21')\n",
        "print(age >= '21') # Each mathematical comparison can be used as part of an if statement\n",
        "\n",
        "# Checking based on multiple conditions\n",
        "age_0 = 22\n",
        "age_1 = 18\n",
        "print(age_0 >= 21 and age_1 >=21)\n",
        "# This returns false value becuase age_1 is not greater than or equal to 21\n",
        "age_1 = 22\n",
        "print(age_0 >= 21 and age_1 >= 21)\n",
        "\n",
        "# Improving readabiity\n",
        "print((age_0 >= 21) and (age_1 >= 21))"
      ],
      "metadata": {
        "id": "UUezBHNtVX1E",
        "colab": {
          "base_uri": "https://localhost:8080/"
        },
        "outputId": "6cd0825f-f847-449f-affb-b6d52f168fc6"
      },
      "execution_count": 43,
      "outputs": [
        {
          "output_type": "stream",
          "name": "stdout",
          "text": [
            "Hold the anchovies!\n",
            "More than less\n",
            "That is not the correct answer. Please try again!\n",
            "True\n",
            "True\n",
            "False\n",
            "False\n",
            "False\n",
            "True\n",
            "True\n"
          ]
        }
      ]
    },
    {
      "cell_type": "markdown",
      "source": [
        "# Checking if a value is in a list\n",
        "- Making a list of toppings a customer has requested for a pizza and then checking whether or not certain toppings are in the list"
      ],
      "metadata": {
        "id": "nz2pLvwtwF7f"
      }
    },
    {
      "cell_type": "code",
      "source": [
        "requested_toppings = ['mushrooms', 'onions', 'pineapple']\n",
        "print('mushrooms' in requested_toppings) # Returns True\n",
        "print(\"pepperoni\" in requested_toppings) # Returns False\n",
        "\n",
        "# Checking if a value does not appear in a list\n",
        "banned_users = ['answer', 'carolina', 'david']\n",
        "user = 'marie'\n",
        "if user not in banned_users: # If the user is not in the banned user list, then print statement\n",
        "  print(f\"{user.title()}, you can post a response if you wish.\")"
      ],
      "metadata": {
        "id": "GN5-nROmWJaD",
        "colab": {
          "base_uri": "https://localhost:8080/"
        },
        "outputId": "0bdfe6ad-fe87-49c8-bb8a-c70b199f3c94"
      },
      "execution_count": 48,
      "outputs": [
        {
          "output_type": "stream",
          "name": "stdout",
          "text": [
            "True\n",
            "False\n",
            "Marie, you can post a response if you wish.\n"
          ]
        }
      ]
    },
    {
      "cell_type": "markdown",
      "source": [
        "# Try it yourself\n",
        "* 5-1 Conditional Tests\n",
        "* 5-2 More Conditional Tests"
      ],
      "metadata": {
        "id": "hK7HJB00x75O"
      }
    },
    {
      "cell_type": "markdown",
      "source": [],
      "metadata": {
        "id": "_wSsjTx3xQvt"
      }
    },
    {
      "cell_type": "code",
      "source": [
        "car = \"kia\"\n",
        "print(\" Is car == 'kia?' I predict True.\")\n",
        "print(car == 'kia')\n",
        "\n",
        "print(\"\\nIs car =='audi'? I predict False\")\n",
        "print(car == 'audi')\n",
        "# Create at least 10 tests. Have at least 4 tests evaluate to True and another 5 tests evaluate to False\n",
        "colors = ['black', 'red', 'blue', 'green', 'yellow', 'orange']\n",
        "print( colors == 'red')\n",
        "print( colors != 'red')\n",
        "print( colors == 'blue')\n",
        "print( colors != 'blue')\n",
        "print( colors == 'green')\n",
        "print( colors != 'green')\n",
        "print( colors == 'yellow')\n",
        "print( colors != 'yellow')\n",
        "print( colors == 'orange')\n",
        "print( colors != 'orange')\n"
      ],
      "metadata": {
        "colab": {
          "base_uri": "https://localhost:8080/"
        },
        "id": "5_pn_LdXZg6a",
        "outputId": "470adf20-773f-4555-9f19-2a32e9722fc3"
      },
      "execution_count": 52,
      "outputs": [
        {
          "output_type": "stream",
          "name": "stdout",
          "text": [
            " Is car == 'kia?' I predict True.\n",
            "True\n",
            "\n",
            "Is car =='audi'? I predict False\n",
            "False\n",
            "False\n",
            "True\n",
            "False\n",
            "True\n",
            "False\n",
            "True\n",
            "False\n",
            "True\n",
            "False\n",
            "True\n"
          ]
        }
      ]
    },
    {
      "cell_type": "code",
      "source": [],
      "metadata": {
        "id": "4OGC8jceyq0g"
      },
      "execution_count": null,
      "outputs": []
    }
  ]
}