{
  "cells": [
    {
      "cell_type": "markdown",
      "metadata": {
        "colab_type": "text",
        "id": "view-in-github"
      },
      "source": [
        "<a href=\"https://colab.research.google.com/github/BKnightHD/Python/blob/main/Learning5.ipynb\" target=\"_parent\"><img src=\"https://colab.research.google.com/assets/colab-badge.svg\" alt=\"Open In Colab\"/></a>"
      ]
    },
    {
      "cell_type": "code",
      "execution_count": null,
      "metadata": {
        "colab": {
          "base_uri": "https://localhost:8080/"
        },
        "id": "PYgMBS2EDpcl",
        "outputId": "36db0017-7013-46cf-e54b-159c9b72cb4c"
      },
      "outputs": [
        {
          "name": "stdout",
          "output_type": "stream",
          "text": [
            "[1, 4, 9, 16, 25, 36, 49, 64, 81]\n"
          ]
        }
      ],
      "source": [
        "numbers = []\n",
        "for value in range(1,10):\n",
        "  numbers.append(value**2)\n",
        "print(numbers)"
      ]
    },
    {
      "cell_type": "code",
      "execution_count": null,
      "metadata": {
        "colab": {
          "base_uri": "https://localhost:8080/"
        },
        "id": "g1GFGoaQJrVZ",
        "outputId": "e5dd619b-191a-4b6e-e625-6838f063cfd4"
      },
      "outputs": [
        {
          "name": "stdout",
          "output_type": "stream",
          "text": [
            "[1, 4, 9, 16, 25, 36, 49, 64, 81]\n"
          ]
        }
      ],
      "source": [
        "more_numbers = [more_values**2 for more_values in range(1,10)]\n",
        "print(more_numbers)"
      ]
    },
    {
      "cell_type": "code",
      "execution_count": null,
      "metadata": {
        "colab": {
          "base_uri": "https://localhost:8080/"
        },
        "id": "pzglzd09U3jC",
        "outputId": "9ea5e53b-046e-4764-f1b5-df251fe7ff3c"
      },
      "outputs": [
        {
          "name": "stdout",
          "output_type": "stream",
          "text": [
            "Audi\n",
            "BMW\n",
            "Subaru\n",
            "Toyota\n",
            "True\n",
            "False\n",
            "----------\n",
            "False\n",
            "True\n",
            "Audi\n"
          ]
        }
      ],
      "source": [
        "cars = ['audi', 'bmw', 'subaru', 'toyota']\n",
        "for car in cars: # checks if the current value of car is 'bmw'\n",
        "  if car == 'bmw':\n",
        "    print(car.upper())\n",
        "  else:\n",
        "    print(car.title())\n",
        "# this conditional test checks whether the value of a varibale is equal to the value of interest:\n",
        "car = 'bmw' # setting the value\n",
        "print(car =='bmw') # checking if its true\n",
        "print(f\"{car =='subaru'}\\n----------\")\n",
        "\n",
        "car = 'Audi'\n",
        "print(car =='audi')\n",
        "print(car.lower() == \"audi\") # checks validation but does not change the value stored\n",
        "print(car)"
      ]
    },
    {
      "cell_type": "code",
      "execution_count": 29,
      "metadata": {
        "colab": {
          "base_uri": "https://localhost:8080/"
        },
        "id": "UUezBHNtVX1E",
        "outputId": "e2edd23a-992b-434d-d513-ba85766d1f0d"
      },
      "outputs": [
        {
          "name": "stdout",
          "output_type": "stream",
          "text": [
            "Hold the anchovies!\n",
            "More than less\n"
          ]
        },
        {
          "data": {
            "text/plain": [
              "True"
            ]
          },
          "execution_count": 29,
          "metadata": {},
          "output_type": "execute_result"
        }
      ],
      "source": [
        "requested_topping = 'mushrooms'\n",
        "if requested_topping != 'anchovies':\n",
        "  print(\"Hold the anchovies!\")\n",
        "\n",
        "moreideas = 'value'\n",
        "if moreideas != 'lesser':\n",
        "  print(\"More than less\")\n",
        "\n",
        "age = '18'\n",
        "age == '18' # does age equal 18, true or false?\n"
      ]
    },
    {
      "cell_type": "code",
      "execution_count": 26,
      "metadata": {
        "id": "GN5-nROmWJaD"
      },
      "outputs": [],
      "source": []
    },
    {
      "cell_type": "code",
      "execution_count": null,
      "metadata": {
        "id": "5_pn_LdXZg6a"
      },
      "outputs": [],
      "source": []
    }
  ],
  "metadata": {
    "colab": {
      "authorship_tag": "ABX9TyNdDDby5Cat9zIVIy50COXK",
      "include_colab_link": true,
      "provenance": []
    },
    "kernelspec": {
      "display_name": "Python 3",
      "name": "python3"
    },
    "language_info": {
      "name": "python"
    }
  },
  "nbformat": 4,
  "nbformat_minor": 0
}
