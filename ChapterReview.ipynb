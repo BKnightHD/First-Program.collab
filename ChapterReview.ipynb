{
  "nbformat": 4,
  "nbformat_minor": 0,
  "metadata": {
    "colab": {
      "provenance": [],
      "authorship_tag": "ABX9TyMJCMQ08KCbo47KQP41tKtg",
      "include_colab_link": true
    },
    "kernelspec": {
      "name": "python3",
      "display_name": "Python 3"
    },
    "language_info": {
      "name": "python"
    }
  },
  "cells": [
    {
      "cell_type": "markdown",
      "metadata": {
        "id": "view-in-github",
        "colab_type": "text"
      },
      "source": [
        "<a href=\"https://colab.research.google.com/github/BKnightHD/Python-CC/blob/main/ChapterReview.ipynb\" target=\"_parent\"><img src=\"https://colab.research.google.com/assets/colab-badge.svg\" alt=\"Open In Colab\"/></a>"
      ]
    },
    {
      "cell_type": "code",
      "execution_count": 65,
      "metadata": {
        "colab": {
          "base_uri": "https://localhost:8080/"
        },
        "id": "G4OxOWPLDvwm",
        "outputId": "9b46e4e9-1a14-4cc5-b264-82d04880cf55"
      },
      "outputs": [
        {
          "output_type": "stream",
          "name": "stdout",
          "text": [
            "Audi\n",
            "Bmw\n",
            "Subaru\n",
            "Toyota\n",
            "------\n",
            "\n",
            "Audi\n",
            "Ah you hve a BMW, I love those!\n",
            "Subaru\n",
            "Toyota\n",
            "------\n",
            "\n"
          ]
        }
      ],
      "source": [
        "# print the values in car list\n",
        "cars = ['audi', 'bmw', 'subaru', 'toyota']\n",
        "for car in cars:\n",
        "  print(f\"{car.title()}\")\n",
        "print(\"------\\n\")\n",
        "\n",
        "# if statement embeded in for loop for conditioning\n",
        "cars = ['audi', 'bmw', 'subaru', 'toyota']\n",
        "for car in cars:\n",
        "  if car =='bmw':\n",
        "    print(f\"Ah you hve a {car.upper()}, I love those!\")\n",
        "  else:\n",
        "    print(f\"{car.title()}\")\n",
        "print(\"------\\n\")\n",
        "\n",
        "# If statements are basiclly conditional tests, that is, they test whether something is TRUE or FALSE"
      ]
    },
    {
      "cell_type": "code",
      "source": [
        "# Here, we are checking for equality\n",
        "cars = 'bmw'\n",
        "cars == 'bmw' # (==) is the quality operator, it returns TRUE or FALSE for the argument."
      ],
      "metadata": {
        "colab": {
          "base_uri": "https://localhost:8080/"
        },
        "id": "5z9HDfBLEW8E",
        "outputId": "5263b8c6-dfe5-49f2-e1d2-21db5f0b2e3e"
      },
      "execution_count": null,
      "outputs": [
        {
          "output_type": "execute_result",
          "data": {
            "text/plain": [
              "True"
            ]
          },
          "metadata": {},
          "execution_count": 13
        }
      ]
    },
    {
      "cell_type": "code",
      "source": [
        "cars = 'adui' # \"Set the value = to audi\"\n",
        "cars == 'bmw' # \"Is the value = to bmw?\""
      ],
      "metadata": {
        "colab": {
          "base_uri": "https://localhost:8080/"
        },
        "id": "X3phLubJF6gz",
        "outputId": "22027fe3-5cc2-42f1-d18e-3fde4d539127"
      },
      "execution_count": null,
      "outputs": [
        {
          "output_type": "execute_result",
          "data": {
            "text/plain": [
              "False"
            ]
          },
          "metadata": {},
          "execution_count": 20
        }
      ]
    },
    {
      "cell_type": "markdown",
      "source": [
        "### Converting the test to lowercase now matter the answer given"
      ],
      "metadata": {
        "id": "oewgxgj-HtX9"
      }
    },
    {
      "cell_type": "code",
      "source": [
        "# Sometimes case matter, sometimes it doesnt, if it doesn't you can convert the variables assigned valye to lower before doing the comparison\n",
        "car = 'Audi'\n",
        "car.lower() == 'audi' # converting the answer given to lowercase, no matter the input"
      ],
      "metadata": {
        "colab": {
          "base_uri": "https://localhost:8080/"
        },
        "id": "IavwQvvGGDoB",
        "outputId": "5afcf41b-ae1e-4106-9a5e-8352230a31e7"
      },
      "execution_count": null,
      "outputs": [
        {
          "output_type": "execute_result",
          "data": {
            "text/plain": [
              "True"
            ]
          },
          "metadata": {},
          "execution_count": 19
        }
      ]
    },
    {
      "cell_type": "code",
      "source": [
        "car"
      ],
      "metadata": {
        "colab": {
          "base_uri": "https://localhost:8080/",
          "height": 36
        },
        "id": "2U7DfJ6WG8MN",
        "outputId": "e9942531-da9d-4108-b444-0988edecd1e6"
      },
      "execution_count": null,
      "outputs": [
        {
          "output_type": "execute_result",
          "data": {
            "text/plain": [
              "'Audi'"
            ],
            "application/vnd.google.colaboratory.intrinsic+json": {
              "type": "string"
            }
          },
          "metadata": {},
          "execution_count": 22
        }
      ]
    },
    {
      "cell_type": "code",
      "source": [
        "# Checking for inequality\n",
        "requested_topping = 'mushrooms'\n",
        "\n",
        "if requested_topping != 'anchovies':\n",
        "  print(\"Hold the anchovies\")"
      ],
      "metadata": {
        "colab": {
          "base_uri": "https://localhost:8080/"
        },
        "id": "HZa3R_GcH7CC",
        "outputId": "9d53c541-b542-42d8-d027-19ad41dcbbd4"
      },
      "execution_count": null,
      "outputs": [
        {
          "output_type": "stream",
          "name": "stdout",
          "text": [
            "Hold the anchovies\n"
          ]
        }
      ]
    },
    {
      "cell_type": "code",
      "source": [
        "# Testing numerical values\n",
        "age = 18\n",
        "age == 17"
      ],
      "metadata": {
        "colab": {
          "base_uri": "https://localhost:8080/"
        },
        "id": "vifiDz81Iedl",
        "outputId": "39eb2e0e-b210-4a17-90bc-c45648dcae29"
      },
      "execution_count": null,
      "outputs": [
        {
          "output_type": "execute_result",
          "data": {
            "text/plain": [
              "False"
            ]
          },
          "metadata": {},
          "execution_count": 24
        }
      ]
    },
    {
      "cell_type": "code",
      "source": [
        "answer = 17\n",
        "# Testing to see if answer given is correct\n",
        "if answer != 42:\n",
        "  print(f\"Sorry, {answer} is not the correct answer. Please try again!\")"
      ],
      "metadata": {
        "colab": {
          "base_uri": "https://localhost:8080/"
        },
        "id": "4m7g-un9JCfE",
        "outputId": "f3f25e0a-02a4-42fa-806f-d6237d67692a"
      },
      "execution_count": null,
      "outputs": [
        {
          "output_type": "stream",
          "name": "stdout",
          "text": [
            "Sorry, 17 is not the correct answer. Please try again!\n"
          ]
        }
      ]
    },
    {
      "cell_type": "markdown",
      "source": [
        "### Mathematical comparisons"
      ],
      "metadata": {
        "id": "2iMWdQxeJkzD"
      }
    },
    {
      "cell_type": "code",
      "source": [
        "age = 19\n",
        "age < 21"
      ],
      "metadata": {
        "colab": {
          "base_uri": "https://localhost:8080/"
        },
        "id": "eI1fOHUOJUTz",
        "outputId": "2d5b7992-7bb9-47e8-b6d1-d3c34d84503e"
      },
      "execution_count": null,
      "outputs": [
        {
          "output_type": "execute_result",
          "data": {
            "text/plain": [
              "True"
            ]
          },
          "metadata": {},
          "execution_count": 26
        }
      ]
    },
    {
      "cell_type": "code",
      "source": [
        "age <= 21"
      ],
      "metadata": {
        "colab": {
          "base_uri": "https://localhost:8080/"
        },
        "id": "S1qlye-iJfTD",
        "outputId": "f27e7fde-31e2-4b6e-9caa-c612c8da0d88"
      },
      "execution_count": null,
      "outputs": [
        {
          "output_type": "execute_result",
          "data": {
            "text/plain": [
              "True"
            ]
          },
          "metadata": {},
          "execution_count": 27
        }
      ]
    },
    {
      "cell_type": "code",
      "source": [
        "age > 21"
      ],
      "metadata": {
        "colab": {
          "base_uri": "https://localhost:8080/"
        },
        "id": "Jd_4or4NJhQz",
        "outputId": "7201b6b4-319b-4bd6-af0a-8b84132a365a"
      },
      "execution_count": null,
      "outputs": [
        {
          "output_type": "execute_result",
          "data": {
            "text/plain": [
              "False"
            ]
          },
          "metadata": {},
          "execution_count": 28
        }
      ]
    },
    {
      "cell_type": "code",
      "source": [
        "age >= 21"
      ],
      "metadata": {
        "colab": {
          "base_uri": "https://localhost:8080/"
        },
        "id": "XQBnNmQUJiax",
        "outputId": "781c4dcd-3ff5-46a7-cdd2-ea1d18bb92a2"
      },
      "execution_count": null,
      "outputs": [
        {
          "output_type": "execute_result",
          "data": {
            "text/plain": [
              "False"
            ]
          },
          "metadata": {},
          "execution_count": 29
        }
      ]
    },
    {
      "cell_type": "markdown",
      "source": [
        "### AND conditional testing"
      ],
      "metadata": {
        "id": "fUpxgLiaJ24r"
      }
    },
    {
      "cell_type": "code",
      "source": [
        "# Checking multiple conditions\n",
        "age_0 = 22\n",
        "age_1 = 18\n",
        "age_0 >= 21 and age_1 >=21"
      ],
      "metadata": {
        "colab": {
          "base_uri": "https://localhost:8080/"
        },
        "id": "bs6W0KKPJj5j",
        "outputId": "bf7f5247-17e6-4473-ee6e-2cadea06dec9"
      },
      "execution_count": null,
      "outputs": [
        {
          "output_type": "execute_result",
          "data": {
            "text/plain": [
              "False"
            ]
          },
          "metadata": {},
          "execution_count": 31
        }
      ]
    },
    {
      "cell_type": "code",
      "source": [
        "age_1 = 22\n",
        "age_0 >= 21 and age_1 >= 21"
      ],
      "metadata": {
        "colab": {
          "base_uri": "https://localhost:8080/"
        },
        "id": "i4gguVnMJ1rz",
        "outputId": "4e68054b-3353-45db-b6e4-f9ef5e007716"
      },
      "execution_count": null,
      "outputs": [
        {
          "output_type": "execute_result",
          "data": {
            "text/plain": [
              "True"
            ]
          },
          "metadata": {},
          "execution_count": 32
        }
      ]
    },
    {
      "cell_type": "markdown",
      "source": [
        "##Self test for understanding\n",
        "* I want to generate a random age for a freind between the ages 27 and 29.\n",
        "* I also want to generate a random name for my freind\n",
        "* Then I want to print a statement telling me weather or not the freind is older than me\n",
        "* I want this to be a loop a random number everytime so the answers can be difffernt anytime I run the program."
      ],
      "metadata": {
        "id": "AITTzRzOKild"
      }
    },
    {
      "cell_type": "code",
      "source": [
        "# First I'll set my age\n",
        "my_age = 28\n",
        "\n",
        "# Import random package\n",
        "import random\n",
        "\n",
        "freind_name = ['ellis', \"giusseppe\", 'andy', 'eddie' ]\n",
        "#set freinds age to random value\n",
        "freind_age = random.choice(range(27, 30))\n",
        "freind_name_choice = random.choice(freind_name)\n",
        "print(f\"My age is {my_age}\")\n",
        "if freind_age > my_age:\n",
        "   print(f\"My freind {freind_name_choice.title()} is {freind_age}, so he's older than me.\")\n",
        "elif freind_age < my_age:\n",
        "   print(f\"My freind {freind_name_choice.title()} is {freind_age}, so he's younger than me.\")\n",
        "elif freind_age == my_age:\n",
        "   print(f\"My friend {freind_name_choice.title()} is {freind_age}, so we're the same age.\")"
      ],
      "metadata": {
        "colab": {
          "base_uri": "https://localhost:8080/"
        },
        "id": "68qj3klZKXBk",
        "outputId": "c96ba795-580a-4ae0-c579-44d21732587a"
      },
      "execution_count": 73,
      "outputs": [
        {
          "output_type": "stream",
          "name": "stdout",
          "text": [
            "My age is 28\n",
            "My freind Ellis is 29, so he's older than me.\n"
          ]
        }
      ]
    },
    {
      "cell_type": "markdown",
      "source": [
        "### OR conditional testing"
      ],
      "metadata": {
        "id": "VWt_aPmBe3FQ"
      }
    },
    {
      "cell_type": "code",
      "source": [
        "age_0 = 22\n",
        "age_1 = 18\n",
        "age_0 >= 21 or age_1 >= 21"
      ],
      "metadata": {
        "id": "lgspsqK7QNE5",
        "colab": {
          "base_uri": "https://localhost:8080/"
        },
        "outputId": "1db59638-1687-488e-81a8-c096721b3a2b"
      },
      "execution_count": 75,
      "outputs": [
        {
          "output_type": "execute_result",
          "data": {
            "text/plain": [
              "True"
            ]
          },
          "metadata": {},
          "execution_count": 75
        }
      ]
    },
    {
      "cell_type": "code",
      "source": [
        "# Checking if value is in a list. IN argument\n",
        "requested_toppings = ['mushrooms', 'onions', 'pianeapple']\n",
        "'mushrooms' in requested_toppings"
      ],
      "metadata": {
        "colab": {
          "base_uri": "https://localhost:8080/"
        },
        "id": "jGR-J3ndetuK",
        "outputId": "6910b61c-ceb7-43c8-d19d-33555e857e11"
      },
      "execution_count": 76,
      "outputs": [
        {
          "output_type": "execute_result",
          "data": {
            "text/plain": [
              "True"
            ]
          },
          "metadata": {},
          "execution_count": 76
        }
      ]
    },
    {
      "cell_type": "code",
      "source": [
        "# Checking if value is in a list. IN argument\n",
        "requested_toppings = ['mushrooms', 'onions', 'pianeapple']\n",
        "'pepperoni' in requested_toppings"
      ],
      "metadata": {
        "colab": {
          "base_uri": "https://localhost:8080/"
        },
        "id": "h9Tsa4le2dwS",
        "outputId": "b8f03af4-e717-4a35-c341-234a917d0f7a"
      },
      "execution_count": 78,
      "outputs": [
        {
          "output_type": "execute_result",
          "data": {
            "text/plain": [
              "False"
            ]
          },
          "metadata": {},
          "execution_count": 78
        }
      ]
    },
    {
      "cell_type": "markdown",
      "source": [
        "### NOT IN argument"
      ],
      "metadata": {
        "id": "TbhxPc1H3x3-"
      }
    },
    {
      "cell_type": "code",
      "source": [
        "banned_users = ['andrew', 'carolina', 'david']\n",
        "user = 'marie'\n",
        "\n",
        "if user not in banned_users:\n",
        "  print(user.title() + \", you can post a response if you wish.\")"
      ],
      "metadata": {
        "colab": {
          "base_uri": "https://localhost:8080/"
        },
        "id": "6WAmkXuO2_aX",
        "outputId": "d033b85a-999f-46c5-d11e-69c53d55f955"
      },
      "execution_count": 81,
      "outputs": [
        {
          "output_type": "stream",
          "name": "stdout",
          "text": [
            "Marie, you can post a response if you wish.\n"
          ]
        }
      ]
    },
    {
      "cell_type": "markdown",
      "source": [
        "###Practice\n",
        "* Random choice from list and check if it's in other list.\n",
        "* Print different statments for each case"
      ],
      "metadata": {
        "id": "JpnrqZ974NnF"
      }
    },
    {
      "cell_type": "code",
      "source": [
        "#import packages\n",
        "import random\n",
        "# Checking my understanding with NOT IN arguemnt\n",
        "people = ['kathy', 'jim', 'austin', 'emily']\n",
        "users = ['john', 'austin', 'jerry', 'kathy', 'andy', 'justin']\n",
        "\n",
        "user = random.choice(users)\n",
        "if user not in people: # NOT IN argument utlization\n",
        "  print(f\"Sorry, the name {user.title()} chosen from second list, is not in the first list\")\n",
        "else:\n",
        "  print(f\"There is a match! The name {user.title()} is in both lists.\")"
      ],
      "metadata": {
        "colab": {
          "base_uri": "https://localhost:8080/"
        },
        "id": "GkKbAt0d3Zp3",
        "outputId": "d21d7db6-21a1-47a5-b9fe-5763c8d1bd1d"
      },
      "execution_count": 84,
      "outputs": [
        {
          "output_type": "stream",
          "name": "stdout",
          "text": [
            "There is a match! The name Kathy is in both lists.\n"
          ]
        }
      ]
    },
    {
      "cell_type": "code",
      "source": [
        "#import packages\n",
        "import random\n",
        "# Checking my understanding with NOT IN arguemnt\n",
        "people = ['kathy', 'jim', 'austin', 'emily']\n",
        "users = ['john', 'austin', 'jerry', 'kathy', 'andy', 'justin']\n",
        "\n",
        "user = random.choice(users)\n",
        "\n",
        "for user in users: # Adding for, iterates this argument multiple times\n",
        "\n",
        "  if user not in people: # NOT IN argument utlization\n",
        "    print(f\"Sorry, the name {user.title()} chosen from second list, is not in the first list\")\n",
        "  else:\n",
        "    print(f\"There is a match! The name {user.title()} is in both lists.\")"
      ],
      "metadata": {
        "colab": {
          "base_uri": "https://localhost:8080/"
        },
        "id": "CD4oio-r45Sf",
        "outputId": "221555d0-65a5-467f-9da8-eda1fc1a9861"
      },
      "execution_count": 85,
      "outputs": [
        {
          "output_type": "stream",
          "name": "stdout",
          "text": [
            "Sorry, the name John chosen from second list, is not in the first list\n",
            "There is a match! The name Austin is in both lists.\n",
            "Sorry, the name Jerry chosen from second list, is not in the first list\n",
            "There is a match! The name Kathy is in both lists.\n",
            "Sorry, the name Andy chosen from second list, is not in the first list\n",
            "Sorry, the name Justin chosen from second list, is not in the first list\n"
          ]
        }
      ]
    },
    {
      "cell_type": "code",
      "source": [],
      "metadata": {
        "id": "SsLToP-u5XPW"
      },
      "execution_count": null,
      "outputs": []
    }
  ]
}