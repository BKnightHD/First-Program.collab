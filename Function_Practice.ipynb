{
  "nbformat": 4,
  "nbformat_minor": 0,
  "metadata": {
    "colab": {
      "provenance": [],
      "authorship_tag": "ABX9TyMFJqTxAQydFBHuPTLPJ/Kr",
      "include_colab_link": true
    },
    "kernelspec": {
      "name": "python3",
      "display_name": "Python 3"
    },
    "language_info": {
      "name": "python"
    }
  },
  "cells": [
    {
      "cell_type": "markdown",
      "metadata": {
        "id": "view-in-github",
        "colab_type": "text"
      },
      "source": [
        "<a href=\"https://colab.research.google.com/github/BKnightHD/Python-CC/blob/main/Function_Practice.ipynb\" target=\"_parent\"><img src=\"https://colab.research.google.com/assets/colab-badge.svg\" alt=\"Open In Colab\"/></a>"
      ]
    },
    {
      "cell_type": "markdown",
      "source": [
        "# Functions"
      ],
      "metadata": {
        "id": "IlaGqZS8ij9B"
      }
    },
    {
      "cell_type": "code",
      "execution_count": 6,
      "metadata": {
        "colab": {
          "base_uri": "https://localhost:8080/"
        },
        "id": "Os3EC0-kiitg",
        "outputId": "597370a3-0e07-4e0d-90f5-7a5febf3a3c2"
      },
      "outputs": [
        {
          "output_type": "stream",
          "name": "stdout",
          "text": [
            "Hello World!\n"
          ]
        }
      ],
      "source": [
        "def greet():  # defining function\n",
        "  \"\"\"Function that prints 'Hello World'\"\"\" # discriptor\n",
        "\n",
        "  print(\"Hello World!\") # function body (what the function will do)\n",
        "\n",
        "greet() # function call"
      ]
    },
    {
      "cell_type": "code",
      "source": [
        "def greet(name): # defining function with parameter called name...\n",
        "                 # when the function is called, we can pass a value to this parameter\n",
        "\n",
        "  print(\"Hello\", name) # print \"Hello \" + name (yet to be passed)\n",
        "\n",
        "greet(\"John\") # here, we pass the name \"John\" to the parameter 'name'.\n",
        "greet(\"David\") # here, we pass the name \"David\" to the parameter 'name'."
      ],
      "metadata": {
        "colab": {
          "base_uri": "https://localhost:8080/"
        },
        "id": "Yj7hu3VPjOUJ",
        "outputId": "39beebab-5394-4066-b7cf-f9a3457f8418"
      },
      "execution_count": 12,
      "outputs": [
        {
          "output_type": "stream",
          "name": "stdout",
          "text": [
            "Hello John\n",
            "Hello David\n"
          ]
        }
      ]
    },
    {
      "cell_type": "code",
      "source": [
        "def addition(number):\n",
        "  answer = number + number\n",
        "  return answer\n",
        "\n",
        "result = addition(2)\n",
        "print(result)"
      ],
      "metadata": {
        "colab": {
          "base_uri": "https://localhost:8080/"
        },
        "id": "U_AEIfAOkhXz",
        "outputId": "73379c40-2be4-4092-9d5d-165302d47c78"
      },
      "execution_count": 14,
      "outputs": [
        {
          "output_type": "stream",
          "name": "stdout",
          "text": [
            "4\n"
          ]
        }
      ]
    },
    {
      "cell_type": "code",
      "source": [
        "def future_function():\n",
        "  pass\n",
        "\n",
        "future_function()\n",
        "# we can run this code and provide functionality to function at a later time without a runtime error"
      ],
      "metadata": {
        "id": "6yTP99_TzKJr"
      },
      "execution_count": 15,
      "outputs": []
    },
    {
      "cell_type": "code",
      "source": [],
      "metadata": {
        "id": "RJ4YULkEzg-w"
      },
      "execution_count": null,
      "outputs": []
    }
  ]
}