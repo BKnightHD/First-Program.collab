{
  "nbformat": 4,
  "nbformat_minor": 0,
  "metadata": {
    "colab": {
      "provenance": [],
      "authorship_tag": "ABX9TyNdXIQHGCE6/jVIr5Rk+aS5",
      "include_colab_link": true
    },
    "kernelspec": {
      "name": "python3",
      "display_name": "Python 3"
    },
    "language_info": {
      "name": "python"
    }
  },
  "cells": [
    {
      "cell_type": "markdown",
      "metadata": {
        "id": "view-in-github",
        "colab_type": "text"
      },
      "source": [
        "<a href=\"https://colab.research.google.com/github/BKnightHD/Python-CC/blob/main/Classes.ipynb\" target=\"_parent\"><img src=\"https://colab.research.google.com/assets/colab-badge.svg\" alt=\"Open In Colab\"/></a>"
      ]
    },
    {
      "cell_type": "markdown",
      "source": [
        "# Object oriented programming - Classes"
      ],
      "metadata": {
        "id": "OH5SSg2ZzYzh"
      }
    },
    {
      "cell_type": "code",
      "execution_count": null,
      "metadata": {
        "colab": {
          "base_uri": "https://localhost:8080/"
        },
        "id": "EYrMmWb-xD8j",
        "outputId": "ac793384-edc1-45ae-bd86-d082e920e0db"
      },
      "outputs": [
        {
          "output_type": "stream",
          "name": "stdout",
          "text": [
            "Brandon\n",
            "Walking...\n",
            "Running...\n"
          ]
        }
      ],
      "source": [
        "class Person:\n",
        "  def __init__(self, age, weight, height, first_name, last_name):\n",
        "    self.age = age\n",
        "    self. weight = weight\n",
        "    self.height = height\n",
        "    self.first_name = first_name\n",
        "    self.last_name = last_name\n",
        "\n",
        "  def walk(self):\n",
        "    print(\"Walking...\")\n",
        "\n",
        "  def run(self):\n",
        "    print(\"Running...\")\n",
        "\n",
        "# creating a new person\n",
        "user = Person(29, 175, 70, \"Brandon\", \"Knight\")\n",
        "\n",
        "print(user.first_name)\n",
        "\n",
        "user.walk()\n",
        "user.run()"
      ]
    },
    {
      "cell_type": "code",
      "source": [
        "class BankAccount:\n",
        "    def __init__(self, account_number, balance=0):\n",
        "        self.account_number = account_number\n",
        "        self.balance = balance\n",
        "\n",
        "    def deposit(self, amount):\n",
        "        if amount > 0:\n",
        "            self.balance += amount\n",
        "            return f\"Deposited ${amount}. New balance: ${self.balance}\"\n",
        "        return \"Invalid deposit amount\"\n",
        "\n",
        "    def withdraw(self, amount):\n",
        "        if 0 < amount <= self.balance:\n",
        "            self.balance -= amount\n",
        "            return f\"Withdrew ${amount}. New balance: ${self.balance}\"\n",
        "        return \"Insufficient funds or invalid withdrawal amount\"\n",
        "\n",
        "    def get_balance(self):\n",
        "        return f\"Current balance: ${self.balance}\"\n",
        "\n",
        "# Usage\n",
        "account1 = BankAccount(\"1234567890\")\n",
        "print(account1.deposit(1000))\n",
        "print(account1.withdraw(500))\n",
        "print(account1.get_balance())\n",
        "\n",
        "account2 = BankAccount(\"0987654321\", 500)\n",
        "print(account2.get_balance())\n",
        "print(account2.withdraw(600))"
      ],
      "metadata": {
        "colab": {
          "base_uri": "https://localhost:8080/"
        },
        "id": "8x0F5X-qy6gp",
        "outputId": "bd22e714-7fce-44fb-8032-3bd6ddd4808b"
      },
      "execution_count": null,
      "outputs": [
        {
          "output_type": "stream",
          "name": "stdout",
          "text": [
            "Deposited $1000. New balance: $1000\n",
            "Withdrew $500. New balance: $500\n",
            "Current balance: $500\n",
            "Current balance: $500\n",
            "Insufficient funds or invalid withdrawal amount\n"
          ]
        }
      ]
    }
  ]
}