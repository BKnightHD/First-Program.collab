{
  "nbformat": 4,
  "nbformat_minor": 0,
  "metadata": {
    "colab": {
      "provenance": []
    },
    "kernelspec": {
      "name": "python3",
      "display_name": "Python 3"
    },
    "language_info": {
      "name": "python"
    }
  },
  "cells": [
    {
      "cell_type": "markdown",
      "source": [
        "Printing code & varous other methods() and functions"
      ],
      "metadata": {
        "id": "RaAGKXNNk_1K"
      }
    },
    {
      "cell_type": "code",
      "source": [
        "variable = 'brandon knight '\n",
        "print(variable.title().rstrip())\n",
        "\n",
        "first_name = \"brandon\"\n",
        "last_name = \"knight\"\n",
        "full_name = first_name.title() + \" \" + last_name.title() #concatenation\n",
        "print(full_name)\n",
        "\n",
        "print(\"Languages:\\n\\tPython,\\n\\tC,\\n\\tJavaScript!\")"
      ],
      "metadata": {
        "colab": {
          "base_uri": "https://localhost:8080/"
        },
        "id": "Xo04trsXTWpm",
        "outputId": "d09f6eea-76fc-45b5-f9c9-dafd6f023123"
      },
      "execution_count": null,
      "outputs": [
        {
          "output_type": "stream",
          "name": "stdout",
          "text": [
            "Brandon Knight\n",
            "Brandon Knight\n",
            "Languages:\n",
            "\tPython,\n",
            "\tC,\n",
            "\tJavaScript!\n"
          ]
        }
      ]
    },
    {
      "cell_type": "code",
      "source": [
        "message = \"One of Python's strengths is its diverse community\"\n",
        "print(message)"
      ],
      "metadata": {
        "colab": {
          "base_uri": "https://localhost:8080/"
        },
        "id": "69hjRiN5hCLN",
        "outputId": "88f51211-e6b8-4d67-c552-37b23e634551"
      },
      "execution_count": null,
      "outputs": [
        {
          "output_type": "stream",
          "name": "stdout",
          "text": [
            "One of Python's strengths is its diverse community\n"
          ]
        }
      ]
    },
    {
      "cell_type": "markdown",
      "source": [
        "Try it yourself\n",
        "\n",
        "*   2-3 Personal Message\n",
        "*   2-4 Name Cases\n",
        "*   2-5 Famouse Quote\n",
        "*   2-7 Stripping Names"
      ],
      "metadata": {
        "id": "V6dyz3H7oS7H"
      }
    },
    {
      "cell_type": "code",
      "source": [
        "#2-3\n",
        "first_name = \"grace\"\n",
        "last_name = 'arnold'\n",
        "full_name = first_name + \" \" + last_name\n",
        "worker = full_name.title()\n",
        "message = \"Hello \" + worker + \" \" + \"what's new in the world of sustainability?\"\n",
        "print(message)\n",
        "\n",
        "#2-4\n",
        "worker_lower = full_name.lower()\n",
        "print(worker_lower)\n",
        "worker_upper = full_name.upper()\n",
        "print(worker_upper)\n",
        "\n",
        "#2-5\n",
        "quote = \"\\\"It doesn't matter how fast you're going, as long as you don't stop.\\\"\" #notice, the \\\" created quotes in the printed line\n",
        "philosoper = \"the knight\"\n",
        "print(philosoper.title() + \" \" + \"once said, \" + quote)\n"
      ],
      "metadata": {
        "colab": {
          "base_uri": "https://localhost:8080/"
        },
        "id": "GMV24WuLhPwF",
        "outputId": "638ae716-448c-4948-a3a4-6a22ef0c95c8"
      },
      "execution_count": null,
      "outputs": [
        {
          "output_type": "stream",
          "name": "stdout",
          "text": [
            "Hello Grace Arnold what's new in the world of sustainability?\n",
            "grace arnold\n",
            "GRACE ARNOLD\n",
            "The Knight once said, \"It doesn't matter how fast you're going, as long as you don't stop.\"\n",
            "\tbarb hall\n"
          ]
        }
      ]
    },
    {
      "cell_type": "code",
      "source": [
        "#2-7\n",
        "new_name = 'Name:\\n\\tbarb hall\\t'\n",
        "print(new_name.strip().title())\n",
        "print(new_name.lstrip().title())\n",
        "print(new_name.lstrip().title())"
      ],
      "metadata": {
        "colab": {
          "base_uri": "https://localhost:8080/"
        },
        "id": "dvbMY13ftcj7",
        "outputId": "dde0e51b-58e3-447d-a58e-572c0c459bc5"
      },
      "execution_count": null,
      "outputs": [
        {
          "output_type": "stream",
          "name": "stdout",
          "text": [
            "Name:\n",
            "\tBarb Hall\n",
            "Name:\n",
            "\tBarb Hall\t\n",
            "Name:\n",
            "\tBarb Hall\t\n"
          ]
        }
      ]
    },
    {
      "cell_type": "code",
      "source": [
        "4**5 #exponent\n",
        "3+1 #python will only display the last line of arithmatic unless asked otherwise\n",
        "4.3 + 6.34\n",
        "\n",
        "new_name2 = \"brenelle\"\n",
        "age = 28\n",
        "second_age = 18\n",
        "message = \"Happy \" + str(age) + \"th Birthday \" + new_name2.title() + \", you don't look a day over \" + str(second_age) + \"!\"\n",
        "print(message)"
      ],
      "metadata": {
        "colab": {
          "base_uri": "https://localhost:8080/"
        },
        "id": "hgN2nEettfVd",
        "outputId": "e6687c71-a5b3-47a6-9bd6-1ce4f1de5591"
      },
      "execution_count": null,
      "outputs": [
        {
          "output_type": "stream",
          "name": "stdout",
          "text": [
            "Happy 28th Birthday Brenelle, you don't look a day over 18!\n"
          ]
        }
      ]
    },
    {
      "cell_type": "markdown",
      "source": [
        "Try it yourself\n",
        "* 2-8 Number Eight\n",
        "* 2-9 Favorite Number"
      ],
      "metadata": {
        "id": "yBqg-j1O3Q29"
      }
    },
    {
      "cell_type": "code",
      "source": [
        "#2-8\n",
        "print(4+4)\n",
        "print(10-2)\n",
        "print(16/2)\n",
        "print(4*2)\n",
        "\n",
        "#2-9\n",
        "favorite_number = 23\n",
        "message2 = \"Did you know my favorite number is \" + str(favorite_number) + \"?\"\n",
        "print(message2)"
      ],
      "metadata": {
        "colab": {
          "base_uri": "https://localhost:8080/"
        },
        "id": "T6cAHltBz93P",
        "outputId": "d12b7cf1-89ba-4a79-8fe0-1bfa9036982b"
      },
      "execution_count": null,
      "outputs": [
        {
          "output_type": "stream",
          "name": "stdout",
          "text": [
            "8\n",
            "8\n",
            "8.0\n",
            "8\n",
            "Did you know my favorite number is 23?\n"
          ]
        }
      ]
    },
    {
      "cell_type": "code",
      "source": [
        "import this #typing \"import this\" will display the Zen of Python, by Time Peters"
      ],
      "metadata": {
        "colab": {
          "base_uri": "https://localhost:8080/"
        },
        "id": "DweyGajZ3iHE",
        "outputId": "79e1089d-9d1d-4253-88f3-9417d1b889e6"
      },
      "execution_count": null,
      "outputs": [
        {
          "output_type": "stream",
          "name": "stdout",
          "text": [
            "The Zen of Python, by Tim Peters\n",
            "\n",
            "Beautiful is better than ugly.\n",
            "Explicit is better than implicit.\n",
            "Simple is better than complex.\n",
            "Complex is better than complicated.\n",
            "Flat is better than nested.\n",
            "Sparse is better than dense.\n",
            "Readability counts.\n",
            "Special cases aren't special enough to break the rules.\n",
            "Although practicality beats purity.\n",
            "Errors should never pass silently.\n",
            "Unless explicitly silenced.\n",
            "In the face of ambiguity, refuse the temptation to guess.\n",
            "There should be one-- and preferably only one --obvious way to do it.\n",
            "Although that way may not be obvious at first unless you're Dutch.\n",
            "Now is better than never.\n",
            "Although never is often better than *right* now.\n",
            "If the implementation is hard to explain, it's a bad idea.\n",
            "If the implementation is easy to explain, it may be a good idea.\n",
            "Namespaces are one honking great idea -- let's do more of those!\n"
          ]
        }
      ]
    }
  ]
}
