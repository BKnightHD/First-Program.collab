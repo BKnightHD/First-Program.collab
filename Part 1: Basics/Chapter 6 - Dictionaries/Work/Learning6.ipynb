{
  "nbformat": 4,
  "nbformat_minor": 0,
  "metadata": {
    "colab": {
      "provenance": [],
      "authorship_tag": "ABX9TyPbWcLKewBHWnNHVif1OdmJ",
      "include_colab_link": true
    },
    "kernelspec": {
      "name": "python3",
      "display_name": "Python 3"
    },
    "language_info": {
      "name": "python"
    }
  },
  "cells": [
    {
      "cell_type": "markdown",
      "metadata": {
        "id": "view-in-github",
        "colab_type": "text"
      },
      "source": [
        "<a href=\"https://colab.research.google.com/github/BKnightHD/Python-CC/blob/main/Part%201%3A%20Basics/Chapter%206%20-%20Dictionaries/Work/Learning6.ipynb\" target=\"_parent\"><img src=\"https://colab.research.google.com/assets/colab-badge.svg\" alt=\"Open In Colab\"/></a>"
      ]
    },
    {
      "cell_type": "markdown",
      "source": [
        "#Chapter 6 - Dictionaries"
      ],
      "metadata": {
        "id": "ltilZoJuEg_r"
      }
    },
    {
      "cell_type": "code",
      "execution_count": null,
      "metadata": {
        "colab": {
          "base_uri": "https://localhost:8080/"
        },
        "id": "fB53blHmEH-S",
        "outputId": "47d19cca-eb5a-4c04-9369-9799cac17cea"
      },
      "outputs": [
        {
          "output_type": "stream",
          "name": "stdout",
          "text": [
            "green\n",
            "5\n",
            "red\n",
            "You just earned 5 points!\n",
            "{'color': 'green', 'points': 5, 'y_position': 25, 'x_position': 0}\n"
          ]
        }
      ],
      "source": [
        "alien_0 = {'color': 'green', 'points': 5} # The dictionary alien_0 stored the alien's color and point value.\n",
        "\n",
        "print(alien_0['color']) # These two print statements access and display that information\n",
        "print(alien_0['points'])\n",
        "\n",
        "# A dictionary in Python is a collection of key-value pairs. Each key is connected to a value.\n",
        "\n",
        "alien_1 = {'color': 'red'} # Simple dictionary with one key value pair -- color : red\n",
        "print(alien_1['color'])\n",
        "\n",
        "new_points = alien_0['points']\n",
        "print(f\"You just earned {str(new_points)} points!\")\n",
        "\n",
        "alien_0['y_position'] = 25\n",
        "alien_0['x_position'] = 0\n",
        "print(alien_0)"
      ]
    },
    {
      "cell_type": "code",
      "source": [
        "# Starting with an empty dictionary\n",
        "alien_0 = {}\n",
        "alien_0['color'] = 'green'\n",
        "alien_0['points'] = 5\n",
        "\n",
        "new_color = alien_0['color']\n",
        "print(alien_0)\n",
        "print(f\"Your new color is {new_color}!\")"
      ],
      "metadata": {
        "id": "Yl9vXmrjo9k5",
        "outputId": "e1aa0ae8-551a-4588-fbd3-28748b0a5c78",
        "colab": {
          "base_uri": "https://localhost:8080/"
        }
      },
      "execution_count": 2,
      "outputs": [
        {
          "output_type": "stream",
          "name": "stdout",
          "text": [
            "{'color': 'green', 'points': 5}\n",
            "Your new color is green!\n"
          ]
        }
      ]
    },
    {
      "cell_type": "code",
      "source": [
        "numbers = {'number': 7, 'color': 'yellow'}\n",
        "print(f\"The number for my dictionary is {numbers['number']}, and the color is {numbers['color']}.\")"
      ],
      "metadata": {
        "id": "x3UXcyqBpX64",
        "outputId": "84bad1f5-0a42-4281-da0e-517ebf481f70",
        "colab": {
          "base_uri": "https://localhost:8080/"
        }
      },
      "execution_count": null,
      "outputs": [
        {
          "output_type": "stream",
          "name": "stdout",
          "text": [
            "The number for my dictionary is 7, and the color is yellow.\n"
          ]
        }
      ]
    },
    {
      "cell_type": "code",
      "source": [
        "alien_0 = {'color': 'green', 'points': 5}\n",
        "\n",
        "new_points = alien_0['points']\n",
        "print(f\"You just earned {new_points} points!\")"
      ],
      "metadata": {
        "id": "cuMEoqGH__bO",
        "outputId": "5e1e91cb-2d3e-4b26-a418-970210980db7",
        "colab": {
          "base_uri": "https://localhost:8080/"
        }
      },
      "execution_count": 1,
      "outputs": [
        {
          "output_type": "stream",
          "name": "stdout",
          "text": [
            "You just earned 5 points!\n"
          ]
        }
      ]
    },
    {
      "cell_type": "code",
      "source": [
        "alien_0 = {'color': 'green'}\n",
        "print(f\"The alien is {alien_0['color']}.\")\n",
        "\n",
        "alien_0['color'] = 'yellow'\n",
        "print(f\"The alien is now {alien_0['color']}.\")"
      ],
      "metadata": {
        "id": "2zu22biygoLb",
        "outputId": "e0d3c181-da4e-4987-a42e-e10a8de312eb",
        "colab": {
          "base_uri": "https://localhost:8080/"
        }
      },
      "execution_count": 5,
      "outputs": [
        {
          "output_type": "stream",
          "name": "stdout",
          "text": [
            "The alien is green.\n",
            "The alien is now yellow.\n"
          ]
        }
      ]
    },
    {
      "cell_type": "code",
      "source": [
        "alien_0 = {'x_position': 0, 'y_position': 25, 'speed': 'medium'} # Changing the original speed of this alien will change how much we increment the x-position by\n",
        "print(f\"Original x position: {str(alien_0['x_position'])}\")\n",
        "\n",
        "# Move the alien to the right\n",
        "#Determine how far to move the alien based on its current speed\n",
        "\n",
        "if alien_0['speed'] == 'slow':\n",
        "  x_increment = 1\n",
        "elif alien_0['speed'] == 'medium':\n",
        "  x_increment = 2\n",
        "else:\n",
        "  # This must be a fast alien\n",
        "  x_increment = 3\n",
        "\n",
        "  # The new position is the old position plus the increment.\n",
        "alien_0['x_position'] = alien_0['x_position'] + x_increment\n",
        "\n",
        "print(f\"New x-position: {str(alien_0['x_position'])}\")"
      ],
      "metadata": {
        "id": "FbUDHy3qiIBN",
        "outputId": "14087ee5-ff2c-42cf-f26a-172f850a9406",
        "colab": {
          "base_uri": "https://localhost:8080/"
        }
      },
      "execution_count": 14,
      "outputs": [
        {
          "output_type": "stream",
          "name": "stdout",
          "text": [
            "Original x position: 0\n",
            "New x-position: 2\n"
          ]
        }
      ]
    },
    {
      "cell_type": "code",
      "source": [
        "alien_0 = {'color': 'green', 'points': 5}\n",
        "print(alien_0)\n",
        "\n",
        "del alien_0['points'] # Here we are deleting the key 'points' from teh dictionary alien_0\n",
        "print(alien_0)"
      ],
      "metadata": {
        "id": "ebw61rJdi7i7",
        "outputId": "a99f4205-6597-4b17-e555-a46bef0dbdaf",
        "colab": {
          "base_uri": "https://localhost:8080/"
        }
      },
      "execution_count": 16,
      "outputs": [
        {
          "output_type": "stream",
          "name": "stdout",
          "text": [
            "{'color': 'green', 'points': 5}\n",
            "{'color': 'green'}\n"
          ]
        }
      ]
    },
    {
      "cell_type": "code",
      "source": [],
      "metadata": {
        "id": "BVZZkjcllj8K"
      },
      "execution_count": null,
      "outputs": []
    }
  ]
}