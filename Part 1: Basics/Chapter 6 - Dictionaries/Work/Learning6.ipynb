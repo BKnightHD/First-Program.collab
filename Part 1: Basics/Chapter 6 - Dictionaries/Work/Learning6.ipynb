{
  "nbformat": 4,
  "nbformat_minor": 0,
  "metadata": {
    "colab": {
      "provenance": [],
      "authorship_tag": "ABX9TyNTsPr0/NOOMIZMorA3lVct",
      "include_colab_link": true
    },
    "kernelspec": {
      "name": "python3",
      "display_name": "Python 3"
    },
    "language_info": {
      "name": "python"
    }
  },
  "cells": [
    {
      "cell_type": "markdown",
      "metadata": {
        "id": "view-in-github",
        "colab_type": "text"
      },
      "source": [
        "<a href=\"https://colab.research.google.com/github/BKnightHD/Python-CC/blob/main/Part%201%3A%20Basics/Chapter%206%20-%20Dictionaries/Work/Learning6.ipynb\" target=\"_parent\"><img src=\"https://colab.research.google.com/assets/colab-badge.svg\" alt=\"Open In Colab\"/></a>"
      ]
    },
    {
      "cell_type": "markdown",
      "source": [
        "#Chapter 6 - Dictionaries"
      ],
      "metadata": {
        "id": "ltilZoJuEg_r"
      }
    },
    {
      "cell_type": "code",
      "execution_count": null,
      "metadata": {
        "colab": {
          "base_uri": "https://localhost:8080/"
        },
        "id": "fB53blHmEH-S",
        "outputId": "47d19cca-eb5a-4c04-9369-9799cac17cea"
      },
      "outputs": [
        {
          "output_type": "stream",
          "name": "stdout",
          "text": [
            "green\n",
            "5\n",
            "red\n",
            "You just earned 5 points!\n",
            "{'color': 'green', 'points': 5, 'y_position': 25, 'x_position': 0}\n"
          ]
        }
      ],
      "source": [
        "alien_0 = {'color': 'green', 'points': 5} # The dictionary alien_0 stored the alien's color and point value.\n",
        "\n",
        "print(alien_0['color']) # These two print statements access and display that information\n",
        "print(alien_0['points'])\n",
        "\n",
        "# A dictionary in Python is a collection of key-value pairs. Each key is connected to a value.\n",
        "\n",
        "alien_1 = {'color': 'red'} # Simple dictionary with one key value pair -- color : red\n",
        "print(alien_1['color'])\n",
        "\n",
        "new_points = alien_0['points']\n",
        "print(f\"You just earned {str(new_points)} points!\")\n",
        "\n",
        "alien_0['y_position'] = 25\n",
        "alien_0['x_position'] = 0\n",
        "print(alien_0)"
      ]
    },
    {
      "cell_type": "code",
      "source": [
        "# Starting with an empty dictionary\n",
        "alien_0 = {}\n",
        "alien_0['color'] = 'green'\n",
        "alien_0['points'] = 5\n",
        "\n",
        "new_color = alien_0['color']\n",
        "print(alien_0)\n",
        "print(f\"Your new color is {new_color}!\")"
      ],
      "metadata": {
        "id": "Yl9vXmrjo9k5",
        "outputId": "e1aa0ae8-551a-4588-fbd3-28748b0a5c78",
        "colab": {
          "base_uri": "https://localhost:8080/"
        }
      },
      "execution_count": null,
      "outputs": [
        {
          "output_type": "stream",
          "name": "stdout",
          "text": [
            "{'color': 'green', 'points': 5}\n",
            "Your new color is green!\n"
          ]
        }
      ]
    },
    {
      "cell_type": "code",
      "source": [
        "numbers = {'number': 7, 'color': 'yellow'}\n",
        "print(f\"The number for my dictionary is {numbers['number']}, and the color is {numbers['color']}.\")"
      ],
      "metadata": {
        "id": "x3UXcyqBpX64",
        "outputId": "84bad1f5-0a42-4281-da0e-517ebf481f70",
        "colab": {
          "base_uri": "https://localhost:8080/"
        }
      },
      "execution_count": null,
      "outputs": [
        {
          "output_type": "stream",
          "name": "stdout",
          "text": [
            "The number for my dictionary is 7, and the color is yellow.\n"
          ]
        }
      ]
    },
    {
      "cell_type": "code",
      "source": [
        "alien_0 = {'color': 'green', 'points': 5}\n",
        "\n",
        "new_points = alien_0['points']\n",
        "print(f\"You just earned {new_points} points!\")"
      ],
      "metadata": {
        "id": "cuMEoqGH__bO",
        "colab": {
          "base_uri": "https://localhost:8080/"
        },
        "outputId": "5e1e91cb-2d3e-4b26-a418-970210980db7"
      },
      "execution_count": null,
      "outputs": [
        {
          "output_type": "stream",
          "name": "stdout",
          "text": [
            "You just earned 5 points!\n"
          ]
        }
      ]
    },
    {
      "cell_type": "code",
      "source": [
        "alien_0 = {'color': 'green'}\n",
        "print(f\"The alien is {alien_0['color']}.\")\n",
        "\n",
        "alien_0['color'] = 'yellow'\n",
        "print(f\"The alien is now {alien_0['color']}.\")"
      ],
      "metadata": {
        "colab": {
          "base_uri": "https://localhost:8080/"
        },
        "id": "2zu22biygoLb",
        "outputId": "e0d3c181-da4e-4987-a42e-e10a8de312eb"
      },
      "execution_count": null,
      "outputs": [
        {
          "output_type": "stream",
          "name": "stdout",
          "text": [
            "The alien is green.\n",
            "The alien is now yellow.\n"
          ]
        }
      ]
    },
    {
      "cell_type": "code",
      "source": [
        "alien_0 = {'x_position': 0, 'y_position': 25, 'speed': 'medium'} # Changing the original speed of this alien will change how much we increment the x-position by\n",
        "print(f\"Original x position: {str(alien_0['x_position'])}\")\n",
        "\n",
        "# Move the alien to the right\n",
        "#Determine how far to move the alien based on its current speed\n",
        "\n",
        "if alien_0['speed'] == 'slow':\n",
        "  x_increment = 1\n",
        "elif alien_0['speed'] == 'medium':\n",
        "  x_increment = 2\n",
        "else:\n",
        "  # This must be a fast alien\n",
        "  x_increment = 3\n",
        "\n",
        "  # The new position is the old position plus the increment.\n",
        "alien_0['x_position'] = alien_0['x_position'] + x_increment\n",
        "\n",
        "print(f\"New x-position: {str(alien_0['x_position'])}\")"
      ],
      "metadata": {
        "colab": {
          "base_uri": "https://localhost:8080/"
        },
        "id": "FbUDHy3qiIBN",
        "outputId": "14087ee5-ff2c-42cf-f26a-172f850a9406"
      },
      "execution_count": null,
      "outputs": [
        {
          "output_type": "stream",
          "name": "stdout",
          "text": [
            "Original x position: 0\n",
            "New x-position: 2\n"
          ]
        }
      ]
    },
    {
      "cell_type": "code",
      "source": [
        "alien_0 = {'color': 'green', 'points': 5}\n",
        "print(alien_0)\n",
        "\n",
        "del alien_0['points'] # Here we are deleting the key 'points' from teh dictionary alien_0\n",
        "print(alien_0)"
      ],
      "metadata": {
        "colab": {
          "base_uri": "https://localhost:8080/"
        },
        "id": "ebw61rJdi7i7",
        "outputId": "a99f4205-6597-4b17-e555-a46bef0dbdaf"
      },
      "execution_count": null,
      "outputs": [
        {
          "output_type": "stream",
          "name": "stdout",
          "text": [
            "{'color': 'green', 'points': 5}\n",
            "{'color': 'green'}\n"
          ]
        }
      ]
    },
    {
      "cell_type": "code",
      "source": [
        "favorite_languages = {\n",
        "    'jen': 'python',\n",
        "    'sarah': 'c',\n",
        "    'kimberly': 'java script',\n",
        "    'max': 'r'\n",
        "    }\n",
        "\n",
        "print(f\"Jen's favorite language is {favorite_languages['jen'].title()}.\")\n",
        "\n",
        "# To see which language Sarah chose, we ask for the value at:\n",
        "\n",
        "favorite_languages['sarah'].title()"
      ],
      "metadata": {
        "colab": {
          "base_uri": "https://localhost:8080/",
          "height": 54
        },
        "id": "BVZZkjcllj8K",
        "outputId": "89f92c5b-0fb1-42df-c51c-c56ac86fc919"
      },
      "execution_count": null,
      "outputs": [
        {
          "output_type": "stream",
          "name": "stdout",
          "text": [
            "Jen's favorite language is Python.\n"
          ]
        },
        {
          "output_type": "execute_result",
          "data": {
            "text/plain": [
              "'C'"
            ],
            "application/vnd.google.colaboratory.intrinsic+json": {
              "type": "string"
            }
          },
          "metadata": {},
          "execution_count": 24
        }
      ]
    },
    {
      "cell_type": "markdown",
      "source": [
        "# Try it yourself\n",
        "* 6-1 Person\n",
        "* 6-2 Favorite Numbers\n",
        "* 6-3 Glossary"
      ],
      "metadata": {
        "id": "ypNj10LzntjF"
      }
    },
    {
      "cell_type": "code",
      "source": [
        "# Use a dictionary to store information about a person you know\n",
        "\n",
        "giuesspe = {\n",
        "    'name': 'giuseppe',\n",
        "    'last name': 'accardi',\n",
        "    'age': 29,\n",
        "    'city': 'st. louis'\n",
        "      }\n",
        "print(f\"This is name freind {giuesspe['name'].title()},\\n\" +\n",
        "    \"Here are some things about him.\\n\\n\" +\n",
        "    f\"Last name: {giuesspe['last name'].title()}\\n\" +\n",
        "    f\"Age:\\t   {str(giuesspe['age'])}\\n\" +\n",
        "    f\"City:\\t   {giuesspe['city'].title()}\"\n",
        "    )\n",
        "print(\"\\n---------------------------------------------\\n\")\n",
        "\n",
        "# Use a dictionary to store people's favorite numbers\n",
        "\n",
        "import random\n",
        "number = range(1,100)\n",
        "freinds = {\n",
        "    'andy': random.choice(number),\n",
        "    'eddie': random.choice(number),\n",
        "    'justin': random.choice(number),\n",
        "    'zach': random.choice(number),\n",
        "    'yaseen': random.choice(number)\n",
        "    }\n",
        "print(f\"This is a list of my friends favorite numbers-\\n\" +\n",
        "    f\"Andy: {str(freinds['andy'])}\\n\" +\n",
        "    f\"Eddie: {str(freinds['eddie'])}\\n\" +\n",
        "    f\"Justin: {str(freinds['justin'])}\\n\" +\n",
        "    f\"Zach: {str(freinds['zach'])}\\n\" +\n",
        "    f\"Yaseen: {str(freinds['yaseen'])}\"\n",
        "    )\n",
        "\n",
        "print(\"\\n---------------------------------------------\\n\")\n",
        "\n",
        "# Think of five programming words you've learned about and use these words as the keys in your glossary\n",
        "\n",
        "glossary = {\n",
        "    'string': 'words',\n",
        "    'int': 'numbers',\n",
        "    'method': 'actions',\n",
        "    'dictionaries': 'meta lists',\n",
        "    'float': 'decimal numbers'\n",
        "    }\n",
        "print(\"I've learned a lot of thins so far with regards to programming; Here is a list of a few things...\\n\" +\n",
        "     f\"String: {glossary['string']}\\n\" +\n",
        "     f\"Int: {glossary['int']}\\n\" +\n",
        "     f\"Method: {glossary['method']}\\n\" +\n",
        "     f\"Dictinaries: {glossary['dictionaries']}\\n\" +\n",
        "     f\"Floats: {glossary['float']}\\n\"\n",
        "     )"
      ],
      "metadata": {
        "colab": {
          "base_uri": "https://localhost:8080/"
        },
        "id": "2pgy7vnxmOXl",
        "outputId": "aed2f398-547b-4c0f-ee4a-1b472c7095a6"
      },
      "execution_count": null,
      "outputs": [
        {
          "output_type": "stream",
          "name": "stdout",
          "text": [
            "This is name freind Giuseppe,\n",
            "Here are some things about him.\n",
            "\n",
            "Last name: Accardi\n",
            "Age:\t   29\n",
            "City:\t   St. Louis\n",
            "\n",
            "---------------------------------------------\n",
            "\n",
            "This is a list of my friends favorite numbers-\n",
            "Andy: 51\n",
            "Eddie: 33\n",
            "Justin: 27\n",
            "Zach: 93\n",
            "Yaseen: 70\n",
            "\n",
            "---------------------------------------------\n",
            "\n",
            "I've learned a lot of thins so far with regards to programming; Here is a list of a few things...\n",
            "String: words\n",
            "Int: numbers\n",
            "Method: actions\n",
            "Dictinaries: meta lists\n",
            "Floats: decimal numbers\n",
            "\n"
          ]
        }
      ]
    },
    {
      "cell_type": "markdown",
      "source": [
        "## Looping through dicitonaries"
      ],
      "metadata": {
        "id": "c2gkktXzyeU1"
      }
    },
    {
      "cell_type": "code",
      "source": [
        "user_0 = {\n",
        "    'username': 'efermi',\n",
        "    'first': 'enrico',\n",
        "    'last': 'fermi',\n",
        "    }\n",
        "\n",
        "# What if we wnated to see everything stored in the user's dictionary without typing each key?\n",
        "\n",
        "# Introducting items method\n",
        "for key, value in user_0.items():\n",
        "\n",
        "# We create names for the two variables that will hold the key and value in each key-value pair.\n",
        "\n",
        "  print(f\"\\nKey: {key}\")\n",
        "  print(f\"Value: {value}\")"
      ],
      "metadata": {
        "colab": {
          "base_uri": "https://localhost:8080/"
        },
        "id": "vfPIDkfCqeq4",
        "outputId": "9b04c1d3-8881-4400-bbe6-1e625e3654e7"
      },
      "execution_count": null,
      "outputs": [
        {
          "output_type": "stream",
          "name": "stdout",
          "text": [
            "\n",
            "Key: username\n",
            "Value: efermi\n",
            "\n",
            "Key: first\n",
            "Value: enrico\n",
            "\n",
            "Key: last\n",
            "Value: fermi\n"
          ]
        }
      ]
    },
    {
      "cell_type": "code",
      "source": [
        "favorite_languages = {\n",
        "    'jen': 'python',\n",
        "    'sarah': 'c',\n",
        "    'edward': 'ruby',\n",
        "    'phil': 'java script',\n",
        "    }\n",
        "\n",
        "for name, language in favorite_languages.items():\n",
        "  print(f\"{name.title()}'s favorite language is {language.title()}.\")\n",
        "\n",
        "print(\"\\n\")\n",
        "\n",
        "# The keys() method is useful wehn you don't need to work with all of the values in a dictionary\n",
        "for name in favorite_languages.keys():\n",
        "  print(name.title())\n",
        "\n",
        "# Looping through the keys is actually the default behavor when looping through a dictionary\n",
        "print(\"\\n\")\n",
        "for name in favorite_languages:\n",
        "  print(name.title())"
      ],
      "metadata": {
        "colab": {
          "base_uri": "https://localhost:8080/"
        },
        "id": "EyAGQSDLzNb7",
        "outputId": "6a53cf2e-c1ae-42b4-c972-3a8b02e9abe9"
      },
      "execution_count": null,
      "outputs": [
        {
          "output_type": "stream",
          "name": "stdout",
          "text": [
            "Jen's favorite language is Python.\n",
            "Sarah's favorite language is C.\n",
            "Edward's favorite language is Ruby.\n",
            "Phil's favorite language is Java Script.\n",
            "\n",
            "\n",
            "Jen\n",
            "Sarah\n",
            "Edward\n",
            "Phil\n",
            "\n",
            "\n",
            "Jen\n",
            "Sarah\n",
            "Edward\n",
            "Phil\n"
          ]
        }
      ]
    },
    {
      "cell_type": "code",
      "source": [
        "favorite_languages = {\n",
        "    'jen': 'python',\n",
        "    'sarah': 'c',\n",
        "    'edward': 'ruby',\n",
        "    'phil': 'java script',\n",
        "    }\n",
        "\n",
        "friends = ['phil', 'sarah']\n",
        "for name in favorite_languages:\n",
        "  print(name.title())\n",
        "\n",
        "  if name in friends:\n",
        "    print(f\"Hey {name.title()}!\\n\" +\n",
        "         f\"I see your favorite language is {favorite_languages[name].title()}!\"\n",
        "         )"
      ],
      "metadata": {
        "colab": {
          "base_uri": "https://localhost:8080/"
        },
        "id": "E_wzcaWL1Mnn",
        "outputId": "77bb0338-5f40-4d47-d8d1-19aa6e52d605"
      },
      "execution_count": null,
      "outputs": [
        {
          "output_type": "stream",
          "name": "stdout",
          "text": [
            "Jen\n",
            "Sarah\n",
            "Hey Sarah!\n",
            "I see your favorite language is C!\n",
            "Edward\n",
            "Phil\n",
            "Hey Phil!\n",
            "I see your favorite language is Java Script!\n"
          ]
        }
      ]
    },
    {
      "cell_type": "code",
      "source": [
        "favorite_languages = {\n",
        "    'jen': 'python',\n",
        "    'sarah': 'c',\n",
        "    'edward': 'ruby',\n",
        "    'phil': 'python'\n",
        "    }\n",
        "\n",
        "if 'erin' not in favorite_languages.keys(): # Here we are calling a specific name for the conditional test\n",
        "  print(\"Erin, please take our poll!\")\n",
        "\n",
        "for name in sorted(favorite_languages.keys()): # Sorts list in alphabetical order, but only for this line\n",
        "  print(f\"{name.title()}, thank you for taking the poll.\")"
      ],
      "metadata": {
        "id": "K_YyMaX23kJs",
        "colab": {
          "base_uri": "https://localhost:8080/"
        },
        "outputId": "f97fe83d-6314-4260-ba27-b5cb14e3b515"
      },
      "execution_count": null,
      "outputs": [
        {
          "output_type": "stream",
          "name": "stdout",
          "text": [
            "Erin, please take our poll!\n",
            "Edward, thank you for taking the poll.\n",
            "Jen, thank you for taking the poll.\n",
            "Phil, thank you for taking the poll.\n",
            "Sarah, thank you for taking the poll.\n"
          ]
        }
      ]
    },
    {
      "cell_type": "code",
      "source": [
        "# We can use the values() methos to return a list of values without any keys.\n",
        "\n",
        "favorite_languages = {\n",
        "    'jen': 'python',\n",
        "    'sarah': 'c',\n",
        "    'edward': 'ruby',\n",
        "    'phil': 'python'\n",
        "    }\n",
        "\n",
        "print(\"The following languages have been mentioned:\\n\")\n",
        "for language in favorite_languages.values():\n",
        "  print(f\"{language.title()}\")\n",
        "\n",
        "print(\"\\n---------------------\\n\")\n",
        "\n",
        "favorite_languages = {\n",
        "    'jen': 'python',\n",
        "    'sarah': 'c',\n",
        "    'edward': 'ruby',\n",
        "    'phil': 'python'\n",
        "    }\n",
        "\n",
        "# We use the set() method to only print unique items from a list / dictionary\n",
        "\n",
        "print(f\"The following languages have been mentioned: \")\n",
        "for language in set(favorite_languages.values()):\n",
        "  print(language.title())"
      ],
      "metadata": {
        "colab": {
          "base_uri": "https://localhost:8080/"
        },
        "id": "FsuuH5fBfuPv",
        "outputId": "d775fe92-d3ee-4c1c-f928-d95f65b3b050"
      },
      "execution_count": null,
      "outputs": [
        {
          "output_type": "stream",
          "name": "stdout",
          "text": [
            "The following languages have been mentioned:\n",
            "\n",
            "Python\n",
            "C\n",
            "Ruby\n",
            "Python\n",
            "\n",
            "---------------------\n",
            "\n",
            "The following languages have been mentioned: \n",
            "C\n",
            "Python\n",
            "Ruby\n"
          ]
        }
      ]
    },
    {
      "cell_type": "markdown",
      "source": [
        "#Try it yourself\n",
        "* 6-4 Glossary 2\n",
        "* 6-5 Rivers\n",
        "* Polling\n"
      ],
      "metadata": {
        "id": "Dd1OyQivi0Yr"
      }
    },
    {
      "cell_type": "code",
      "source": [
        "# Clean up your previous code form 6-3 excercise and add 5 more python terms\n",
        "\n",
        "glossary = {\n",
        "    'string': 'words',\n",
        "    'int': 'numbers',\n",
        "    'method': 'actions',\n",
        "    'dictionaries': 'meta lists',\n",
        "    'float': 'decimal numbers',\n",
        "    'items': 'returns both keys and values',\n",
        "    'sorted': 'sorts list alphabetically',\n",
        "    'strip': 'takes spaces away from string from both ends',\n",
        "    'for': 'loop through values in list / dictionary',\n",
        "    'if': 'conditional loop'\n",
        "    }\n",
        "print(\"I've learned a lot of thins so far with regards to programming; Here is a list of a few things:\\n\")\n",
        "\n",
        "for keys, values in sorted(glossary.items()): # remember to use the .items() method to acess both keys and values in for loop\n",
        "  print(f\"{keys.title()}: \"+ f\"{str(values.title())}\")\n",
        "\n",
        "print(\"\\n--------------------------\\n\")\n",
        "\n",
        "# Make a dictionary containing three major rivers and the country each river runs through.\n",
        "\n",
        "rivers = {\n",
        "    'nile': 'egypt',\n",
        "    'amazon': 'brazil',\n",
        "    'yangtze': 'china'\n",
        "    }\n",
        "\n",
        "for k, v in sorted(rivers.items()):\n",
        "  print(f\"{k.title()}: \" + f\"{v.title()}\")\n",
        "\n",
        "print(\"\\n--------------------------\\n\")\n",
        "\n",
        "for k in rivers:\n",
        "  print(f\"{k.upper()}\")\n",
        "for v in rivers.values():\n",
        "  print(f\"{v.upper()}\")\n",
        "\n",
        "# Make a list of people who should take the favorite languages poll\n",
        "\n",
        "favorite_languages = {\n",
        "    'jen': 'python',\n",
        "    'sarah': 'c',\n",
        "    'chris': 'python',\n",
        "    'max': 'pearl',\n",
        "    'randy': 'java script',\n",
        "    'chris': 'scala',\n",
        "    'randy': 'assembly',\n",
        "    }\n",
        "\n",
        "favorite_languages_2 = {\n",
        "    'sarah': 'c++',\n",
        "    'devonta': 'c++',\n",
        "    'chris': 'r',\n",
        "    'edward': 'ruby',\n",
        "    'phil': 'java script'\n",
        "}\n",
        "\n",
        "for people in sorted(set(favorite_languages_2)):\n",
        "  print(f\"Hello {people.title()}, please take the poll\")\n",
        "  if people in set(favorite_languages):\n",
        "    [print(f\"Thank you {people.title()} for taking the poll!\")]\n",
        "  else:\n",
        "    print(f\"Hello {people.title()}, please be sure to take the poll!\")"
      ],
      "metadata": {
        "colab": {
          "base_uri": "https://localhost:8080/"
        },
        "id": "pVMHy4I3hpTO",
        "outputId": "dc484eb2-b486-4f06-b58d-d11814c4a1c3"
      },
      "execution_count": null,
      "outputs": [
        {
          "output_type": "stream",
          "name": "stdout",
          "text": [
            "I've learned a lot of thins so far with regards to programming; Here is a list of a few things:\n",
            "\n",
            "Dictionaries: Meta Lists\n",
            "Float: Decimal Numbers\n",
            "For: Loop Through Values In List / Dictionary\n",
            "If: Conditional Loop\n",
            "Int: Numbers\n",
            "Items: Returns Both Keys And Values\n",
            "Method: Actions\n",
            "Sorted: Sorts List Alphabetically\n",
            "String: Words\n",
            "Strip: Takes Spaces Away From String From Both Ends\n",
            "\n",
            "--------------------------\n",
            "\n",
            "Amazon: Brazil\n",
            "Nile: Egypt\n",
            "Yangtze: China\n",
            "\n",
            "--------------------------\n",
            "\n",
            "NILE\n",
            "AMAZON\n",
            "YANGTZE\n",
            "EGYPT\n",
            "BRAZIL\n",
            "CHINA\n",
            "Hello Chris, please take the poll\n",
            "Thank you Chris for taking the poll!\n",
            "Hello Devonta, please take the poll\n",
            "Hello Devonta, please be sure to take the poll!\n",
            "Hello Edward, please take the poll\n",
            "Hello Edward, please be sure to take the poll!\n",
            "Hello Phil, please take the poll\n",
            "Hello Phil, please be sure to take the poll!\n",
            "Hello Sarah, please take the poll\n",
            "Thank you Sarah for taking the poll!\n"
          ]
        }
      ]
    },
    {
      "cell_type": "markdown",
      "source": [
        "###Nesting"
      ],
      "metadata": {
        "id": "1xHrSLT5tdAt"
      }
    },
    {
      "cell_type": "code",
      "source": [
        "# Sometimes you'll want to store a set of dictionaires in a list or a list of items as a value in a dictionary\n",
        "\n",
        "alien_0 = {'color': 'green', 'points': 5}\n",
        "alien_1 = {'color': 'yellow', 'points': 10}\n",
        "alien_2 = {'color': 'red', 'points': 15}\n",
        "\n",
        "aliens = [alien_0, alien_1, alien_2]\n",
        "\n",
        "for alien in aliens:\n",
        "  print(alien)"
      ],
      "metadata": {
        "colab": {
          "base_uri": "https://localhost:8080/"
        },
        "id": "P0XzWuASkTYc",
        "outputId": "30129e22-b56d-4361-b340-6e6e1403d0e7"
      },
      "execution_count": null,
      "outputs": [
        {
          "output_type": "stream",
          "name": "stdout",
          "text": [
            "{'color': 'green', 'points': 5}\n",
            "{'color': 'yellow', 'points': 10}\n",
            "{'color': 'red', 'points': 15}\n"
          ]
        }
      ]
    },
    {
      "cell_type": "code",
      "source": [
        "# Make an empty list ofr storing aliens\n",
        "aliens = []\n",
        "\n",
        "# Make 30 green aliens\n",
        "for alien_number in range(30): # The range function here tells us how many times we want the loop to repeat itself\n",
        "  new_alien = {'color': 'green', 'points': 5, 'speed': 'slow'}\n",
        "  aliens.append(new_alien)\n",
        "\n",
        "# Show the first 5 aliens\n",
        "for alien in aliens[:5]: # we use a slice here :5\n",
        "  print(alien)\n",
        "print(\"...\")\n",
        "\n",
        "#Show how many aliens have been created\n",
        "print(f\"Total number of aliens: {str(len(aliens))}\")"
      ],
      "metadata": {
        "colab": {
          "base_uri": "https://localhost:8080/"
        },
        "id": "mCsZEZ55uAv-",
        "outputId": "d0636926-3d29-4872-febc-c59ec78d50f0"
      },
      "execution_count": null,
      "outputs": [
        {
          "output_type": "stream",
          "name": "stdout",
          "text": [
            "{'color': 'green', 'points': 5, 'speed': 'slow'}\n",
            "{'color': 'green', 'points': 5, 'speed': 'slow'}\n",
            "{'color': 'green', 'points': 5, 'speed': 'slow'}\n",
            "{'color': 'green', 'points': 5, 'speed': 'slow'}\n",
            "{'color': 'green', 'points': 5, 'speed': 'slow'}\n",
            "...\n",
            "Total number of aliens: 30\n"
          ]
        }
      ]
    },
    {
      "cell_type": "code",
      "source": [
        "# Change the color, points and speed of the first 3 aliens\n",
        "aliens = []\n",
        "\n",
        "for alien_number in range(0, 5):\n",
        "  new_alien = {'color': 'green', 'points': 5, 'speed': 'slow'}\n",
        "  aliens.append(new_alien)\n",
        "for alien_number in range(0,5):\n",
        "  new_alien_2 = {'color': 'yellow', 'points': 10, \"speed\": 'fast'}\n",
        "  aliens.append(new_alien_2)\n",
        "\n",
        "for alien in aliens[0:10]:\n",
        "  if alien['color'] == 'green':\n",
        "    alien['color'] = 'yellow'\n",
        "    alien['speed'] = 'medium'\n",
        "    alien['points'] = 10\n",
        "  elif alien['color'] == 'yellow':\n",
        "    alien['color'] = 'red'\n",
        "    alien['points'] = 15\n",
        "    alien['speed'] = 'fast'\n",
        "\n",
        "# Show the fist 5 aliens\n",
        "for alien in aliens[0:10]:\n",
        "  print(alien)\n",
        "print(\"...\")"
      ],
      "metadata": {
        "colab": {
          "base_uri": "https://localhost:8080/"
        },
        "id": "B4anaBalvW4u",
        "outputId": "51134397-170e-4a98-f7cc-748751b7bcb7"
      },
      "execution_count": null,
      "outputs": [
        {
          "output_type": "stream",
          "name": "stdout",
          "text": [
            "{'color': 'yellow', 'points': 10, 'speed': 'medium'}\n",
            "{'color': 'yellow', 'points': 10, 'speed': 'medium'}\n",
            "{'color': 'yellow', 'points': 10, 'speed': 'medium'}\n",
            "{'color': 'yellow', 'points': 10, 'speed': 'medium'}\n",
            "{'color': 'yellow', 'points': 10, 'speed': 'medium'}\n",
            "{'color': 'red', 'points': 15, 'speed': 'fast'}\n",
            "{'color': 'red', 'points': 15, 'speed': 'fast'}\n",
            "{'color': 'red', 'points': 15, 'speed': 'fast'}\n",
            "{'color': 'red', 'points': 15, 'speed': 'fast'}\n",
            "{'color': 'red', 'points': 15, 'speed': 'fast'}\n",
            "...\n"
          ]
        }
      ]
    },
    {
      "cell_type": "code",
      "source": [
        "# practicing conceptual understanding of storing dictionaries in lists\n",
        "\n",
        "people = {\n",
        "    'andy': 'python',\n",
        "    'jake': 'scala',\n",
        "    'jacob': 'pearl',\n",
        "    'emily': 'java'\n",
        "    }\n",
        "\n",
        "other_people = {\n",
        "    'devin': 'c++',\n",
        "    'george': 'c sharp',\n",
        "    'eddie': 'python',\n",
        "    'jake': 'scala'\n",
        "    }\n",
        "\n",
        "# another way of adding other people dictionary to a list\n",
        "more_freinds = []\n",
        "for v in other_people.values():\n",
        "  more_freinds.append(v)\n",
        "\n",
        "my_freinds = [sorted(people.items())]\n",
        "print(my_freinds)\n",
        "print(\"\\n----------------------\\n\")\n",
        "for k, v in sorted(set(people.items())):\n",
        "  print(f\"My frined {k.title()} likes to use {v.title()}.\")\n",
        "\n",
        "for k, v in other_people.items():\n",
        "  if k not in people:\n",
        "    print(f\"I have another friend named {k.title()}, and they like using {v.title()}\")"
      ],
      "metadata": {
        "id": "reYGZfwhxkzI",
        "colab": {
          "base_uri": "https://localhost:8080/"
        },
        "outputId": "c37b9a37-0d2b-4342-8e52-4c74c6bcb565"
      },
      "execution_count": null,
      "outputs": [
        {
          "output_type": "stream",
          "name": "stdout",
          "text": [
            "[[('andy', 'python'), ('emily', 'java'), ('jacob', 'pearl'), ('jake', 'scala')]]\n",
            "\n",
            "----------------------\n",
            "\n",
            "My frined Andy likes to use Python.\n",
            "My frined Emily likes to use Java.\n",
            "My frined Jacob likes to use Pearl.\n",
            "My frined Jake likes to use Scala.\n",
            "I have another friend named Devin, and they like using C++\n",
            "I have another friend named George, and they like using C Sharp\n",
            "I have another friend named Eddie, and they like using Python\n"
          ]
        }
      ]
    },
    {
      "cell_type": "markdown",
      "source": [
        "* New way of placing a list inside of a dictionary"
      ],
      "metadata": {
        "id": "B1FDe6ZvGPGo"
      }
    },
    {
      "cell_type": "code",
      "source": [
        "# Store information about a pizza being ordered.\n",
        "pizza = {\n",
        "    'crust': 'thick',\n",
        "    'toppings': ['mushrooms', 'extra cheese'],\n",
        "}\n",
        "\n",
        "# Summarize the order\n",
        "print(f\"You ordered a {pizza['crust']} crust pizza with the following toppings:\")\n",
        "for topping in pizza['toppings']:\n",
        "  print(f\"\\t{topping.lower()}\")"
      ],
      "metadata": {
        "colab": {
          "base_uri": "https://localhost:8080/"
        },
        "id": "UC78nkisBDyS",
        "outputId": "b5401232-1df1-4ded-ae55-d2c487bdcfd4"
      },
      "execution_count": null,
      "outputs": [
        {
          "output_type": "stream",
          "name": "stdout",
          "text": [
            "You ordered a thick crust pizza with the following toppings:\n",
            "\tmushrooms\n",
            "\textra cheese\n"
          ]
        }
      ]
    },
    {
      "cell_type": "code",
      "source": [
        "person = {\n",
        "    'name': 'Brandon',\n",
        "    'favoite tv shows': ['peaky blinders', 'dark', 'mad men'],\n",
        "    'age': 28\n",
        "    }\n",
        "\n",
        "print(f\"My name is {str(person['name'].title())}, heren are a few things about me.\\n\")\n",
        "for values in person.keys():\n",
        "  print(f\"{values.title()}\")"
      ],
      "metadata": {
        "id": "hzA6uy7YGLTK",
        "outputId": "282be951-6dae-4e73-a084-d7224c2efd3c",
        "colab": {
          "base_uri": "https://localhost:8080/"
        }
      },
      "execution_count": 3,
      "outputs": [
        {
          "output_type": "stream",
          "name": "stdout",
          "text": [
            "My name is Brandon, heren are a few things about me.\n",
            "\n",
            "Name\n",
            "Favoite Tv Shows\n",
            "Age\n"
          ]
        }
      ]
    },
    {
      "cell_type": "code",
      "source": [],
      "metadata": {
        "id": "8L1__XJBx4Wv"
      },
      "execution_count": null,
      "outputs": []
    }
  ]
}