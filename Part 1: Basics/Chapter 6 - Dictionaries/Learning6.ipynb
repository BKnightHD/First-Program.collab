{
  "nbformat": 4,
  "nbformat_minor": 0,
  "metadata": {
    "colab": {
      "provenance": [],
      "authorship_tag": "ABX9TyMP9TpRQ+6p1C4xjOqbJJBu",
      "include_colab_link": true
    },
    "kernelspec": {
      "name": "python3",
      "display_name": "Python 3"
    },
    "language_info": {
      "name": "python"
    }
  },
  "cells": [
    {
      "cell_type": "markdown",
      "metadata": {
        "id": "view-in-github",
        "colab_type": "text"
      },
      "source": [
        "<a href=\"https://colab.research.google.com/github/BKnightHD/Python-CC/blob/main/Copy_of_Learning6.ipynb\" target=\"_parent\"><img src=\"https://colab.research.google.com/assets/colab-badge.svg\" alt=\"Open In Colab\"/></a>"
      ]
    },
    {
      "cell_type": "markdown",
      "source": [
        "#Chapter 6 - Dictionaries"
      ],
      "metadata": {
        "id": "ltilZoJuEg_r"
      }
    },
    {
      "cell_type": "code",
      "execution_count": null,
      "metadata": {
        "colab": {
          "base_uri": "https://localhost:8080/"
        },
        "id": "fB53blHmEH-S",
        "outputId": "47d19cca-eb5a-4c04-9369-9799cac17cea"
      },
      "outputs": [
        {
          "output_type": "stream",
          "name": "stdout",
          "text": [
            "green\n",
            "5\n",
            "red\n",
            "You just earned 5 points!\n",
            "{'color': 'green', 'points': 5, 'y_position': 25, 'x_position': 0}\n"
          ]
        }
      ],
      "source": [
        "alien_0 = {'color': 'green', 'points': 5} # The dictionary alien_0 stored the alien's color and point value.\n",
        "\n",
        "print(alien_0['color']) # These two print statements access and display that information\n",
        "print(alien_0['points'])\n",
        "\n",
        "# A dictionary in Python is a collection of key-value pairs. Each key is connected to a value.\n",
        "\n",
        "alien_1 = {'color': 'red'} # Simple dictionary with one key value pair -- color : red\n",
        "print(alien_1['color'])\n",
        "\n",
        "new_points = alien_0['points']\n",
        "print(f\"You just earned {str(new_points)} points!\")\n",
        "\n",
        "alien_0['y_position'] = 25\n",
        "alien_0['x_position'] = 0\n",
        "print(alien_0)"
      ]
    },
    {
      "cell_type": "code",
      "source": [
        "# Starting with an empty dictionary\n",
        "alien_0 = {}\n",
        "alien_0['color'] = 'green'\n",
        "alien_0['points'] = 5\n",
        "\n",
        "print(alien_0)"
      ],
      "metadata": {
        "id": "Yl9vXmrjo9k5",
        "outputId": "1290fb56-354e-46bd-822a-3df47e343ba9",
        "colab": {
          "base_uri": "https://localhost:8080/"
        }
      },
      "execution_count": null,
      "outputs": [
        {
          "output_type": "stream",
          "name": "stdout",
          "text": [
            "{'color': 'green', 'points': 5}\n"
          ]
        }
      ]
    },
    {
      "cell_type": "code",
      "source": [],
      "metadata": {
        "id": "x3UXcyqBpX64"
      },
      "execution_count": null,
      "outputs": []
    }
  ]
}