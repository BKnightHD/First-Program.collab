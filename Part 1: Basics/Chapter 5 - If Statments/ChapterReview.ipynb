{
  "nbformat": 4,
  "nbformat_minor": 0,
  "metadata": {
    "colab": {
      "provenance": [],
      "authorship_tag": "ABX9TyN5cBnO0uxd8dvKv8dhrnUG",
      "include_colab_link": true
    },
    "kernelspec": {
      "name": "python3",
      "display_name": "Python 3"
    },
    "language_info": {
      "name": "python"
    }
  },
  "cells": [
    {
      "cell_type": "markdown",
      "metadata": {
        "id": "view-in-github",
        "colab_type": "text"
      },
      "source": [
        "<a href=\"https://colab.research.google.com/github/BKnightHD/Python-CC/blob/main/Part%201%3A%20Basics/Chapter%205%20-%20If%20Statments/ChapterReview.ipynb\" target=\"_parent\"><img src=\"https://colab.research.google.com/assets/colab-badge.svg\" alt=\"Open In Colab\"/></a>"
      ]
    },
    {
      "cell_type": "code",
      "execution_count": null,
      "metadata": {
        "colab": {
          "base_uri": "https://localhost:8080/"
        },
        "id": "G4OxOWPLDvwm",
        "outputId": "9b46e4e9-1a14-4cc5-b264-82d04880cf55"
      },
      "outputs": [
        {
          "output_type": "stream",
          "name": "stdout",
          "text": [
            "Audi\n",
            "Bmw\n",
            "Subaru\n",
            "Toyota\n",
            "------\n",
            "\n",
            "Audi\n",
            "Ah you hve a BMW, I love those!\n",
            "Subaru\n",
            "Toyota\n",
            "------\n",
            "\n"
          ]
        }
      ],
      "source": [
        "# print the values in car list\n",
        "cars = ['audi', 'bmw', 'subaru', 'toyota']\n",
        "for car in cars:\n",
        "  print(f\"{car.title()}\")\n",
        "print(\"------\\n\")\n",
        "\n",
        "# if statement embeded in for loop for conditioning\n",
        "cars = ['audi', 'bmw', 'subaru', 'toyota']\n",
        "for car in cars:\n",
        "  if car =='bmw':\n",
        "    print(f\"Ah you hve a {car.upper()}, I love those!\")\n",
        "  else:\n",
        "    print(f\"{car.title()}\")\n",
        "print(\"------\\n\")\n",
        "\n",
        "# If statements are basiclly conditional tests, that is, they test whether something is TRUE or FALSE"
      ]
    },
    {
      "cell_type": "code",
      "source": [
        "# Here, we are checking for equality\n",
        "cars = 'bmw'\n",
        "cars == 'bmw' # (==) is the quality operator, it returns TRUE or FALSE for the argument."
      ],
      "metadata": {
        "colab": {
          "base_uri": "https://localhost:8080/"
        },
        "id": "5z9HDfBLEW8E",
        "outputId": "5263b8c6-dfe5-49f2-e1d2-21db5f0b2e3e"
      },
      "execution_count": null,
      "outputs": [
        {
          "output_type": "execute_result",
          "data": {
            "text/plain": [
              "True"
            ]
          },
          "metadata": {},
          "execution_count": 13
        }
      ]
    },
    {
      "cell_type": "code",
      "source": [
        "cars = 'adui' # \"Set the value = to audi\"\n",
        "cars == 'bmw' # \"Is the value = to bmw?\""
      ],
      "metadata": {
        "colab": {
          "base_uri": "https://localhost:8080/"
        },
        "id": "X3phLubJF6gz",
        "outputId": "22027fe3-5cc2-42f1-d18e-3fde4d539127"
      },
      "execution_count": null,
      "outputs": [
        {
          "output_type": "execute_result",
          "data": {
            "text/plain": [
              "False"
            ]
          },
          "metadata": {},
          "execution_count": 20
        }
      ]
    },
    {
      "cell_type": "markdown",
      "source": [
        "### Converting the test to lowercase now matter the answer given"
      ],
      "metadata": {
        "id": "oewgxgj-HtX9"
      }
    },
    {
      "cell_type": "code",
      "source": [
        "# Sometimes case matter, sometimes it doesnt, if it doesn't you can convert the variables assigned valye to lower before doing the comparison\n",
        "car = 'Audi'\n",
        "car.lower() == 'audi' # converting the answer given to lowercase, no matter the input"
      ],
      "metadata": {
        "colab": {
          "base_uri": "https://localhost:8080/"
        },
        "id": "IavwQvvGGDoB",
        "outputId": "5afcf41b-ae1e-4106-9a5e-8352230a31e7"
      },
      "execution_count": null,
      "outputs": [
        {
          "output_type": "execute_result",
          "data": {
            "text/plain": [
              "True"
            ]
          },
          "metadata": {},
          "execution_count": 19
        }
      ]
    },
    {
      "cell_type": "code",
      "source": [
        "car"
      ],
      "metadata": {
        "colab": {
          "base_uri": "https://localhost:8080/",
          "height": 36
        },
        "id": "2U7DfJ6WG8MN",
        "outputId": "e9942531-da9d-4108-b444-0988edecd1e6"
      },
      "execution_count": null,
      "outputs": [
        {
          "output_type": "execute_result",
          "data": {
            "text/plain": [
              "'Audi'"
            ],
            "application/vnd.google.colaboratory.intrinsic+json": {
              "type": "string"
            }
          },
          "metadata": {},
          "execution_count": 22
        }
      ]
    },
    {
      "cell_type": "code",
      "source": [
        "# Checking for inequality\n",
        "requested_topping = 'mushrooms'\n",
        "\n",
        "if requested_topping != 'anchovies':\n",
        "  print(\"Hold the anchovies\")"
      ],
      "metadata": {
        "colab": {
          "base_uri": "https://localhost:8080/"
        },
        "id": "HZa3R_GcH7CC",
        "outputId": "9d53c541-b542-42d8-d027-19ad41dcbbd4"
      },
      "execution_count": null,
      "outputs": [
        {
          "output_type": "stream",
          "name": "stdout",
          "text": [
            "Hold the anchovies\n"
          ]
        }
      ]
    },
    {
      "cell_type": "code",
      "source": [
        "# Testing numerical values\n",
        "age = 18\n",
        "age == 17"
      ],
      "metadata": {
        "colab": {
          "base_uri": "https://localhost:8080/"
        },
        "id": "vifiDz81Iedl",
        "outputId": "39eb2e0e-b210-4a17-90bc-c45648dcae29"
      },
      "execution_count": null,
      "outputs": [
        {
          "output_type": "execute_result",
          "data": {
            "text/plain": [
              "False"
            ]
          },
          "metadata": {},
          "execution_count": 24
        }
      ]
    },
    {
      "cell_type": "code",
      "source": [
        "answer = 17\n",
        "# Testing to see if answer given is correct\n",
        "if answer != 42:\n",
        "  print(f\"Sorry, {answer} is not the correct answer. Please try again!\")"
      ],
      "metadata": {
        "colab": {
          "base_uri": "https://localhost:8080/"
        },
        "id": "4m7g-un9JCfE",
        "outputId": "f3f25e0a-02a4-42fa-806f-d6237d67692a"
      },
      "execution_count": null,
      "outputs": [
        {
          "output_type": "stream",
          "name": "stdout",
          "text": [
            "Sorry, 17 is not the correct answer. Please try again!\n"
          ]
        }
      ]
    },
    {
      "cell_type": "markdown",
      "source": [
        "### Mathematical comparisons"
      ],
      "metadata": {
        "id": "2iMWdQxeJkzD"
      }
    },
    {
      "cell_type": "code",
      "source": [
        "age = 19\n",
        "age < 21"
      ],
      "metadata": {
        "colab": {
          "base_uri": "https://localhost:8080/"
        },
        "id": "eI1fOHUOJUTz",
        "outputId": "2d5b7992-7bb9-47e8-b6d1-d3c34d84503e"
      },
      "execution_count": null,
      "outputs": [
        {
          "output_type": "execute_result",
          "data": {
            "text/plain": [
              "True"
            ]
          },
          "metadata": {},
          "execution_count": 26
        }
      ]
    },
    {
      "cell_type": "code",
      "source": [
        "age <= 21"
      ],
      "metadata": {
        "colab": {
          "base_uri": "https://localhost:8080/"
        },
        "id": "S1qlye-iJfTD",
        "outputId": "f27e7fde-31e2-4b6e-9caa-c612c8da0d88"
      },
      "execution_count": null,
      "outputs": [
        {
          "output_type": "execute_result",
          "data": {
            "text/plain": [
              "True"
            ]
          },
          "metadata": {},
          "execution_count": 27
        }
      ]
    },
    {
      "cell_type": "code",
      "source": [
        "age > 21"
      ],
      "metadata": {
        "colab": {
          "base_uri": "https://localhost:8080/"
        },
        "id": "Jd_4or4NJhQz",
        "outputId": "7201b6b4-319b-4bd6-af0a-8b84132a365a"
      },
      "execution_count": null,
      "outputs": [
        {
          "output_type": "execute_result",
          "data": {
            "text/plain": [
              "False"
            ]
          },
          "metadata": {},
          "execution_count": 28
        }
      ]
    },
    {
      "cell_type": "code",
      "source": [
        "age >= 21"
      ],
      "metadata": {
        "colab": {
          "base_uri": "https://localhost:8080/"
        },
        "id": "XQBnNmQUJiax",
        "outputId": "781c4dcd-3ff5-46a7-cdd2-ea1d18bb92a2"
      },
      "execution_count": null,
      "outputs": [
        {
          "output_type": "execute_result",
          "data": {
            "text/plain": [
              "False"
            ]
          },
          "metadata": {},
          "execution_count": 29
        }
      ]
    },
    {
      "cell_type": "markdown",
      "source": [
        "### AND conditional testing"
      ],
      "metadata": {
        "id": "fUpxgLiaJ24r"
      }
    },
    {
      "cell_type": "code",
      "source": [
        "# Checking multiple conditions\n",
        "age_0 = 22\n",
        "age_1 = 18\n",
        "age_0 >= 21 and age_1 >=21"
      ],
      "metadata": {
        "colab": {
          "base_uri": "https://localhost:8080/"
        },
        "id": "bs6W0KKPJj5j",
        "outputId": "bf7f5247-17e6-4473-ee6e-2cadea06dec9"
      },
      "execution_count": null,
      "outputs": [
        {
          "output_type": "execute_result",
          "data": {
            "text/plain": [
              "False"
            ]
          },
          "metadata": {},
          "execution_count": 31
        }
      ]
    },
    {
      "cell_type": "code",
      "source": [
        "age_1 = 22\n",
        "age_0 >= 21 and age_1 >= 21"
      ],
      "metadata": {
        "colab": {
          "base_uri": "https://localhost:8080/"
        },
        "id": "i4gguVnMJ1rz",
        "outputId": "4e68054b-3353-45db-b6e4-f9ef5e007716"
      },
      "execution_count": null,
      "outputs": [
        {
          "output_type": "execute_result",
          "data": {
            "text/plain": [
              "True"
            ]
          },
          "metadata": {},
          "execution_count": 32
        }
      ]
    },
    {
      "cell_type": "markdown",
      "source": [
        "##Self test for understanding\n",
        "* I want to generate a random age for a freind between the ages 27 and 29.\n",
        "* I also want to generate a random name for my freind\n",
        "* Then I want to print a statement telling me weather or not the freind is older than me\n",
        "* I want this to be a loop a random number everytime so the answers can be difffernt anytime I run the program."
      ],
      "metadata": {
        "id": "AITTzRzOKild"
      }
    },
    {
      "cell_type": "code",
      "source": [
        "# First I'll set my age\n",
        "my_age = 28\n",
        "\n",
        "# Import random package\n",
        "import random\n",
        "\n",
        "freind_name = ['ellis', \"giusseppe\", 'andy', 'eddie' ]\n",
        "#set freinds age to random value\n",
        "freind_age = random.choice(range(27, 30))\n",
        "freind_name_choice = random.choice(freind_name)\n",
        "print(f\"My age is {my_age}\")\n",
        "if freind_age > my_age:\n",
        "   print(f\"My freind {freind_name_choice.title()} is {freind_age}, so he's older than me.\")\n",
        "elif freind_age < my_age:\n",
        "   print(f\"My freind {freind_name_choice.title()} is {freind_age}, so he's younger than me.\")\n",
        "elif freind_age == my_age:\n",
        "   print(f\"My friend {freind_name_choice.title()} is {freind_age}, so we're the same age.\")"
      ],
      "metadata": {
        "colab": {
          "base_uri": "https://localhost:8080/"
        },
        "id": "68qj3klZKXBk",
        "outputId": "c96ba795-580a-4ae0-c579-44d21732587a"
      },
      "execution_count": null,
      "outputs": [
        {
          "output_type": "stream",
          "name": "stdout",
          "text": [
            "My age is 28\n",
            "My freind Ellis is 29, so he's older than me.\n"
          ]
        }
      ]
    },
    {
      "cell_type": "markdown",
      "source": [
        "### OR conditional testing"
      ],
      "metadata": {
        "id": "VWt_aPmBe3FQ"
      }
    },
    {
      "cell_type": "code",
      "source": [
        "age_0 = 22\n",
        "age_1 = 18\n",
        "age_0 >= 21 or age_1 >= 21"
      ],
      "metadata": {
        "id": "lgspsqK7QNE5",
        "colab": {
          "base_uri": "https://localhost:8080/"
        },
        "outputId": "1db59638-1687-488e-81a8-c096721b3a2b"
      },
      "execution_count": null,
      "outputs": [
        {
          "output_type": "execute_result",
          "data": {
            "text/plain": [
              "True"
            ]
          },
          "metadata": {},
          "execution_count": 75
        }
      ]
    },
    {
      "cell_type": "code",
      "source": [
        "# Checking if value is in a list. IN argument\n",
        "requested_toppings = ['mushrooms', 'onions', 'pianeapple']\n",
        "'mushrooms' in requested_toppings"
      ],
      "metadata": {
        "colab": {
          "base_uri": "https://localhost:8080/"
        },
        "id": "jGR-J3ndetuK",
        "outputId": "6910b61c-ceb7-43c8-d19d-33555e857e11"
      },
      "execution_count": null,
      "outputs": [
        {
          "output_type": "execute_result",
          "data": {
            "text/plain": [
              "True"
            ]
          },
          "metadata": {},
          "execution_count": 76
        }
      ]
    },
    {
      "cell_type": "code",
      "source": [
        "# Checking if value is in a list. IN argument\n",
        "requested_toppings = ['mushrooms', 'onions', 'pianeapple']\n",
        "'pepperoni' in requested_toppings"
      ],
      "metadata": {
        "colab": {
          "base_uri": "https://localhost:8080/"
        },
        "id": "h9Tsa4le2dwS",
        "outputId": "b8f03af4-e717-4a35-c341-234a917d0f7a"
      },
      "execution_count": null,
      "outputs": [
        {
          "output_type": "execute_result",
          "data": {
            "text/plain": [
              "False"
            ]
          },
          "metadata": {},
          "execution_count": 78
        }
      ]
    },
    {
      "cell_type": "markdown",
      "source": [
        "### NOT IN argument"
      ],
      "metadata": {
        "id": "TbhxPc1H3x3-"
      }
    },
    {
      "cell_type": "code",
      "source": [
        "banned_users = ['andrew', 'carolina', 'david']\n",
        "user = 'marie'\n",
        "\n",
        "if user not in banned_users:\n",
        "  print(user.title() + \", you can post a response if you wish.\")"
      ],
      "metadata": {
        "colab": {
          "base_uri": "https://localhost:8080/"
        },
        "id": "6WAmkXuO2_aX",
        "outputId": "d033b85a-999f-46c5-d11e-69c53d55f955"
      },
      "execution_count": null,
      "outputs": [
        {
          "output_type": "stream",
          "name": "stdout",
          "text": [
            "Marie, you can post a response if you wish.\n"
          ]
        }
      ]
    },
    {
      "cell_type": "markdown",
      "source": [
        "###Practice\n",
        "* Random choice from list and check if it's in other list.\n",
        "* Print different statments for each case"
      ],
      "metadata": {
        "id": "JpnrqZ974NnF"
      }
    },
    {
      "cell_type": "code",
      "source": [
        "#import packages\n",
        "import random\n",
        "# Checking my understanding with NOT IN arguemnt\n",
        "people = ['kathy', 'jim', 'austin', 'emily']\n",
        "users = ['john', 'austin', 'jerry', 'kathy', 'andy', 'justin']\n",
        "\n",
        "user = random.choice(users)\n",
        "if user not in people: # NOT IN argument utlization\n",
        "  print(f\"Sorry, the name {user.title()} chosen from second list, is not in the first list\")\n",
        "else:\n",
        "  print(f\"There is a match! The name {user.title()} is in both lists.\")"
      ],
      "metadata": {
        "colab": {
          "base_uri": "https://localhost:8080/"
        },
        "id": "GkKbAt0d3Zp3",
        "outputId": "d21d7db6-21a1-47a5-b9fe-5763c8d1bd1d"
      },
      "execution_count": null,
      "outputs": [
        {
          "output_type": "stream",
          "name": "stdout",
          "text": [
            "There is a match! The name Kathy is in both lists.\n"
          ]
        }
      ]
    },
    {
      "cell_type": "code",
      "source": [
        "#import packages\n",
        "import random\n",
        "# Checking my understanding with NOT IN arguemnt\n",
        "people = ['kathy', 'jim', 'austin', 'emily']\n",
        "users = ['john', 'austin', 'jerry', 'kathy', 'andy', 'justin']\n",
        "\n",
        "user = random.choice(users)\n",
        "\n",
        "for user in users: # Adding for, iterates this argument multiple times\n",
        "\n",
        "  if user not in people: # NOT IN argument utlization\n",
        "    print(f\"Sorry, the name {user.title()} chosen from second list, is not in the first list\")\n",
        "  else:\n",
        "    print(f\"There is a match! The name {user.title()} is in both lists.\")"
      ],
      "metadata": {
        "colab": {
          "base_uri": "https://localhost:8080/"
        },
        "id": "CD4oio-r45Sf",
        "outputId": "221555d0-65a5-467f-9da8-eda1fc1a9861"
      },
      "execution_count": null,
      "outputs": [
        {
          "output_type": "stream",
          "name": "stdout",
          "text": [
            "Sorry, the name John chosen from second list, is not in the first list\n",
            "There is a match! The name Austin is in both lists.\n",
            "Sorry, the name Jerry chosen from second list, is not in the first list\n",
            "There is a match! The name Kathy is in both lists.\n",
            "Sorry, the name Andy chosen from second list, is not in the first list\n",
            "Sorry, the name Justin chosen from second list, is not in the first list\n"
          ]
        }
      ]
    },
    {
      "cell_type": "code",
      "source": [
        "age = 19\n",
        "if age >= 18:\n",
        "  print(\"You are old enough to vote\")"
      ],
      "metadata": {
        "colab": {
          "base_uri": "https://localhost:8080/"
        },
        "id": "SsLToP-u5XPW",
        "outputId": "9ce8c08a-8ac4-4d86-ce57-ab108b1c7512"
      },
      "execution_count": null,
      "outputs": [
        {
          "output_type": "stream",
          "name": "stdout",
          "text": [
            "You are old enough to vote\n"
          ]
        }
      ]
    },
    {
      "cell_type": "code",
      "source": [
        "age = 17\n",
        "if age >= 18:\n",
        "  print(f\"You are {age}, so you are old enough to vote\")\n",
        "else:\n",
        "  print(f\"Sorry, you are {age}, you are too young to vote.\")\n",
        "  print(\"Please register to vote as soon as you turn 18!\")"
      ],
      "metadata": {
        "colab": {
          "base_uri": "https://localhost:8080/"
        },
        "id": "h7U9poj3653U",
        "outputId": "1c2215e9-d32b-4d44-dba1-172cb862b8c1"
      },
      "execution_count": null,
      "outputs": [
        {
          "output_type": "stream",
          "name": "stdout",
          "text": [
            "Sorry, you are 17, you are too young to vote.\n",
            "Please register to vote as soon as you turn 18!\n"
          ]
        }
      ]
    },
    {
      "cell_type": "markdown",
      "source": [
        "#Strucutres of if statements\n",
        "* if-else - Only two possible situations to evaluate\n",
        "* if-elif-else - more than two possile situations to evaluate"
      ],
      "metadata": {
        "id": "PUVjHvHppcvc"
      }
    },
    {
      "cell_type": "code",
      "source": [
        "# Lets say we want to set conditions based on 3 possible situations\n",
        "# 1. Admission for anyone under the age 4 is free\n",
        "# 2. Admission for anyone between the ages of 4 and 18 is $5\n",
        "# 3. Admission for anyone age 18 or older is $10.\n",
        "import random\n",
        "age = range(1, 32)\n",
        "age_of_person = random.choice(age)\n",
        "if age_of_person < 4:\n",
        "  price = 'free'\n",
        "  print(f\"You are {int(age_of_person)}, you're ticket is {str(price.upper())}\")\n",
        "elif age_of_person >=4 and age_of_person < 18:\n",
        "  price = 5\n",
        "  print(f\"You are {int(age_of_person)} , your ticket price is ${(price)}.\")\n",
        "else:\n",
        "  price = 10\n",
        "  print(f\"You are {int(age_of_person)} , your ticket price is ${(price)}.\")"
      ],
      "metadata": {
        "id": "5UUZzH0X7YmC",
        "colab": {
          "base_uri": "https://localhost:8080/"
        },
        "outputId": "ec5d12b0-e45c-4f83-9162-df6e9553b19c"
      },
      "execution_count": null,
      "outputs": [
        {
          "output_type": "stream",
          "name": "stdout",
          "text": [
            "You are 11 , your ticket price is $5.\n"
          ]
        }
      ]
    },
    {
      "cell_type": "code",
      "source": [
        "# Condenced Version\n",
        "# You can do this same program by taking the print stament out of the loop and only running it once.\n",
        "import random\n",
        "age = range(1, 32)\n",
        "age_of_person = random.choice(age)\n",
        "if age_of_person < 4:\n",
        "  price = 0\n",
        "elif age_of_person < 18:\n",
        "  price = 5\n",
        "else:\n",
        "  price = 10\n",
        "\n",
        "print(f\"You are {age_of_person} years old, your ticket is ${(price)}.\")"
      ],
      "metadata": {
        "colab": {
          "base_uri": "https://localhost:8080/"
        },
        "id": "is0hFmeuq-u0",
        "outputId": "75645ef3-75fd-4adf-bb7d-9de68243aaf2"
      },
      "execution_count": null,
      "outputs": [
        {
          "output_type": "stream",
          "name": "stdout",
          "text": [
            "You are 9 years old, your ticket is $5.\n"
          ]
        }
      ]
    },
    {
      "cell_type": "code",
      "source": [
        "age = 12\n",
        "\n",
        "if age < 4:\n",
        "  price = 0\n",
        "elif age < 18:\n",
        "  price = 5\n",
        "elif age < 65:\n",
        "  price = 10\n",
        "else:\n",
        "  price = 5\n",
        "\n",
        "print(\"Your admission cost is $\" + str(price) + \".\")"
      ],
      "metadata": {
        "id": "0i35vdG2tv-f",
        "outputId": "aa871b50-4046-4233-ad35-7c2d2d3c0350",
        "colab": {
          "base_uri": "https://localhost:8080/"
        }
      },
      "execution_count": null,
      "outputs": [
        {
          "output_type": "stream",
          "name": "stdout",
          "text": [
            "Your admission cost is $5.\n"
          ]
        }
      ]
    },
    {
      "cell_type": "code",
      "source": [
        "# Testing multiple Conditions\n",
        "requested_toppings = ['mushrooms', 'extra', 'extra cheese']\n",
        "\n",
        "if 'mushrooms' in requested_toppings:\n",
        "  print(\"Adding mushrooms.\")\n",
        "if 'pepperoni' in requested_toppings:\n",
        "  print(\"Adding pepperoni.\")\n",
        "if 'extra cheese' in requested_toppings:\n",
        "  print(\"Adding extra cheese.\")\n",
        "\n",
        "print(\"\\nFinished making your pizza!\")"
      ],
      "metadata": {
        "id": "eHjdzTpOziGz",
        "outputId": "e9868a44-8332-4394-efab-f4ecdb62733c",
        "colab": {
          "base_uri": "https://localhost:8080/"
        }
      },
      "execution_count": null,
      "outputs": [
        {
          "output_type": "stream",
          "name": "stdout",
          "text": [
            "Adding mushrooms.\n",
            "Adding extra cheese.\n",
            "\n",
            "Finished making your pizza!\n"
          ]
        }
      ]
    },
    {
      "cell_type": "code",
      "source": [
        "alien_color = ['green', 'yellow', 'red']\n",
        "for color in alien_color:\n",
        "  if color == 'green':\n",
        "    points = 5\n",
        "    print(f\"You shot down a {color.upper()} alien!\")\n",
        "    print(f\"You scored {points} points!\\n\")\n",
        "  else:\n",
        "    points = 0\n",
        "    print(f\"You shot down a {color.upper()} alien\")\n",
        "    print(f\"You scored {points} points!\\n\")"
      ],
      "metadata": {
        "id": "bVyRShYV0gdG",
        "colab": {
          "base_uri": "https://localhost:8080/"
        },
        "outputId": "ac7dad4c-42f9-43cd-d8a7-257c23db975d"
      },
      "execution_count": 6,
      "outputs": [
        {
          "output_type": "stream",
          "name": "stdout",
          "text": [
            "You shot down a GREEN alien!\n",
            "You scored 5 points!\n",
            "\n",
            "You shot down a YELLOW alien\n",
            "You scored 0 points!\n",
            "\n",
            "You shot down a RED alien\n",
            "You scored 0 points!\n",
            "\n"
          ]
        }
      ]
    },
    {
      "cell_type": "code",
      "source": [
        "alien_color = ['green', 'yellow', 'red']\n",
        "for color in alien_color:\n",
        "  if color == 'green':\n",
        "    points = 5\n",
        "    print(f\"You shot down a {color.upper()} alien!\")\n",
        "    print(f\"You scored {points} points!\\n\")\n",
        "  elif color == 'yellow':\n",
        "    points = 10\n",
        "    print(f\"You shot down a {color.upper()} alien!\")\n",
        "    print(f\"You scored {points} points!\\n\")\n",
        "  else:\n",
        "    points = 15\n",
        "    print(f\"You shot down a {color.upper()} alien\")\n",
        "    print(f\"You scored {points} points!\\n\")"
      ],
      "metadata": {
        "colab": {
          "base_uri": "https://localhost:8080/"
        },
        "id": "eYOpDSZAgdpP",
        "outputId": "5e9df890-a017-42d0-b937-fefc3e31a403"
      },
      "execution_count": 8,
      "outputs": [
        {
          "output_type": "stream",
          "name": "stdout",
          "text": [
            "You shot down a GREEN alien!\n",
            "You scored 5 points!\n",
            "\n",
            "You shot down a YELLOW alien!\n",
            "You scored 10 points!\n",
            "\n",
            "You shot down a RED alien\n",
            "You scored 15 points!\n",
            "\n"
          ]
        }
      ]
    },
    {
      "cell_type": "code",
      "source": [
        "import random\n",
        "age_range = range(0, 100)\n",
        "age = random.choice(age_range)\n",
        "if age < 2:\n",
        "  stage = 'baby'\n",
        "elif age >= 2 and age < 4:\n",
        "  stage = 'toddler'\n",
        "elif age >= 4 and age < 13:\n",
        "  stage = 'kid'\n",
        "elif age >= 13 and age < 20:\n",
        "  stage = 'teenager'\n",
        "elif age >= 20 and age < 65:\n",
        "  stage = 'adult'\n",
        "elif age >= 65:\n",
        "  stage = 'elder'\n",
        "\n",
        "print(f\"You are {age} years old; that makes you a {stage}.\")"
      ],
      "metadata": {
        "colab": {
          "base_uri": "https://localhost:8080/"
        },
        "id": "vn8WAljphQj-",
        "outputId": "9ba4f64a-0416-4a6e-b70e-f9ab6e6e6fd6"
      },
      "execution_count": 19,
      "outputs": [
        {
          "output_type": "stream",
          "name": "stdout",
          "text": [
            "You are 5 years old; that makes you a kid.\n"
          ]
        }
      ]
    },
    {
      "cell_type": "code",
      "source": [
        "favorite_fruits = ['orange', 'pineapple', 'apple', 'bananna', 'grapes', 'strawberry']\n",
        "other_fruits = ['dragonfruit', 'kiwi', 'blackberry', 'bananna', 'pinapple', 'tangerine']\n",
        "for fruit in other_fruits:\n",
        "  if fruit in favorite_fruits:\n",
        "    print(f\"{fruit.title()}s are in both lists.\")\n",
        "  else:\n",
        "    print(f\"{fruit.title()}s are only in the second list.\")"
      ],
      "metadata": {
        "colab": {
          "base_uri": "https://localhost:8080/"
        },
        "id": "vaH6N_DniuLt",
        "outputId": "ef5983fa-f26c-4873-9b04-91e3202bd842"
      },
      "execution_count": 26,
      "outputs": [
        {
          "output_type": "stream",
          "name": "stdout",
          "text": [
            "Dragonfruits are only in the second list.\n",
            "Kiwis are only in the second list.\n",
            "Blackberrys are only in the second list.\n",
            "Banannas are in both lists.\n",
            "Pinapples are only in the second list.\n",
            "Tangerines are only in the second list.\n"
          ]
        }
      ]
    },
    {
      "cell_type": "code",
      "source": [
        "requested_toppings = ['mushrooms', 'green peppers', 'extra cheese']\n",
        "\n",
        "for requested_topping in requested_toppings:\n",
        "  print(f\"Adding {requested_topping}.\")\n",
        "\n",
        "print(\"\\nFinished making your pizza!\")"
      ],
      "metadata": {
        "colab": {
          "base_uri": "https://localhost:8080/"
        },
        "id": "KJuLmg_3kCfi",
        "outputId": "1db41738-a6e1-40fa-b48e-5e1a3553fa98"
      },
      "execution_count": 28,
      "outputs": [
        {
          "output_type": "stream",
          "name": "stdout",
          "text": [
            "Adding mushrooms.\n",
            "Adding green peppers.\n",
            "Adding extra cheese.\n",
            "\n",
            "Finished making your pizza!\n"
          ]
        }
      ]
    },
    {
      "cell_type": "code",
      "source": [
        "available_toppings = ['mushrooms', 'olives', 'green peppers', 'pepperoni', 'pineapple', 'extra cheese']\n",
        "requested_toppings = ['mushrooms', 'french fries', 'extra cheese']\n",
        "for requested_topping in requested_toppings:\n",
        "  if requested_topping in available_toppings:\n",
        "    print(f\"Adding {requested_topping}.\")\n",
        "  else:\n",
        "    print(f\"Sorry, we dont have {requested_topping}.\")\n",
        "print(\"\\nFinished making your pizza!\")"
      ],
      "metadata": {
        "id": "WzUiFQqouZ2I",
        "outputId": "228cfee3-461f-4035-966f-7b3e1e0a3206",
        "colab": {
          "base_uri": "https://localhost:8080/"
        }
      },
      "execution_count": 30,
      "outputs": [
        {
          "output_type": "stream",
          "name": "stdout",
          "text": [
            "Adding mushrooms.\n",
            "Sorry, we dont have french fries.\n",
            "Adding extra cheese.\n",
            "\n",
            "Finished making your pizza!\n"
          ]
        }
      ]
    },
    {
      "cell_type": "code",
      "source": [
        "# 5-8\n",
        "username = ['StellarWhisper', 'MidnightJoker', 'SerenePhoenix', 'admin', 'ElectricVibes23', 'LunaCrest87']\n",
        "for name in username:\n",
        "  if name == 'admin':\n",
        "    print(f\"Hello {name.title()}, would you like to see a status report?\")\n",
        "  else:\n",
        "    print(f\"Hello {name}, thank you for logging in again.\")"
      ],
      "metadata": {
        "id": "f8aa1hOFvq1p",
        "outputId": "2ff94a69-8a8a-4e42-d7dc-8f4adc9a75b2",
        "colab": {
          "base_uri": "https://localhost:8080/"
        }
      },
      "execution_count": 32,
      "outputs": [
        {
          "output_type": "stream",
          "name": "stdout",
          "text": [
            "Hello StellarWhisper, thank you for logging in again.\n",
            "Hello MidnightJoker, thank you for logging in again.\n",
            "Hello SerenePhoenix, thank you for logging in again.\n",
            "Hello Admin, would you like to see a status report?\n",
            "Hello ElectricVibes23, thank you for logging in again.\n",
            "Hello LunaCrest87, thank you for logging in again.\n"
          ]
        }
      ]
    },
    {
      "cell_type": "code",
      "source": [
        "# 5-9\n",
        "username = []\n",
        "if name not in username:\n",
        "  print(\"We need to find some users!\")\n",
        "else:\n",
        "  print(f\"Hello {name}, thank you for logging in again.\")"
      ],
      "metadata": {
        "id": "RtSjcUhxwuIZ",
        "outputId": "6337ffb9-6b8b-4c3f-c2f5-56acb98a0599",
        "colab": {
          "base_uri": "https://localhost:8080/"
        }
      },
      "execution_count": 33,
      "outputs": [
        {
          "output_type": "stream",
          "name": "stdout",
          "text": [
            "We need to find some users!\n"
          ]
        }
      ]
    },
    {
      "cell_type": "code",
      "source": [
        "# 5-10\n",
        "current_users = ['StellarWhisper', 'MidnightJoker', 'SerenePhoenix', 'ElectricVibes23', 'LunaCrest87', 'QuantumGazer', 'AzureSerenade', 'MysticPulse21']\n",
        "new_users = ['StellarWhisper', 'LunaCrest87', 'NeonEcho', 'CrystalSky', 'ShadowWalker']\n",
        "\n",
        "# Convert current_users to lowercase\n",
        "current_users_lower = [user.lower() for user in current_users]\n",
        "\n",
        "for user in new_users:\n",
        "    # Convert each user in new_users to lowercase for comparison\n",
        "    user_lower = user.lower()\n",
        "    if user_lower in current_users_lower:\n",
        "        print(f\"The username '{user}' is not available. Please enter a new username.\")\n",
        "    else:\n",
        "        print(f\"The username '{user}' is available.\")"
      ],
      "metadata": {
        "id": "u1ffcA-GyFY4",
        "outputId": "c42b901a-e63b-48a6-8c63-72c183bec881",
        "colab": {
          "base_uri": "https://localhost:8080/"
        }
      },
      "execution_count": 39,
      "outputs": [
        {
          "output_type": "stream",
          "name": "stdout",
          "text": [
            "The username 'StellarWhisper' is not available. Please enter a new username.\n",
            "The username 'LunaCrest87' is not available. Please enter a new username.\n",
            "The username 'NeonEcho' is available.\n",
            "The username 'CrystalSky' is available.\n",
            "The username 'ShadowWalker' is available.\n"
          ]
        }
      ]
    },
    {
      "cell_type": "code",
      "source": [
        "# 5-11\n",
        "numbers = [1,2,3,4,5,6,7,8,9]\n",
        "for x in numbers:\n",
        "  if x == 1:\n",
        "    place = '1st'\n",
        "    print(f\"{x} is in {place} place.\")\n",
        "  elif x == 2:\n",
        "    place = '2nd'\n",
        "    print(f\"{x} is in {place} place.\")\n",
        "  elif x == 3:\n",
        "    place = '3rd'\n",
        "    print(f\"{x} is in {place} place.\")\n",
        "  elif x == 4:\n",
        "    place = '4th'\n",
        "    print(f\"{x} is in {place} place.\")\n",
        "  elif x == 5:\n",
        "    place = '5th'\n",
        "    print(f\"{x} is in {place} place.\")\n",
        "  elif x == 6:\n",
        "    place = '6th'\n",
        "    print(f\"{x} is in {place} place.\")\n",
        "  elif x == 7:\n",
        "    place = '7th'\n",
        "    print(f\"{x} is in {place} place.\")\n",
        "  elif x == 8:\n",
        "    place = '8th'\n",
        "    print(f\"{x} is in {place} place.\")\n",
        "  elif x == 9:\n",
        "    place = '9th'\n",
        "    print(f\"{x} is in {place} place.\")"
      ],
      "metadata": {
        "id": "Qt1p4ctgzB67",
        "outputId": "3d9b2cfb-773e-43c8-ead2-182937cf0297",
        "colab": {
          "base_uri": "https://localhost:8080/"
        }
      },
      "execution_count": 56,
      "outputs": [
        {
          "output_type": "stream",
          "name": "stdout",
          "text": [
            "1 is in 1st place.\n",
            "2 is in 2nd place.\n",
            "3 is in 3rd place.\n",
            "4 is in 4th place.\n",
            "5 is in 5th place.\n",
            "6 is in 6th place.\n",
            "7 is in 7th place.\n",
            "8 is in 8th place.\n",
            "9 is in 9th place.\n"
          ]
        }
      ]
    },
    {
      "cell_type": "code",
      "source": [],
      "metadata": {
        "id": "JkZb3xsB6XAp"
      },
      "execution_count": null,
      "outputs": []
    }
  ]
}