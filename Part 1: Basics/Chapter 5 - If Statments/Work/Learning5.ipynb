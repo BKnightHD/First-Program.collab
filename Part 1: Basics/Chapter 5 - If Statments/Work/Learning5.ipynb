{
  "nbformat": 4,
  "nbformat_minor": 0,
  "metadata": {
    "colab": {
      "provenance": [],
      "authorship_tag": "ABX9TyPUhnmq/y2E9bspWC0lVpdo",
      "include_colab_link": true
    },
    "kernelspec": {
      "name": "python3",
      "display_name": "Python 3"
    },
    "language_info": {
      "name": "python"
    }
  },
  "cells": [
    {
      "cell_type": "markdown",
      "metadata": {
        "id": "view-in-github",
        "colab_type": "text"
      },
      "source": [
        "<a href=\"https://colab.research.google.com/github/BKnightHD/Python-CC/blob/main/Part%201%3A%20Basics/Chapter%205%20-%20If%20Statments/Work/Learning5.ipynb\" target=\"_parent\"><img src=\"https://colab.research.google.com/assets/colab-badge.svg\" alt=\"Open In Colab\"/></a>"
      ]
    },
    {
      "cell_type": "markdown",
      "source": [
        "# Chapter 5"
      ],
      "metadata": {
        "id": "ZjxLhlxiwLc_"
      }
    },
    {
      "cell_type": "code",
      "execution_count": null,
      "metadata": {
        "colab": {
          "base_uri": "https://localhost:8080/"
        },
        "id": "PYgMBS2EDpcl",
        "outputId": "36db0017-7013-46cf-e54b-159c9b72cb4c"
      },
      "outputs": [
        {
          "output_type": "stream",
          "name": "stdout",
          "text": [
            "[1, 4, 9, 16, 25, 36, 49, 64, 81]\n"
          ]
        }
      ],
      "source": [
        "numbers = []\n",
        "for value in range(1,10):\n",
        "  numbers.append(value**2)\n",
        "print(numbers)"
      ]
    },
    {
      "cell_type": "code",
      "source": [
        "more_numbers = [more_values**2 for more_values in range(1,10)]\n",
        "print(more_numbers)"
      ],
      "metadata": {
        "colab": {
          "base_uri": "https://localhost:8080/"
        },
        "id": "g1GFGoaQJrVZ",
        "outputId": "e5dd619b-191a-4b6e-e625-6838f063cfd4"
      },
      "execution_count": null,
      "outputs": [
        {
          "output_type": "stream",
          "name": "stdout",
          "text": [
            "[1, 4, 9, 16, 25, 36, 49, 64, 81]\n"
          ]
        }
      ]
    },
    {
      "cell_type": "markdown",
      "source": [
        "# Intro to if statements"
      ],
      "metadata": {
        "id": "w89w1rvowTNX"
      }
    },
    {
      "cell_type": "code",
      "source": [
        "cars = ['audi', 'bmw', 'subaru', 'toyota']\n",
        "for car in cars: # checks if the current value of car is 'bmw'\n",
        "  if car == 'bmw':\n",
        "    print(car.upper())\n",
        "  else:\n",
        "    print(car.title())\n",
        "# this conditional test checks whether the value of a varibale is equal to the value of interest:\n",
        "car = 'bmw' # setting the value\n",
        "print(car =='bmw') # checking if its true\n",
        "print(f\"{car =='subaru'}\\n----------\")\n",
        "\n",
        "car = 'Audi'\n",
        "print(car =='audi')\n",
        "print(car.lower() == \"audi\") # checks validation but does not change the value stored\n",
        "print(car)"
      ],
      "metadata": {
        "colab": {
          "base_uri": "https://localhost:8080/"
        },
        "id": "pzglzd09U3jC",
        "outputId": "9ea5e53b-046e-4764-f1b5-df251fe7ff3c"
      },
      "execution_count": null,
      "outputs": [
        {
          "output_type": "stream",
          "name": "stdout",
          "text": [
            "Audi\n",
            "BMW\n",
            "Subaru\n",
            "Toyota\n",
            "True\n",
            "False\n",
            "----------\n",
            "False\n",
            "True\n",
            "Audi\n"
          ]
        }
      ]
    },
    {
      "cell_type": "code",
      "source": [
        "requested_topping = 'mushrooms'\n",
        "if requested_topping != 'anchovies':\n",
        "  print(\"Hold the anchovies!\")\n",
        "\n",
        "moreideas = 'value'\n",
        "if moreideas != 'lesser':\n",
        "  print(\"More than less\")\n",
        "\n",
        "age = '18'\n",
        "age == '18' # does age equal 18, true or false?\n",
        "answer = '17'\n",
        "if answer != '42':\n",
        "  print(\"That is not the correct answer. Please try again!\")\n",
        "age = '19'\n",
        "print(age < '21')\n",
        "print(age <= '21')\n",
        "print(age > '21')\n",
        "print(age >= '21') # Each mathematical comparison can be used as part of an if statement\n",
        "\n",
        "# Checking based on multiple conditions\n",
        "age_0 = 22\n",
        "age_1 = 18\n",
        "print(age_0 >= 21 and age_1 >=21)\n",
        "# This returns false value becuase age_1 is not greater than or equal to 21\n",
        "age_1 = 22\n",
        "print(age_0 >= 21 and age_1 >= 21)\n",
        "\n",
        "# Improving readabiity\n",
        "print((age_0 >= 21) and (age_1 >= 21))"
      ],
      "metadata": {
        "id": "UUezBHNtVX1E",
        "colab": {
          "base_uri": "https://localhost:8080/"
        },
        "outputId": "6cd0825f-f847-449f-affb-b6d52f168fc6"
      },
      "execution_count": null,
      "outputs": [
        {
          "output_type": "stream",
          "name": "stdout",
          "text": [
            "Hold the anchovies!\n",
            "More than less\n",
            "That is not the correct answer. Please try again!\n",
            "True\n",
            "True\n",
            "False\n",
            "False\n",
            "False\n",
            "True\n",
            "True\n"
          ]
        }
      ]
    },
    {
      "cell_type": "markdown",
      "source": [
        "# Checking if a value is in a list\n",
        "- Making a list of toppings a customer has requested for a pizza and then checking whether or not certain toppings are in the list"
      ],
      "metadata": {
        "id": "nz2pLvwtwF7f"
      }
    },
    {
      "cell_type": "code",
      "source": [
        "requested_toppings = ['mushrooms', 'onions', 'pineapple']\n",
        "print('mushrooms' in requested_toppings) # Returns True\n",
        "print(\"pepperoni\" in requested_toppings) # Returns False\n",
        "\n",
        "# Checking if a value does not appear in a list\n",
        "banned_users = ['answer', 'carolina', 'david']\n",
        "user = 'marie'\n",
        "if user not in banned_users: # If the user is not in the banned user list, then print statement\n",
        "  print(f\"{user.title()}, you can post a response if you wish.\")"
      ],
      "metadata": {
        "id": "GN5-nROmWJaD",
        "colab": {
          "base_uri": "https://localhost:8080/"
        },
        "outputId": "0bdfe6ad-fe87-49c8-bb8a-c70b199f3c94"
      },
      "execution_count": null,
      "outputs": [
        {
          "output_type": "stream",
          "name": "stdout",
          "text": [
            "True\n",
            "False\n",
            "Marie, you can post a response if you wish.\n"
          ]
        }
      ]
    },
    {
      "cell_type": "markdown",
      "source": [
        "# Try it yourself\n",
        "* 5-1 Conditional Tests\n",
        "* 5-2 More Conditional Tests"
      ],
      "metadata": {
        "id": "hK7HJB00x75O"
      }
    },
    {
      "cell_type": "markdown",
      "source": [],
      "metadata": {
        "id": "_wSsjTx3xQvt"
      }
    },
    {
      "cell_type": "code",
      "source": [
        "car = \"kia\"\n",
        "print(\" Is car == 'kia?' I predict True.\")\n",
        "print(car == 'kia')\n",
        "\n",
        "print(\"\\nIs car =='audi'? I predict False\")\n",
        "print(car == 'audi')\n",
        "# Create at least 10 tests. Have at least 4 tests evaluate to True and another 5 tests evaluate to False\n",
        "colors = ['black', 'red', 'blue', 'green', 'yellow', 'orange']\n",
        "print( colors == 'red')\n",
        "print( colors != 'red')\n",
        "print( colors == 'blue')\n",
        "print( colors != 'blue')\n",
        "print( colors == 'green')\n",
        "print( colors != 'green')\n",
        "print( colors == 'yellow')\n",
        "print( colors != 'yellow')\n",
        "print( colors == 'orange')\n",
        "print( colors != 'orange')\n"
      ],
      "metadata": {
        "colab": {
          "base_uri": "https://localhost:8080/"
        },
        "id": "5_pn_LdXZg6a",
        "outputId": "470adf20-773f-4555-9f19-2a32e9722fc3"
      },
      "execution_count": null,
      "outputs": [
        {
          "output_type": "stream",
          "name": "stdout",
          "text": [
            " Is car == 'kia?' I predict True.\n",
            "True\n",
            "\n",
            "Is car =='audi'? I predict False\n",
            "False\n",
            "False\n",
            "True\n",
            "False\n",
            "True\n",
            "False\n",
            "True\n",
            "False\n",
            "True\n",
            "False\n",
            "True\n"
          ]
        }
      ]
    },
    {
      "cell_type": "markdown",
      "source": [
        "* Checking if item is in list\n",
        "\n",
        "  Simple If Statements\n",
        " - if *conditional_test*:\n",
        "\n",
        "      *do something*"
      ],
      "metadata": {
        "id": "SFG3uYkOxOm2"
      }
    },
    {
      "cell_type": "code",
      "source": [
        "age = 19\n",
        "if age >= 18: # Python checks to see if value of age is greather than or equal to 18.\n",
        "  print(\"You are old enough to vote!\")\n",
        "  print(\"Have you registered to vote yet?\")"
      ],
      "metadata": {
        "id": "FleonnjHxuNU",
        "outputId": "68230a8c-30e9-4a0d-e414-8d706e9f64b6",
        "colab": {
          "base_uri": "https://localhost:8080/"
        }
      },
      "execution_count": null,
      "outputs": [
        {
          "output_type": "stream",
          "name": "stdout",
          "text": [
            "You are old enough to vote!\n",
            "Have you registered to vote yet?\n"
          ]
        }
      ]
    },
    {
      "cell_type": "code",
      "source": [
        "age = 17\n",
        "\n",
        "if age >= 18:\n",
        "  print(\"You are old enough to vote!\")\n",
        "  print(\"Have you registered to vote yet?\")\n",
        "else: # if-else structure works well in situations in which you want Python to always execute one of two possible actions.\n",
        "  print(\"Sorry, you are too young to vote.\")\n",
        "  print(\"Please register to vote as soon as you turn 18!\")"
      ],
      "metadata": {
        "id": "8pl3a5rY2c-b",
        "outputId": "29ddf2ee-6f05-4345-9c61-798606f28dc3",
        "colab": {
          "base_uri": "https://localhost:8080/"
        }
      },
      "execution_count": null,
      "outputs": [
        {
          "output_type": "stream",
          "name": "stdout",
          "text": [
            "Sorry, you are too young to vote.\n",
            "Please register to vote as soon as you turn 18!\n",
            "\n",
            "----------------\n",
            "\n"
          ]
        }
      ]
    },
    {
      "cell_type": "markdown",
      "source": [
        "# Elif conditional test"
      ],
      "metadata": {
        "id": "CD5Gc5i85O5Y"
      }
    },
    {
      "cell_type": "code",
      "source": [
        "age = 12\n",
        "if age < 4:\n",
        "  print(\"Your admission cost is $0.\")\n",
        "elif age < 18:\n",
        "  print(\"Your admision cost is $25.\")\n",
        "elif age < 21:\n",
        "  print(\"Your admision cost is $35.\")\n",
        "else:\n",
        "  print(\"Your admision cost is $40.\")"
      ],
      "metadata": {
        "id": "OEdTAkiM3tJ-",
        "outputId": "89eca498-ec32-4ad5-c788-cc68a5c7c2fe",
        "colab": {
          "base_uri": "https://localhost:8080/"
        }
      },
      "execution_count": null,
      "outputs": [
        {
          "output_type": "stream",
          "name": "stdout",
          "text": [
            "Your admision cost is $25.\n"
          ]
        }
      ]
    },
    {
      "cell_type": "code",
      "source": [
        "age = 12\n",
        "if age < 4:\n",
        "  price = '$0'\n",
        "elif age < 18:\n",
        "  price = '$25'\n",
        "elif age < 21:\n",
        "  price = '$35'\n",
        "else:\n",
        "  price = '$40'\n",
        "print(f\"Your admision cost is {price}.\")"
      ],
      "metadata": {
        "id": "MPzoAwGR5MvJ",
        "outputId": "ce604e1f-5984-44c9-e482-6e3bd9eb3fe5",
        "colab": {
          "base_uri": "https://localhost:8080/"
        }
      },
      "execution_count": null,
      "outputs": [
        {
          "output_type": "stream",
          "name": "stdout",
          "text": [
            "Your admision cost is $25.\n"
          ]
        }
      ]
    },
    {
      "cell_type": "code",
      "source": [
        "age = 12\n",
        "if age < 4:\n",
        "  price = 0\n",
        "elif age < 18:\n",
        "  price = 25\n",
        "elif age < 65:\n",
        "  price = 40\n",
        "else:\n",
        "  price = 20\n",
        "print(f\"Your admission cost is {price} because you are {age} years old.\")"
      ],
      "metadata": {
        "id": "AAHYskCs6z0a",
        "colab": {
          "base_uri": "https://localhost:8080/"
        },
        "outputId": "bb12b3b3-9bca-41b5-a6f9-33259dac207a"
      },
      "execution_count": null,
      "outputs": [
        {
          "output_type": "stream",
          "name": "stdout",
          "text": [
            "Your admission cost is 25 because you are 12 years old.\n"
          ]
        }
      ]
    },
    {
      "cell_type": "code",
      "source": [
        "age = 12\n",
        "if age < 4:\n",
        "  price = 0\n",
        "elif age < 18:\n",
        "  price = 25\n",
        "elif age < 65:\n",
        "  price = 40\n",
        "elif age >= 65: #This code chunk is the same as the previous, we are just taking note that you don't always need to end the chunk with and else statement.\n",
        "  price = 20\n",
        "print(f\"Your admission cost is {price} because you are {age} years old.\")"
      ],
      "metadata": {
        "colab": {
          "base_uri": "https://localhost:8080/"
        },
        "id": "vvp7CzFF5NGy",
        "outputId": "e78bfd6e-5eba-4ccf-c364-a74cc64c84e7"
      },
      "execution_count": null,
      "outputs": [
        {
          "output_type": "stream",
          "name": "stdout",
          "text": [
            "Your admission cost is 25 because you are 12 years old.\n"
          ]
        }
      ]
    },
    {
      "cell_type": "code",
      "source": [
        "# Sometimes we need to test if more than one parameter / condition is true. For this, we simply write continual if statements to add to our conditions\n",
        "requested_toppings = ['mushrooms', 'extra cheese']\n",
        "if 'mushrooms' in requested_toppings:\n",
        "  print(\"Adding mushrooms.\")\n",
        "if 'pepperoni' in requested_toppings:\n",
        "  print(\"Adding pepperoni.\")\n",
        "if 'extra cheese' in requested_toppings:\n",
        "  print(\"Adding extra cheese.\")\n",
        "\n",
        "# The key is to note that the tests for each if condition will be tested regardless of whether or not the last test passed.\n",
        "print(\"\\nFinished making your pizza!\")\n",
        "\n",
        "# In summary, if you want only one block of code to run, use an if-elif-else chain. If mroe than one block of code needs to run, use a series of independent of statements."
      ],
      "metadata": {
        "colab": {
          "base_uri": "https://localhost:8080/"
        },
        "id": "Gei1p3_K5fcL",
        "outputId": "0006e7cb-2514-4b39-8457-5f40f7333260"
      },
      "execution_count": null,
      "outputs": [
        {
          "output_type": "stream",
          "name": "stdout",
          "text": [
            "Adding mushrooms.\n",
            "Adding extra cheese.\n",
            "\n",
            "Finished making your pizza!\n"
          ]
        }
      ]
    },
    {
      "cell_type": "markdown",
      "source": [
        "# Try if yourself\n",
        "* 5-3 Alien Colors 1\n",
        "* 5-4 Alien Colors 2\n",
        "* 5-4 Alien Colors 3\n",
        "* 5-6 Stages of Life\n",
        "* 5-7 Favorite Fruit"
      ],
      "metadata": {
        "id": "bUzjzV2E7LDQ"
      }
    },
    {
      "cell_type": "code",
      "source": [
        "alien_color = 'green'\n",
        "if alien_color == 'green':\n",
        "  print(\"You earned 5 points!\")\n",
        "\n",
        "print('\\n')\n",
        "\n",
        "# 5-3 Tests if alien color is green. If it is, then we receive points, if it isn't, then we get no points\n",
        "alien_color = 'blue'\n",
        "if alien_color == 'green':\n",
        "  print(\"You earned 5 points!\")\n",
        "elif alien_color != 'green':\n",
        "  print(\"No points recevied..\")\n",
        "\n",
        "print('\\n')\n",
        "# 5-4 Choose a color for the alien, and right an if-else chain. If green 5 points, if not green 10 points\n",
        "import random\n",
        "alien_colors = ['red', 'blue', 'green', 'yellow']\n",
        "shot = random.choice(alien_colors) # remember to assign a new variable to the random function\n",
        "if shot == 'green':\n",
        "  points = 5\n",
        "  print(f\"You shot a {shot.upper()} alien, you get {points} points!\")\n",
        "else:\n",
        "  points = 0\n",
        "  print(f\"You shot a {shot.upper()} alien, you get {points} points..\")\n",
        "print(\"\\n\\n\")\n",
        "\n",
        "\n",
        "# 5-5 Turn this into an if else chain\n",
        "import random\n",
        "type_shot = ['dunk', 'layup', 'and 1', 'j']\n",
        "real_shot = random.choice(type_shot)\n",
        "if real_shot == 'dunk':\n",
        "  print(f\"Whoah! You made a SLAM {real_shot.upper()}! \\nThat's worth 2 points!\")\n",
        "elif real_shot == 'layup':\n",
        "  print(f\"Nice, getting into the paint and making the quick {real_shot.title()}! That's worth 2 points! \\nAnd you drew the foul for the {type_shot[2].upper()} for the 3 point play!\")\n",
        "elif real_shot == 'and 1':\n",
        "  print(f\"Nice job drawing contact for the {str(real_shot.upper())}!\")\n",
        "else:\n",
        "  print(f\"Wow, looking like Steph Currey our here shooting that {real_shot.title()} from behind the arc!\")"
      ],
      "metadata": {
        "colab": {
          "base_uri": "https://localhost:8080/"
        },
        "id": "bo6-Hb8e6l7e",
        "outputId": "78c10173-6107-46d3-db1a-740bc75fbe4d"
      },
      "execution_count": null,
      "outputs": [
        {
          "output_type": "stream",
          "name": "stdout",
          "text": [
            "You earned 5 points!\n",
            "\n",
            "\n",
            "No points recevied..\n",
            "\n",
            "\n",
            "You shot a YELLOW alien, you get 0 points..\n",
            "\n",
            "\n",
            "\n",
            "Nice, getting into the paint and making the quick Layup! That's worth 2 points! \n",
            "And you drew the foul for the AND 1 for the 3 point play!\n"
          ]
        }
      ]
    },
    {
      "cell_type": "code",
      "source": [
        "requested_toppings = ['mushrooms', 'green peppers', 'extra cheese']\n",
        "\n",
        "for requested_topping in requested_toppings:\n",
        "  print(f\"Adding {requested_topping}.\")\n",
        "\n",
        "print('\\nFinished making your pizza')"
      ],
      "metadata": {
        "colab": {
          "base_uri": "https://localhost:8080/"
        },
        "id": "-qHj5rXe9arM",
        "outputId": "860bf0e7-1e96-4725-e252-cddc83c1f730"
      },
      "execution_count": null,
      "outputs": [
        {
          "output_type": "stream",
          "name": "stdout",
          "text": [
            "Adding mushrooms.\n",
            "Adding green peppers.\n",
            "Adding extra cheese.\n",
            "\n",
            "Finished making your pizza\n"
          ]
        }
      ]
    },
    {
      "cell_type": "code",
      "source": [
        "requested_toppings = ['mushrooms', 'green peppers', 'extra cheese']\n",
        "\n",
        "for requested_topping in requested_toppings:\n",
        "  if requested_topping == 'green peppers':\n",
        "    print(\"Sorry, we are out of green peppers right now.\") # This specifies a special condition in which green peppers is ran through the list\n",
        "  else:\n",
        "    print(f\"Adding {requested_topping}.\")\n",
        "\n",
        "print(\"\\nFinished making your pizza\")"
      ],
      "metadata": {
        "colab": {
          "base_uri": "https://localhost:8080/"
        },
        "id": "llkTw1NN8GLB",
        "outputId": "d673720c-c2ef-4115-a534-f5b2f3e15ab1"
      },
      "execution_count": null,
      "outputs": [
        {
          "output_type": "stream",
          "name": "stdout",
          "text": [
            "Adding mushrooms.\n",
            "Sorry, we are out of green peppers right now.\n",
            "Adding extra cheese.\n",
            "\n",
            "Finished making your pizza\n"
          ]
        }
      ]
    },
    {
      "cell_type": "code",
      "source": [
        "requested_toppings = [] # This time we start out with an empty list\n",
        "\n",
        "if requested_toppings: # This line asked if the list is true or false, depending on whether or not it has values stored in it\n",
        "\n",
        "# If it does (True), this it runs this code chunk\n",
        "  for requested_topping in requested_toppings:\n",
        "    print(f\"Adding {requested_topping}.\")\n",
        "  print(\"\\nFinished making your pizza\")\n",
        "\n",
        "# If false, then it runs this code chuck\n",
        "else:\n",
        "  print(\"Are you sure you want a plain pizza?\")"
      ],
      "metadata": {
        "colab": {
          "base_uri": "https://localhost:8080/"
        },
        "id": "pKmoFe67-a_m",
        "outputId": "e50008d5-1252-49f7-a399-9b9e28fe1e1c"
      },
      "execution_count": null,
      "outputs": [
        {
          "output_type": "stream",
          "name": "stdout",
          "text": [
            "Are you sure you want a plain pizza?\n"
          ]
        }
      ]
    },
    {
      "cell_type": "markdown",
      "source": [
        "# Try it yourself\n",
        "* 5-8 Hello Admin\n",
        "* 5-9 No Users\n",
        "* 5-10 Checking Usernames\n",
        "* 5-11 Ordinal Numbers"
      ],
      "metadata": {
        "id": "x1PKFkhpvDRs"
      }
    },
    {
      "cell_type": "code",
      "source": [
        "# 5-8 Make a list of five or more usernames, including the name 'admin'. Imagine youa re writing vcode that will print a greeting to each user after they log in to a website. Loop through the list, and print a greeting to each user\n",
        "user_names = ['detailedKING', 'blisschris', 'seandonuno', 'javierc', 'admin', 'ogprodigy', 'wetsillypuddy']\n",
        "for names in user_names:\n",
        "  if names != 'admin':\n",
        "      print(f\"Hello {names.title()}, thank you for logging in again.\")\n",
        "  else:\n",
        "        print(f\"Hello {names.upper()} would you like to see a status report?\")"
      ],
      "metadata": {
        "id": "eJVZawfx_RQX",
        "outputId": "a2206d57-5a71-4a7b-9c36-473300279c9b",
        "colab": {
          "base_uri": "https://localhost:8080/"
        }
      },
      "execution_count": null,
      "outputs": [
        {
          "output_type": "stream",
          "name": "stdout",
          "text": [
            "Hello Detailedking, thank you for logging in again.\n",
            "Hello Blisschris, thank you for logging in again.\n",
            "Hello Seandonuno, thank you for logging in again.\n",
            "Hello Javierc, thank you for logging in again.\n",
            "Hello ADMIN would you like to see a status report?\n",
            "Hello Ogprodigy, thank you for logging in again.\n",
            "Hello Wetsillypudy, thank you for logging in again.\n"
          ]
        }
      ]
    },
    {
      "cell_type": "code",
      "source": [
        "# 5-9 Add an if test to the previous example to make sure the list of users is not empty\n",
        "user_names = []\n",
        "if user_names:\n",
        "  print(\"We have users!\")\n",
        "else:\n",
        "  print(\"We need to find some users!\")"
      ],
      "metadata": {
        "id": "TtDcRpf-wuja",
        "outputId": "5d0798f5-79f1-4a0f-8546-5bfd342646c2",
        "colab": {
          "base_uri": "https://localhost:8080/"
        }
      },
      "execution_count": null,
      "outputs": [
        {
          "output_type": "stream",
          "name": "stdout",
          "text": [
            "We need to find some users!\n"
          ]
        }
      ]
    },
    {
      "cell_type": "code",
      "source": [
        "#5-10\n",
        "current_users = ['detailedKING', 'blisschris', 'seandonuno', 'javierc', 'admin', 'ogprodigy', 'wetsillypuddy']\n",
        "new_users = [\"MysticPanda12\", \"QuantumSunset\", 'seandonuno', \"ElectricZephyr\", \"MidnightWhisper\", 'wetsillypuddy' ,\"CosmicJaguar42\"]\n",
        "\n",
        "# Convert current_users to lowercase to ensure this is case insensitive\n",
        "current_users_lower = [user.lower() for user in current_users]\n",
        "for username in new_users:\n",
        "  if username in current_users_lower:\n",
        "    print(f\"Sorry, {new_users} has already been taken\")\n",
        "  else:\n",
        "    print(f\"The username {new_users} is avalible\")"
      ],
      "metadata": {
        "id": "rY7SrlvNx9ed",
        "outputId": "2b890f3f-84a5-47c4-92e5-866f84f42de8",
        "colab": {
          "base_uri": "https://localhost:8080/"
        }
      },
      "execution_count": null,
      "outputs": [
        {
          "output_type": "stream",
          "name": "stdout",
          "text": [
            "The username ['MysticPanda12', 'QuantumSunset', 'seandonuno', 'ElectricZephyr', 'MidnightWhisper', 'wetsillypuddy', 'CosmicJaguar42'] is avalible\n",
            "The username ['MysticPanda12', 'QuantumSunset', 'seandonuno', 'ElectricZephyr', 'MidnightWhisper', 'wetsillypuddy', 'CosmicJaguar42'] is avalible\n",
            "Sorry, ['MysticPanda12', 'QuantumSunset', 'seandonuno', 'ElectricZephyr', 'MidnightWhisper', 'wetsillypuddy', 'CosmicJaguar42'] has already been taken\n",
            "The username ['MysticPanda12', 'QuantumSunset', 'seandonuno', 'ElectricZephyr', 'MidnightWhisper', 'wetsillypuddy', 'CosmicJaguar42'] is avalible\n",
            "The username ['MysticPanda12', 'QuantumSunset', 'seandonuno', 'ElectricZephyr', 'MidnightWhisper', 'wetsillypuddy', 'CosmicJaguar42'] is avalible\n",
            "Sorry, ['MysticPanda12', 'QuantumSunset', 'seandonuno', 'ElectricZephyr', 'MidnightWhisper', 'wetsillypuddy', 'CosmicJaguar42'] has already been taken\n",
            "The username ['MysticPanda12', 'QuantumSunset', 'seandonuno', 'ElectricZephyr', 'MidnightWhisper', 'wetsillypuddy', 'CosmicJaguar42'] is avalible\n"
          ]
        }
      ]
    },
    {
      "cell_type": "code",
      "source": [
        "numbers = range(1,11)\n",
        "\n",
        "for value in numbers:\n",
        "  if value % 2 == 0:\n",
        "    print(value)\n"
      ],
      "metadata": {
        "id": "vRwxtf8zzhky",
        "outputId": "e8fa66d4-4143-483c-c0c8-a8d072cdf3f4",
        "colab": {
          "base_uri": "https://localhost:8080/"
        }
      },
      "execution_count": null,
      "outputs": [
        {
          "output_type": "stream",
          "name": "stdout",
          "text": [
            "2\n",
            "4\n",
            "6\n",
            "8\n",
            "10\n"
          ]
        }
      ]
    },
    {
      "cell_type": "code",
      "source": [
        "def greet(name):\n",
        "    print(f\"Hello, {name}!\")\n",
        "\n",
        "greet(\"Alice\")  # Calling the function"
      ],
      "metadata": {
        "id": "Igk0Im_QLTk2",
        "outputId": "af005e78-7d44-4e03-9dc4-6428ff000298",
        "colab": {
          "base_uri": "https://localhost:8080/"
        }
      },
      "execution_count": 1,
      "outputs": [
        {
          "output_type": "stream",
          "name": "stdout",
          "text": [
            "Hello, Alice!\n"
          ]
        }
      ]
    },
    {
      "cell_type": "code",
      "source": [
        "def person(name):\n",
        "  print(\"Hello \" + name.title() + \"!\")\n",
        "\n",
        "person(\"brandon\")\n",
        "person(\"abby\")\n",
        "person(\"jack\")\n",
        "\n",
        "print(\"\\n\")\n",
        "\n",
        "names = ['alice', 'jade', 'eddie', 'lindsay']\n",
        "for name in names:\n",
        "  if name != 'alice':\n",
        "    print(\"Hello \" + name.title() + \"!\\nIt's very nice to meet you.\\n\")\n",
        "\n",
        "  else:\n",
        "    print(\"Hey \" + name.title() +\n",
        "          \". I heard about your injury, I hope you are recovering well.\\n\")\n"
      ],
      "metadata": {
        "id": "jVcT7UmT10V8",
        "outputId": "c6f2e5ca-da77-48b6-cb98-699e18bd9721",
        "colab": {
          "base_uri": "https://localhost:8080/"
        }
      },
      "execution_count": 7,
      "outputs": [
        {
          "output_type": "stream",
          "name": "stdout",
          "text": [
            "Hello Brandon!\n",
            "Hello Abby!\n",
            "Hello Jack!\n",
            "\n",
            "\n",
            "Hey Alice. I heard about your injury, I hope you are recovering well.\n",
            "\n",
            "Hello Jade!\n",
            "It's very nice to meet you.\n",
            "\n",
            "Hello Eddie!\n",
            "It's very nice to meet you.\n",
            "\n",
            "Hello Lindsay!\n",
            "It's very nice to meet you.\n",
            "\n"
          ]
        }
      ]
    },
    {
      "cell_type": "code",
      "source": [],
      "metadata": {
        "id": "8RsLPcyD2S0j"
      },
      "execution_count": null,
      "outputs": []
    }
  ]
}