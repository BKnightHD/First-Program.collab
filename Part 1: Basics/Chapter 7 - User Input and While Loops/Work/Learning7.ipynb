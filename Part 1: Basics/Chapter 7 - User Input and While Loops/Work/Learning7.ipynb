{
  "nbformat": 4,
  "nbformat_minor": 0,
  "metadata": {
    "colab": {
      "provenance": [],
      "authorship_tag": "ABX9TyP4Zlh+VP/8fNcmHfDWT3Gd",
      "include_colab_link": true
    },
    "kernelspec": {
      "name": "python3",
      "display_name": "Python 3"
    },
    "language_info": {
      "name": "python"
    }
  },
  "cells": [
    {
      "cell_type": "markdown",
      "metadata": {
        "id": "view-in-github",
        "colab_type": "text"
      },
      "source": [
        "<a href=\"https://colab.research.google.com/github/BKnightHD/Python-CC/blob/main/Part%201%3A%20Basics/Chapter%207%20-%20User%20Input%20and%20While%20Loops/Work/Learning7.ipynb\" target=\"_parent\"><img src=\"https://colab.research.google.com/assets/colab-badge.svg\" alt=\"Open In Colab\"/></a>"
      ]
    },
    {
      "cell_type": "markdown",
      "source": [
        "# User Input and While Loops\n"
      ],
      "metadata": {
        "id": "rjoQSpP23N_4"
      }
    },
    {
      "cell_type": "code",
      "execution_count": null,
      "metadata": {
        "id": "VDSIu6aSMtHS",
        "colab": {
          "base_uri": "https://localhost:8080/"
        },
        "outputId": "75f341d1-97f7-4859-916b-e3d20873adb5"
      },
      "outputs": [
        {
          "output_type": "stream",
          "name": "stdout",
          "text": [
            "Tell me something, and I will repeat it back to you: Hello World!\n",
            "Hello World!\n"
          ]
        }
      ],
      "source": [
        "# input() function pauses your program and waits for the user to enter some text\n",
        "\n",
        "message = input(\"Tell me something, and I will repeat it back to you: \")\n",
        "print(message)"
      ]
    },
    {
      "cell_type": "code",
      "source": [
        "my_message = input(\"Type something here and I'll say it back to you: \")\n",
        "print(my_message)"
      ],
      "metadata": {
        "colab": {
          "base_uri": "https://localhost:8080/"
        },
        "id": "vqibCfro5C3W",
        "outputId": "98aa59c5-bae0-450d-feef-0f1314ccbf85"
      },
      "execution_count": null,
      "outputs": [
        {
          "output_type": "stream",
          "name": "stdout",
          "text": [
            "Type something here and I'll say it back to you: Hello!\n",
            "Hello!\n"
          ]
        }
      ]
    },
    {
      "cell_type": "code",
      "source": [
        "name = input(\"Please enter your name: \") # Add a space at the end of your prompts to make the message clear\n",
        "print(f\"Hello {name.title()}!\")"
      ],
      "metadata": {
        "colab": {
          "base_uri": "https://localhost:8080/"
        },
        "id": "nwWpXO235NQF",
        "outputId": "523ab5fe-1ff7-416b-f8cf-f1327f9b514e"
      },
      "execution_count": null,
      "outputs": [
        {
          "output_type": "stream",
          "name": "stdout",
          "text": [
            "Please enter your name: Brandon\n",
            "Hello Brandon!\n"
          ]
        }
      ]
    },
    {
      "cell_type": "code",
      "source": [
        "prompt = \"If you tell us who you are, we can personalize the messages you see.\"\n",
        "prompt += \"\\nWhat is your first name? \"\n",
        "# This is an example of how to build a multi line string\n",
        "\n",
        "name = input(prompt)\n",
        "print(f\"Hello, {name.title()}!\")"
      ],
      "metadata": {
        "colab": {
          "base_uri": "https://localhost:8080/"
        },
        "id": "sbgfwRQx5eDl",
        "outputId": "031a7323-8f15-42a4-ab23-cb4b2f8c2030"
      },
      "execution_count": null,
      "outputs": [
        {
          "output_type": "stream",
          "name": "stdout",
          "text": [
            "If you tell us who you are, we can personalize the messages you see.\n",
            "What is your first name? Brandon\n",
            "Hello, Brandon!\n"
          ]
        }
      ]
    },
    {
      "cell_type": "markdown",
      "source": [
        "### Testing the multi-line string trick using +="
      ],
      "metadata": {
        "id": "6MQuWdIk6rYQ"
      }
    },
    {
      "cell_type": "code",
      "source": [
        "message = \"All this time, I didn't know there was an easier way to make multi line strings!\"\n",
        "message += \"\\nThis makes my life so much easier!\"\n",
        "message += \"\\nSo now that that's out of the way, tell me your name! \"\n",
        "\n",
        "answer = input(message) # Remember to set a function equal to the input for correct syntax\n",
        "\n",
        "print(f\"Hello {answer.title()}!\\nIt's very nice to meet you.\")"
      ],
      "metadata": {
        "colab": {
          "base_uri": "https://localhost:8080/"
        },
        "id": "XjO8BysN6HyG",
        "outputId": "0541e95f-370f-46df-db49-9e562c699580"
      },
      "execution_count": null,
      "outputs": [
        {
          "output_type": "stream",
          "name": "stdout",
          "text": [
            "All this time, I didn't know there was an easier way to make multi line strings!\n",
            "This makes my life so much easier!\n",
            "So now that that's out of the way, tell me your name! brandon\n",
            "Hello Brandon!\n",
            "It's very nice to meet you.\n"
          ]
        }
      ]
    },
    {
      "cell_type": "code",
      "source": [
        "age = input(\"How old are you? \")\n",
        "age # by default, python will store this result as a string, indicated by the ' '."
      ],
      "metadata": {
        "colab": {
          "base_uri": "https://localhost:8080/",
          "height": 53
        },
        "id": "zR1Gw2x96kJE",
        "outputId": "0d24efec-4ebb-484e-c2aa-38af0bf6d7a1"
      },
      "execution_count": null,
      "outputs": [
        {
          "name": "stdout",
          "output_type": "stream",
          "text": [
            "How old are you? 28\n"
          ]
        },
        {
          "output_type": "execute_result",
          "data": {
            "text/plain": [
              "'28'"
            ],
            "application/vnd.google.colaboratory.intrinsic+json": {
              "type": "string"
            }
          },
          "metadata": {},
          "execution_count": 16
        }
      ]
    },
    {
      "cell_type": "code",
      "source": [
        "age = input(\"How old are you? \")\n",
        "\n",
        "int(age) >= 18"
      ],
      "metadata": {
        "colab": {
          "base_uri": "https://localhost:8080/"
        },
        "id": "3hBAtfE-71-q",
        "outputId": "edb108b1-0e05-4066-d8d1-716e67439260"
      },
      "execution_count": null,
      "outputs": [
        {
          "name": "stdout",
          "output_type": "stream",
          "text": [
            "How old are you? 28\n"
          ]
        },
        {
          "output_type": "execute_result",
          "data": {
            "text/plain": [
              "True"
            ]
          },
          "metadata": {},
          "execution_count": 17
        }
      ]
    },
    {
      "cell_type": "code",
      "source": [
        "# Consider a program that determines whether people are tall enogh to ride a roller coaster:\n",
        "\n",
        "height = input(\"How tall are you, in inches? \")\n",
        "height = int(height)\n",
        "\n",
        "if height >= 36:\n",
        "  print(f\"\\nYou are {height} inches, so you are tall enough to ride!\")\n",
        "else:\n",
        "  print(f\"\\nYou are only {height} inches, so won't be able to ride this yet.\")"
      ],
      "metadata": {
        "colab": {
          "base_uri": "https://localhost:8080/"
        },
        "id": "7SrTu2Yf8Xr7",
        "outputId": "1f8fb161-0bd8-4704-c51e-17bbc79cb88e"
      },
      "execution_count": null,
      "outputs": [
        {
          "output_type": "stream",
          "name": "stdout",
          "text": [
            "How tall are you, in inches? 70\n",
            "\n",
            "You are 70 inches, so you are tall enough to ride!\n"
          ]
        }
      ]
    },
    {
      "cell_type": "markdown",
      "source": [
        "* Modulo Operator - divides one number by another number and returns the remainder"
      ],
      "metadata": {
        "id": "sYllQe4N9f00"
      }
    },
    {
      "cell_type": "code",
      "source": [
        "print(4 % 3)\n",
        "print(5 % 3)\n",
        "print(6 % 3)\n",
        "print(7 % 3)"
      ],
      "metadata": {
        "colab": {
          "base_uri": "https://localhost:8080/"
        },
        "id": "ALqW2EW19Jye",
        "outputId": "2a8d24f1-0005-4f55-82fc-99d998820fdb"
      },
      "execution_count": null,
      "outputs": [
        {
          "output_type": "stream",
          "name": "stdout",
          "text": [
            "1\n",
            "2\n",
            "0\n",
            "1\n"
          ]
        }
      ]
    },
    {
      "cell_type": "code",
      "source": [
        "number = input(\"Enter a number, and I'll tell you if it's even or odd: \")\n",
        "number = int(number)\n",
        "\n",
        "if number % 2 == 0:\n",
        "  print(f\"\\nYour number is {number}, and it is even.\")\n",
        "else:\n",
        "  print(f\"\\nYour number is {number}, and it is odd.\")"
      ],
      "metadata": {
        "colab": {
          "base_uri": "https://localhost:8080/"
        },
        "id": "vC7YxFI79pUC",
        "outputId": "ab376327-5978-4fa4-f8fb-269fa6927d66"
      },
      "execution_count": null,
      "outputs": [
        {
          "output_type": "stream",
          "name": "stdout",
          "text": [
            "Enter a number, and I'll tell you if it's even or odd: 5\n",
            "\n",
            "Your number is 5, and it is odd.\n"
          ]
        }
      ]
    },
    {
      "cell_type": "markdown",
      "source": [
        "# Try it yourself\n",
        "* 7-1 Rental Car\n",
        "* 7-2 Restaurant Seating\n",
        "* 7-3 Multiples of Ten"
      ],
      "metadata": {
        "id": "qhA1a0mk_3UC"
      }
    },
    {
      "cell_type": "code",
      "source": [
        "# Write a program that asks the user what kind of rental car they would like\n",
        "car = input(\"What kind of car would you like? \")\n",
        "print(f\"Let me see if I can find you a {car.title()}.\")\n",
        "print(\"...\\n\")\n",
        "\n",
        "# Write a program that asks the user how many people are in their dinner group.\n",
        "people = \"Hello sir, Welcome to Olive Garden.\"\n",
        "people += \"\\nHow many people are in your dinner group? \"\n",
        "answer = input(people)\n",
        "answer_1 = int(answer)\n",
        "\n",
        "if answer_1 > 8:\n",
        "  print(f\"I'm sorry, but since you have {answer_1} people, you'll have to wait.\")\n",
        "else:\n",
        "  print(f\"Oh Great! You have {answer_1} people; we can seat you now.\")\n",
        "print(\"...\\n\")\n",
        "\n",
        "# Ask the user for a number, and then report whether the number is a multiple of 10 or not.\n",
        "name = input(\"What's your name? \")\n",
        "number = f\"Hello {name.title()},\"\n",
        "number += \"\\nGive me a number, I will tell you if its a multiple of 10 or not. \"\n",
        "answer = input(number)\n",
        "answer = int(answer)\n",
        "if answer % 10 == 0:\n",
        "  print(f\"Your number is {answer}, so it's a multiple of 10.\")\n",
        "else:\n",
        "  print(f\"Your number is {answer}, so it's not a multiple of 10\")"
      ],
      "metadata": {
        "colab": {
          "base_uri": "https://localhost:8080/"
        },
        "id": "9vEaL_To_oVF",
        "outputId": "9323fef9-7d1f-4925-c7aa-7eec93b1efcd"
      },
      "execution_count": null,
      "outputs": [
        {
          "output_type": "stream",
          "name": "stdout",
          "text": [
            "What kind of car would you like? honda accord\n",
            "Let me see if I can find you a Honda Accord.\n",
            "...\n",
            "\n",
            "Hello sir, Welcome to Olive Garden.\n",
            "How many people are in your dinner group? 7\n",
            "Oh Great! You have 7 people; we can seat you now.\n",
            "...\n",
            "\n",
            "What's you name? brandon\n",
            "Hello Brandon,\n",
            "Give me a number, I will tell you if its a multiple of 10 or not. 100\n",
            "Your number is 100, so it's a multiple of 10.\n"
          ]
        }
      ]
    },
    {
      "cell_type": "markdown",
      "source": [
        "## Introducing while Loops\n",
        "- The for loop takes items and executes a block of code once for each item.\n",
        "- In contrast, the while loop runs long as, or *while*, a certain condition is true."
      ],
      "metadata": {
        "id": "kO79-cTeEsoE"
      }
    },
    {
      "cell_type": "code",
      "source": [
        "# Using a while loop to count up from 1 to 5\n",
        "current_number = 1\n",
        "while current_number <= 5:\n",
        "  print(current_number)\n",
        "  current_number += 1"
      ],
      "metadata": {
        "colab": {
          "base_uri": "https://localhost:8080/"
        },
        "id": "iuKr6oZlAeTC",
        "outputId": "7d52ceaf-ca97-4bf8-9b2c-39438de72f11"
      },
      "execution_count": null,
      "outputs": [
        {
          "output_type": "stream",
          "name": "stdout",
          "text": [
            "1\n",
            "2\n",
            "3\n",
            "4\n",
            "5\n"
          ]
        }
      ]
    },
    {
      "cell_type": "code",
      "source": [
        "prompt = \"\\nTell me something, and I will repeat it back to you: \"\n",
        "prompt += \"\\nEnter 'quit' to end the program. \"\n",
        "message = \"\"\n",
        "while message != 'quit':\n",
        "  message = input(prompt)\n",
        "  print(message)"
      ],
      "metadata": {
        "colab": {
          "base_uri": "https://localhost:8080/"
        },
        "id": "bxDJg_26FdXK",
        "outputId": "770ce0e2-dc6d-4d13-a7ff-5358fb2ecbd3"
      },
      "execution_count": null,
      "outputs": [
        {
          "output_type": "stream",
          "name": "stdout",
          "text": [
            "\n",
            "Tell me something, and I will repeat it back to you: \n",
            "Enter 'quit' to end the program. Hello, my name is brandon\n",
            "Hello, my name is brandon\n",
            "\n",
            "Tell me something, and I will repeat it back to you: \n",
            "Enter 'quit' to end the program. Hello, What is today's date?\n",
            "Hello, What is today's date?\n",
            "\n",
            "Tell me something, and I will repeat it back to you: \n",
            "Enter 'quit' to end the program. quit\n",
            "quit\n"
          ]
        }
      ]
    },
    {
      "cell_type": "code",
      "source": [
        "message = '\\nHello World'\n",
        "message += '\\nToday is a great day to code'\n",
        "message += '\\nThis program will continue to return what you type until you type \"quit\".'\n",
        "blank = ''\n",
        "while blank != 'quit':\n",
        "  blank = input(message)\n",
        "  print(blank)"
      ],
      "metadata": {
        "id": "eVG6F_NvJsIG",
        "outputId": "8c221466-1d48-4ba4-d224-433480285f37",
        "colab": {
          "base_uri": "https://localhost:8080/"
        }
      },
      "execution_count": null,
      "outputs": [
        {
          "output_type": "stream",
          "name": "stdout",
          "text": [
            "\n",
            "Hello World\n",
            "Today is a great day to code\n",
            "This program will continue to return what you type until you type \"quit\".quit\n",
            "quit\n"
          ]
        }
      ]
    },
    {
      "cell_type": "code",
      "source": [
        "corinthians = \"When I was a child, I talked like a child, and thought like a child, I reasoned like a child\"\n",
        "corinthians += \"\\nBut when I became a man, I sat aside childish ways\"\n",
        "\n",
        "print(corinthians)"
      ],
      "metadata": {
        "id": "wFkV0wL72Kx4",
        "outputId": "49199105-2fd6-4d37-ab06-eedd820bb3f4",
        "colab": {
          "base_uri": "https://localhost:8080/"
        }
      },
      "execution_count": null,
      "outputs": [
        {
          "output_type": "stream",
          "name": "stdout",
          "text": [
            "When I was a child, I talked like a child, and thought like a child, I reasoned like a child\n",
            "But when I became a man, I sat aside childish ways\n"
          ]
        }
      ]
    },
    {
      "cell_type": "code",
      "source": [
        "# The input function pauses your program and wiats for the user to enter some test.\n",
        "\n",
        "message = input(\"Tell me something, and I will repeat it back to you:  \")\n",
        "print(message)\n",
        "\n",
        "# Each time you use the input() function, you should include a clear, easy-to-follow promt that tells the user exactly what kind of information you're looking for."
      ],
      "metadata": {
        "id": "r-nDcOvH3Lf_",
        "colab": {
          "base_uri": "https://localhost:8080/"
        },
        "outputId": "b8330e7c-a73b-48fc-d298-2a2e6e7d21fb"
      },
      "execution_count": null,
      "outputs": [
        {
          "output_type": "stream",
          "name": "stdout",
          "text": [
            "Tell me something, and I will repeat it back to you:  Hello, my name is Brandon.\n",
            "Hello, my name is Brandon.\n"
          ]
        }
      ]
    },
    {
      "cell_type": "code",
      "source": [
        "name = input(\"Please enter your name:  \")\n",
        "print(f\"Hello {name.title()}!\")"
      ],
      "metadata": {
        "colab": {
          "base_uri": "https://localhost:8080/"
        },
        "id": "GFZ1MIksjg7V",
        "outputId": "9c851dae-fb96-436d-b357-e5eba6d145f9"
      },
      "execution_count": null,
      "outputs": [
        {
          "output_type": "stream",
          "name": "stdout",
          "text": [
            "Please enter your name:  brandon\n",
            "Hello Brandon\n"
          ]
        }
      ]
    },
    {
      "cell_type": "code",
      "source": [
        "prompt = \"If you tell us who you are, we can personalize the messages you see.\"\n",
        "prompt += \"\\nWhat is your first name? \"\n",
        "name = input(prompt)\n",
        "print(f\"Hello {name.title()}!\")"
      ],
      "metadata": {
        "id": "Nowfghorkyt8",
        "outputId": "fcced1b7-5916-4608-9d1a-16c2ee2767e6",
        "colab": {
          "base_uri": "https://localhost:8080/"
        }
      },
      "execution_count": null,
      "outputs": [
        {
          "output_type": "stream",
          "name": "stdout",
          "text": [
            "If you tell us who you are, we can personalize the messages you see.\n",
            "What is your first name? brandon\n",
            "Hello Brandon!\n"
          ]
        }
      ]
    },
    {
      "cell_type": "markdown",
      "source": [
        "##Reviewing Inputs and While loops"
      ],
      "metadata": {
        "id": "2fUmb1Y8kq-G"
      }
    },
    {
      "cell_type": "code",
      "source": [
        "message = input(\"Tell me something, and I will repeat it back to you: \")\n",
        "print(message)\n",
        "\n",
        "# each time you use an input function, you should include a clear, easy-to-follow prompt\n",
        "\n",
        "name = input(\"Please enter your name: \")\n",
        "print(f\"Hello {name.title()}!\")"
      ],
      "metadata": {
        "id": "AlU97xrwDQPn",
        "colab": {
          "base_uri": "https://localhost:8080/"
        },
        "outputId": "d8713c21-1958-4d76-9f5e-8b2d8d3d07c1"
      },
      "execution_count": null,
      "outputs": [
        {
          "output_type": "stream",
          "name": "stdout",
          "text": [
            "Tell me something, and I will repeat it back to you: repeating the program\n",
            "repeating the program\n",
            "Please enter your name: brandon\n",
            "Hello Brandon!\n"
          ]
        }
      ]
    },
    {
      "cell_type": "markdown",
      "source": [
        "* Assigning a prompt to a variable, then passing the variable to an input."
      ],
      "metadata": {
        "id": "d2gdah_Ol3YJ"
      }
    },
    {
      "cell_type": "code",
      "source": [
        "prompt = \"If you tell us who you are, we can personalize the messages you see.\"\n",
        "prompt += \"\\nWhat is your first name? \"\n",
        "\n",
        "name = input(prompt)\n",
        "print(f\"Hello {name.title()}, it's very nice to meet you!\")"
      ],
      "metadata": {
        "colab": {
          "base_uri": "https://localhost:8080/"
        },
        "id": "TN3bPLvtk2LE",
        "outputId": "90fba27b-f66d-4773-a9d7-6fafd15b9eea"
      },
      "execution_count": null,
      "outputs": [
        {
          "output_type": "stream",
          "name": "stdout",
          "text": [
            "If you tell us who you are, we can personalize the messages you see.\n",
            "What is your first name? brandon\n",
            "Hello Brandon, it's very nice to meet you!\n"
          ]
        }
      ]
    },
    {
      "cell_type": "code",
      "source": [
        "age = input(\"How old are you? \") # python recognizes this input as a string\n",
        "print(age)"
      ],
      "metadata": {
        "id": "v9MjPEWomYqU",
        "outputId": "29e87707-2b5f-4877-c7ae-5fc968f9e23f",
        "colab": {
          "base_uri": "https://localhost:8080/"
        }
      },
      "execution_count": null,
      "outputs": [
        {
          "output_type": "stream",
          "name": "stdout",
          "text": [
            "How old are you? 21\n",
            "21\n"
          ]
        }
      ]
    },
    {
      "cell_type": "markdown",
      "source": [
        "## Simple program that asks info about the user and then compares it to myself."
      ],
      "metadata": {
        "id": "h_uA55jdoS9W"
      }
    },
    {
      "cell_type": "code",
      "source": [
        "name = input(\"What's your name? \")\n",
        "print(f\"Hello {name.title()}!\")\n",
        "age = input(\"\\tHow old are you? \")\n",
        "age = int(age)\n",
        "my_age = 28\n",
        "if age < my_age:\n",
        "  print(f\"Hey {name.title()}, you're {int(age)} years old, so you're younger than me! \\nI'm {int(my_age)}.\")\n",
        "elif age == my_age:\n",
        "  print(f\"Hey {name.title()}, you're {int(age)} years old, so we're the same age!\")\n",
        "else:\n",
        "  print(f\"Hey {name.title()}, you're {int(age)} years old, so you're older than me.\\nI'm {int(my_age)}.\")"
      ],
      "metadata": {
        "id": "8LlFjL35myHd",
        "outputId": "9ddb961e-47a0-4594-d81e-c3ead55bcad2",
        "colab": {
          "base_uri": "https://localhost:8080/"
        }
      },
      "execution_count": null,
      "outputs": [
        {
          "output_type": "stream",
          "name": "stdout",
          "text": [
            "What's your name? jackson\n",
            "Hello Jackson!\n",
            "\tHow old are you? 23\n",
            "Hey Jackson, you're 23 years old, so you're younger than me! \n",
            "I'm 28.\n"
          ]
        }
      ]
    },
    {
      "cell_type": "code",
      "source": [
        "height = input(\"How tall are you, in inches? \")\n",
        "height = int(height) # this line converts the previous given answer into an integer\n",
        "\n",
        "if height >= 48:\n",
        "  print(\"\\nYou're tall enough to ride!\")\n",
        "else:\n",
        "  print(\"nYou'll be able to ride when you're a little older.\")"
      ],
      "metadata": {
        "id": "K-TQsALlnLEk",
        "outputId": "f3a28cca-1846-4f0c-9d9e-915304ceed5b",
        "colab": {
          "base_uri": "https://localhost:8080/"
        }
      },
      "execution_count": null,
      "outputs": [
        {
          "output_type": "stream",
          "name": "stdout",
          "text": [
            "How tall are you, in inches? 60\n",
            "\n",
            "You're tall enough to ride!\n"
          ]
        }
      ]
    },
    {
      "cell_type": "code",
      "source": [
        "prompt = \"\\nType something and I will say it back to you.\"\n",
        "prompt += \"\\nType 'quit' to stop running this program:  \"\n",
        "message = ''\n",
        "while message != 'quit':\n",
        "  message = input(prompt)\n",
        "\n",
        "  if message != 'quit': # this added line will stop the program from running without displaying \"quit\"\n",
        "    print(message)"
      ],
      "metadata": {
        "id": "SNu1jz6ILm0E",
        "outputId": "f7ec71cc-15f7-4729-d486-44164dbdb7e0",
        "colab": {
          "base_uri": "https://localhost:8080/"
        }
      },
      "execution_count": null,
      "outputs": [
        {
          "name": "stdout",
          "output_type": "stream",
          "text": [
            "\n",
            "Type something and I will say it back to you.\n",
            "Type 'quit' to stop running this program:  quit\n"
          ]
        }
      ]
    },
    {
      "cell_type": "code",
      "source": [
        "prompt = \"\\nTell me something, and I will repeat it back to you:\"\n",
        "prompt += \"\\nEnter 'quit' to end the program. \"\n",
        "\n",
        "active = True\n",
        "while active:\n",
        "  message = input(prompt)\n",
        "\n",
        "  if message == 'quit':\n",
        "    active = False\n",
        "    else:\n",
        "      print(message)"
      ],
      "metadata": {
        "id": "_bfdDh8fMui8"
      },
      "execution_count": null,
      "outputs": []
    }
  ]
}