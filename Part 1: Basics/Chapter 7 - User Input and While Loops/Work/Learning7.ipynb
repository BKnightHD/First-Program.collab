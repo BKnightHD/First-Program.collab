{
  "nbformat": 4,
  "nbformat_minor": 0,
  "metadata": {
    "colab": {
      "provenance": [],
      "authorship_tag": "ABX9TyPdALuJVH92lUWaRlpA+Pg0",
      "include_colab_link": true
    },
    "kernelspec": {
      "name": "python3",
      "display_name": "Python 3"
    },
    "language_info": {
      "name": "python"
    }
  },
  "cells": [
    {
      "cell_type": "markdown",
      "metadata": {
        "id": "view-in-github",
        "colab_type": "text"
      },
      "source": [
        "<a href=\"https://colab.research.google.com/github/BKnightHD/Python-CC/blob/main/Part%201%3A%20Basics/Chapter%207%20-%20User%20Input%20and%20While%20Loops/Work/Learning7.ipynb\" target=\"_parent\"><img src=\"https://colab.research.google.com/assets/colab-badge.svg\" alt=\"Open In Colab\"/></a>"
      ]
    },
    {
      "cell_type": "markdown",
      "source": [
        "# User Input and While Loops\n"
      ],
      "metadata": {
        "id": "rjoQSpP23N_4"
      }
    },
    {
      "cell_type": "code",
      "execution_count": 3,
      "metadata": {
        "id": "VDSIu6aSMtHS",
        "outputId": "75f341d1-97f7-4859-916b-e3d20873adb5",
        "colab": {
          "base_uri": "https://localhost:8080/"
        }
      },
      "outputs": [
        {
          "output_type": "stream",
          "name": "stdout",
          "text": [
            "Tell me something, and I will repeat it back to you: Hello World!\n",
            "Hello World!\n"
          ]
        }
      ],
      "source": [
        "# input() function pauses your program and waits for the user to enter some text\n",
        "\n",
        "message = input(\"Tell me something, and I will repeat it back to you: \")\n",
        "print(message)"
      ]
    },
    {
      "cell_type": "code",
      "source": [
        "my_message = input(\"Type something here and I'll say it back to you: \")\n",
        "print(my_message)"
      ],
      "metadata": {
        "id": "vqibCfro5C3W",
        "outputId": "98aa59c5-bae0-450d-feef-0f1314ccbf85",
        "colab": {
          "base_uri": "https://localhost:8080/"
        }
      },
      "execution_count": 4,
      "outputs": [
        {
          "output_type": "stream",
          "name": "stdout",
          "text": [
            "Type something here and I'll say it back to you: Hello!\n",
            "Hello!\n"
          ]
        }
      ]
    },
    {
      "cell_type": "code",
      "source": [
        "name = input(\"Please enter your name: \") # Add a space at the end of your prompts to make the message clear\n",
        "print(f\"Hello {name.title()}!\")"
      ],
      "metadata": {
        "id": "nwWpXO235NQF",
        "outputId": "523ab5fe-1ff7-416b-f8cf-f1327f9b514e",
        "colab": {
          "base_uri": "https://localhost:8080/"
        }
      },
      "execution_count": 6,
      "outputs": [
        {
          "output_type": "stream",
          "name": "stdout",
          "text": [
            "Please enter your name: Brandon\n",
            "Hello Brandon!\n"
          ]
        }
      ]
    },
    {
      "cell_type": "code",
      "source": [
        "prompt = \"If you tell us who you are, we can personalize the messages you see.\"\n",
        "prompt += \"\\nWhat is your first name? \"\n",
        "# This is an example of how to build a multi line string\n",
        "\n",
        "name = input(prompt)\n",
        "print(f\"Hello, {name.title()}!\")"
      ],
      "metadata": {
        "id": "sbgfwRQx5eDl",
        "outputId": "031a7323-8f15-42a4-ab23-cb4b2f8c2030",
        "colab": {
          "base_uri": "https://localhost:8080/"
        }
      },
      "execution_count": 7,
      "outputs": [
        {
          "output_type": "stream",
          "name": "stdout",
          "text": [
            "If you tell us who you are, we can personalize the messages you see.\n",
            "What is your first name? Brandon\n",
            "Hello, Brandon!\n"
          ]
        }
      ]
    },
    {
      "cell_type": "markdown",
      "source": [
        "### Testing the multi-line string trick using +="
      ],
      "metadata": {
        "id": "6MQuWdIk6rYQ"
      }
    },
    {
      "cell_type": "code",
      "source": [
        "message = \"All this time, I didn't know there was an easier way to make multi line strings!\"\n",
        "message += \"\\nThis makes my life so much easier!\"\n",
        "message += \"\\nSo now that that's out of the way, tell me your name! \"\n",
        "\n",
        "answer = input(message) # Remember to set a function equal to the input for correct syntax\n",
        "\n",
        "print(f\"Hello {answer.title()}!\\nIt's very nice to meet you.\")"
      ],
      "metadata": {
        "id": "XjO8BysN6HyG",
        "outputId": "0541e95f-370f-46df-db49-9e562c699580",
        "colab": {
          "base_uri": "https://localhost:8080/"
        }
      },
      "execution_count": 13,
      "outputs": [
        {
          "output_type": "stream",
          "name": "stdout",
          "text": [
            "All this time, I didn't know there was an easier way to make multi line strings!\n",
            "This makes my life so much easier!\n",
            "So now that that's out of the way, tell me your name! brandon\n",
            "Hello Brandon!\n",
            "It's very nice to meet you.\n"
          ]
        }
      ]
    },
    {
      "cell_type": "code",
      "source": [
        "age = input(\"How old are you? \")\n",
        "age # by default, python will store this result as a string, indicated by the ' '."
      ],
      "metadata": {
        "id": "zR1Gw2x96kJE",
        "outputId": "0d24efec-4ebb-484e-c2aa-38af0bf6d7a1",
        "colab": {
          "base_uri": "https://localhost:8080/",
          "height": 53
        }
      },
      "execution_count": 16,
      "outputs": [
        {
          "name": "stdout",
          "output_type": "stream",
          "text": [
            "How old are you? 28\n"
          ]
        },
        {
          "output_type": "execute_result",
          "data": {
            "text/plain": [
              "'28'"
            ],
            "application/vnd.google.colaboratory.intrinsic+json": {
              "type": "string"
            }
          },
          "metadata": {},
          "execution_count": 16
        }
      ]
    },
    {
      "cell_type": "code",
      "source": [
        "age = input(\"How old are you? \")\n",
        "\n",
        "int(age) >= 18"
      ],
      "metadata": {
        "id": "3hBAtfE-71-q",
        "outputId": "edb108b1-0e05-4066-d8d1-716e67439260",
        "colab": {
          "base_uri": "https://localhost:8080/"
        }
      },
      "execution_count": 17,
      "outputs": [
        {
          "name": "stdout",
          "output_type": "stream",
          "text": [
            "How old are you? 28\n"
          ]
        },
        {
          "output_type": "execute_result",
          "data": {
            "text/plain": [
              "True"
            ]
          },
          "metadata": {},
          "execution_count": 17
        }
      ]
    },
    {
      "cell_type": "code",
      "source": [
        "# Consider a program that determines whether people are tall enogh to ride a roller coaster:\n",
        "\n",
        "height = input(\"How tall are you, in inches? \")\n",
        "height = int(height)\n",
        "\n",
        "if height >= 36:\n",
        "  print(f\"\\nYou are {height} inches, so you are tall enough to ride!\")\n",
        "else:\n",
        "  print(f\"\\nYou are only {height} inches, so won't be able to ride this yet.\")"
      ],
      "metadata": {
        "id": "7SrTu2Yf8Xr7",
        "outputId": "1f8fb161-0bd8-4704-c51e-17bbc79cb88e",
        "colab": {
          "base_uri": "https://localhost:8080/"
        }
      },
      "execution_count": 19,
      "outputs": [
        {
          "output_type": "stream",
          "name": "stdout",
          "text": [
            "How tall are you, in inches? 70\n",
            "\n",
            "You are 70 inches, so you are tall enough to ride!\n"
          ]
        }
      ]
    },
    {
      "cell_type": "markdown",
      "source": [
        "* Modulo Operator - divides one number by another number and returns the remainder"
      ],
      "metadata": {
        "id": "sYllQe4N9f00"
      }
    },
    {
      "cell_type": "code",
      "source": [
        "print(4 % 3)\n",
        "print(5 % 3)\n",
        "print(6 % 3)"
      ],
      "metadata": {
        "id": "ALqW2EW19Jye",
        "outputId": "fb3a8e24-9a4a-420b-8e94-fbc723593c18",
        "colab": {
          "base_uri": "https://localhost:8080/"
        }
      },
      "execution_count": 22,
      "outputs": [
        {
          "output_type": "stream",
          "name": "stdout",
          "text": [
            "1\n",
            "2\n",
            "0\n"
          ]
        }
      ]
    },
    {
      "cell_type": "code",
      "source": [],
      "metadata": {
        "id": "vC7YxFI79pUC"
      },
      "execution_count": null,
      "outputs": []
    }
  ]
}