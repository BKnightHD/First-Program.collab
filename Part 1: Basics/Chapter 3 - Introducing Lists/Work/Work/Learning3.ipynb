{
  "nbformat": 4,
  "nbformat_minor": 0,
  "metadata": {
    "colab": {
      "provenance": []
    },
    "kernelspec": {
      "name": "python3",
      "display_name": "Python 3"
    },
    "language_info": {
      "name": "python"
    }
  },
  "cells": [
    {
      "cell_type": "code",
      "execution_count": null,
      "metadata": {
        "id": "bvGUz5O26uhX",
        "outputId": "9cf5362a-f860-42ae-f930-76941e43ab36",
        "colab": {
          "base_uri": "https://localhost:8080/"
        }
      },
      "outputs": [
        {
          "output_type": "stream",
          "name": "stdout",
          "text": [
            "['trek', 'cannondale', 'redline', 'specialized']\n",
            "    Trek\n",
            "\tCannondale\n",
            "\t\tREDLINE\n",
            "\t\t\tSpecialized\n",
            "specialized redline\n"
          ]
        }
      ],
      "source": [
        "bicycles = ['trek', 'cannondale', 'redline', 'specialized'] #first list\n",
        "print(bicycles)\n",
        "#index positions start at 0, not 1\n",
        "print(\"    \" + bicycles[0].title())\n",
        "print(\"\\t\" + bicycles[1].title())\n",
        "print(\"\\t\\t\" + bicycles[2].upper())\n",
        "print(\"\\t\\t\\t\" + bicycles[3].title())\n",
        "print(bicycles[-1], bicycles[-2])"
      ]
    },
    {
      "cell_type": "code",
      "source": [
        "message = \"My first bicycle was a \" + bicycles[2].title() + \".\"\n",
        "print(message)"
      ],
      "metadata": {
        "colab": {
          "base_uri": "https://localhost:8080/"
        },
        "id": "sYr94OooA869",
        "outputId": "c7e1ebb3-f89a-4eba-b92b-cff4df0c2e2d"
      },
      "execution_count": null,
      "outputs": [
        {
          "output_type": "stream",
          "name": "stdout",
          "text": [
            "My first bicycle was a Redline.\n"
          ]
        }
      ]
    },
    {
      "cell_type": "markdown",
      "source": [
        "Try if yourself\n",
        "* 3-1 Names\n",
        "* 3-2 Greetings\n",
        "* 3-3 Your Own List"
      ],
      "metadata": {
        "id": "Y6vCeae_NHy-"
      }
    },
    {
      "cell_type": "code",
      "source": [
        "#3-1\n",
        "names = [\"Giuseppe\", \"Maisam\", \"Joe\", \"Devin\", \"Eddie\"]\n",
        "print(names[0],\"\\n\",names[1],\"\\n\",names[2],\"\\n\",names[3],\"\\n\",names[4])\n",
        "\n",
        "#3-2\n",
        "print(\"Hey \" + names[0] + \", I hope you're having a great day!\")\n",
        "print(\"Hey \" + names[1] + \", I hope you're having a great day!\")\n",
        "print(\"Hey \" + names[2] + \", I hope you're having a great day!\")\n",
        "print(\"Hey \" + names[3] + \", I hope you're having a great day!\")\n",
        "print(\"Hey \" + names[4] + \", I hope you're having a great day!\")\n",
        "\n",
        "#3-3\n",
        "stores = ['nordstroms', 'express', 'levis', 'north face', 'nike']\n",
        "print(\"I use to go to West County mall all the time top shop at \" + stores[-5].title())"
      ],
      "metadata": {
        "colab": {
          "base_uri": "https://localhost:8080/"
        },
        "id": "b975IUZUNGwu",
        "outputId": "0607b9b5-b6c4-464a-d8ec-44fc0f6fec1d"
      },
      "execution_count": null,
      "outputs": [
        {
          "output_type": "stream",
          "name": "stdout",
          "text": [
            "Giuseppe \n",
            " Maisam \n",
            " Joe \n",
            " Devin \n",
            " Eddie\n",
            "Hey Giuseppe, I hope you're having a great day!\n",
            "Hey Maisam, I hope you're having a great day!\n",
            "Hey Joe, I hope you're having a great day!\n",
            "Hey Devin, I hope you're having a great day!\n",
            "Hey Eddie, I hope you're having a great day!\n",
            "I use to go to West County mall all the time top shop at Nordstroms\n"
          ]
        }
      ]
    },
    {
      "cell_type": "code",
      "source": [
        "motercycles = ['honda', 'yamaha', 'suzuki']\n",
        "print(motercycles)\n",
        "\n",
        "motercycles[0] = 'ducati' # here, we are changing the value stored in the first position of our motercycle list\n",
        "print(motercycles)"
      ],
      "metadata": {
        "colab": {
          "base_uri": "https://localhost:8080/"
        },
        "id": "50XAmsMFSjra",
        "outputId": "c44b509a-ee33-4f11-cdbb-f1f152b2c579"
      },
      "execution_count": null,
      "outputs": [
        {
          "output_type": "stream",
          "name": "stdout",
          "text": [
            "['honda', 'yamaha', 'suzuki']\n",
            "['ducati', 'yamaha', 'suzuki']\n"
          ]
        }
      ]
    },
    {
      "cell_type": "code",
      "source": [
        "motercycles = []\n",
        "motercycles.append('honda')\n",
        "motercycles.append('yamaha')\n",
        "motercycles.append('suzuki')\n",
        "print(motercycles)"
      ],
      "metadata": {
        "id": "VnmDlKnAAaQ-",
        "colab": {
          "base_uri": "https://localhost:8080/"
        },
        "outputId": "cae76eb5-f391-4914-fbf7-664102c399bc"
      },
      "execution_count": null,
      "outputs": [
        {
          "output_type": "stream",
          "name": "stdout",
          "text": [
            "['honda', 'yamaha', 'suzuki']\n"
          ]
        }
      ]
    },
    {
      "cell_type": "code",
      "source": [
        "motercycles = ['honda', 'yamaha', 'suzuki']\n",
        "last_owned = motercycles.pop()\n",
        "first_owned = motercycles.pop(0)\n",
        "\n",
        "\n",
        "print(f\"The first motercycle I owned was a {last_owned.title()}.\") #inputing a varibale within a str without concatinating it, the f represents a \"f-string\"\n",
        "print(f\"The first motercycle I owned was a {first_owned.title()}.\")"
      ],
      "metadata": {
        "colab": {
          "base_uri": "https://localhost:8080/"
        },
        "id": "JRJJUmwlIJYk",
        "outputId": "9a3272f2-8c47-464d-b719-8c01f7afc21b"
      },
      "execution_count": null,
      "outputs": [
        {
          "output_type": "stream",
          "name": "stdout",
          "text": [
            "The first motercycle I owned was a Suzuki.\n",
            "The first motercycle I owned was a Honda.\n"
          ]
        }
      ]
    },
    {
      "cell_type": "code",
      "source": [
        "names = ['jeffery', 'tristan', 'jank', 'miles']\n",
        "names.append('mason')\n",
        "family = \"jappa\"\n",
        "names.insert(0, 'maisam')\n",
        "print(\"I'm praying for the \" + str(family).title() + \" family in there time of need.\")\n",
        "print(\"I hope this doesn't take my man \" + names[-4].title() + \" down the wrong path.\")"
      ],
      "metadata": {
        "colab": {
          "base_uri": "https://localhost:8080/"
        },
        "id": "IvAOE-lM_N2u",
        "outputId": "56f1182b-edb4-410d-8157-a927bb8d9778"
      },
      "execution_count": null,
      "outputs": [
        {
          "output_type": "stream",
          "name": "stdout",
          "text": [
            "I'm praying for the Jappa family in there time of need.\n",
            "I hope this doesn't take my man Tristan down the wrong path.\n"
          ]
        }
      ]
    },
    {
      "cell_type": "markdown",
      "source": [
        "Introducing the append and pop methods\n",
        "* append() - adds a nother item to the list\n",
        "* pop() - popping (or removing) the last item on the list"
      ],
      "metadata": {
        "id": "FmPKfQl7HQ-A"
      }
    },
    {
      "cell_type": "code",
      "source": [
        "colors = ['red', 'blue']\n",
        "print(colors[1])\n",
        "\n",
        "colors.append('green') # adding an item to the end of the list with the append method\n",
        "print(colors)\n",
        "\n",
        "popped_colors = colors.pop() # here, we are storing the value of the poped item into the variable named popped_colors\n",
        "print(popped_colors)\n",
        "\n",
        "colors.pop(1) # another way to pop an item form the list. Now the list only contains 1 item\n",
        "print(colors)"
      ],
      "metadata": {
        "id": "7muFZoPHCTq6",
        "colab": {
          "base_uri": "https://localhost:8080/"
        },
        "outputId": "43c376d1-4e3d-457f-91d1-d73c0f5dc11c"
      },
      "execution_count": null,
      "outputs": [
        {
          "output_type": "stream",
          "name": "stdout",
          "text": [
            "blue\n",
            "['red', 'blue', 'green']\n",
            "green\n",
            "['red']\n"
          ]
        }
      ]
    },
    {
      "cell_type": "code",
      "source": [
        "motercycles = ['honda', 'yamaha', 'suzuki', 'ducanti']\n",
        "print(motercycles)\n",
        "motercycles.remove('honda') #remove function works well if you do not know the position of the item you want to delete\n",
        "print(motercycles)\n",
        "\n",
        "too_expensive = motercycles[1]\n",
        "motercycles.remove(too_expensive)\n",
        "print(motercycles)\n",
        "\n",
        "print(f\"\\n{too_expensive.title()} is too expensive for me.\")"
      ],
      "metadata": {
        "colab": {
          "base_uri": "https://localhost:8080/"
        },
        "id": "pN8aBdFuF_EQ",
        "outputId": "4d5b7a05-7ef6-4450-99db-75037ec22e43"
      },
      "execution_count": null,
      "outputs": [
        {
          "output_type": "stream",
          "name": "stdout",
          "text": [
            "['honda', 'yamaha', 'suzuki', 'ducanti']\n",
            "['yamaha', 'suzuki', 'ducanti']\n",
            "['yamaha', 'ducanti']\n",
            "\n",
            "Suzuki is too expensive for me.\n"
          ]
        }
      ]
    },
    {
      "cell_type": "markdown",
      "source": [
        "Try it youreself\n",
        "* 3-4 Guest List\n",
        "* 3-5 Changing the Gues list\n",
        "* 3-6 More Guests"
      ],
      "metadata": {
        "id": "ajxpjBlDLPKW"
      }
    },
    {
      "cell_type": "code",
      "source": [
        "#3-4\n",
        "invitations = ['Jesus Christ', 'sade', 'rayfield']\n",
        "\n",
        "print(f\"Hello {invitations[0].title()}, I'd like to formally invite you to dinner. It would be an honor to have you.\")\n",
        "print(f\"Hello {invitations[1].title()}, I'd like to formally invite you to dinner. It would be an honor to have you.\")\n",
        "print(f\"Hello {invitations[2].title()}, I'd like to formally invite you to dinner. It would be an honor to have you.\")\n",
        "\n",
        "#3-5\n",
        "absent = invitations.pop(0)\n",
        "invitations.insert(0,'mom') #insert function will add mom like append but I can now choose which position to add her\n",
        "print(f\"\\nHello my honored guests, unfortunately {absent.title()} won't be joing us tonight.\")\n",
        "print(f\"\\nHello {invitations[0].title()}, I'd like to formally invite you to dinner. It would be an honor to have you.\")\n",
        "print(f\"Hello {invitations[1].title()}, I'd like to formally invite you to dinner. It would be an honor to have you.\")\n",
        "print(f\"Hello {invitations[2].title()}, I'd like to formally invite you to dinner. It would be an honor to have you.\")\n",
        "\n",
        "#3-6\n",
        "\n",
        "invitations.append('dad')\n",
        "invitations.append('brenelle')\n",
        "invitations.append('marvin gaye')\n",
        "\n",
        "print(f\"\\nHello {invitations[3].title()}, I'd like to formally invite you to dinner. It would be an honor to have you.\")\n",
        "print(f\"Hello {invitations[4].title()}, I'd like to formally invite you to dinner. It would be an honor to have you.\")\n",
        "print(f\"Hello {invitations[5].title()}, I'd like to formally invite you to dinner. It would be an honor to have you.\")\n",
        "\n",
        "print(f\"\\nGreat news {invitations[0].title()}! I've found a bigger table for more guests.\")\n",
        "print(f\"Great news {invitations[1].title()}! I've found a bigger table for more guests.\")\n",
        "print(f\"Great news {invitations[2].title()}! I've found a bigger table for more guests.\")"
      ],
      "metadata": {
        "colab": {
          "base_uri": "https://localhost:8080/"
        },
        "id": "srfxTZmZKVgW",
        "outputId": "e0c558ac-52e5-4c24-c16b-9c12bc74b268"
      },
      "execution_count": null,
      "outputs": [
        {
          "output_type": "stream",
          "name": "stdout",
          "text": [
            "Hello Jesus Christ, I'd like to formally invite you to dinner. It would be an honor to have you.\n",
            "Hello Sade, I'd like to formally invite you to dinner. It would be an honor to have you.\n",
            "Hello Rayfield, I'd like to formally invite you to dinner. It would be an honor to have you.\n",
            "\n",
            "Hello my honored guests, unfortunately Jesus Christ won't be joing us tonight.\n",
            "\n",
            "Hello Mom, I'd like to formally invite you to dinner. It would be an honor to have you.\n",
            "Hello Sade, I'd like to formally invite you to dinner. It would be an honor to have you.\n",
            "Hello Rayfield, I'd like to formally invite you to dinner. It would be an honor to have you.\n",
            "\n",
            "Hello Dad, I'd like to formally invite you to dinner. It would be an honor to have you.\n",
            "Hello Brenelle, I'd like to formally invite you to dinner. It would be an honor to have you.\n",
            "Hello Marvin Gaye, I'd like to formally invite you to dinner. It would be an honor to have you.\n",
            "\n",
            "Great news Mom! I've found a bigger table for more guests.\n",
            "Great news Sade! I've found a bigger table for more guests.\n",
            "Great news Rayfield! I've found a bigger table for more guests.\n"
          ]
        }
      ]
    },
    {
      "cell_type": "code",
      "source": [],
      "metadata": {
        "id": "WqJcG7JCMzu7"
      },
      "execution_count": null,
      "outputs": []
    }
  ]
}