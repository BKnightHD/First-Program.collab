{ 
  "nbformat": 4,
  "nbformat_minor": 0,
  "metadata": {
    "colab": {
      "provenance": []
    },
    "kernelspec": {
      "name": "python3",
      "display_name": "Python 3"
    },
    "language_info": {
      "name": "python"
    }
  },
  "cells": [
    {
      "cell_type": "markdown",
      "source": [
        "# Chapter 3 - Lists"
      ],
      "metadata": {
        "id": "Ld6pq-KPNzNm"
      }
    },
    {
      "cell_type": "code",
      "execution_count": null,
      "metadata": {
        "id": "bvGUz5O26uhX",
        "outputId": "9cf5362a-f860-42ae-f930-76941e43ab36",
        "colab": {
          "base_uri": "https://localhost:8080/"
        }
      },
      "outputs": [
        {
          "output_type": "stream",
          "name": "stdout",
          "text": [
            "['trek', 'cannondale', 'redline', 'specialized']\n",
            "    Trek\n",
            "\tCannondale\n",
            "\t\tREDLINE\n",
            "\t\t\tSpecialized\n",
            "specialized redline\n"
          ]
        }
      ],
      "source": [
        "bicycles = ['trek', 'cannondale', 'redline', 'specialized'] #first list\n",
        "print(bicycles)\n",
        "#index positions start at 0, not 1\n",
        "print(\"    \" + bicycles[0].title())\n",
        "print(\"\\t\" + bicycles[1].title())\n",
        "print(\"\\t\\t\" + bicycles[2].upper())\n",
        "print(\"\\t\\t\\t\" + bicycles[3].title())\n",
        "print(bicycles[-1], bicycles[-2])"
      ]
    },
    {
      "cell_type": "code",
      "source": [
        "message = \"My first bicycle was a \" + bicycles[2].title() + \".\"\n",
        "print(message)"
      ],
      "metadata": {
        "colab": {
          "base_uri": "https://localhost:8080/"
        },
        "id": "sYr94OooA869",
        "outputId": "c7e1ebb3-f89a-4eba-b92b-cff4df0c2e2d"
      },
      "execution_count": null,
      "outputs": [
        {
          "output_type": "stream",
          "name": "stdout",
          "text": [
            "My first bicycle was a Redline.\n"
          ]
        }
      ]
    },
    {
      "cell_type": "markdown",
      "source": [
        "Try if yourself\n",
        "* 3-1 Names\n",
        "* 3-2 Greetings\n",
        "* 3-3 Your Own List"
      ],
      "metadata": {
        "id": "Y6vCeae_NHy-"
      }
    },
    {
      "cell_type": "code",
      "source": [
        "#3-1\n",
        "names = [\"Giuseppe\", \"Maisam\", \"Joe\", \"Devin\", \"Eddie\"]\n",
        "print(names[0],\"\\n\",names[1],\"\\n\",names[2],\"\\n\",names[3],\"\\n\",names[4])\n",
        "\n",
        "#3-2\n",
        "print(\"Hey \" + names[0] + \", I hope you're having a great day!\")\n",
        "print(\"Hey \" + names[1] + \", I hope you're having a great day!\")\n",
        "print(\"Hey \" + names[2] + \", I hope you're having a great day!\")\n",
        "print(\"Hey \" + names[3] + \", I hope you're having a great day!\")\n",
        "print(\"Hey \" + names[4] + \", I hope you're having a great day!\")\n",
        "\n",
        "#3-3\n",
        "stores = ['nordstroms', 'express', 'levis', 'north face', 'nike']\n",
        "print(\"I use to go to West County mall all the time top shop at \" + stores[-5].title())"
      ],
      "metadata": {
        "colab": {
          "base_uri": "https://localhost:8080/"
        },
        "id": "b975IUZUNGwu",
        "outputId": "0607b9b5-b6c4-464a-d8ec-44fc0f6fec1d"
      },
      "execution_count": null,
      "outputs": [
        {
          "output_type": "stream",
          "name": "stdout",
          "text": [
            "Giuseppe \n",
            " Maisam \n",
            " Joe \n",
            " Devin \n",
            " Eddie\n",
            "Hey Giuseppe, I hope you're having a great day!\n",
            "Hey Maisam, I hope you're having a great day!\n",
            "Hey Joe, I hope you're having a great day!\n",
            "Hey Devin, I hope you're having a great day!\n",
            "Hey Eddie, I hope you're having a great day!\n",
            "I use to go to West County mall all the time top shop at Nordstroms\n"
          ]
        }
      ]
    },
    {
      "cell_type": "code",
      "source": [
        "motercycles = ['honda', 'yamaha', 'suzuki']\n",
        "print(motercycles)\n",
        "\n",
        "motercycles[0] = 'ducati' # here, we are changing the value stored in the first position of our motercycle list\n",
        "print(motercycles)"
      ],
      "metadata": {
        "colab": {
          "base_uri": "https://localhost:8080/"
        },
        "id": "50XAmsMFSjra",
        "outputId": "c44b509a-ee33-4f11-cdbb-f1f152b2c579"
      },
      "execution_count": null,
      "outputs": [
        {
          "output_type": "stream",
          "name": "stdout",
          "text": [
            "['honda', 'yamaha', 'suzuki']\n",
            "['ducati', 'yamaha', 'suzuki']\n"
          ]
        }
      ]
    },
    {
      "cell_type": "code",
      "source": [
        "motercycles = []\n",
        "motercycles.append('honda')\n",
        "motercycles.append('yamaha')\n",
        "motercycles.append('suzuki')\n",
        "print(motercycles)"
      ],
      "metadata": {
        "id": "VnmDlKnAAaQ-",
        "colab": {
          "base_uri": "https://localhost:8080/"
        },
        "outputId": "cae76eb5-f391-4914-fbf7-664102c399bc"
      },
      "execution_count": null,
      "outputs": [
        {
          "output_type": "stream",
          "name": "stdout",
          "text": [
            "['honda', 'yamaha', 'suzuki']\n"
          ]
        }
      ]
    },
    {
      "cell_type": "code",
      "source": [
        "motercycles = ['honda', 'yamaha', 'suzuki']\n",
        "last_owned = motercycles.pop()\n",
        "first_owned = motercycles.pop(0)\n",
        "\n",
        "\n",
        "print(f\"The first motercycle I owned was a {last_owned.title()}.\") #inputing a varibale within a str without concatinating it, the f represents a \"f-string\"\n",
        "print(f\"The first motercycle I owned was a {first_owned.title()}.\")"
      ],
      "metadata": {
        "colab": {
          "base_uri": "https://localhost:8080/"
        },
        "id": "JRJJUmwlIJYk",
        "outputId": "9a3272f2-8c47-464d-b719-8c01f7afc21b"
      },
      "execution_count": null,
      "outputs": [
        {
          "output_type": "stream",
          "name": "stdout",
          "text": [
            "The first motercycle I owned was a Suzuki.\n",
            "The first motercycle I owned was a Honda.\n"
          ]
        }
      ]
    },
    {
      "cell_type": "code",
      "source": [
        "names = ['jeffery', 'tristan', 'jank', 'miles']\n",
        "names.append('mason')\n",
        "family = \"jappa\"\n",
        "names.insert(0, 'maisam')\n",
        "print(\"I'm praying for the \" + str(family).title() + \" family in there time of need.\")\n",
        "print(\"I hope this doesn't take my man \" + names[-4].title() + \" down the wrong path.\")"
      ],
      "metadata": {
        "colab": {
          "base_uri": "https://localhost:8080/"
        },
        "id": "IvAOE-lM_N2u",
        "outputId": "56f1182b-edb4-410d-8157-a927bb8d9778"
      },
      "execution_count": null,
      "outputs": [
        {
          "output_type": "stream",
          "name": "stdout",
          "text": [
            "I'm praying for the Jappa family in there time of need.\n",
            "I hope this doesn't take my man Tristan down the wrong path.\n"
          ]
        }
      ]
    },
    {
      "cell_type": "markdown",
      "source": [
        "Introducing the append and pop methods\n",
        "* append() - adds a nother item to the list\n",
        "* pop() - popping (or removing) the last item on the list"
      ],
      "metadata": {
        "id": "FmPKfQl7HQ-A"
      }
    },
    {
      "cell_type": "code",
      "source": [
        "colors = ['red', 'blue']\n",
        "print(colors[1])\n",
        "\n",
        "colors.append('green') # adding an item to the end of the list with the append method\n",
        "print(colors)\n",
        "\n",
        "popped_colors = colors.pop() # here, we are storing the value of the poped item into the variable named popped_colors\n",
        "print(popped_colors)\n",
        "\n",
        "colors.pop(1) # another way to pop an item form the list. Now the list only contains 1 item\n",
        "print(colors)"
      ],
      "metadata": {
        "id": "7muFZoPHCTq6",
        "colab": {
          "base_uri": "https://localhost:8080/"
        },
        "outputId": "43c376d1-4e3d-457f-91d1-d73c0f5dc11c"
      },
      "execution_count": null,
      "outputs": [
        {
          "output_type": "stream",
          "name": "stdout",
          "text": [
            "blue\n",
            "['red', 'blue', 'green']\n",
            "green\n",
            "['red']\n"
          ]
        }
      ]
    },
    {
      "cell_type": "code",
      "source": [
        "motercycles = ['honda', 'yamaha', 'suzuki', 'ducanti']\n",
        "print(motercycles)\n",
        "motercycles.remove('honda') #remove function works well if you do not know the position of the item you want to delete\n",
        "print(motercycles)\n",
        "\n",
        "too_expensive = motercycles[1]\n",
        "motercycles.remove(too_expensive)\n",
        "print(motercycles)\n",
        "\n",
        "print(f\"\\n{too_expensive.title()} is too expensive for me.\")"
      ],
      "metadata": {
        "colab": {
          "base_uri": "https://localhost:8080/"
        },
        "id": "pN8aBdFuF_EQ",
        "outputId": "4d5b7a05-7ef6-4450-99db-75037ec22e43"
      },
      "execution_count": null,
      "outputs": [
        {
          "output_type": "stream",
          "name": "stdout",
          "text": [
            "['honda', 'yamaha', 'suzuki', 'ducanti']\n",
            "['yamaha', 'suzuki', 'ducanti']\n",
            "['yamaha', 'ducanti']\n",
            "\n",
            "Suzuki is too expensive for me.\n"
          ]
        }
      ]
    },
    {
      "cell_type": "markdown",
      "source": [
        "Try it youreself\n",
        "* 3-4 Guest List\n",
        "* 3-5 Changing the Gues list\n",
        "* 3-6 More Guests"
      ],
      "metadata": {
        "id": "ajxpjBlDLPKW"
      }
    },
    {
      "cell_type": "code",
      "source": [
        "#3-4\n",
        "invitations = ['Jesus Christ', 'sade', 'rayfield']\n",
        "\n",
        "print(f\"Hello {invitations[0].title()}, I'd like to formally invite you to dinner. It would be an honor to have you.\")\n",
        "print(f\"Hello {invitations[1].title()}, I'd like to formally invite you to dinner. It would be an honor to have you.\")\n",
        "print(f\"Hello {invitations[2].title()}, I'd like to formally invite you to dinner. It would be an honor to have you.\")\n",
        "\n",
        "#3-5\n",
        "absent = invitations.pop(0)\n",
        "invitations.insert(0,'mom') #insert function will add mom like append but I can now choose which position to add her\n",
        "print(f\"\\nHello my honored guests, unfortunately {absent.title()} won't be joing us tonight.\")\n",
        "print(f\"\\nHello {invitations[0].title()}, I'd like to formally invite you to dinner. It would be an honor to have you.\")\n",
        "print(f\"Hello {invitations[1].title()}, I'd like to formally invite you to dinner. It would be an honor to have you.\")\n",
        "print(f\"Hello {invitations[2].title()}, I'd like to formally invite you to dinner. It would be an honor to have you.\")\n",
        "\n",
        "#3-6\n",
        "\n",
        "invitations.append('dad')\n",
        "invitations.append('brenelle')\n",
        "invitations.append('marvin gaye')\n",
        "\n",
        "print(f\"\\nHello {invitations[3].title()}, I'd like to formally invite you to dinner. It would be an honor to have you.\")\n",
        "print(f\"Hello {invitations[4].title()}, I'd like to formally invite you to dinner. It would be an honor to have you.\")\n",
        "print(f\"Hello {invitations[5].title()}, I'd like to formally invite you to dinner. It would be an honor to have you.\")\n",
        "\n",
        "print(f\"\\nGreat news {invitations[0].title()}! I've found a bigger table for more guests.\")\n",
        "print(f\"Great news {invitations[1].title()}! I've found a bigger table for more guests.\")\n",
        "print(f\"Great news {invitations[2].title()}! I've found a bigger table for more guests.\")"
      ],
      "metadata": {
        "colab": {
          "base_uri": "https://localhost:8080/"
        },
        "id": "srfxTZmZKVgW",
        "outputId": "e0c558ac-52e5-4c24-c16b-9c12bc74b268"
      },
      "execution_count": null,
      "outputs": [
        {
          "output_type": "stream",
          "name": "stdout",
          "text": [
            "Hello Jesus Christ, I'd like to formally invite you to dinner. It would be an honor to have you.\n",
            "Hello Sade, I'd like to formally invite you to dinner. It would be an honor to have you.\n",
            "Hello Rayfield, I'd like to formally invite you to dinner. It would be an honor to have you.\n",
            "\n",
            "Hello my honored guests, unfortunately Jesus Christ won't be joing us tonight.\n",
            "\n",
            "Hello Mom, I'd like to formally invite you to dinner. It would be an honor to have you.\n",
            "Hello Sade, I'd like to formally invite you to dinner. It would be an honor to have you.\n",
            "Hello Rayfield, I'd like to formally invite you to dinner. It would be an honor to have you.\n",
            "\n",
            "Hello Dad, I'd like to formally invite you to dinner. It would be an honor to have you.\n",
            "Hello Brenelle, I'd like to formally invite you to dinner. It would be an honor to have you.\n",
            "Hello Marvin Gaye, I'd like to formally invite you to dinner. It would be an honor to have you.\n",
            "\n",
            "Great news Mom! I've found a bigger table for more guests.\n",
            "Great news Sade! I've found a bigger table for more guests.\n",
            "Great news Rayfield! I've found a bigger table for more guests.\n"
          ]
        }
      ]
    },
    {
      "cell_type": "code",
      "source": [
        "bicycles = ['trek', 'cannondale', 'redline', 'specialized']\n",
        "print(bicycles)\n",
        "\n",
        "# Accessing Elements in a list\n",
        "print(bicycles[0])\n",
        "print(bicycles[1])\n",
        "print(bicycles[2])\n",
        "cars = ['bmw', 'audi', 'tesla', 'acura']\n",
        "print(cars[2].title())\n",
        "print(cars[-1].upper()) # -1 always returns the last item of a list"
      ],
      "metadata": {
        "id": "WqJcG7JCMzu7",
        "colab": {
          "base_uri": "https://localhost:8080/"
        },
        "outputId": "f857e783-6e22-4fa9-8332-27086f52c3e4"
      },
      "execution_count": null,
      "outputs": [
        {
          "output_type": "stream",
          "name": "stdout",
          "text": [
            "['trek', 'cannondale', 'redline', 'specialized']\n",
            "trek\n",
            "cannondale\n",
            "redline\n",
            "Tesla\n",
            "ACURA\n"
          ]
        }
      ]
    },
    {
      "cell_type": "code",
      "source": [
        "bicycles = ['trek', 'cannondale', 'redline', 'specialized']\n",
        "message = \"My first bicycle was a \" + bicycles[0].title() + \".\"\n",
        "print(message)"
      ],
      "metadata": {
        "colab": {
          "base_uri": "https://localhost:8080/"
        },
        "id": "CbK9jjoRQbgV",
        "outputId": "7c4f4902-9ff4-4191-e956-72a3ff9872ee"
      },
      "execution_count": null,
      "outputs": [
        {
          "output_type": "stream",
          "name": "stdout",
          "text": [
            "My first bicycle was a Trek.\n"
          ]
        }
      ]
    },
    {
      "cell_type": "code",
      "source": [
        "# 3-1 Names: Store the names of a few of your freinds in a list called names\n",
        "\n",
        "names = ['giuseppe', 'joe', 'andy', 'devin', 'aldin', 'ellis']\n",
        "print(names[0].title())\n",
        "print(names[1].title())\n",
        "print(names[2].title())\n",
        "print(names[3].title())\n",
        "print(names[4].title())\n",
        "print(names[5].title())\n",
        "\n",
        "# 3-2 Greetings: Use your list above to print messages to each of them. The message should be the same to each person.\n",
        "message = \"Hey \"\n",
        "message2 = \", hows it going?\"\n",
        "print(message + names[0].title() + message2)\n",
        "print(message + names[1].title() + message2)\n",
        "print(message + names[2].title() + message2)\n",
        "print(message + names[3].title() + message2)\n",
        "print(message + names[4].title() + message2)\n",
        "print(message + names[5].title() + message2)\n",
        "\n",
        "# 3-3 Your own list: Store several examples of your favorite mode of transportation in a list and print statements about each of them\n",
        "transportation = ['lamborghini countach', 'ford bronco', 'honda accord', 'luxury sedan']\n",
        "print(\"My dream car is \" + transportation[0].title() + '.')\n",
        "print(\"One day I'll own a \" + transportation[1].title() + '.')\n",
        "print(\"My first car was a \" + transportation[2].title() + '.')\n",
        "print(\"My next car will be a \" +transportation[-1] + '.')"
      ],
      "metadata": {
        "colab": {
          "base_uri": "https://localhost:8080/"
        },
        "id": "M9ulE_BuQy8a",
        "outputId": "a36df977-6e67-404a-8c79-b11b86bb39b2"
      },
      "execution_count": null,
      "outputs": [
        {
          "output_type": "stream",
          "name": "stdout",
          "text": [
            "Giuseppe\n",
            "Joe\n",
            "Andy\n",
            "Devin\n",
            "Aldin\n",
            "Ellis\n",
            "Hey Giuseppe, hows it going?\n",
            "Hey Joe, hows it going?\n",
            "Hey Andy, hows it going?\n",
            "Hey Devin, hows it going?\n",
            "Hey Aldin, hows it going?\n",
            "Hey Ellis, hows it going?\n",
            "My dream car is Lamborghini Countach.\n",
            "One day I'll own a Ford Bronco.\n",
            "My first car was a Honda Accord.\n",
            "My next car will be a luxury sedan.\n"
          ]
        }
      ]
    },
    {
      "cell_type": "code",
      "source": [
        "motorcycles = ['honda', 'yamaha', 'suzuki']\n",
        "print(motorcycles)\n",
        "motorcycles[0] = 'ducati' # changing the first element of the list\n",
        "print(motorcycles)\n",
        "motorcycles.append('honda') # append adds an item to the end of the list\n",
        "print(motorcycles)"
      ],
      "metadata": {
        "colab": {
          "base_uri": "https://localhost:8080/"
        },
        "id": "0ITCa9BIRVS0",
        "outputId": "5a8c741b-b982-40a0-b4eb-75464c4f2e71"
      },
      "execution_count": null,
      "outputs": [
        {
          "output_type": "stream",
          "name": "stdout",
          "text": [
            "['honda', 'yamaha', 'suzuki']\n",
            "['ducati', 'yamaha', 'suzuki']\n",
            "['ducati', 'yamaha', 'suzuki', 'honda']\n"
          ]
        }
      ]
    },
    {
      "cell_type": "code",
      "source": [
        "motorcycles = [] # empty list\n",
        "motorcycles.append('honda')\n",
        "motorcycles.append('yamaha')\n",
        "motorcycles.append('suzuki')\n",
        "\n",
        "print(motorcycles)\n",
        "\n",
        "motorcycles.insert(0, 'ducanti') # inserts value 'ducanti' at the beggening of the list\n",
        "print(motorcycles)"
      ],
      "metadata": {
        "colab": {
          "base_uri": "https://localhost:8080/"
        },
        "id": "8iqRtNjLTaFq",
        "outputId": "fdd21db0-44d6-43cb-dcb9-3341b62218bb"
      },
      "execution_count": null,
      "outputs": [
        {
          "output_type": "stream",
          "name": "stdout",
          "text": [
            "['honda', 'yamaha', 'suzuki']\n",
            "['ducanti', 'honda', 'yamaha', 'suzuki']\n"
          ]
        }
      ]
    },
    {
      "cell_type": "code",
      "source": [
        "motorcycles = ['honda', 'yamaha', 'suzuki']\n",
        "print(motorcycles)\n",
        "del motorcycles[0] # removes first item form the list\n",
        "print(motorcycles)\n",
        "\n",
        "del motorcycles[-1]\n",
        "print(motorcycles)"
      ],
      "metadata": {
        "colab": {
          "base_uri": "https://localhost:8080/"
        },
        "id": "BR9n1bebUqW5",
        "outputId": "57eff569-3b38-4725-f38e-d4d1a81081a5"
      },
      "execution_count": null,
      "outputs": [
        {
          "output_type": "stream",
          "name": "stdout",
          "text": [
            "['honda', 'yamaha', 'suzuki']\n",
            "['yamaha', 'suzuki']\n",
            "['yamaha']\n"
          ]
        }
      ]
    },
    {
      "cell_type": "code",
      "source": [
        "motorcycles = ['honda', 'yamaha', 'suzuki']\n",
        "print(motorcycles)\n",
        "\n",
        "motorcycles.pop() # shows us the last item of the list (this is now what item we're working with, also removed this item from the list)\n",
        "motorcycles"
      ],
      "metadata": {
        "colab": {
          "base_uri": "https://localhost:8080/"
        },
        "id": "zcTlhTsFcJ-Q",
        "outputId": "c6bf3e12-7092-4992-82d9-a818c705d79a"
      },
      "execution_count": null,
      "outputs": [
        {
          "output_type": "stream",
          "name": "stdout",
          "text": [
            "['honda', 'yamaha', 'suzuki']\n"
          ]
        },
        {
          "output_type": "execute_result",
          "data": {
            "text/plain": [
              "['honda', 'yamaha']"
            ]
          },
          "metadata": {},
          "execution_count": 31
        }
      ]
    },
    {
      "cell_type": "code",
      "source": [
        "motorcycles = ['honda', 'yamaha', 'suzuki']\n",
        "print(motorcycles)\n",
        "\n",
        "popped_motorcycles = motorcycles.pop()\n",
        "print(motorcycles)\n",
        "print(popped_motorcycles)"
      ],
      "metadata": {
        "colab": {
          "base_uri": "https://localhost:8080/"
        },
        "id": "yC7bfnIrc2F5",
        "outputId": "92f192fd-91e9-4d28-9ed2-c95d8fbd1331"
      },
      "execution_count": null,
      "outputs": [
        {
          "output_type": "stream",
          "name": "stdout",
          "text": [
            "['honda', 'yamaha', 'suzuki']\n",
            "['honda', 'yamaha']\n",
            "suzuki\n"
          ]
        }
      ]
    },
    {
      "cell_type": "code",
      "source": [
        "motorcycles = ['honda', 'yamaha', 'suzuki']\n",
        "\n",
        "last_owned = motorcycles.pop()\n",
        "print(\"The last motorcycle I owned was a \" + last_owned.title() + \".\")"
      ],
      "metadata": {
        "colab": {
          "base_uri": "https://localhost:8080/"
        },
        "id": "k85ZahHPdJBw",
        "outputId": "b64617df-6003-41eb-9155-624211af5c02"
      },
      "execution_count": null,
      "outputs": [
        {
          "output_type": "stream",
          "name": "stdout",
          "text": [
            "The last motorcycle I owned was a Suzuki.\n"
          ]
        }
      ]
    },
    {
      "cell_type": "code",
      "source": [
        "motorcycles = ['honda', 'yamaha', 'suzuki']\n",
        "\n",
        "first_owned = motorcycles.pop(0)\n",
        "print('The first motorcycle I owned was a ' + first_owned.title() + '.')"
      ],
      "metadata": {
        "colab": {
          "base_uri": "https://localhost:8080/"
        },
        "id": "C-5k8ZMLd4WQ",
        "outputId": "950d35cb-1894-439f-e12b-5838c4eb7fbf"
      },
      "execution_count": null,
      "outputs": [
        {
          "output_type": "stream",
          "name": "stdout",
          "text": [
            "The first motorcycle I owned was a Honda.\n"
          ]
        }
      ]
    },
    {
      "cell_type": "code",
      "source": [
        "# sometimes you won't know the posistion of the value you want to remove from a list. Use the remove() method\n",
        "\n",
        "motorcycles = ['honda', 'yamaha', 'suzuki', 'ducati']\n",
        "print(motorcycles)\n",
        "motorcycles.remove('ducati')\n",
        "print(motorcycles)"
      ],
      "metadata": {
        "colab": {
          "base_uri": "https://localhost:8080/"
        },
        "id": "8qVZeG2geKDo",
        "outputId": "5468f69f-3617-4c34-b4f5-d4c09233d97b"
      },
      "execution_count": null,
      "outputs": [
        {
          "output_type": "stream",
          "name": "stdout",
          "text": [
            "['honda', 'yamaha', 'suzuki', 'ducati']\n",
            "['honda', 'yamaha', 'suzuki']\n"
          ]
        }
      ]
    },
    {
      "cell_type": "code",
      "source": [
        "motorcycles = ['honda', 'yamaha', 'suzuki', 'ducati']\n",
        "print(motorcycles)\n",
        "\n",
        "too_expensive = 'ducati'\n",
        "motorcycles.remove(too_expensive)\n",
        "print(motorcycles)\n",
        "print(\"\\nA \" + too_expensive.title() + \" is too expensive for me.\")"
      ],
      "metadata": {
        "colab": {
          "base_uri": "https://localhost:8080/"
        },
        "id": "04pcalHUe0nT",
        "outputId": "695c2eaa-9bc8-4110-ec0b-bc4edfdb7073"
      },
      "execution_count": null,
      "outputs": [
        {
          "output_type": "stream",
          "name": "stdout",
          "text": [
            "['honda', 'yamaha', 'suzuki', 'ducati']\n",
            "['honda', 'yamaha', 'suzuki']\n",
            "\n",
            "A Ducati is too expensive for me.\n"
          ]
        }
      ]
    },
    {
      "cell_type": "code",
      "source": [
        "# 3-4 Guest list: Make a list of three people you'd invite to dinner. Then use your list to print a message to each person, inviting them to dinner\n",
        "\n",
        "people = ['jordan peterson', 'eric weinstien', 'david goggins', 'chris williamson']\n",
        "print(\"Good morning \" + people[0].title() + \", I would like to formally invite you to dinner this afternoon.\")\n",
        "print(\"Good morning \" + people[1].title() + \", I would like to formally invite you to dinner this afternoon.\")\n",
        "print(\"Good morning \" + people[2].title() + \", I would like to formally invite you to dinner this afternoon.\")\n",
        "print(\"Good morning \" + people[3].title() + \", I would like to formally invite you to dinner this afternoon.\")\n",
        "\n",
        "# 3-5 Changing Guest List: Someone from the prior list cannot make the dinner, you'll have to invite someone else.\n",
        "\n",
        "cant_make = 'eric weinstien'\n",
        "people.remove(cant_make)\n",
        "print(\"\\nUnfortunately it looks as though \" + cant_make.title() + \" wont be able to make it to dinner.\")\n",
        "people.insert(1, 'joe rogan')\n",
        "print(people)\n",
        "print(\"\\nHello \" + people[0].title() + \", \" + cant_make.title() + \" won't be making it tonight. Please welcome \" + people[1].title() + \" to dinner.\")\n",
        "print(\"Hello \" + people[2].title() + \", \" + cant_make.title() + \" won't be making it tonight. Please welcome \" + people[1].title() + \" to dinner.\")\n",
        "print(\"Hello \" + people[3].title() + \", \" + cant_make.title() + \" won't be making it tonight. Please welcome \" + people[1].title() + \" to dinner.\")\n",
        "\n",
        "# 3-6 Add more guests\n",
        "\n",
        "people.append('steve jobs')\n",
        "people.insert(0, 'peter attia')\n",
        "people.insert(-1, 'andrew huberman')\n",
        "print(people)\n",
        "\n",
        "print(\"\\nHello everyone, \\nI've found a bigger table, which means I can invite more people!\")\n",
        "print(\"Please welcome \" + people[0].title() + \", \" + people[-2].title() + \", and \" + people[-1].title() + \"!\")\n",
        "\n",
        "# Shrinking Guest List:\n",
        "print(\"\\n\" + str(people))\n",
        "print(\"Unfortunately it looks as thought I can now only invite 2 people to dinner.\")\n",
        "person_1 = people.pop()\n",
        "print(\"My sincerist apologies \" + person_1.title() + \", but you'll not able to attend my dinner tonight.\")\n",
        "person_2 = people.pop()\n",
        "print(\"My sincerist apologies \" + person_2.title() + \", but you'll not able to attend my dinner tonight.\")\n",
        "person_3 = people.pop()\n",
        "print(\"My sincerist apologies \" + person_3.title() + \", but you'll not able to attend my dinner tonight.\")\n",
        "person_4 = people.pop()\n",
        "print(\"My sincerist apologies \" + person_4.title() + \", but you'll not able to attend my dinner tonight.\")\n",
        "person_5 = people.pop()\n",
        "print(\"My sincerist apologies \" + person_5.title() + \", but you'll not able to attend my dinner tonight.\")\n",
        "\n",
        "print(\"\\nHello \" + people[0].title() + \", you are still invited!\")\n",
        "print(\"Hello \" + people[1].title() + \", you are still invited!\")\n",
        "\n",
        "del people[0]\n",
        "del people[0]\n",
        "people"
      ],
      "metadata": {
        "colab": {
          "base_uri": "https://localhost:8080/"
        },
        "id": "Q4-czPg2faR0",
        "outputId": "08aef23e-ef03-42d6-90c4-5d4f5d331e7c"
      },
      "execution_count": null,
      "outputs": [
        {
          "output_type": "stream",
          "name": "stdout",
          "text": [
            "Good morning Jordan Peterson, I would like to formally invite you to dinner this afternoon.\n",
            "Good morning Eric Weinstien, I would like to formally invite you to dinner this afternoon.\n",
            "Good morning David Goggins, I would like to formally invite you to dinner this afternoon.\n",
            "Good morning Chris Williamson, I would like to formally invite you to dinner this afternoon.\n",
            "\n",
            "Unfortunately it looks as though Eric Weinstien wont be able to make it to dinner.\n",
            "['jordan peterson', 'joe rogan', 'david goggins', 'chris williamson']\n",
            "\n",
            "Hello Jordan Peterson, Eric Weinstien won't be making it tonight. Please welcome Joe Rogan to dinner.\n",
            "Hello David Goggins, Eric Weinstien won't be making it tonight. Please welcome Joe Rogan to dinner.\n",
            "Hello Chris Williamson, Eric Weinstien won't be making it tonight. Please welcome Joe Rogan to dinner.\n",
            "['peter attia', 'jordan peterson', 'joe rogan', 'david goggins', 'chris williamson', 'andrew huberman', 'steve jobs']\n",
            "\n",
            "Hello everyone, \n",
            "I've found a bigger table, which means I can invite more people!\n",
            "Please welcome Peter Attia, Andrew Huberman, and Steve Jobs!\n",
            "\n",
            "['peter attia', 'jordan peterson', 'joe rogan', 'david goggins', 'chris williamson', 'andrew huberman', 'steve jobs']\n",
            "Unfortunately it looks as thought I can now only invite 2 people to dinner.\n",
            "My sincerist apologies Steve Jobs, but you'll not able to attend my dinner tonight.\n",
            "My sincerist apologies Andrew Huberman, but you'll not able to attend my dinner tonight.\n",
            "My sincerist apologies Chris Williamson, but you'll not able to attend my dinner tonight.\n",
            "My sincerist apologies David Goggins, but you'll not able to attend my dinner tonight.\n",
            "My sincerist apologies Joe Rogan, but you'll not able to attend my dinner tonight.\n",
            "\n",
            "Hello Peter Attia, you are still invited!\n",
            "Hello Jordan Peterson, you are still invited!\n"
          ]
        },
        {
          "output_type": "execute_result",
          "data": {
            "text/plain": [
              "[]"
            ]
          },
          "metadata": {},
          "execution_count": 71
        }
      ]
    },
    {
      "cell_type": "code",
      "source": [
        "cars = ['bmw', 'audi', 'toyota', 'subaru']\n",
        "cars.sort() # permanently sorts my list\n",
        "print(cars)\n",
        "\n",
        "cars = ['bmw', 'audi', 'toyota', 'subaru']\n",
        "cars.sort(reverse=True)\n",
        "print(cars)"
      ],
      "metadata": {
        "id": "zr138z3wgpip",
        "colab": {
          "base_uri": "https://localhost:8080/"
        },
        "outputId": "a12a39c5-2ceb-4b0f-d3f7-715d67d72bfc"
      },
      "execution_count": null,
      "outputs": [
        {
          "output_type": "stream",
          "name": "stdout",
          "text": [
            "['audi', 'bmw', 'subaru', 'toyota']\n",
            "['toyota', 'subaru', 'bmw', 'audi']\n"
          ]
        }
      ]
    },
    {
      "cell_type": "code",
      "source": [
        "cars = ['bmw', 'audi', 'toyota', 'subaru', 'kia', 'lexus', 'mercedes']\n",
        "print(\"Here is the original list:\")\n",
        "print(cars)\n",
        "\n",
        "print(\"\\nHere is the sorted list: \")\n",
        "print(sorted(cars))\n",
        "\n",
        "print(\"\\nHere is the original list again:\")\n",
        "print(cars)\n",
        "\n",
        "print(\"\\nHere is the list in reverse sorted order using the sorted function:\")\n",
        "print(sorted(cars, reverse=True))"
      ],
      "metadata": {
        "colab": {
          "base_uri": "https://localhost:8080/"
        },
        "id": "mm977r5zscDV",
        "outputId": "f0e7054b-b515-4d3d-b2ef-f44c1b8d7402"
      },
      "execution_count": null,
      "outputs": [
        {
          "output_type": "stream",
          "name": "stdout",
          "text": [
            "Here is the original list:\n",
            "['bmw', 'audi', 'toyota', 'subaru', 'kia', 'lexus', 'mercedes']\n",
            "\n",
            "Here is the sorted list: \n",
            "['audi', 'bmw', 'kia', 'lexus', 'mercedes', 'subaru', 'toyota']\n",
            "\n",
            "Here is the original list again:\n",
            "['bmw', 'audi', 'toyota', 'subaru', 'kia', 'lexus', 'mercedes']\n",
            "\n",
            "Here is the list in reverse sorted order using the sorted function:\n",
            "['toyota', 'subaru', 'mercedes', 'lexus', 'kia', 'bmw', 'audi']\n"
          ]
        }
      ]
    },
    {
      "cell_type": "code",
      "source": [
        "cars = ['bmw', 'audi', 'toyota', 'subaru', 'kia', 'lexus', 'mercedes']\n",
        "print(cars)\n",
        "\n",
        "cars.reverse()\n",
        "print(cars)\n",
        "\n",
        "cars.reverse()\n",
        "print(cars)\n",
        "\n",
        "len(cars)"
      ],
      "metadata": {
        "colab": {
          "base_uri": "https://localhost:8080/"
        },
        "id": "TQ64zd5wr6oB",
        "outputId": "10ae3846-22c5-4ef1-aee9-f80d8985f01f"
      },
      "execution_count": null,
      "outputs": [
        {
          "output_type": "stream",
          "name": "stdout",
          "text": [
            "['bmw', 'audi', 'toyota', 'subaru', 'kia', 'lexus', 'mercedes']\n",
            "['mercedes', 'lexus', 'kia', 'subaru', 'toyota', 'audi', 'bmw']\n",
            "['bmw', 'audi', 'toyota', 'subaru', 'kia', 'lexus', 'mercedes']\n"
          ]
        },
        {
          "output_type": "execute_result",
          "data": {
            "text/plain": [
              "7"
            ]
          },
          "metadata": {},
          "execution_count": 8
        }
      ]
    },
    {
      "cell_type": "code",
      "source": [
        "# 3-8 Seeing the World\n",
        "\n",
        "places = ['rio', 'paris', 'africa', 'rome', 'egnland', 'dubai']\n",
        "print(places)\n",
        "\n",
        "# use sorted() to print your list in alphabetical order without modifying the actual list\n",
        "\n",
        "print(sorted(places))\n",
        "\n",
        "# Show that your list is still in its original order by print it\n",
        "\n",
        "print(places)\n",
        "\n",
        "# Use sorted to print your list in reverse\n",
        "\n",
        "print(sorted(places, reverse=True))\n",
        "print(places)\n",
        "\n",
        "# use reverse to change the order of your list again.\n",
        "places.reverse()\n",
        "print(places)\n",
        "print(places)\n",
        "\n",
        "# use sort to change your list so it's stored in alhabetical order.\n",
        "places.sort()\n",
        "print(places)\n",
        "print(places)\n",
        "\n",
        "# reverse alphabetical order\n",
        "\n",
        "places.sort(reverse=True)\n",
        "print(places)"
      ],
      "metadata": {
        "colab": {
          "base_uri": "https://localhost:8080/"
        },
        "id": "0CvDzU0Vt-qc",
        "outputId": "d7b3b8c0-82f7-4d28-f207-2eaed2de5dd2"
      },
      "execution_count": null,
      "outputs": [
        {
          "output_type": "stream",
          "name": "stdout",
          "text": [
            "['rio', 'paris', 'africa', 'rome', 'egnland', 'dubai']\n",
            "['africa', 'dubai', 'egnland', 'paris', 'rio', 'rome']\n",
            "['rio', 'paris', 'africa', 'rome', 'egnland', 'dubai']\n",
            "['rome', 'rio', 'paris', 'egnland', 'dubai', 'africa']\n",
            "['rio', 'paris', 'africa', 'rome', 'egnland', 'dubai']\n",
            "['dubai', 'egnland', 'rome', 'africa', 'paris', 'rio']\n",
            "['dubai', 'egnland', 'rome', 'africa', 'paris', 'rio']\n",
            "['africa', 'dubai', 'egnland', 'paris', 'rio', 'rome']\n",
            "['africa', 'dubai', 'egnland', 'paris', 'rio', 'rome']\n",
            "['rome', 'rio', 'paris', 'egnland', 'dubai', 'africa']\n"
          ]
        }
      ]
    },
    {
      "cell_type": "markdown",
      "source": [
        "# Practice the above lessons again (active recall)"
      ],
      "metadata": {
        "id": "Z3yd7C9zYhpQ"
      }
    },
    {
      "cell_type": "code",
      "source": [
        "# 3-8 Seeing the World: Think of at least five places in the world you'd like to visit.\n",
        "\n",
        "# Store the locations in a list.\n",
        "# print your list in its original order.\n",
        "locations = ['new york', 'paris', 'rio', 'dubai', 'greenland', 'iceland']\n",
        "print(locations)\n",
        "\n",
        " # Use sorted() to print list in alphibetical order without changing the actual list\n",
        "print(sorted(locations))\n",
        "print(locations)\n",
        "\n",
        "# Use sorted() to print your list in reverse alphabetical order without changing the order of the actaul list\n",
        "print(sorted(locations, reverse=True))\n",
        "print(locations)\n",
        "\n",
        "# Use reverse() to change the order of your list. Print the list to show it's changed.\n",
        "locations.reverse()\n",
        "print(locations)\n",
        "locations.reverse()\n",
        "print(locations)\n",
        "locations.sort()\n",
        "print(locations)\n",
        "locations.sort(reverse=True)\n",
        "print(locations)"
      ],
      "metadata": {
        "id": "w-FKbp28ul7g",
        "outputId": "e1bb8611-7ff3-4971-8d90-498caf0c17b4",
        "colab": {
          "base_uri": "https://localhost:8080/"
        }
      },
      "execution_count": null,
      "outputs": [
        {
          "output_type": "stream",
          "name": "stdout",
          "text": [
            "['new york', 'paris', 'rio', 'dubai', 'greenland', 'iceland']\n",
            "['dubai', 'greenland', 'iceland', 'new york', 'paris', 'rio']\n",
            "['new york', 'paris', 'rio', 'dubai', 'greenland', 'iceland']\n",
            "['rio', 'paris', 'new york', 'iceland', 'greenland', 'dubai']\n",
            "['new york', 'paris', 'rio', 'dubai', 'greenland', 'iceland']\n",
            "['iceland', 'greenland', 'dubai', 'rio', 'paris', 'new york']\n",
            "['new york', 'paris', 'rio', 'dubai', 'greenland', 'iceland']\n",
            "['dubai', 'greenland', 'iceland', 'new york', 'paris', 'rio']\n",
            "['rio', 'paris', 'new york', 'iceland', 'greenland', 'dubai']\n"
          ]
        }
      ]
    },
    {
      "cell_type": "code",
      "source": [
        "# 3-9 Dinner Guests: Use len() to print a message indicating the number of people you are inviting to dinner\n",
        "people = ['jordan peterson', 'eric weinstien', 'david goggins', 'chris williamson']\n",
        "print(\"Hello everyone. We will be having \" + str(len(people)) + \" people in total for dinner tonight!\")\n",
        "\n",
        "subjects = ['supervised learning', 'unsupervised learning', 'reinforcement learning', 'deep learning', 'model evaluation', 'model deployment']\n",
        "subjects.append('neural networks') # adding to the end of the list\n",
        "print(subjects)\n",
        "print(subjects[1].title())\n",
        "subjects.insert(1, 'convelutional networks')\n",
        "print(subjects)\n",
        "del subjects[2]\n",
        "print(subjects)"
      ],
      "metadata": {
        "id": "9s4dJb5xQIIx",
        "outputId": "33226224-6cd3-45b2-badf-a2a27773d8b0",
        "colab": {
          "base_uri": "https://localhost:8080/"
        }
      },
      "execution_count": null,
      "outputs": [
        {
          "output_type": "stream",
          "name": "stdout",
          "text": [
            "Hello everyone. We will be having 4 people in total for dinner tonight!\n",
            "['supervised learning', 'unsupervised learning', 'reinforcement learning', 'deep learning', 'model evaluation', 'model deployment', 'neural networks']\n",
            "Unsupervised Learning\n",
            "['supervised learning', 'convelutional networks', 'unsupervised learning', 'reinforcement learning', 'deep learning', 'model evaluation', 'model deployment', 'neural networks']\n",
            "['supervised learning', 'convelutional networks', 'reinforcement learning', 'deep learning', 'model evaluation', 'model deployment', 'neural networks']\n"
          ]
        }
      ]
    },
    {
      "cell_type": "code",
      "source": [],
      "metadata": {
        "id": "KRIoN9ATSwdk"
      },
      "execution_count": null,
      "outputs": []
    }
  ]
}