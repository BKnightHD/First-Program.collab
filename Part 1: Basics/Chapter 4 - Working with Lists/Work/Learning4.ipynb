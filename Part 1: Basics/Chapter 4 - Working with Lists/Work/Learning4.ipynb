{
  "nbformat": 4,
  "nbformat_minor": 0,
  "metadata": {
    "colab": {
      "provenance": []
    },
    "kernelspec": {
      "name": "python3",
      "display_name": "Python 3"
    },
    "language_info": {
      "name": "python"
    }
  },
  "cells": [
    {
      "cell_type": "markdown",
      "source": [
        "# Working With Lists (Looping)"
      ],
      "metadata": {
        "id": "kSU_a7u-9nOQ"
      }
    },
    {
      "cell_type": "markdown",
      "source": [
        "- For Loops"
      ],
      "metadata": {
        "id": "Pp-MrBPg_W7_"
      }
    },
    {
      "cell_type": "code",
      "execution_count": null,
      "metadata": {
        "colab": {
          "base_uri": "https://localhost:8080/"
        },
        "id": "0RSe-ZSV9g1H",
        "outputId": "220f23b8-cb46-4bbd-84f5-674fb3b8c0b6"
      },
      "outputs": [
        {
          "output_type": "stream",
          "name": "stdout",
          "text": [
            "Alice\n",
            "David\n",
            "Carolina\n"
          ]
        }
      ],
      "source": [
        "magicians = ['alice', 'david', 'carolina'] # first we define the list\n",
        "for magician in magicians: # this line tells Python to pull a name from the list magicians, and associate it with the variable magician\n",
        "  print(magician.title()) # Python repeats line 2 and 3 for each item in the list"
      ]
    },
    {
      "cell_type": "markdown",
      "source": [
        "We can interpret the above code as follows: \"For every magician in the list of magicians, print the magician's name,\"\n",
        "\n",
        "It's good to keep naming conventions simple and intuitive like so:\n",
        "\n",
        "- for cat in cats:\n",
        "\n",
        "- for dog in dogs:\n",
        "\n",
        "- for item in list_of_items:\n"
      ],
      "metadata": {
        "id": "RLkCfsyY_JWR"
      }
    },
    {
      "cell_type": "code",
      "source": [
        "for magician in magicians:\n",
        "  print(f\"{magician.title()}, that was a great trick!\")\n",
        "  print(f\"I can't wait to see your next trick {magician.title()}!\\n\")\n",
        "print(\"Thank you all for the great show!\") # This line is not indented, so Python does not count it in the for loop"
      ],
      "metadata": {
        "colab": {
          "base_uri": "https://localhost:8080/"
        },
        "id": "g95OOe3i-Ua7",
        "outputId": "dcab5ad4-b07a-450e-963e-4edf7516053d"
      },
      "execution_count": null,
      "outputs": [
        {
          "output_type": "stream",
          "name": "stdout",
          "text": [
            "Alice, that was a great trick!\n",
            "I can't wait to see your next trick Alice!\n",
            "\n",
            "David, that was a great trick!\n",
            "I can't wait to see your next trick David!\n",
            "\n",
            "Carolina, that was a great trick!\n",
            "I can't wait to see your next trick Carolina!\n",
            "\n",
            "Thank you all for the great show!\n"
          ]
        }
      ]
    },
    {
      "cell_type": "code",
      "source": [
        "people = ['alice', 'david', 'carolina']\n",
        "for freinds in people: #don't forget the colon\n",
        "  print(f\"Hello {freinds.title()}!\")\n",
        "print(\"\\nI hope you guys are ready to code!\")"
      ],
      "metadata": {
        "id": "l3cLBHg8A6fF",
        "colab": {
          "base_uri": "https://localhost:8080/"
        },
        "outputId": "852ee2e8-978d-4397-a296-100443974400"
      },
      "execution_count": null,
      "outputs": [
        {
          "output_type": "stream",
          "name": "stdout",
          "text": [
            "Hello Alice!\n",
            "Hello David!\n",
            "Hello Carolina!\n",
            "\n",
            "I hope you guys are ready to code!\n"
          ]
        }
      ]
    },
    {
      "cell_type": "markdown",
      "source": [
        "# Try it yourself\n",
        "* 4-1 Pizzas\n",
        "* 4-2 Animals"
      ],
      "metadata": {
        "id": "TpcMiJWFekUv"
      }
    },
    {
      "cell_type": "code",
      "source": [
        "#4-1\n",
        "pizza = ['bacon', 'pinapple', 'jalapeno']\n",
        "for toppings in pizza:\n",
        "  print(f\"One of my favorite pizzas is {toppings.title()}.\")\n",
        "print(\"\\nHonestly, I just really like pizza!\\n\")\n",
        "\n",
        "#4-2\n",
        "cats = ['tiger', 'cheeta', 'lepord']\n",
        "for cat in cats:\n",
        "  print(f\" You know, a {cat.title()} would make a cool pet!\")"
      ],
      "metadata": {
        "colab": {
          "base_uri": "https://localhost:8080/"
        },
        "id": "gp7QfGaXdtSo",
        "outputId": "987907ce-6fd0-4194-e3cf-f46db9f8c593"
      },
      "execution_count": null,
      "outputs": [
        {
          "output_type": "stream",
          "name": "stdout",
          "text": [
            "One of my favorite pizzas is Bacon.\n",
            "One of my favorite pizzas is Pinapple.\n",
            "One of my favorite pizzas is Jalapeno.\n",
            "\n",
            "Honestly, I just really like pizza!\n",
            "\n",
            " You know, a Tiger would make a cool pet!\n",
            " You know, a Cheeta would make a cool pet!\n",
            " You know, a Lepord would make a cool pet!\n"
          ]
        }
      ]
    },
    {
      "cell_type": "code",
      "source": [
        "for value in range(1, 5): #range(x, y) function will not print the last number (off by one behavior of computer programming)\n",
        " print(value)\n",
        "print(\"-----------------------------\\n\")\n",
        "\n",
        "for value in range(6): #range(6) gives us a list of number from 0-5\n",
        " print(value)\n",
        "print(\"-----------------------------\\n\")\n",
        "\n",
        "numbers = list(range(1,6)) #wrapping list funcition around range creates a list with assocated range.\n",
        "print(numbers)\n",
        "print(\"-----------------------------\\n\")\n",
        "\n",
        "even_numbers = list(range(2,11,2)) #rang(x, y, z) starts at x, and adds z until it passes or reaches y.\n",
        "print(even_numbers)"
      ],
      "metadata": {
        "colab": {
          "base_uri": "https://localhost:8080/"
        },
        "id": "Azd3TEBYfSU8",
        "outputId": "c8bcbc19-4fbb-464c-ecfd-6437482f1473"
      },
      "execution_count": null,
      "outputs": [
        {
          "output_type": "stream",
          "name": "stdout",
          "text": [
            "1\n",
            "2\n",
            "3\n",
            "4\n",
            "-----------------------------\n",
            "\n",
            "0\n",
            "1\n",
            "2\n",
            "3\n",
            "4\n",
            "5\n",
            "-----------------------------\n",
            "\n",
            "[1, 2, 3, 4, 5]\n",
            "-----------------------------\n",
            "\n",
            "[2, 4, 6, 8, 10]\n"
          ]
        }
      ]
    },
    {
      "cell_type": "code",
      "source": [
        "# We want to create a list of the first 10 squares, that is, 1^2, 2^2, 3^2, 4^2 and so on..\n",
        "squares = [] # We start with an empty list called squares\n",
        "for value in range(1,11): #Loop through each value from 1 to 10\n",
        "  square = value**2 # Square each value\n",
        "  squares.append(square) # Add the results to the list until it gets to 10\n",
        "\n",
        "print(squares) # print the resulting list\n",
        "\n",
        "squares = []\n",
        "for value in range(1,11):\n",
        "  squares.append(value**2)\n",
        "print(squares)\n",
        "\n",
        "print(min(squares))\n",
        "print(max(squares))\n",
        "print(sum(squares))"
      ],
      "metadata": {
        "colab": {
          "base_uri": "https://localhost:8080/"
        },
        "id": "YUCmTiTPUMyJ",
        "outputId": "1c983b60-6d0f-47e2-af09-e8a54de94a4d"
      },
      "execution_count": null,
      "outputs": [
        {
          "output_type": "stream",
          "name": "stdout",
          "text": [
            "[1, 4, 9, 16, 25, 36, 49, 64, 81, 100]\n",
            "[1, 4, 9, 16, 25, 36, 49, 64, 81, 100]\n",
            "1\n",
            "100\n",
            "385\n"
          ]
        }
      ]
    },
    {
      "cell_type": "code",
      "source": [
        "numbers = []\n",
        "for value in range(1,11):\n",
        "  numbers.append(value**3)\n",
        "print(numbers)"
      ],
      "metadata": {
        "id": "NuD_Oci8pFr7",
        "colab": {
          "base_uri": "https://localhost:8080/"
        },
        "outputId": "85f4e338-4dec-4ec6-e4a6-23ec76cfb2d0"
      },
      "execution_count": null,
      "outputs": [
        {
          "output_type": "stream",
          "name": "stdout",
          "text": [
            "[1, 8, 27, 64, 125, 216, 343, 512, 729, 1000]\n"
          ]
        }
      ]
    },
    {
      "cell_type": "code",
      "source": [
        "sqaures = [value**2 for value in range(1, 11)] #this is a list comprehension, it allows you to generate the same list in just one line of code\n",
        "print(sqaures)"
      ],
      "metadata": {
        "colab": {
          "base_uri": "https://localhost:8080/"
        },
        "id": "6WcNMTMkoTLR",
        "outputId": "24e24e32-9e06-420e-c7c5-bcaa4bdb2390"
      },
      "execution_count": null,
      "outputs": [
        {
          "output_type": "stream",
          "name": "stdout",
          "text": [
            "[1, 4, 9, 16, 25, 36, 49, 64, 81, 100]\n"
          ]
        }
      ]
    },
    {
      "cell_type": "markdown",
      "source": [
        "# Try it yourself\n",
        "* 4-3 Counting to Twenty\n",
        "* 4-4 One Million\n",
        "* 4-5 Summing a Million\n",
        "* 4-6 Odd Numbers\n",
        "* 4-7 Threes\n",
        "* 4-8 Cubes\n",
        "* 4-9 Cube Comprehension"
      ],
      "metadata": {
        "id": "hkd_kn7JphoR"
      }
    },
    {
      "cell_type": "code",
      "source": [
        "#4-3 Use a for loop to print the numbers from 1 to 20, inclusive\n",
        "twenty = []\n",
        "for numbers in range(1,21):\n",
        "  twenty.append(numbers)\n",
        "print(twenty)\n",
        "\n",
        "#4-6 Use the third argument of the range() function to make a list of the odd numbers from 1 to 20. Use a for loop to print each number.\n",
        "thirds =[]\n",
        "for third in (range(1,21,2)):\n",
        "  thirds.append(third)\n",
        "print(thirds)\n",
        "\n",
        "#4-7 MAke a list of the multiples of 3 from 3 to 30. Use a for loop to print the numbners in your list.\n",
        "threes = []\n",
        "for three in range(3,31,3):\n",
        "  threes.append(three)\n",
        "print(threes)\n",
        "\n",
        "#4-8 Make a list of the first 1- cubes (that is, the cube of each integer from 1 through 10), and use a for loop to print out the value of each cube\n",
        "cube = []\n",
        "for cubes in range(1,10):\n",
        "  cube.append(cubes**3)\n",
        "print(cube)\n",
        "\n",
        "#4-9 Use a list comprehension to generate a list of the first 10 cubes\n",
        "cubes = [value**3 for value in range(1,10)]\n",
        "print(cubes)"
      ],
      "metadata": {
        "id": "zL8fVOOepPxg",
        "outputId": "9f047df1-e9b3-486d-8bfe-e2077056478f",
        "colab": {
          "base_uri": "https://localhost:8080/"
        }
      },
      "execution_count": null,
      "outputs": [
        {
          "output_type": "stream",
          "name": "stdout",
          "text": [
            "[1, 2, 3, 4, 5, 6, 7, 8, 9, 10, 11, 12, 13, 14, 15, 16, 17, 18, 19, 20]\n",
            "[1, 3, 5, 7, 9, 11, 13, 15, 17, 19]\n",
            "[3, 6, 9, 12, 15, 18, 21, 24, 27, 30]\n",
            "[1, 8, 27, 64, 125, 216, 343, 512, 729]\n",
            "[1, 8, 27, 64, 125, 216, 343, 512, 729]\n"
          ]
        }
      ]
    },
    {
      "cell_type": "code",
      "source": [
        "#practicing random code 11-8-23\n",
        "\n",
        "people = ['jake', 'kim', 'andrew']\n",
        "sorted_people = sorted(people)\n",
        "print(f\"{str(sorted_people).title()}\\n\")\n",
        "for peoples in people:\n",
        "  print(f\"Hello {peoples.title()}, ready to study?\\n\")\n",
        "print(\"Well lets get it then!\")"
      ],
      "metadata": {
        "id": "QYOOjTt9sE0a",
        "outputId": "3332f759-8b0d-4693-b9ea-784ad4a67085",
        "colab": {
          "base_uri": "https://localhost:8080/"
        }
      },
      "execution_count": null,
      "outputs": [
        {
          "output_type": "stream",
          "name": "stdout",
          "text": [
            "['Andrew', 'Jake', 'Kim']\n",
            "\n",
            "Hello Jake, ready to study?\n",
            "\n",
            "Hello Kim, ready to study?\n",
            "\n",
            "Hello Andrew, ready to study?\n",
            "\n",
            "Well lets get it then!\n"
          ]
        }
      ]
    },
    {
      "cell_type": "code",
      "source": [
        "digits = [1, 2, 3, 4, 5, 6, 7, 8, 9, 0]\n",
        "print(f\"{digits[0:4]}\\n\") #prints the first 4 numbers in the list\n",
        "names = ['andrew', 'jacob', 'emily', 'kimberly', 'brian']\n",
        "print(f\"{str(names[0:3]).title()}\\n\") #subset of list\n",
        "for value in sorted(names):\n",
        "  print(value.title())\n",
        "print(\"\\n\")\n",
        "print(names[:3]) #wihtout a starting index, Python stars at the beginning of the list\n",
        "print(names[2:]) #Python returns values starting from the third item through the end of the list\n",
        "print(names[:-2]) #prints list minus the last two names\n",
        "print(names[-3:]) #prints last three names"
      ],
      "metadata": {
        "id": "FAul3MMarPJC",
        "outputId": "43de5549-69ba-4b32-84a7-904cad66d6d8",
        "colab": {
          "base_uri": "https://localhost:8080/"
        }
      },
      "execution_count": null,
      "outputs": [
        {
          "output_type": "stream",
          "name": "stdout",
          "text": [
            "[1, 2, 3, 4]\n",
            "\n",
            "['Andrew', 'Jacob', 'Emily']\n",
            "\n",
            "Andrew\n",
            "Brian\n",
            "Emily\n",
            "Jacob\n",
            "Kimberly\n",
            "\n",
            "\n",
            "['andrew', 'jacob', 'emily']\n",
            "['emily', 'kimberly', 'brian']\n",
            "['andrew', 'jacob', 'emily']\n",
            "['emily', 'kimberly', 'brian']\n"
          ]
        }
      ]
    },
    {
      "cell_type": "code",
      "source": [
        "players = ['charles', 'martina', 'michael', 'florence', 'eli']\n",
        "print(\"The roster on the team consists of:\\n\\t\")\n",
        "\n",
        "for player in players[:3]:\n",
        "  print(f\"{str(player).title()}\\n\")\n",
        "\n",
        "print(\"\\n---------------\")\n",
        "my_foods = ['pizza', 'falafel', 'carrot cake']\n",
        "freinds_foods = my_foods[:] #Copys the prior list\n",
        "\n",
        "print(\"My favorite foods are:\")\n",
        "print(my_foods)\n",
        "\n",
        "print(\"\\nMy freind's favorite foods are:\")\n",
        "print(freinds_foods)\n",
        "\n",
        "# To show that we have two seperate lists, we'll add new foods to each list\n",
        "my_foods.append('fruit')\n",
        "freinds_foods.append('ice cream')\n",
        "print(str(sorted(my_foods)).upper())\n",
        "print(str(sorted(freinds_foods)).upper())"
      ],
      "metadata": {
        "id": "sxmkIeDLsXQ1",
        "outputId": "18828614-8c85-4ecb-e666-7025b436bfcd",
        "colab": {
          "base_uri": "https://localhost:8080/"
        }
      },
      "execution_count": null,
      "outputs": [
        {
          "output_type": "stream",
          "name": "stdout",
          "text": [
            "The roster on the team consists of:\n",
            "\t\n",
            "Charles\n",
            "\n",
            "Martina\n",
            "\n",
            "Michael\n",
            "\n",
            "\n",
            "---------------\n",
            "My favorite foods are:\n",
            "['pizza', 'falafel', 'carrot cake']\n",
            "\n",
            "My freind's favorite foods are:\n",
            "['pizza', 'falafel', 'carrot cake']\n",
            "['CARROT CAKE', 'FALAFEL', 'FRUIT', 'PIZZA']\n",
            "['CARROT CAKE', 'FALAFEL', 'ICE CREAM', 'PIZZA']\n"
          ]
        }
      ]
    },
    {
      "cell_type": "markdown",
      "source": [
        "# Try it yourself\n",
        "* 4-10 Slices\n",
        "* 4-11 My Pizzas, Your Pizzas"
      ],
      "metadata": {
        "id": "Pbj5Tt4v0dqS"
      }
    },
    {
      "cell_type": "code",
      "source": [
        "#4-10\n",
        "# Print the first three items in a list\n",
        "more_cars = ['mercedes-benz', 'lambrogini', 'volvo', 'farari', 'honda', 'bmw', 'cadilac']\n",
        "print(\"The first three items from my more_cars list are:\")\n",
        "for cars in (more_cars[:3]):\n",
        "  print(f\"- {str(cars).title()}\")\n",
        "print(\"\\nThe middle three items from my more_cars list are:\")\n",
        "for cars in (more_cars[2:5]):\n",
        "  print(f\"- {str(cars).title()}\")\n",
        "print(\"\\nThe last three items from my more_cars list are:\")\n",
        "for cars in (more_cars[-3:]):\n",
        "  print(f\"- {str(cars).title()}\")\n",
        "print(\"\\n---------------\")\n",
        "\n",
        "#4-11\n",
        "pizza = ['bacon', 'pinapple', 'jalapeno']\n",
        "freinds_pizzas = pizza[:]\n",
        "pizza.append('sasuage')\n",
        "freinds_pizzas.insert(2,\"mushroom\")\n",
        "# Prove that you have two deperate lists\n",
        "print(\"My favorite pizzas are:\")\n",
        "for mine in pizza:\n",
        "  print(str(mine).title())\n",
        "print(\"\\nMy freinds favorite pizzas are:\")\n",
        "for theres in freinds_pizzas:\n",
        "  print(str(theres).title())\n",
        "print(\"\\n---------------\")"
      ],
      "metadata": {
        "id": "OAo_5mm_xDsf",
        "outputId": "aba24da6-d976-45da-da0b-bfa3811897a6",
        "colab": {
          "base_uri": "https://localhost:8080/"
        }
      },
      "execution_count": null,
      "outputs": [
        {
          "output_type": "stream",
          "name": "stdout",
          "text": [
            "The first three items from my more_cars list are:\n",
            "- Mercedes-Benz\n",
            "- Lambrogini\n",
            "- Volvo\n",
            "\n",
            "The middle three items from my more_cars list are:\n",
            "- Volvo\n",
            "- Farari\n",
            "- Honda\n",
            "\n",
            "The last three items from my more_cars list are:\n",
            "- Honda\n",
            "- Bmw\n",
            "- Cadilac\n",
            "My favorite pizzas are:\n",
            "Bacon\n",
            "Pinapple\n",
            "Jalapeno\n",
            "Sasuage\n",
            "\n",
            "My freinds favorite pizzas are:\n",
            "Bacon\n",
            "Pinapple\n",
            "Mushroom\n",
            "Jalapeno\n"
          ]
        }
      ]
    },
    {
      "cell_type": "code",
      "source": [
        "# Tuples are whats known as 'immutable' list, or, a list that cannot change. To do this, you place parentheses instead of brackets\n",
        "dimensions = (200, 50) # Tuple\n",
        "print(dimensions[0])\n",
        "print(dimensions[1])\n",
        "\n",
        "for dimension in dimensions:\n",
        "  print(dimension)\n",
        "\n",
        "print(\"Original dimensions:\")\n",
        "for dimension in dimensions:\n",
        "  print(dimension)\n",
        "\n",
        "dimensions = (400, 100) # Here, we assign a new value to the raible that holds the tuple\n",
        "print(\"\\nModifies dimensions:\")\n",
        "for dimension in dimensions:\n",
        "  print(dimension)"
      ],
      "metadata": {
        "id": "SIeXmgMw1Bev",
        "outputId": "f56eeb01-3377-425c-8e2b-92655cd089c0",
        "colab": {
          "base_uri": "https://localhost:8080/"
        }
      },
      "execution_count": null,
      "outputs": [
        {
          "output_type": "stream",
          "name": "stdout",
          "text": [
            "200\n",
            "50\n",
            "200\n",
            "50\n",
            "Original dimensions:\n",
            "200\n",
            "50\n",
            "\n",
            "Modifies dimensions:\n",
            "400\n",
            "100\n"
          ]
        }
      ]
    },
    {
      "cell_type": "code",
      "source": [
        "#Try it yourself\n",
        "#4-13 Buffet: a buffet-style restaurant offers only fice basic foods. Think of five simple foods, and store them in a tuple\n",
        "menu = ('foie gras with truffle reduction', 'lobster bisque with caviar', 'beef wellington', 'truffle risotto', 'chocolate fondant with raspberry coulis', 'peking duck with mandarin pancakes')\n",
        "\n",
        "\n",
        "\n",
        "\n",
        "# Use a for loop to print each food the resaurant offers\n",
        "print(\"Hello ladies and gentlemen, on tongiht's menu we have the following:\")\n",
        "for food in menu:\n",
        "  print(f\"- {food.title()}\")\n",
        "\n",
        "\n",
        "\n",
        "\n",
        "# Change the two items on the menu and notify the customers\n",
        "print(f\"\\nChange of plans, the chef has informed us that we will be removing the {(menu)[-1].title()} and the {menu[-2].title()} from tonights menu\")\n",
        "print(\"\\nPlease see our new menu below:\")\n",
        "menu = ('foie gras with truffle reduction', 'lobster bisque with caviar', 'beef wellington', 'truffle risotto', 'osso buco with saffron risotto', 'oysters rockefeller')\n",
        "for food in menu:\n",
        "  print (f\"- {food.title()}\")"
      ],
      "metadata": {
        "id": "F7eSPgTm8hdT",
        "outputId": "2fbc3ddf-2c1f-49ed-8d37-78bfc2fb239d",
        "colab": {
          "base_uri": "https://localhost:8080/"
        }
      },
      "execution_count": null,
      "outputs": [
        {
          "output_type": "stream",
          "name": "stdout",
          "text": [
            "Hello ladies and gentlemen, on tongiht's menu we have the following:\n",
            "- Foie Gras With Truffle Reduction\n",
            "- Lobster Bisque With Caviar\n",
            "- Beef Wellington\n",
            "- Truffle Risotto\n",
            "- Chocolate Fondant With Raspberry Coulis\n",
            "- Peking Duck With Mandarin Pancakes\n",
            "\n",
            "Change of plans, the chef has informed us that we will be removing the Peking Duck With Mandarin Pancakes and the Chocolate Fondant With Raspberry Coulis from tonights menu\n",
            "\n",
            "Please see our new menu below:\n",
            "- Foie Gras With Truffle Reduction\n",
            "- Lobster Bisque With Caviar\n",
            "- Beef Wellington\n",
            "- Truffle Risotto\n",
            "- Osso Buco With Saffron Risotto\n",
            "- Oysters Rockefeller\n"
          ]
        }
      ]
    },
    {
      "cell_type": "code",
      "source": [
        "magicians = ['alice', 'david', 'carolina']\n",
        "for magician in magicians:\n",
        "    print(magician)\n",
        "\n",
        "# \"For every magician in the list of magicians, print the magician's name.\""
      ],
      "metadata": {
        "id": "IM3UWbiZCDNK",
        "outputId": "b2c2a629-f0ae-471b-c7ac-d85d23088380",
        "colab": {
          "base_uri": "https://localhost:8080/"
        }
      },
      "execution_count": null,
      "outputs": [
        {
          "output_type": "stream",
          "name": "stdout",
          "text": [
            "alice\n",
            "david\n",
            "carolina\n"
          ]
        }
      ]
    },
    {
      "cell_type": "code",
      "source": [
        "magicians = ['alice', 'david', 'carolina']\n",
        "\n",
        "for magician in magicians:\n",
        "  print(\"Wow \" + magician.title() + \"! That was a great trick.\")\n",
        "  print(\"I can't wait to see yoour next trick, \" + magician.title() + \"!\\n\")\n",
        "\n",
        "print(\"Thank you, everyone. That was a great magic show!\")"
      ],
      "metadata": {
        "id": "dKVuCY_fpfdN",
        "outputId": "f5a1da44-937d-43e6-b37f-b976d49d1f44",
        "colab": {
          "base_uri": "https://localhost:8080/"
        }
      },
      "execution_count": null,
      "outputs": [
        {
          "output_type": "stream",
          "name": "stdout",
          "text": [
            "Wow Alice! That was a great trick.\n",
            "I can't wait to see yoour next trick, Alice!\n",
            "\n",
            "Wow David! That was a great trick.\n",
            "I can't wait to see yoour next trick, David!\n",
            "\n",
            "Wow Carolina! That was a great trick.\n",
            "I can't wait to see yoour next trick, Carolina!\n",
            "\n",
            "Thank you, everyone. That was a great magic show!\n"
          ]
        }
      ]
    },
    {
      "cell_type": "code",
      "source": [
        "# 4-1 Pizzas: Think of at least three kinds of your favorite pizza.\n",
        "\n",
        "pizzas = ['pineapple', 'cheese', 'bacon']\n",
        "\n",
        "print(\"Here is a list of my favorite pizzas:\")\n",
        "for pizza in pizzas:\n",
        "  print(\"\\t\" + pizza.title())"
      ],
      "metadata": {
        "id": "-OBnTCQ_q7Kq",
        "outputId": "aa9a0c78-3257-4115-d315-179851e2ab62",
        "colab": {
          "base_uri": "https://localhost:8080/"
        }
      },
      "execution_count": null,
      "outputs": [
        {
          "output_type": "stream",
          "name": "stdout",
          "text": [
            "Here is a list of my favorite pizzas:\n",
            "\tPineapple\n",
            "\tCheese\n",
            "\tBacon\n"
          ]
        }
      ]
    },
    {
      "cell_type": "code",
      "source": [
        "pizzas = ['pineapple', 'cheese', 'bacon']\n",
        "\n",
        "for pizza in pizzas:\n",
        "  print(\"I like \" + pizza + \" pizza!\")\n",
        "\n",
        "print(\"\\nAs you can tell, I really like pizza.\")"
      ],
      "metadata": {
        "id": "Pc7SV2e3uW4t",
        "outputId": "49818999-c239-4f39-80ef-132f27cc67df",
        "colab": {
          "base_uri": "https://localhost:8080/"
        }
      },
      "execution_count": null,
      "outputs": [
        {
          "output_type": "stream",
          "name": "stdout",
          "text": [
            "I like pineapple pizza!\n",
            "I like cheese pizza!\n",
            "I like bacon pizza!\n",
            "\n",
            "As you can tell, I really like pizza.\n"
          ]
        }
      ]
    },
    {
      "cell_type": "code",
      "source": [
        "# 4-2 Animals: Think of at least three different animals that have a common characteristic.\n",
        "\n",
        "animals = ['snake', 'lizard', 'cat', 'dog']\n",
        "animals.sort()\n",
        "\n",
        "for animal in animals:\n",
        "  print(\"A \" + animal + \" would make a great pet.\")\n",
        "\n",
        "print(\"Did you know that all of these animals are considered standard pets.\")"
      ],
      "metadata": {
        "id": "Z78S6uguvHW7",
        "outputId": "60e71726-0b9b-4256-df77-a84935cbb24f",
        "colab": {
          "base_uri": "https://localhost:8080/"
        }
      },
      "execution_count": null,
      "outputs": [
        {
          "output_type": "stream",
          "name": "stdout",
          "text": [
            "A cat would make a great pet.\n",
            "A dog would make a great pet.\n",
            "A lizard would make a great pet.\n",
            "A snake would make a great pet.\n",
            "Did you know that all of these animals are considered standard pets.\n"
          ]
        }
      ]
    },
    {
      "cell_type": "code",
      "source": [
        "for value in range(1,4):\n",
        "  print(value)"
      ],
      "metadata": {
        "id": "WUo6u9Gqvo5t",
        "outputId": "0e05393b-02a7-4cda-bb4c-56f99b08481e",
        "colab": {
          "base_uri": "https://localhost:8080/"
        }
      },
      "execution_count": null,
      "outputs": [
        {
          "output_type": "stream",
          "name": "stdout",
          "text": [
            "1\n",
            "2\n",
            "3\n"
          ]
        }
      ]
    },
    {
      "cell_type": "code",
      "source": [
        "for value in range(1,5):\n",
        "  print(value)\n",
        "\n",
        "print(\"\\n\")\n",
        "\n",
        "for value in range(1,6):\n",
        "  print(value)\n",
        "\n",
        "print(\"\\n\")\n",
        "\n",
        "# Use range() to make a list of number\n",
        "numbers = list(range(1,6))\n",
        "print(numbers)"
      ],
      "metadata": {
        "id": "9r6yVS2U2Bld",
        "colab": {
          "base_uri": "https://localhost:8080/"
        },
        "outputId": "b4d77237-c15e-44c9-d116-f715cbc3141f"
      },
      "execution_count": null,
      "outputs": [
        {
          "output_type": "stream",
          "name": "stdout",
          "text": [
            "1\n",
            "2\n",
            "3\n",
            "4\n",
            "\n",
            "\n",
            "1\n",
            "2\n",
            "3\n",
            "4\n",
            "5\n",
            "\n",
            "\n",
            "[1, 2, 3, 4, 5]\n"
          ]
        }
      ]
    },
    {
      "cell_type": "code",
      "source": [
        "even_numbers = list(range(1,11,2))\n",
        "print(even_numbers) # Printing even numbers only"
      ],
      "metadata": {
        "colab": {
          "base_uri": "https://localhost:8080/"
        },
        "id": "G-extZVvgL6V",
        "outputId": "4ca93e25-fa5c-422c-b799-786b38a0b1d1"
      },
      "execution_count": null,
      "outputs": [
        {
          "output_type": "stream",
          "name": "stdout",
          "text": [
            "[1, 3, 5, 7, 9]\n"
          ]
        }
      ]
    },
    {
      "cell_type": "code",
      "source": [
        "# Making a list of sqaurs for fist 10 numbers\n",
        "\n",
        "squares = []\n",
        "for value in range(1,11):\n",
        "  square = value**2\n",
        "  squares.append(square)\n",
        "\n",
        "print(squares)"
      ],
      "metadata": {
        "colab": {
          "base_uri": "https://localhost:8080/"
        },
        "id": "JjH9KNOihO0v",
        "outputId": "c64d9c7d-4090-421b-a51c-8ca232e32438"
      },
      "execution_count": null,
      "outputs": [
        {
          "output_type": "stream",
          "name": "stdout",
          "text": [
            "[1, 4, 9, 16, 25, 36, 49, 64, 81, 100]\n"
          ]
        }
      ]
    },
    {
      "cell_type": "code",
      "source": [
        "numbers = []\n",
        "for number in range(1,10):\n",
        "  value = number**3\n",
        "  numbers.append(value)\n",
        "\n",
        "print(numbers)"
      ],
      "metadata": {
        "colab": {
          "base_uri": "https://localhost:8080/"
        },
        "id": "ELwgMh0Lh9QC",
        "outputId": "5b1d06e2-0665-413d-81bc-4c2dd73ce859"
      },
      "execution_count": null,
      "outputs": [
        {
          "output_type": "stream",
          "name": "stdout",
          "text": [
            "[1, 8, 27, 64, 125, 216, 343, 512, 729]\n"
          ]
        }
      ]
    },
    {
      "cell_type": "code",
      "source": [
        "squares = []\n",
        "for value in range(1,11):\n",
        "  squares.append(value**2)\n",
        "\n",
        "print(squares)"
      ],
      "metadata": {
        "colab": {
          "base_uri": "https://localhost:8080/"
        },
        "id": "amx58nCfiemr",
        "outputId": "db92225a-a045-43b0-bf8a-a1e51fc23f21"
      },
      "execution_count": null,
      "outputs": [
        {
          "output_type": "stream",
          "name": "stdout",
          "text": [
            "[1, 4, 9, 16, 25, 36, 49, 64, 81, 100]\n"
          ]
        }
      ]
    },
    {
      "cell_type": "code",
      "source": [
        "digits = [1, 2, 3, 4, 5, 6, 7, 8, 9, 0]\n",
        "print(min(digits)) # prints the minimum value in the list\n",
        "print(max(digits)) # prints the maximum value in the list\n",
        "print(sum(digits)) # prints the sum of all items in the list"
      ],
      "metadata": {
        "colab": {
          "base_uri": "https://localhost:8080/"
        },
        "id": "p6jisCqzkIfp",
        "outputId": "762b3363-514a-48b7-f750-9b81965f6486"
      },
      "execution_count": null,
      "outputs": [
        {
          "output_type": "stream",
          "name": "stdout",
          "text": [
            "0\n",
            "9\n",
            "45\n"
          ]
        }
      ]
    },
    {
      "cell_type": "code",
      "source": [
        "message = 'Nice to meet you!'\n",
        "name = 'brandon knight'\n",
        "print(\"Hello World, my name is \" + name.title() + \"!\\n\" + message)"
      ],
      "metadata": {
        "id": "GuyxHjF5kaTB",
        "outputId": "b733fcc4-1ddd-40e9-b38a-be9621cb050d",
        "colab": {
          "base_uri": "https://localhost:8080/"
        }
      },
      "execution_count": null,
      "outputs": [
        {
          "output_type": "stream",
          "name": "stdout",
          "text": [
            "Hello World, my name is Brandon Knight!\n",
            "Nice to meet you!\n"
          ]
        }
      ]
    },
    {
      "cell_type": "code",
      "source": [
        "magicians = ['brandon', 'jack', 'alice', 'robby', 'elizabeth']\n",
        "\n",
        "for name in magicians:\n",
        "  print(name.title())\n",
        "\n",
        "print('\\n')\n",
        "\n",
        "cars = ['audi', 'bmw', 'mercedes', 'ford']\n",
        "\n",
        "for car in cars:\n",
        "  print(car.title())"
      ],
      "metadata": {
        "id": "jSpbb2J4vp58",
        "colab": {
          "base_uri": "https://localhost:8080/"
        },
        "outputId": "5ea22993-5380-4662-9b58-725330ab6d6a"
      },
      "execution_count": null,
      "outputs": [
        {
          "output_type": "stream",
          "name": "stdout",
          "text": [
            "Brandon\n",
            "Jack\n",
            "Alice\n",
            "Robby\n",
            "Elizabeth\n",
            "\n",
            "\n",
            "Audi\n",
            "Bmw\n",
            "Mercedes\n",
            "Ford\n"
          ]
        }
      ]
    },
    {
      "cell_type": "code",
      "source": [
        "magicians = ['alice', 'john', 'david', 'carolina']\n",
        "\n",
        "for magician in magicians:\n",
        "  print(\"Wow \" + magician.title() + \", that was a great trick!\")"
      ],
      "metadata": {
        "colab": {
          "base_uri": "https://localhost:8080/"
        },
        "id": "QYygKaGvKoUp",
        "outputId": "cd1906bb-a7b7-4020-d519-e9d91a478222"
      },
      "execution_count": null,
      "outputs": [
        {
          "output_type": "stream",
          "name": "stdout",
          "text": [
            "Wow Alice, that was a great trick!\n",
            "Wow John, that was a great trick!\n",
            "Wow David, that was a great trick!\n",
            "Wow Carolina, that was a great trick!\n"
          ]
        }
      ]
    },
    {
      "cell_type": "code",
      "source": [
        "magicians = ['alice', 'john', 'david', 'carolina']\n",
        "\n",
        "for magician in magicians:\n",
        "  print(\"Wow \" + magician.title() + \", that was a great trick!\")\n",
        "  print(\"I can't wait to see your next trick, \" + magician.title() + \"!\\n\")\n",
        "print(\"Thank you, everyone. That was a great magic show!\")"
      ],
      "metadata": {
        "colab": {
          "base_uri": "https://localhost:8080/"
        },
        "id": "ZLf6a-cFMjE4",
        "outputId": "ce8be971-e2ac-4fe1-f763-986b611a4caa"
      },
      "execution_count": null,
      "outputs": [
        {
          "output_type": "stream",
          "name": "stdout",
          "text": [
            "Wow Alice, that was a great trick!\n",
            "I can't wait to see your next trick, Alice!\n",
            "\n",
            "Wow John, that was a great trick!\n",
            "I can't wait to see your next trick, John!\n",
            "\n",
            "Wow David, that was a great trick!\n",
            "I can't wait to see your next trick, David!\n",
            "\n",
            "Wow Carolina, that was a great trick!\n",
            "I can't wait to see your next trick, Carolina!\n",
            "\n",
            "Thank you, everyone. That was a great magic show!\n"
          ]
        }
      ]
    },
    {
      "cell_type": "code",
      "source": [
        "freinds = ['andy', 'devin', 'giuseppe', 'joe']\n",
        "\n",
        "for freind in freinds:\n",
        "  print(\"Wow you have a great car \" + freind.title() + \"!\")\n",
        "  print(\"I'm excited to see how fast it goes!\\n\")\n",
        "print(\"Thank you all for showing me your cars\")"
      ],
      "metadata": {
        "colab": {
          "base_uri": "https://localhost:8080/"
        },
        "id": "fqQHmOOJM6EU",
        "outputId": "da2ce417-636f-435c-c4f6-912b08bebf44"
      },
      "execution_count": null,
      "outputs": [
        {
          "output_type": "stream",
          "name": "stdout",
          "text": [
            "Wow you have a great car Andy!\n",
            "I'm excited to see how fast it goes!\n",
            "\n",
            "Wow you have a great car Devin!\n",
            "I'm excited to see how fast it goes!\n",
            "\n",
            "Wow you have a great car Giuseppe!\n",
            "I'm excited to see how fast it goes!\n",
            "\n",
            "Wow you have a great car Joe!\n",
            "I'm excited to see how fast it goes!\n",
            "\n",
            "Thank you all for showning me your cars\n"
          ]
        }
      ]
    },
    {
      "cell_type": "markdown",
      "source": [
        "# Try it yourself\n",
        "- 4-1: Think of at least three kinds of pizza. Store names in lst and loop through them\n",
        "-4-2: Do the same as 4-1 but with animals"
      ],
      "metadata": {
        "id": "kHS7pn2iOvye"
      }
    },
    {
      "cell_type": "code",
      "source": [
        "# 4-1\n",
        "statement = \"I'm very hungry, I could use some \"\n",
        "pizzas = ['pepperoni', 'sausage', 'bacon']\n",
        "for pizza in pizzas:\n",
        "  print(statement + pizza + \" pizza!\")\n",
        "print(\"\\nIf you can't already tell, I really like pizza\")\n",
        "\n",
        "print('\\n')\n",
        "\n",
        "# 4-2\n",
        "animals = ['cat', 'dog', 'wolf', 'lion']\n",
        "for animal in animals:\n",
        "  print(\"A \" + animal + \" would make a great pet!\")\n",
        "print(\"\\nWell honestly, any of these animls would make a great pet.\")"
      ],
      "metadata": {
        "colab": {
          "base_uri": "https://localhost:8080/"
        },
        "id": "KSZwtSrcN1fX",
        "outputId": "73959e70-aee0-4402-eb83-33674f565624"
      },
      "execution_count": null,
      "outputs": [
        {
          "output_type": "stream",
          "name": "stdout",
          "text": [
            "I'm very hungry, I could use some pepperoni pizza!\n",
            "I'm very hungry, I could use some sausage pizza!\n",
            "I'm very hungry, I could use some bacon pizza!\n",
            "\n",
            "If you can't already tell, I really like pizza\n",
            "\n",
            "\n",
            "A cat would make a great pet!\n",
            "A dog would make a great pet!\n",
            "A wolf would make a great pet!\n",
            "A lion would make a great pet!\n",
            "\n",
            "Well honestly, any of these animls would make a great pet.\n"
          ]
        }
      ]
    },
    {
      "cell_type": "code",
      "source": [
        "# Making Numerical Lists\n",
        "for value in range(1,5):\n",
        "  print(value)\n",
        "\n",
        "for value in range(1,6):\n",
        "  print(value)"
      ],
      "metadata": {
        "colab": {
          "base_uri": "https://localhost:8080/"
        },
        "id": "3get_BZNPOhV",
        "outputId": "52729515-0acd-4119-f633-d5950d28d13b"
      },
      "execution_count": null,
      "outputs": [
        {
          "output_type": "stream",
          "name": "stdout",
          "text": [
            "1\n",
            "2\n",
            "3\n",
            "4\n",
            "1\n",
            "2\n",
            "3\n",
            "4\n",
            "5\n"
          ]
        }
      ]
    },
    {
      "cell_type": "code",
      "source": [
        "numbers = list(range(1,6))\n",
        "print(numbers)\n",
        "\n",
        "even_numbers = list(range(2,11,2))\n",
        "print(even_numbers)\n",
        "\n",
        "threes = list(range(3,13,3))\n",
        "print(threes)"
      ],
      "metadata": {
        "colab": {
          "base_uri": "https://localhost:8080/"
        },
        "id": "Xx0mwNwLRVtV",
        "outputId": "5ec0575c-edb9-4340-b6e9-30a9c72d8425"
      },
      "execution_count": null,
      "outputs": [
        {
          "output_type": "stream",
          "name": "stdout",
          "text": [
            "[1, 2, 3, 4, 5]\n",
            "[2, 4, 6, 8, 10]\n",
            "[3, 6, 9, 12]\n"
          ]
        }
      ]
    },
    {
      "cell_type": "code",
      "source": [
        "squares = []                    # create empty list called squares\n",
        "for value in range(1,11):       # for the key \"value\" in range from 1-10\n",
        "  square = value**2             # square variable equals value^2 -> through the list\n",
        "  squares.append(square)        # adding that squared value to the list until til runs through entire range\n",
        "\n",
        "print(squares)"
      ],
      "metadata": {
        "colab": {
          "base_uri": "https://localhost:8080/"
        },
        "id": "mbdNvqIyR6cd",
        "outputId": "13d35805-1120-4cd4-8cbb-a5df16bcfbc2"
      },
      "execution_count": null,
      "outputs": [
        {
          "output_type": "stream",
          "name": "stdout",
          "text": [
            "[1, 4, 9, 16, 25, 36, 49, 64, 81, 100]\n"
          ]
        }
      ]
    },
    {
      "cell_type": "code",
      "source": [
        "threes = []\n",
        "for value in range(1,13):\n",
        "  three = value**3\n",
        "  threes.append(three)\n",
        "\n",
        "print(threes)"
      ],
      "metadata": {
        "colab": {
          "base_uri": "https://localhost:8080/"
        },
        "id": "I3qT7YriS10w",
        "outputId": "c49b24d0-70c6-4e76-83d6-bbe656e969dd"
      },
      "execution_count": null,
      "outputs": [
        {
          "output_type": "stream",
          "name": "stdout",
          "text": [
            "[1, 8, 27, 64, 125, 216, 343, 512, 729, 1000, 1331, 1728]\n"
          ]
        }
      ]
    },
    {
      "cell_type": "code",
      "source": [
        "squares = []\n",
        "for value in range(1,11):\n",
        "  squares.append(value**2) # Concise code that appends the square value directly to the list\n",
        "print(squares)"
      ],
      "metadata": {
        "colab": {
          "base_uri": "https://localhost:8080/"
        },
        "id": "HkNc18JdTxwe",
        "outputId": "c08a2150-c470-4608-dc01-230e7158e236"
      },
      "execution_count": null,
      "outputs": [
        {
          "output_type": "stream",
          "name": "stdout",
          "text": [
            "[1, 4, 9, 16, 25, 36, 49, 64, 81, 100]\n"
          ]
        }
      ]
    },
    {
      "cell_type": "code",
      "source": [
        "digits = [1, 2, 3, 4, 5, 6, 7, 8, 9, 0]\n",
        "print(min(digits))\n",
        "print(max(digits))\n",
        "print(sum(digits))"
      ],
      "metadata": {
        "colab": {
          "base_uri": "https://localhost:8080/"
        },
        "id": "9LBgFsuVXcVZ",
        "outputId": "31c4bf76-be77-48da-c9c1-4c007af78be4"
      },
      "execution_count": null,
      "outputs": [
        {
          "output_type": "stream",
          "name": "stdout",
          "text": [
            "0\n",
            "9\n",
            "45\n"
          ]
        }
      ]
    },
    {
      "cell_type": "code",
      "source": [
        "# List comprehension: Combines the for loop and the creation of new elements into one line and automatially append each new element\n",
        "squares = [value**2 for value in range(1,11)]\n",
        "print(squares)\n",
        "\n",
        "numbers = [number*2 for number in range(1,13)]\n",
        "print(numbers)\n",
        "\n",
        "# Step 1: Begin with a name for the list\n",
        "# Step 2: Set open bracets and define new expression\n",
        "# Step 3: Write a for loop to generate the numbers youw ant to feed into the expression"
      ],
      "metadata": {
        "id": "mYrPy0CJYCqF",
        "outputId": "82efe70e-9cb8-4ca7-8eca-55eeba6aec10",
        "colab": {
          "base_uri": "https://localhost:8080/"
        }
      },
      "execution_count": null,
      "outputs": [
        {
          "output_type": "stream",
          "name": "stdout",
          "text": [
            "[1, 4, 9, 16, 25, 36, 49, 64, 81, 100]\n",
            "[2, 4, 6, 8, 10, 12, 14, 16, 18, 20, 22, 24]\n"
          ]
        }
      ]
    },
    {
      "cell_type": "code",
      "source": [
        "# List comprehension practice - 3 examples\n",
        "\n",
        "numbers = [value+1 for value in range(1,11)]\n",
        "print(numbers)\n",
        "\n",
        "names = ['alice', 'joe', 'cindy']\n",
        "people = []\n",
        "for name in names:\n",
        "  people.append(name.title())\n",
        "for peoples in people:\n",
        "  print(peoples)\n",
        "\n",
        "# 4-3 Counting to Twenty: Use a for loop to print the numbers 1-20, inclusive:\n",
        "for number in range(1,21):\n",
        "  print(number)\n",
        "\n",
        "# 4-4 One Million: Make a list of numbers from one to one million..\n",
        "for number in range(1,101):\n",
        "  print(number)"
      ],
      "metadata": {
        "id": "sN8E3osPYzca",
        "outputId": "594579ae-af3c-4969-c448-f95f8891d03c",
        "colab": {
          "base_uri": "https://localhost:8080/"
        }
      },
      "execution_count": null,
      "outputs": [
        {
          "output_type": "stream",
          "name": "stdout",
          "text": [
            "[2, 3, 4, 5, 6, 7, 8, 9, 10, 11]\n",
            "Alice\n",
            "Joe\n",
            "Cindy\n",
            "1\n",
            "2\n",
            "3\n",
            "4\n",
            "5\n",
            "6\n",
            "7\n",
            "8\n",
            "9\n",
            "10\n",
            "11\n",
            "12\n",
            "13\n",
            "14\n",
            "15\n",
            "16\n",
            "17\n",
            "18\n",
            "19\n",
            "20\n",
            "1\n",
            "2\n",
            "3\n",
            "4\n",
            "5\n",
            "6\n",
            "7\n",
            "8\n",
            "9\n",
            "10\n",
            "11\n",
            "12\n",
            "13\n",
            "14\n",
            "15\n",
            "16\n",
            "17\n",
            "18\n",
            "19\n",
            "20\n",
            "21\n",
            "22\n",
            "23\n",
            "24\n",
            "25\n",
            "26\n",
            "27\n",
            "28\n",
            "29\n",
            "30\n",
            "31\n",
            "32\n",
            "33\n",
            "34\n",
            "35\n",
            "36\n",
            "37\n",
            "38\n",
            "39\n",
            "40\n",
            "41\n",
            "42\n",
            "43\n",
            "44\n",
            "45\n",
            "46\n",
            "47\n",
            "48\n",
            "49\n",
            "50\n",
            "51\n",
            "52\n",
            "53\n",
            "54\n",
            "55\n",
            "56\n",
            "57\n",
            "58\n",
            "59\n",
            "60\n",
            "61\n",
            "62\n",
            "63\n",
            "64\n",
            "65\n",
            "66\n",
            "67\n",
            "68\n",
            "69\n",
            "70\n",
            "71\n",
            "72\n",
            "73\n",
            "74\n",
            "75\n",
            "76\n",
            "77\n",
            "78\n",
            "79\n",
            "80\n",
            "81\n",
            "82\n",
            "83\n",
            "84\n",
            "85\n",
            "86\n",
            "87\n",
            "88\n",
            "89\n",
            "90\n",
            "91\n",
            "92\n",
            "93\n",
            "94\n",
            "95\n",
            "96\n",
            "97\n",
            "98\n",
            "99\n",
            "100\n"
          ]
        }
      ]
    },
    {
      "cell_type": "code",
      "source": [
        "# 4-5 Summing a Million: MAke a list of numbers from one to one million, and then use min() and max()...\n",
        "\n",
        "numbers = []\n",
        "value = range(1,1000001)\n",
        "numbers.append(value)\n",
        "\n",
        "print(min(numbers))\n",
        "print(max(numbers))\n",
        "\n",
        "numbers = range(1,1000001)\n",
        "print(min(numbers))\n",
        "print(max(numbers))\n",
        "print(sum(numbers))\n",
        "\n",
        "\n",
        "# 4-6 Odd Numbers: Use the thrid argument of the range() function...\n",
        "numbers = [value for value in range(1,21,2)]\n",
        "print(numbers)\n",
        "\n",
        "# 4-7 Threes: Make a list of the multiples of 3 from 3 to 30. Use a for loop to print the numbers in your list.\n",
        "\n",
        "numbers = [value*3 for value in range(3,31)]\n",
        "print(numbers)\n",
        "\n",
        "numbers = []\n",
        "for value in range(3,31):\n",
        "  numbers.append(value*3)\n",
        "print(numbers)\n",
        "\n",
        "# 4-8 Cubes: A number raied to the third power is called a cube...\n",
        "\n",
        "for value in range(1,11):\n",
        "  print(value**3)\n",
        "\n",
        "# 4-9 Cube Comprehension: Use a list comprehension to generate a list of the first 10 cubes\n",
        "numbers = [number**3 for number in range(1,11)]\n",
        "print(numbers)"
      ],
      "metadata": {
        "id": "Zf-2Cg-RZhZ3",
        "outputId": "b19bf71e-77d4-432f-d686-b86cb763b567",
        "colab": {
          "base_uri": "https://localhost:8080/"
        }
      },
      "execution_count": null,
      "outputs": [
        {
          "output_type": "stream",
          "name": "stdout",
          "text": [
            "range(1, 1000001)\n",
            "range(1, 1000001)\n",
            "1\n",
            "1000000\n",
            "500000500000\n",
            "[1, 3, 5, 7, 9, 11, 13, 15, 17, 19]\n",
            "[9, 12, 15, 18, 21, 24, 27, 30, 33, 36, 39, 42, 45, 48, 51, 54, 57, 60, 63, 66, 69, 72, 75, 78, 81, 84, 87, 90]\n",
            "[9, 12, 15, 18, 21, 24, 27, 30, 33, 36, 39, 42, 45, 48, 51, 54, 57, 60, 63, 66, 69, 72, 75, 78, 81, 84, 87, 90]\n",
            "1\n",
            "8\n",
            "27\n",
            "64\n",
            "125\n",
            "216\n",
            "343\n",
            "512\n",
            "729\n",
            "1000\n",
            "[1, 8, 27, 64, 125, 216, 343, 512, 729, 1000]\n"
          ]
        }
      ]
    },
    {
      "cell_type": "code",
      "source": [
        "# Working with part of a list\n",
        "\n",
        "# slicing a list\n",
        "players = ['charles', 'martina', 'michael', 'florence', 'eli']\n",
        "print(players[0:3])\n",
        "print(players[1:4])\n",
        "print(players[:4])"
      ],
      "metadata": {
        "id": "R8xhA1A-a3lQ",
        "outputId": "deb86969-44fd-40d1-8328-9c00c1c5fcdb",
        "colab": {
          "base_uri": "https://localhost:8080/"
        }
      },
      "execution_count": null,
      "outputs": [
        {
          "output_type": "stream",
          "name": "stdout",
          "text": [
            "['charles', 'martina', 'michael']\n",
            "['martina', 'michael', 'florence']\n",
            "['charles', 'martina', 'michael', 'florence']\n"
          ]
        }
      ]
    },
    {
      "cell_type": "code",
      "source": [
        "people = ['andrew', 'david', 'sean', 'alice']\n",
        "print(people[-3:]) # prints the last 3 names of the list\n",
        "print(people[:-2]) # prints a list ommiting the last 2 names\n",
        "\n",
        "print('\\n')\n",
        "\n",
        "players = [\"charles\", 'martina', 'michael', 'flornace', 'eli']\n",
        "\n",
        "print(\"Here are the first three players on my team:\")\n",
        "for player in players[:3]:\n",
        "  print(player.title())\n",
        "\n",
        "numbers = [number*2 for number in range(1,11)]\n",
        "print(numbers)"
      ],
      "metadata": {
        "id": "nlRywNQjfUZx",
        "outputId": "bcd5de24-0f23-4ff6-abb1-e68b3a669659",
        "colab": {
          "base_uri": "https://localhost:8080/"
        }
      },
      "execution_count": null,
      "outputs": [
        {
          "output_type": "stream",
          "name": "stdout",
          "text": [
            "['david', 'sean', 'alice']\n",
            "['andrew', 'david']\n",
            "\n",
            "\n",
            "Here are the first three players on my team:\n",
            "Charles\n",
            "Martina\n",
            "Michael\n",
            "[2, 4, 6, 8, 10, 12, 14, 16, 18, 20]\n"
          ]
        }
      ]
    },
    {
      "cell_type": "code",
      "source": [
        "numbers = [value**2 for value in range(1,11)]\n",
        "print(numbers)"
      ],
      "metadata": {
        "id": "XyuTa2kJg8b7",
        "outputId": "d55e25a5-1bd6-4476-cae7-16ed36b8076c",
        "colab": {
          "base_uri": "https://localhost:8080/"
        }
      },
      "execution_count": null,
      "outputs": [
        {
          "output_type": "stream",
          "name": "stdout",
          "text": [
            "[1, 4, 9, 16, 25, 36, 49, 64, 81, 100]\n"
          ]
        }
      ]
    },
    {
      "cell_type": "code",
      "source": [
        "print(\"Hello world\\nToday is going to be a good day\")"
      ],
      "metadata": {
        "id": "43MsgupFyIi3",
        "outputId": "2880006c-680a-4fe4-aacc-a33b326b0cbb",
        "colab": {
          "base_uri": "https://localhost:8080/"
        }
      },
      "execution_count": null,
      "outputs": [
        {
          "output_type": "stream",
          "name": "stdout",
          "text": [
            "Hello world\n",
            "Today is going to be a good day\n"
          ]
        }
      ]
    },
    {
      "cell_type": "code",
      "source": [
        "name = \"brandon\"\n",
        "print(name.title())\n",
        "\n",
        "numbers = [x**2 for x in range(1,11)]\n",
        "print(numbers)"
      ],
      "metadata": {
        "id": "A-xMCVuAU3w2",
        "outputId": "0caab86f-f74f-4261-a3ab-1a864d32f34e",
        "colab": {
          "base_uri": "https://localhost:8080/"
        }
      },
      "execution_count": null,
      "outputs": [
        {
          "output_type": "stream",
          "name": "stdout",
          "text": [
            "Brandon\n",
            "[1, 4, 9, 16, 25, 36, 49, 64, 81, 100]\n"
          ]
        }
      ]
    },
    {
      "cell_type": "code",
      "source": [
        "players = ['charles', 'martin', 'michael', 'florence']\n",
        "print(players[:3]) #slicing a list\n",
        "\n",
        "print(\"\\n\")\n",
        "\n",
        "print(\"Here are the first three players on my team:\")\n",
        "for player in players[:3]: #slices list to three\n",
        "  print(player.title()) # loops through print command\n",
        "\n",
        "print(players[:])\n",
        "\n",
        "my_foods = ['pizza', 'falafel', 'carrot cake']\n",
        "friend_foods = my_foods[:] # creating a copy of our previous list with a new list\n",
        "\n",
        "print(\"My favorite foods are : \")\n",
        "print(my_foods)\n",
        "\n",
        "print(\"\\nMy freind's favorite foods are:\")\n",
        "print(friend_foods)\n",
        "\n",
        "my_foods.append('ice cream')\n",
        "\n",
        "print(my_foods)\n",
        "print(friend_foods)"
      ],
      "metadata": {
        "id": "4KBVLRJOLuft",
        "outputId": "74916cda-bb2d-4a5a-c36c-47f91032341f",
        "colab": {
          "base_uri": "https://localhost:8080/"
        }
      },
      "execution_count": null,
      "outputs": [
        {
          "output_type": "stream",
          "name": "stdout",
          "text": [
            "['charles', 'martin', 'michael']\n",
            "\n",
            "\n",
            "Here are the first three players on my team:\n",
            "Charles\n",
            "Martin\n",
            "Michael\n",
            "['charles', 'martin', 'michael', 'florence']\n",
            "My favorite foods are : \n",
            "['pizza', 'falafel', 'carrot cake']\n",
            "\n",
            "My freind's favorite foods are:\n",
            "['pizza', 'falafel', 'carrot cake']\n",
            "['pizza', 'falafel', 'carrot cake', 'ice cream']\n",
            "['pizza', 'falafel', 'carrot cake']\n"
          ]
        }
      ]
    },
    {
      "cell_type": "code",
      "source": [
        "# 4-10 Slices: Using one of the progams you wrote in this chapter, add several lines to the end of the program that do the following:\n",
        "\n",
        "people = ['andrew', 'brandon', 'jake', 'devin', 'john', 'jacob', 'thornhill']\n",
        "print(\"The first three items of my list are:\")\n",
        "print(people[:3])\n",
        "print(\"Three items from the middle of the list are:\")\n",
        "print(people[2:5])\n",
        "print(\"The last three items in the list are:\")\n",
        "print(people[-3:])\n",
        "\n",
        "# 4-11 My Pizzas, Your Pizzas: Make a copy of your list\n",
        "pizzas = ['pepperoni', 'bacon', 'cheese', 'sausage', 'pineapple']\n",
        "friend_pizzas = pizzas[:]\n",
        "\n",
        "pizzas.append('jalapenos')\n",
        "friend_pizzas.append('vegeterian')\n",
        "\n",
        "print(\"My favorite pizzas are:\")\n",
        "print(pizzas)\n",
        "print(\"\\nMy friend's favorite pizzas are:\")\n",
        "print(friend_pizzas)\n",
        "\n",
        "#4-12 More Loops: Write two for loops to print each list of foods\n",
        "\n",
        "print(\"My favorite pizzas are:\")\n",
        "for pizza in pizzas:\n",
        "  print(pizza.title())\n",
        "\n",
        "print(\"\\nMy friend's favorite pizzas are:\")\n",
        "for pizza in friend_pizzas:\n",
        "  print(pizza.title())"
      ],
      "metadata": {
        "id": "7s3L7HDDU7e5",
        "outputId": "54ee2a73-a3e1-4ee3-9819-2970c0b027a7",
        "colab": {
          "base_uri": "https://localhost:8080/"
        }
      },
      "execution_count": 38,
      "outputs": [
        {
          "output_type": "stream",
          "name": "stdout",
          "text": [
            "The first three items of my list are:\n",
            "['andrew', 'brandon', 'jake']\n",
            "Three items from the middle of the list are:\n",
            "['jake', 'devin', 'john']\n",
            "The last three items in the list are:\n",
            "['john', 'jacob', 'thornhill']\n",
            "My favorite pizzas are:\n",
            "['pepperoni', 'bacon', 'cheese', 'sausage', 'pineapple', 'jalapenos']\n",
            "\n",
            "My friend's favorite pizzas are:\n",
            "['pepperoni', 'bacon', 'cheese', 'sausage', 'pineapple', 'vegeterian']\n",
            "My favorite pizzas are:\n",
            "Pepperoni\n",
            "Bacon\n",
            "Cheese\n",
            "Sausage\n",
            "Pineapple\n",
            "Jalapenos\n",
            "\n",
            "My friend's favorite pizzas are:\n",
            "Pepperoni\n",
            "Bacon\n",
            "Cheese\n",
            "Sausage\n",
            "Pineapple\n",
            "Vegeterian\n"
          ]
        }
      ]
    },
    {
      "cell_type": "code",
      "source": [],
      "metadata": {
        "id": "TG484OExPbdA"
      },
      "execution_count": null,
      "outputs": []
    }
  ]
}