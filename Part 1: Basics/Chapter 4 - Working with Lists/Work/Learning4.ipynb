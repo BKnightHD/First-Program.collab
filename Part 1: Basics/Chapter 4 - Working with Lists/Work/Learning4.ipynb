{ 
  "nbformat": 4,
  "nbformat_minor": 0,
  "metadata": {
    "colab": {
      "provenance": []
    },
    "kernelspec": {
      "name": "python3",
      "display_name": "Python 3"
    },
    "language_info": {
      "name": "python"
    }
  },
  "cells": [
    {
      "cell_type": "markdown",
      "source": [
        "# Working With Lists (Looping)"
      ],
      "metadata": {
        "id": "kSU_a7u-9nOQ"
      }
    },
    {
      "cell_type": "markdown",
      "source": [
        "- For Loops"
      ],
      "metadata": {
        "id": "Pp-MrBPg_W7_"
      }
    },
    {
      "cell_type": "code",
      "execution_count": null,
      "metadata": {
        "colab": {
          "base_uri": "https://localhost:8080/"
        },
        "id": "0RSe-ZSV9g1H",
        "outputId": "220f23b8-cb46-4bbd-84f5-674fb3b8c0b6"
      },
      "outputs": [
        {
          "output_type": "stream",
          "name": "stdout",
          "text": [
            "Alice\n",
            "David\n",
            "Carolina\n"
          ]
        }
      ],
      "source": [
        "magicians = ['alice', 'david', 'carolina'] # first we define the list\n",
        "for magician in magicians: # this line tells Python to pull a name from the list magicians, and associate it with the variable magician\n",
        "  print(magician.title()) # Python repeats line 2 and 3 for each item in the list"
      ]
    },
    {
      "cell_type": "markdown",
      "source": [
        "We can interpret the above code as follows: \"For every magician in the list of magicians, print the magician's name,\"\n",
        "\n",
        "It's good to keep naming conventions simple and intuitive like so:\n",
        "\n",
        "- for cat in cats:\n",
        "\n",
        "- for dog in dogs:\n",
        "\n",
        "- for item in list_of_items:\n"
      ],
      "metadata": {
        "id": "RLkCfsyY_JWR"
      }
    },
    {
      "cell_type": "code",
      "source": [
        "for magician in magicians:\n",
        "  print(f\"{magician.title()}, that was a great trick!\")\n",
        "  print(f\"I can't wait to see your next trick {magician.title()}!\\n\")\n",
        "print(\"Thank you all for the great show!\") # This line is not indented, so Python does not count it in the for loop"
      ],
      "metadata": {
        "colab": {
          "base_uri": "https://localhost:8080/"
        },
        "id": "g95OOe3i-Ua7",
        "outputId": "dcab5ad4-b07a-450e-963e-4edf7516053d"
      },
      "execution_count": null,
      "outputs": [
        {
          "output_type": "stream",
          "name": "stdout",
          "text": [
            "Alice, that was a great trick!\n",
            "I can't wait to see your next trick Alice!\n",
            "\n",
            "David, that was a great trick!\n",
            "I can't wait to see your next trick David!\n",
            "\n",
            "Carolina, that was a great trick!\n",
            "I can't wait to see your next trick Carolina!\n",
            "\n",
            "Thank you all for the great show!\n"
          ]
        }
      ]
    },
    {
      "cell_type": "code",
      "source": [
        "people = ['alice', 'david', 'carolina']\n",
        "for freinds in people: #don't forget the colon\n",
        "  print(f\"Hello {freinds.title()}!\")\n",
        "print(\"\\nI hope you guys are ready to code!\")"
      ],
      "metadata": {
        "id": "l3cLBHg8A6fF",
        "colab": {
          "base_uri": "https://localhost:8080/"
        },
        "outputId": "852ee2e8-978d-4397-a296-100443974400"
      },
      "execution_count": null,
      "outputs": [
        {
          "output_type": "stream",
          "name": "stdout",
          "text": [
            "Hello Alice!\n",
            "Hello David!\n",
            "Hello Carolina!\n",
            "\n",
            "I hope you guys are ready to code!\n"
          ]
        }
      ]
    },
    {
      "cell_type": "markdown",
      "source": [
        "# Try it yourself\n",
        "* 4-1 Pizzas\n",
        "* 4-2 Animals"
      ],
      "metadata": {
        "id": "TpcMiJWFekUv"
      }
    },
    {
      "cell_type": "code",
      "source": [
        "#4-1\n",
        "pizza = ['bacon', 'pinapple', 'jalapeno']\n",
        "for toppings in pizza:\n",
        "  print(f\"One of my favorite pizzas is {toppings.title()}.\")\n",
        "print(\"\\nHonestly, I just really like pizza!\\n\")\n",
        "\n",
        "#4-2\n",
        "cats = ['tiger', 'cheeta', 'lepord']\n",
        "for cat in cats:\n",
        "  print(f\" You know, a {cat.title()} would make a cool pet!\")"
      ],
      "metadata": {
        "colab": {
          "base_uri": "https://localhost:8080/"
        },
        "id": "gp7QfGaXdtSo",
        "outputId": "987907ce-6fd0-4194-e3cf-f46db9f8c593"
      },
      "execution_count": null,
      "outputs": [
        {
          "output_type": "stream",
          "name": "stdout",
          "text": [
            "One of my favorite pizzas is Bacon.\n",
            "One of my favorite pizzas is Pinapple.\n",
            "One of my favorite pizzas is Jalapeno.\n",
            "\n",
            "Honestly, I just really like pizza!\n",
            "\n",
            " You know, a Tiger would make a cool pet!\n",
            " You know, a Cheeta would make a cool pet!\n",
            " You know, a Lepord would make a cool pet!\n"
          ]
        }
      ]
    },
    {
      "cell_type": "code",
      "source": [
        "for value in range(1, 5): #range(x, y) function will not print the last number (off by one behavior of computer programming)\n",
        " print(value)\n",
        "print(\"-----------------------------\\n\")\n",
        "\n",
        "for value in range(6): #range(6) gives us a list of number from 0-5\n",
        " print(value)\n",
        "print(\"-----------------------------\\n\")\n",
        "\n",
        "numbers = list(range(1,6)) #wrapping list funcition around range creates a list with assocated range.\n",
        "print(numbers)\n",
        "print(\"-----------------------------\\n\")\n",
        "\n",
        "even_numbers = list(range(2,11,2)) #rang(x, y, z) starts at x, and adds z until it passes or reaches y.\n",
        "print(even_numbers)"
      ],
      "metadata": {
        "colab": {
          "base_uri": "https://localhost:8080/"
        },
        "id": "Azd3TEBYfSU8",
        "outputId": "c8bcbc19-4fbb-464c-ecfd-6437482f1473"
      },
      "execution_count": null,
      "outputs": [
        {
          "output_type": "stream",
          "name": "stdout",
          "text": [
            "1\n",
            "2\n",
            "3\n",
            "4\n",
            "-----------------------------\n",
            "\n",
            "0\n",
            "1\n",
            "2\n",
            "3\n",
            "4\n",
            "5\n",
            "-----------------------------\n",
            "\n",
            "[1, 2, 3, 4, 5]\n",
            "-----------------------------\n",
            "\n",
            "[2, 4, 6, 8, 10]\n"
          ]
        }
      ]
    },
    {
      "cell_type": "code",
      "source": [
        "# We want to create a list of the first 10 squares, that is, 1^2, 2^2, 3^2, 4^2 and so on..\n",
        "squares = [] # We start with an empty list called squares\n",
        "for value in range(1,11): #Loop through each value from 1 to 10\n",
        "  square = value**2 # Square each value\n",
        "  squares.append(square) # Add the results to the list until it gets to 10\n",
        "\n",
        "print(squares) # print the resulting list\n",
        "\n",
        "squares = []\n",
        "for value in range(1,11):\n",
        "  squares.append(value**2)\n",
        "print(squares)\n",
        "\n",
        "print(min(squares))\n",
        "print(max(squares))\n",
        "print(sum(squares))"
      ],
      "metadata": {
        "colab": {
          "base_uri": "https://localhost:8080/"
        },
        "id": "YUCmTiTPUMyJ",
        "outputId": "1c983b60-6d0f-47e2-af09-e8a54de94a4d"
      },
      "execution_count": null,
      "outputs": [
        {
          "output_type": "stream",
          "name": "stdout",
          "text": [
            "[1, 4, 9, 16, 25, 36, 49, 64, 81, 100]\n",
            "[1, 4, 9, 16, 25, 36, 49, 64, 81, 100]\n",
            "1\n",
            "100\n",
            "385\n"
          ]
        }
      ]
    },
    {
      "cell_type": "code",
      "source": [
        "numbers = []\n",
        "for value in range(1,11):\n",
        "  numbers.append(value**3)\n",
        "print(numbers)"
      ],
      "metadata": {
        "id": "NuD_Oci8pFr7",
        "colab": {
          "base_uri": "https://localhost:8080/"
        },
        "outputId": "85f4e338-4dec-4ec6-e4a6-23ec76cfb2d0"
      },
      "execution_count": null,
      "outputs": [
        {
          "output_type": "stream",
          "name": "stdout",
          "text": [
            "[1, 8, 27, 64, 125, 216, 343, 512, 729, 1000]\n"
          ]
        }
      ]
    },
    {
      "cell_type": "code",
      "source": [
        "sqaures = [value**2 for value in range(1, 11)] #this is a list comprehension, it allows you to generate the same list in just one line of code\n",
        "print(sqaures)"
      ],
      "metadata": {
        "colab": {
          "base_uri": "https://localhost:8080/"
        },
        "id": "6WcNMTMkoTLR",
        "outputId": "24e24e32-9e06-420e-c7c5-bcaa4bdb2390"
      },
      "execution_count": null,
      "outputs": [
        {
          "output_type": "stream",
          "name": "stdout",
          "text": [
            "[1, 4, 9, 16, 25, 36, 49, 64, 81, 100]\n"
          ]
        }
      ]
    },
    {
      "cell_type": "markdown",
      "source": [
        "# Try it yourself\n",
        "* 4-3 Counting to Twenty\n",
        "* 4-4 One Million\n",
        "* 4-5 Summing a Million\n",
        "* 4-6 Odd Numbers\n",
        "* 4-7 Threes\n",
        "* 4-8 Cubes\n",
        "* 4-9 Cube Comprehension"
      ],
      "metadata": {
        "id": "hkd_kn7JphoR"
      }
    },
    {
      "cell_type": "code",
      "source": [
        "#4-3 Use a for loop to print the numbers from 1 to 20, inclusive\n",
        "twenty = []\n",
        "for numbers in range(1,21):\n",
        "  twenty.append(numbers)\n",
        "print(twenty)\n",
        "\n",
        "#4-6 Use the third argument of the range() function to make a list of the odd numbers from 1 to 20. Use a for loop to print each number.\n",
        "thirds =[]\n",
        "for third in (range(1,21,2)):\n",
        "  thirds.append(third)\n",
        "print(thirds)\n",
        "\n",
        "#4-7 MAke a list of the multiples of 3 from 3 to 30. Use a for loop to print the numbners in your list.\n",
        "threes = []\n",
        "for three in range(3,31,3):\n",
        "  threes.append(three)\n",
        "print(threes)\n",
        "\n",
        "#4-8 Make a list of the first 1- cubes (that is, the cube of each integer from 1 through 10), and use a for loop to print out the value of each cube\n",
        "cube = []\n",
        "for cubes in range(1,10):\n",
        "  cube.append(cubes**3)\n",
        "print(cube)\n",
        "\n",
        "#4-9 Use a list comprehension to generate a list of the first 10 cubes\n",
        "cubes = [value**3 for value in range(1,10)]\n",
        "print(cubes)"
      ],
      "metadata": {
        "id": "zL8fVOOepPxg",
        "outputId": "9f047df1-e9b3-486d-8bfe-e2077056478f",
        "colab": {
          "base_uri": "https://localhost:8080/"
        }
      },
      "execution_count": null,
      "outputs": [
        {
          "output_type": "stream",
          "name": "stdout",
          "text": [
            "[1, 2, 3, 4, 5, 6, 7, 8, 9, 10, 11, 12, 13, 14, 15, 16, 17, 18, 19, 20]\n",
            "[1, 3, 5, 7, 9, 11, 13, 15, 17, 19]\n",
            "[3, 6, 9, 12, 15, 18, 21, 24, 27, 30]\n",
            "[1, 8, 27, 64, 125, 216, 343, 512, 729]\n",
            "[1, 8, 27, 64, 125, 216, 343, 512, 729]\n"
          ]
        }
      ]
    },
    {
      "cell_type": "code",
      "source": [
        "#practicing random code 11-8-23\n",
        "\n",
        "people = ['jake', 'kim', 'andrew']\n",
        "sorted_people = sorted(people)\n",
        "print(f\"{str(sorted_people).title()}\\n\")\n",
        "for peoples in people:\n",
        "  print(f\"Hello {peoples.title()}, ready to study?\\n\")\n",
        "print(\"Well lets get it then!\")"
      ],
      "metadata": {
        "id": "QYOOjTt9sE0a",
        "outputId": "3332f759-8b0d-4693-b9ea-784ad4a67085",
        "colab": {
          "base_uri": "https://localhost:8080/"
        }
      },
      "execution_count": 8,
      "outputs": [
        {
          "output_type": "stream",
          "name": "stdout",
          "text": [
            "['Andrew', 'Jake', 'Kim']\n",
            "\n",
            "Hello Jake, ready to study?\n",
            "\n",
            "Hello Kim, ready to study?\n",
            "\n",
            "Hello Andrew, ready to study?\n",
            "\n",
            "Well lets get it then!\n"
          ]
        }
      ]
    },
    {
      "cell_type": "code",
      "source": [
        "digits = [1, 2, 3, 4, 5, 6, 7, 8, 9, 0]\n",
        "print(f\"{digits[0:4]}\\n\") #prints the first 4 numbers in the list\n",
        "names = ['andrew', 'jacob', 'emily', 'kimberly', 'brian']\n",
        "print(f\"{str(names[0:3]).title()}\\n\") #subset of list\n",
        "for value in sorted(names):\n",
        "  print(value.title())\n",
        "print(\"\\n\")\n",
        "print(names[:3]) #wihtout a starting index, Python stars at the beginning of the list\n",
        "print(names[2:]) #Python returns values starting from the third item through the end of the list\n",
        "print(names[:-2]) #prints list minus the last two names\n",
        "print(names[-3:]) #prints last three names"
      ],
      "metadata": {
        "id": "FAul3MMarPJC",
        "outputId": "43de5549-69ba-4b32-84a7-904cad66d6d8",
        "colab": {
          "base_uri": "https://localhost:8080/"
        }
      },
      "execution_count": 28,
      "outputs": [
        {
          "output_type": "stream",
          "name": "stdout",
          "text": [
            "[1, 2, 3, 4]\n",
            "\n",
            "['Andrew', 'Jacob', 'Emily']\n",
            "\n",
            "Andrew\n",
            "Brian\n",
            "Emily\n",
            "Jacob\n",
            "Kimberly\n",
            "\n",
            "\n",
            "['andrew', 'jacob', 'emily']\n",
            "['emily', 'kimberly', 'brian']\n",
            "['andrew', 'jacob', 'emily']\n",
            "['emily', 'kimberly', 'brian']\n"
          ]
        }
      ]
    },
    {
      "cell_type": "code",
      "source": [
        "players = ['charles', 'martina', 'michael', 'florence', 'eli']\n",
        "print(\"The roster on the team consists of:\\n\\t\")\n",
        "\n",
        "for player in players[:3]:\n",
        "  print(f\"{str(player).title()}\\n\")\n",
        "\n",
        "print(\"\\n---------------\")\n",
        "my_foods = ['pizza', 'falafel', 'carrot cake']\n",
        "freinds_foods = my_foods[:] #Copys the prior list\n",
        "\n",
        "print(\"My favorite foods are:\")\n",
        "print(my_foods)\n",
        "\n",
        "print(\"\\nMy freind's favorite foods are:\")\n",
        "print(freinds_foods)\n",
        "\n",
        "# To show that we have two seperate lists, we'll add new foods to each list\n",
        "my_foods.append('fruit')\n",
        "freinds_foods.append('ice cream')\n",
        "print(str(sorted(my_foods)).upper())\n",
        "print(str(sorted(freinds_foods)).upper())"
      ],
      "metadata": {
        "id": "sxmkIeDLsXQ1",
        "outputId": "18828614-8c85-4ecb-e666-7025b436bfcd",
        "colab": {
          "base_uri": "https://localhost:8080/"
        }
      },
      "execution_count": 43,
      "outputs": [
        {
          "output_type": "stream",
          "name": "stdout",
          "text": [
            "The roster on the team consists of:\n",
            "\t\n",
            "Charles\n",
            "\n",
            "Martina\n",
            "\n",
            "Michael\n",
            "\n",
            "\n",
            "---------------\n",
            "My favorite foods are:\n",
            "['pizza', 'falafel', 'carrot cake']\n",
            "\n",
            "My freind's favorite foods are:\n",
            "['pizza', 'falafel', 'carrot cake']\n",
            "['CARROT CAKE', 'FALAFEL', 'FRUIT', 'PIZZA']\n",
            "['CARROT CAKE', 'FALAFEL', 'ICE CREAM', 'PIZZA']\n"
          ]
        }
      ]
    },
    {
      "cell_type": "markdown",
      "source": [
        "# Try it yourself\n",
        "* 4-10 Slices\n",
        "* 4-11 My Pizzas, Your Pizzas"
      ],
      "metadata": {
        "id": "Pbj5Tt4v0dqS"
      }
    },
    {
      "cell_type": "code",
      "source": [
        "#4-10\n",
        "# Print the first three items in a list\n",
        "more_cars = ['mercedes-benz', 'lambrogini', 'volvo', 'farari', 'honda', 'bmw', 'cadilac']\n",
        "print(\"The first three items from my more_cars list are:\")\n",
        "for cars in (more_cars[:3]):\n",
        "  print(f\"- {str(cars).title()}\")\n",
        "print(\"\\nThe middle three items from my more_cars list are:\")\n",
        "for cars in (more_cars[2:5]):\n",
        "  print(f\"- {str(cars).title()}\")\n",
        "print(\"\\nThe last three items from my more_cars list are:\")\n",
        "for cars in (more_cars[-3:]):\n",
        "  print(f\"- {str(cars).title()}\")\n",
        "print(\"\\n---------------\")\n",
        "\n",
        "#4-11\n",
        "pizza = ['bacon', 'pinapple', 'jalapeno']\n",
        "freinds_pizzas = pizza[:]\n",
        "pizza.append('sasuage')\n",
        "freinds_pizzas.insert(2,\"mushroom\")\n",
        "# Prove that you have two deperate lists\n",
        "print(\"My favorite pizzas are:\")\n",
        "for mine in pizza:\n",
        "  print(str(mine).title())\n",
        "print(\"\\nMy freinds favorite pizzas are:\")\n",
        "for theres in freinds_pizzas:\n",
        "  print(str(theres).title())\n",
        "print(\"\\n---------------\")"
      ],
      "metadata": {
        "id": "OAo_5mm_xDsf",
        "outputId": "aba24da6-d976-45da-da0b-bfa3811897a6",
        "colab": {
          "base_uri": "https://localhost:8080/"
        }
      },
      "execution_count": 65,
      "outputs": [
        {
          "output_type": "stream",
          "name": "stdout",
          "text": [
            "The first three items from my more_cars list are:\n",
            "- Mercedes-Benz\n",
            "- Lambrogini\n",
            "- Volvo\n",
            "\n",
            "The middle three items from my more_cars list are:\n",
            "- Volvo\n",
            "- Farari\n",
            "- Honda\n",
            "\n",
            "The last three items from my more_cars list are:\n",
            "- Honda\n",
            "- Bmw\n",
            "- Cadilac\n",
            "My favorite pizzas are:\n",
            "Bacon\n",
            "Pinapple\n",
            "Jalapeno\n",
            "Sasuage\n",
            "\n",
            "My freinds favorite pizzas are:\n",
            "Bacon\n",
            "Pinapple\n",
            "Mushroom\n",
            "Jalapeno\n"
          ]
        }
      ]
    },
    {
      "cell_type": "code",
      "source": [
        "# Tuples are whats known as 'immutable' list, or, a list that cannot change. To do this, you place parentheses instead of brackets\n",
        "dimensions = (200, 50) # Tuple\n",
        "print(dimensions[0])\n",
        "print(dimensions[1])\n",
        "\n",
        "for dimension in dimensions:\n",
        "  print(dimension)\n",
        "\n",
        "print(\"Original dimensions:\")\n",
        "for dimension in dimensions:\n",
        "  print(dimension)\n",
        "\n",
        "dimensions = (400, 100) # Here, we assign a new value to the raible that holds the tuple\n",
        "print(\"\\nModifies dimensions:\")\n",
        "for dimension in dimensions:\n",
        "  print(dimension)"
      ],
      "metadata": {
        "id": "SIeXmgMw1Bev",
        "outputId": "f56eeb01-3377-425c-8e2b-92655cd089c0",
        "colab": {
          "base_uri": "https://localhost:8080/"
        }
      },
      "execution_count": 70,
      "outputs": [
        {
          "output_type": "stream",
          "name": "stdout",
          "text": [
            "200\n",
            "50\n",
            "200\n",
            "50\n",
            "Original dimensions:\n",
            "200\n",
            "50\n",
            "\n",
            "Modifies dimensions:\n",
            "400\n",
            "100\n"
          ]
        }
      ]
    },
    {
      "cell_type": "code",
      "source": [
        "#Try it yourself\n",
        "#4-13 Buffet: a buffet-style restaurant offers only fice basic foods. Think of five simple foods, and store them in a tuple\n",
        "menu = ('foie gras with truffle reduction', 'lobster bisque with caviar', 'beef wellington', 'truffle risotto', 'chocolate fondant with raspberry coulis', 'peking duck with mandarin pancakes')\n",
        "\n",
        "\n",
        "\n",
        "\n",
        "# Use a for loop to print each food the resaurant offers\n",
        "print(\"Hello ladies and gentlemen, on tongiht's menu we have the following:\")\n",
        "for food in menu:\n",
        "  print(f\"- {food.title()}\")\n",
        "\n",
        "\n",
        "\n",
        "\n",
        "# Change the two items on the menu and notify the customers\n",
        "print(f\"\\nChange of plans, the chef has informed us that we will be removing the {(menu)[-1].title()} and the {menu[-2].title()} from tonights menu\")\n",
        "print(\"\\nPlease see our new menu below:\")\n",
        "menu = ('foie gras with truffle reduction', 'lobster bisque with caviar', 'beef wellington', 'truffle risotto', 'osso buco with saffron risotto', 'oysters rockefeller')\n",
        "for food in menu:\n",
        "  print (f\"- {food.title()}\")"
      ],
      "metadata": {
        "id": "F7eSPgTm8hdT",
        "outputId": "2fbc3ddf-2c1f-49ed-8d37-78bfc2fb239d",
        "colab": {
          "base_uri": "https://localhost:8080/"
        }
      },
      "execution_count": 95,
      "outputs": [
        {
          "output_type": "stream",
          "name": "stdout",
          "text": [
            "Hello ladies and gentlemen, on tongiht's menu we have the following:\n",
            "- Foie Gras With Truffle Reduction\n",
            "- Lobster Bisque With Caviar\n",
            "- Beef Wellington\n",
            "- Truffle Risotto\n",
            "- Chocolate Fondant With Raspberry Coulis\n",
            "- Peking Duck With Mandarin Pancakes\n",
            "\n",
            "Change of plans, the chef has informed us that we will be removing the Peking Duck With Mandarin Pancakes and the Chocolate Fondant With Raspberry Coulis from tonights menu\n",
            "\n",
            "Please see our new menu below:\n",
            "- Foie Gras With Truffle Reduction\n",
            "- Lobster Bisque With Caviar\n",
            "- Beef Wellington\n",
            "- Truffle Risotto\n",
            "- Osso Buco With Saffron Risotto\n",
            "- Oysters Rockefeller\n"
          ]
        }
      ]
    },
    {
      "cell_type": "code",
      "source": [],
      "metadata": {
        "id": "l-hNYfCG-saw",
        "outputId": "f5db61d4-c6fc-4427-d71f-b63da1ac158b",
        "colab": {
          "base_uri": "https://localhost:8080/"
        }
      },
      "execution_count": 94,
      "outputs": [
        {
          "output_type": "stream",
          "name": "stdout",
          "text": [
            "Object `PEP8` not found.\n"
          ]
        }
      ]
    },
    {
      "cell_type": "code",
      "source": [],
      "metadata": {
        "id": "IM3UWbiZCDNK"
      },
      "execution_count": null,
      "outputs": []
    }
  ]
}