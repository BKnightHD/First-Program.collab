{
  "nbformat": 4,
  "nbformat_minor": 0,
  "metadata": {
    "colab": {
      "provenance": [],
      "authorship_tag": "ABX9TyMrNgXNzeHgqiBWXHbDyTwJ",
      "include_colab_link": true
    },
    "kernelspec": {
      "name": "python3",
      "display_name": "Python 3"
    },
    "language_info": {
      "name": "python"
    }
  },
  "cells": [
    {
      "cell_type": "markdown",
      "metadata": {
        "id": "view-in-github",
        "colab_type": "text"
      },
      "source": [
        "<a href=\"https://colab.research.google.com/github/BKnightHD/Python-CC/blob/main/Side_Work.ipynb\" target=\"_parent\"><img src=\"https://colab.research.google.com/assets/colab-badge.svg\" alt=\"Open In Colab\"/></a>"
      ]
    },
    {
      "cell_type": "code",
      "execution_count": null,
      "metadata": {
        "id": "SxuOSHVadHCm",
        "colab": {
          "base_uri": "https://localhost:8080/"
        },
        "outputId": "9e252b0a-5ce1-437c-cc68-a665d1773164"
      },
      "outputs": [
        {
          "output_type": "stream",
          "name": "stdout",
          "text": [
            "dragon\n",
            "sword\n"
          ]
        }
      ],
      "source": [
        "# Unpacking a list\n",
        "things = ['dragon', 'crown', 'shield', 'sword']\n",
        "a, b, c, d = things\n",
        "print(a)\n",
        "print(d)"
      ]
    },
    {
      "cell_type": "code",
      "source": [
        "name = 'brandon'\n",
        "x = \"My name is \" + name.title() +\".\"\n",
        "\n",
        "def message():\n",
        "  name = 'alice'\n",
        "  print(\"My name is \"+ name.title() + \" .\")\n",
        "\n",
        "message()\n",
        "\n",
        "print(x)"
      ],
      "metadata": {
        "colab": {
          "base_uri": "https://localhost:8080/"
        },
        "id": "50hKx-zc2f3R",
        "outputId": "7270916d-360b-44a1-fe48-247201fc2504"
      },
      "execution_count": null,
      "outputs": [
        {
          "output_type": "stream",
          "name": "stdout",
          "text": [
            "My name is Alice .\n",
            "My name is Brandon.\n"
          ]
        }
      ]
    },
    {
      "cell_type": "code",
      "source": [
        "def my_function(fname):\n",
        "  print(fname + \" Refsnes\")\n",
        "\n",
        "my_function(\"Emil\")\n",
        "my_function(\"Tobias\")\n",
        "my_function(\"Linus\")\n",
        "\n",
        "values = [number**2 for number in range(1,11)]\n",
        "def numbers(values):\n",
        "  print(values)\n",
        "numbers(values)"
      ],
      "metadata": {
        "colab": {
          "base_uri": "https://localhost:8080/"
        },
        "id": "iNRJ1OMj2-of",
        "outputId": "54885d5b-f9db-4db4-a086-140dc700e98e"
      },
      "execution_count": null,
      "outputs": [
        {
          "output_type": "stream",
          "name": "stdout",
          "text": [
            "Emil Refsnes\n",
            "Tobias Refsnes\n",
            "Linus Refsnes\n",
            "[1, 4, 9, 16, 25, 36, 49, 64, 81, 100]\n"
          ]
        }
      ]
    },
    {
      "cell_type": "code",
      "source": [
        "def my_function(*kids): # arbitrary number of arguments defined\n",
        "  print(\"The youngest child is \" + kids[2])\n",
        "\n",
        "my_function(\"Emil\", \"Tobias\", \"Linus\") # 3 parameters are now defined"
      ],
      "metadata": {
        "colab": {
          "base_uri": "https://localhost:8080/"
        },
        "id": "EB_5SrKs_d-A",
        "outputId": "1d553424-5655-4544-fed7-2b8a45423757"
      },
      "execution_count": null,
      "outputs": [
        {
          "output_type": "stream",
          "name": "stdout",
          "text": [
            "The youngest child is Linus\n"
          ]
        }
      ]
    },
    {
      "cell_type": "code",
      "source": [
        "def add_numbers(a, b):\n",
        "    result = a + b\n",
        "    return result\n",
        "\n",
        "sum_of_numbers = add_numbers(5, 3)\n",
        "print(sum_of_numbers)\n"
      ],
      "metadata": {
        "id": "KIfKJ5elECQi",
        "colab": {
          "base_uri": "https://localhost:8080/"
        },
        "outputId": "8279df90-ec0e-4d8f-c460-0d92d9d79dda"
      },
      "execution_count": null,
      "outputs": [
        {
          "output_type": "stream",
          "name": "stdout",
          "text": [
            "8\n"
          ]
        }
      ]
    },
    {
      "cell_type": "code",
      "source": [
        "def binary_search(arr, target):\n",
        "    # Define the initial left and right pointers\n",
        "    left, right = 0, len(arr) - 1\n",
        "\n",
        "    # While the search space is valid\n",
        "    while left <= right:\n",
        "        # Find the middle index\n",
        "        mid = (left + right) // 2\n",
        "\n",
        "        # Check if the middle element is the target\n",
        "        if arr[mid] == target:\n",
        "            return mid  # Return the index of the target\n",
        "\n",
        "        # If the target is smaller, ignore the right half\n",
        "        elif arr[mid] > target:\n",
        "            right = mid - 1\n",
        "\n",
        "        # If the target is larger, ignore the left half\n",
        "        else:\n",
        "            left = mid + 1\n",
        "\n",
        "    # If the target is not found, return -1\n",
        "    return -1\n",
        "\n",
        "# Example usage:\n",
        "arr = [1, 3, 5, 7, 9, 11, 13, 15, 17, 19]\n",
        "target = 7\n",
        "\n",
        "result = binary_search(arr, target)\n",
        "\n",
        "if result != -1:\n",
        "    print(f\"Target found at index: {result}\")\n",
        "else:\n",
        "    print(\"Target not found in the array.\")\n"
      ],
      "metadata": {
        "id": "QwB2iLK7QU06",
        "colab": {
          "base_uri": "https://localhost:8080/"
        },
        "outputId": "86d3b655-4c57-4edb-c221-f08d088ee33c"
      },
      "execution_count": null,
      "outputs": [
        {
          "output_type": "stream",
          "name": "stdout",
          "text": [
            "Target found at index: 3\n"
          ]
        }
      ]
    },
    {
      "cell_type": "markdown",
      "source": [
        "# Binary Search walkthrough"
      ],
      "metadata": {
        "id": "9QMa9zZBe7PU"
      }
    },
    {
      "cell_type": "code",
      "source": [
        "# defining function, list is called 'lst', variable we're searching for called 'variable'\n",
        "def binary_search(lst, variable):\n",
        "\n",
        "# setting the pointers (where the algorithm will start)\n",
        "  left = 0\n",
        "  right = len(lst) - 1\n",
        "\n",
        "# loop\n",
        "  while left <= right:\n",
        "    mid = (left + right) // 2\n",
        "\n",
        "    if variable > lst[mid]:\n",
        "      left = mid + 1\n",
        "\n",
        "    elif a < lst[mid]:\n",
        "      right = mid - 1\n",
        "\n",
        "# or, have we foudn the correct number, in which case, return true.\n",
        "    else:\n",
        "      return True\n",
        "\n",
        "  return False"
      ],
      "metadata": {
        "id": "U7xjwt6yWkz2"
      },
      "execution_count": null,
      "outputs": []
    },
    {
      "cell_type": "code",
      "source": [],
      "metadata": {
        "id": "tbXhshIZgFp0"
      },
      "execution_count": null,
      "outputs": []
    }
  ]
}