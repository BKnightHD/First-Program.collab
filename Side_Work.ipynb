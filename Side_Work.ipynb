{
  "nbformat": 4,
  "nbformat_minor": 0,
  "metadata": {
    "colab": {
      "provenance": [],
      "authorship_tag": "ABX9TyMglcf9LyR5rqjQEs4UqaXK",
      "include_colab_link": true
    },
    "kernelspec": {
      "name": "python3",
      "display_name": "Python 3"
    },
    "language_info": {
      "name": "python"
    }
  },
  "cells": [
    {
      "cell_type": "markdown",
      "metadata": {
        "id": "view-in-github",
        "colab_type": "text"
      },
      "source": [
        "<a href=\"https://colab.research.google.com/github/BKnightHD/Python-CC/blob/main/Side_Work.ipynb\" target=\"_parent\"><img src=\"https://colab.research.google.com/assets/colab-badge.svg\" alt=\"Open In Colab\"/></a>"
      ]
    },
    {
      "cell_type": "code",
      "execution_count": null,
      "metadata": {
        "id": "SxuOSHVadHCm",
        "colab": {
          "base_uri": "https://localhost:8080/"
        },
        "outputId": "9e252b0a-5ce1-437c-cc68-a665d1773164"
      },
      "outputs": [
        {
          "output_type": "stream",
          "name": "stdout",
          "text": [
            "dragon\n",
            "sword\n"
          ]
        }
      ],
      "source": [
        "# Unpacking a list\n",
        "things = ['dragon', 'crown', 'shield', 'sword']\n",
        "a, b, c, d = things\n",
        "print(a)\n",
        "print(d)"
      ]
    },
    {
      "cell_type": "code",
      "source": [
        "name = 'brandon'\n",
        "x = \"My name is \" + name.title() +\".\"\n",
        "\n",
        "def message():\n",
        "  name = 'alice'\n",
        "  print(\"My name is \"+ name.title() + \" .\")\n",
        "\n",
        "message()\n",
        "\n",
        "print(x)"
      ],
      "metadata": {
        "colab": {
          "base_uri": "https://localhost:8080/"
        },
        "id": "50hKx-zc2f3R",
        "outputId": "7270916d-360b-44a1-fe48-247201fc2504"
      },
      "execution_count": null,
      "outputs": [
        {
          "output_type": "stream",
          "name": "stdout",
          "text": [
            "My name is Alice .\n",
            "My name is Brandon.\n"
          ]
        }
      ]
    },
    {
      "cell_type": "code",
      "source": [
        "def my_function(fname):\n",
        "  print(fname + \" Refsnes\")\n",
        "\n",
        "my_function(\"Emil\")\n",
        "my_function(\"Tobias\")\n",
        "my_function(\"Linus\")\n",
        "\n",
        "values = [number**2 for number in range(1,11)]\n",
        "def numbers(values):\n",
        "  print(values)\n",
        "numbers(values)"
      ],
      "metadata": {
        "colab": {
          "base_uri": "https://localhost:8080/"
        },
        "id": "iNRJ1OMj2-of",
        "outputId": "54885d5b-f9db-4db4-a086-140dc700e98e"
      },
      "execution_count": null,
      "outputs": [
        {
          "output_type": "stream",
          "name": "stdout",
          "text": [
            "Emil Refsnes\n",
            "Tobias Refsnes\n",
            "Linus Refsnes\n",
            "[1, 4, 9, 16, 25, 36, 49, 64, 81, 100]\n"
          ]
        }
      ]
    },
    {
      "cell_type": "code",
      "source": [
        "def my_function(*kids): # arbitrary number of arguments defined\n",
        "  print(\"The youngest child is \" + kids[2])\n",
        "\n",
        "my_function(\"Emil\", \"Tobias\", \"Linus\") # 3 parameters are now defined"
      ],
      "metadata": {
        "colab": {
          "base_uri": "https://localhost:8080/"
        },
        "id": "EB_5SrKs_d-A",
        "outputId": "1d553424-5655-4544-fed7-2b8a45423757"
      },
      "execution_count": null,
      "outputs": [
        {
          "output_type": "stream",
          "name": "stdout",
          "text": [
            "The youngest child is Linus\n"
          ]
        }
      ]
    },
    {
      "cell_type": "code",
      "source": [
        "def add_numbers(a, b):\n",
        "    result = a + b\n",
        "    return result\n",
        "\n",
        "sum_of_numbers = add_numbers(5, 3)\n",
        "print(sum_of_numbers)\n"
      ],
      "metadata": {
        "id": "KIfKJ5elECQi",
        "colab": {
          "base_uri": "https://localhost:8080/"
        },
        "outputId": "8279df90-ec0e-4d8f-c460-0d92d9d79dda"
      },
      "execution_count": null,
      "outputs": [
        {
          "output_type": "stream",
          "name": "stdout",
          "text": [
            "8\n"
          ]
        }
      ]
    },
    {
      "cell_type": "code",
      "source": [],
      "metadata": {
        "id": "QwB2iLK7QU06"
      },
      "execution_count": null,
      "outputs": []
    }
  ]
}