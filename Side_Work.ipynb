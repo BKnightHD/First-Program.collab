{
  "nbformat": 4,
  "nbformat_minor": 0,
  "metadata": {
    "colab": {
      "provenance": [],
      "authorship_tag": "ABX9TyOwTkm6vKI3ApaY2+DLy4Ab",
      "include_colab_link": true
    },
    "kernelspec": {
      "name": "python3",
      "display_name": "Python 3"
    },
    "language_info": {
      "name": "python"
    }
  },
  "cells": [
    {
      "cell_type": "markdown",
      "metadata": {
        "id": "view-in-github",
        "colab_type": "text"
      },
      "source": [
        "<a href=\"https://colab.research.google.com/github/BKnightHD/Python-CC/blob/main/Side_Work.ipynb\" target=\"_parent\"><img src=\"https://colab.research.google.com/assets/colab-badge.svg\" alt=\"Open In Colab\"/></a>"
      ]
    },
    {
      "cell_type": "code",
      "execution_count": null,
      "metadata": {
        "id": "SxuOSHVadHCm",
        "colab": {
          "base_uri": "https://localhost:8080/"
        },
        "outputId": "9e252b0a-5ce1-437c-cc68-a665d1773164"
      },
      "outputs": [
        {
          "output_type": "stream",
          "name": "stdout",
          "text": [
            "dragon\n",
            "sword\n"
          ]
        }
      ],
      "source": [
        "# Unpacking a list\n",
        "things = ['dragon', 'crown', 'shield', 'sword']\n",
        "a, b, c, d = things\n",
        "print(a)\n",
        "print(d)"
      ]
    },
    {
      "cell_type": "code",
      "source": [
        "name = 'brandon'\n",
        "x = \"My name is \" + name.title() +\".\"\n",
        "\n",
        "def message():\n",
        "  name = 'alice'\n",
        "  print(\"My name is \"+ name.title() + \" .\")\n",
        "\n",
        "message()\n",
        "\n",
        "print(x)"
      ],
      "metadata": {
        "colab": {
          "base_uri": "https://localhost:8080/"
        },
        "id": "50hKx-zc2f3R",
        "outputId": "7270916d-360b-44a1-fe48-247201fc2504"
      },
      "execution_count": null,
      "outputs": [
        {
          "output_type": "stream",
          "name": "stdout",
          "text": [
            "My name is Alice .\n",
            "My name is Brandon.\n"
          ]
        }
      ]
    },
    {
      "cell_type": "code",
      "source": [
        "def my_function(fname):\n",
        "  print(fname + \" Refsnes\")\n",
        "\n",
        "my_function(\"Emil\")\n",
        "my_function(\"Tobias\")\n",
        "my_function(\"Linus\")\n",
        "\n",
        "values = [number**2 for number in range(1,11)]\n",
        "def numbers(values):\n",
        "  print(values)\n",
        "numbers(values)"
      ],
      "metadata": {
        "colab": {
          "base_uri": "https://localhost:8080/"
        },
        "id": "iNRJ1OMj2-of",
        "outputId": "54885d5b-f9db-4db4-a086-140dc700e98e"
      },
      "execution_count": null,
      "outputs": [
        {
          "output_type": "stream",
          "name": "stdout",
          "text": [
            "Emil Refsnes\n",
            "Tobias Refsnes\n",
            "Linus Refsnes\n",
            "[1, 4, 9, 16, 25, 36, 49, 64, 81, 100]\n"
          ]
        }
      ]
    },
    {
      "cell_type": "code",
      "source": [
        "def my_function(*kids): # arbitrary number of arguments defined\n",
        "  print(\"The youngest child is \" + kids[2])\n",
        "\n",
        "my_function(\"Emil\", \"Tobias\", \"Linus\") # 3 parameters are now defined"
      ],
      "metadata": {
        "colab": {
          "base_uri": "https://localhost:8080/"
        },
        "id": "EB_5SrKs_d-A",
        "outputId": "1d553424-5655-4544-fed7-2b8a45423757"
      },
      "execution_count": null,
      "outputs": [
        {
          "output_type": "stream",
          "name": "stdout",
          "text": [
            "The youngest child is Linus\n"
          ]
        }
      ]
    },
    {
      "cell_type": "code",
      "source": [
        "def add_numbers(a, b):\n",
        "    result = a + b\n",
        "    return result\n",
        "\n",
        "sum_of_numbers = add_numbers(5, 3)\n",
        "print(sum_of_numbers)\n"
      ],
      "metadata": {
        "id": "KIfKJ5elECQi",
        "colab": {
          "base_uri": "https://localhost:8080/"
        },
        "outputId": "8279df90-ec0e-4d8f-c460-0d92d9d79dda"
      },
      "execution_count": null,
      "outputs": [
        {
          "output_type": "stream",
          "name": "stdout",
          "text": [
            "8\n"
          ]
        }
      ]
    },
    {
      "cell_type": "code",
      "source": [
        "def binary_search(arr, target):\n",
        "    # Define the initial left and right pointers\n",
        "    left, right = 0, len(arr) - 1\n",
        "\n",
        "    # While the search space is valid\n",
        "    while left <= right:\n",
        "        # Find the middle index\n",
        "        mid = (left + right) // 2\n",
        "\n",
        "        # Check if the middle element is the target\n",
        "        if arr[mid] == target:\n",
        "            return mid  # Return the index of the target\n",
        "\n",
        "        # If the target is smaller, ignore the right half\n",
        "        elif arr[mid] > target:\n",
        "            right = mid - 1\n",
        "\n",
        "        # If the target is larger, ignore the left half\n",
        "        else:\n",
        "            left = mid + 1\n",
        "\n",
        "    # If the target is not found, return -1\n",
        "    return -1\n",
        "\n",
        "# Example usage:\n",
        "arr = [1, 3, 5, 7, 9, 11, 13, 15, 17, 19]\n",
        "target = 7\n",
        "\n",
        "result = binary_search(arr, target)\n",
        "\n",
        "if result != -1:\n",
        "    print(f\"Target found at index: {result}\")\n",
        "else:\n",
        "    print(\"Target not found in the array.\")\n"
      ],
      "metadata": {
        "id": "QwB2iLK7QU06",
        "colab": {
          "base_uri": "https://localhost:8080/"
        },
        "outputId": "86d3b655-4c57-4edb-c221-f08d088ee33c"
      },
      "execution_count": null,
      "outputs": [
        {
          "output_type": "stream",
          "name": "stdout",
          "text": [
            "Target found at index: 3\n"
          ]
        }
      ]
    },
    {
      "cell_type": "markdown",
      "source": [
        "# Binary Search walkthrough"
      ],
      "metadata": {
        "id": "9QMa9zZBe7PU"
      }
    },
    {
      "cell_type": "code",
      "source": [
        "# defining function, list is called 'lst', variable we're searching for called 'variable'\n",
        "def binary_search(lst, variable):\n",
        "\n",
        "# setting the pointers (where the algorithm will start)\n",
        "  left = 0\n",
        "  right = len(lst) - 1\n",
        "\n",
        "# loop\n",
        "  while left <= right:\n",
        "    mid = (left + right) // 2\n",
        "\n",
        "    if variable > lst[mid]:\n",
        "      left = mid + 1\n",
        "\n",
        "    elif a < lst[mid]:\n",
        "      right = mid - 1\n",
        "\n",
        "# or, have we foudn the correct number, in which case, return true.\n",
        "    else:\n",
        "      return True\n",
        "\n",
        "  return False"
      ],
      "metadata": {
        "id": "U7xjwt6yWkz2"
      },
      "execution_count": null,
      "outputs": []
    },
    {
      "cell_type": "code",
      "source": [
        "a = 100\n",
        "b = 200\n",
        "\n",
        "if b > a:\n",
        "  print(\"b is greater than a\")\n",
        "\n",
        "elif\n",
        "\n",
        "if"
      ],
      "metadata": {
        "id": "tbXhshIZgFp0",
        "outputId": "2bdbedac-c6d3-4a5e-a2ed-5883da48db94",
        "colab": {
          "base_uri": "https://localhost:8080/"
        }
      },
      "execution_count": 3,
      "outputs": [
        {
          "output_type": "stream",
          "name": "stdout",
          "text": [
            "b is greater than a\n"
          ]
        }
      ]
    },
    {
      "cell_type": "markdown",
      "source": [
        "# How to use random()\n",
        "Creating a list with random numbers from 1-10."
      ],
      "metadata": {
        "id": "XajEmIcgFxn1"
      }
    },
    {
      "cell_type": "code",
      "source": [
        "import random\n",
        "\n",
        "print(random.randint(1,10)) # returns random integer between 1 and 10 inclusive\n",
        "print(random.randrange(1,10)) # also returns random integer between 1 and 10 inclusive"
      ],
      "metadata": {
        "id": "LJACuIhOLD2f",
        "outputId": "f2b1f151-1964-4f72-96ca-deea10099f60",
        "colab": {
          "base_uri": "https://localhost:8080/"
        }
      },
      "execution_count": 14,
      "outputs": [
        {
          "output_type": "stream",
          "name": "stdout",
          "text": [
            "6\n",
            "8\n"
          ]
        }
      ]
    },
    {
      "cell_type": "code",
      "source": [
        "import random # first we import the random moduel\n",
        "random.seed(10) # setting the seed for reproducability\n",
        "\n",
        "random_list = [] # setting variable \"random_list\" equal to empty list // assignment opperator\n",
        "\n",
        "num_elements = 3 # set variable \"num_elements\" equal to 5 // assignment opperator\n",
        "\n",
        "count = 0 # set varibale \"count\" equal to 0\n",
        "while count < num_elements: # while varibale count\n",
        "  random_number = random.randint(1,10) # setting random_number equal to random intiger between 1 and 10\n",
        "  random_list.append(random_number) # adding new \"random_number\" to the empty  list\n",
        "  count += 1 # adding 1 to our varibale (currently set at 0) until 3 (will be our length of final list)\n",
        "\n",
        "print(random_list)"
      ],
      "metadata": {
        "id": "zxahCju0DGuD",
        "outputId": "c9548693-77a6-4125-9eed-066fbbb8aa1e",
        "colab": {
          "base_uri": "https://localhost:8080/"
        }
      },
      "execution_count": 18,
      "outputs": [
        {
          "output_type": "stream",
          "name": "stdout",
          "text": [
            "[10, 1, 7]\n"
          ]
        }
      ]
    },
    {
      "cell_type": "code",
      "source": [
        "# Reproducing loop from memory\n",
        "\n",
        "# What are we trying to to? We want to create a list of 40 random numbers between 1 and 100 inclusive, using a while loop\n",
        "# first we have to import the random module, then get to work.\n",
        "\n",
        "import random\n",
        "random.seed(1) # Try again to remember this part\n",
        "\n",
        "\n",
        "empty_list = []\n",
        "counter = 0\n",
        "\n",
        "while counter < 40:\n",
        "  random_number = random.randrange(1,100)\n",
        "  empty_list.append(random_number)\n",
        "  counter += 1\n",
        "\n",
        "new_list = empty_list\n",
        "print(new_list)"
      ],
      "metadata": {
        "id": "PfW65e5bFEuC",
        "outputId": "4ff18f39-525b-4100-921e-4e58c7ff74ec",
        "colab": {
          "base_uri": "https://localhost:8080/"
        }
      },
      "execution_count": 19,
      "outputs": [
        {
          "output_type": "stream",
          "name": "stdout",
          "text": [
            "[18, 73, 98, 9, 33, 16, 64, 98, 58, 61, 84, 49, 27, 13, 63, 4, 50, 56, 78, 98, 99, 1, 90, 58, 35, 93, 30, 76, 14, 41, 4, 3, 4, 84, 70, 2, 49, 88, 28, 55]\n"
          ]
        }
      ]
    },
    {
      "cell_type": "code",
      "source": [
        "import random\n",
        "random.seed(1) # Try again to remember this part\n",
        "\n",
        "empty_list = []\n",
        "counter = 0\n",
        "\n",
        "while counter < 40:\n",
        "  random_number = random.randrange(1,100)\n",
        "  if random_number % 2 ==0:\n",
        "    divisable_number = random_number / 2\n",
        "    random_number = divisable_number\n",
        "  empty_list.append(random_number)\n",
        "  counter += 1\n",
        "\n",
        "# adding condition: if the random nimber is divisable by 2, then divide it by two, if not, then keep the number as is.\n",
        "\n",
        "new_list = empty_list\n",
        "print(new_list)"
      ],
      "metadata": {
        "id": "Px4FwGOpK98P",
        "outputId": "3a710582-d3f2-405e-d9d7-f753a2bdb223",
        "colab": {
          "base_uri": "https://localhost:8080/"
        }
      },
      "execution_count": 21,
      "outputs": [
        {
          "output_type": "stream",
          "name": "stdout",
          "text": [
            "[9.0, 73, 49.0, 9, 33, 8.0, 32.0, 49.0, 29.0, 61, 42.0, 49, 27, 13, 63, 2.0, 25.0, 28.0, 39.0, 49.0, 99, 1, 45.0, 29.0, 35, 93, 15.0, 38.0, 7.0, 41, 2.0, 3, 2.0, 42.0, 35.0, 1.0, 49, 44.0, 14.0, 55]\n"
          ]
        }
      ]
    },
    {
      "cell_type": "code",
      "source": [],
      "metadata": {
        "id": "w4_X8G1sOPVP"
      },
      "execution_count": null,
      "outputs": []
    }
  ]
}