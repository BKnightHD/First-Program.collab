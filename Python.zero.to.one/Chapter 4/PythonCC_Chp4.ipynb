{
  "nbformat": 4,
  "nbformat_minor": 0,
  "metadata": {
    "colab": {
      "provenance": [],
      "authorship_tag": "ABX9TyOPbz6WYWlTVOE6dWRCL1uU",
      "include_colab_link": true
    },
    "kernelspec": {
      "name": "python3",
      "display_name": "Python 3"
    },
    "language_info": {
      "name": "python"
    }
  },
  "cells": [
    {
      "cell_type": "markdown",
      "metadata": {
        "id": "view-in-github",
        "colab_type": "text"
      },
      "source": [
        "<a href=\"https://colab.research.google.com/github/BKnightHD/Python.zero.to.one/blob/main/Python.zero.to.one/Chapter%204/PythonCC_Chp4.ipynb\" target=\"_parent\"><img src=\"https://colab.research.google.com/assets/colab-badge.svg\" alt=\"Open In Colab\"/></a>"
      ]
    },
    {
      "cell_type": "markdown",
      "source": [
        "# Working With Lists (Looping)"
      ],
      "metadata": {
        "id": "kSU_a7u-9nOQ"
      }
    },
    {
      "cell_type": "markdown",
      "source": [
        "- For Loops"
      ],
      "metadata": {
        "id": "Pp-MrBPg_W7_"
      }
    },
    {
      "cell_type": "code",
      "execution_count": null,
      "metadata": {
        "colab": {
          "base_uri": "https://localhost:8080/"
        },
        "id": "0RSe-ZSV9g1H",
        "outputId": "220f23b8-cb46-4bbd-84f5-674fb3b8c0b6"
      },
      "outputs": [
        {
          "output_type": "stream",
          "name": "stdout",
          "text": [
            "Alice\n",
            "David\n",
            "Carolina\n"
          ]
        }
      ],
      "source": [
        "magicians = ['alice', 'david', 'carolina'] # first we define the list\n",
        "for magician in magicians: # this line tells Python to pull a name from the list magicians, and associate it with the variable magician\n",
        "  print(magician.title()) # Python repeats line 2 and 3 for each item in the list"
      ]
    },
    {
      "cell_type": "markdown",
      "source": [
        "We can interpret the above code as follows: \"For every magician in the list of magicians, print the magician's name,\"\n",
        "\n",
        "It's good to keep naming conventions simple and intuitive like so:\n",
        "\n",
        "- for cat in cats:\n",
        "\n",
        "- for dog in dogs:\n",
        "\n",
        "- for item in list_of_items:\n"
      ],
      "metadata": {
        "id": "RLkCfsyY_JWR"
      }
    },
    {
      "cell_type": "code",
      "source": [
        "for magician in magicians:\n",
        "  print(f\"{magician.title()}, that was a great trick!\")\n",
        "  print(f\"I can't wait to see your next trick {magician.title()}!\\n\")\n",
        "print(\"Thank you all for the great show!\") # This line is not indented, so Python does not count it in the for loop"
      ],
      "metadata": {
        "colab": {
          "base_uri": "https://localhost:8080/"
        },
        "id": "g95OOe3i-Ua7",
        "outputId": "dcab5ad4-b07a-450e-963e-4edf7516053d"
      },
      "execution_count": null,
      "outputs": [
        {
          "output_type": "stream",
          "name": "stdout",
          "text": [
            "Alice, that was a great trick!\n",
            "I can't wait to see your next trick Alice!\n",
            "\n",
            "David, that was a great trick!\n",
            "I can't wait to see your next trick David!\n",
            "\n",
            "Carolina, that was a great trick!\n",
            "I can't wait to see your next trick Carolina!\n",
            "\n",
            "Thank you all for the great show!\n"
          ]
        }
      ]
    },
    {
      "cell_type": "code",
      "source": [
        "people = ['alice', 'david', 'carolina']\n",
        "for freinds in people: #don't forget the colon\n",
        "  print(f\"Hello {freinds.title()}!\")\n",
        "print(\"\\nI hope you guys are ready to code!\")"
      ],
      "metadata": {
        "id": "l3cLBHg8A6fF",
        "colab": {
          "base_uri": "https://localhost:8080/"
        },
        "outputId": "852ee2e8-978d-4397-a296-100443974400"
      },
      "execution_count": null,
      "outputs": [
        {
          "output_type": "stream",
          "name": "stdout",
          "text": [
            "Hello Alice!\n",
            "Hello David!\n",
            "Hello Carolina!\n",
            "\n",
            "I hope you guys are ready to code!\n"
          ]
        }
      ]
    },
    {
      "cell_type": "markdown",
      "source": [
        "# Try it yourself\n",
        "* 4-1 Pizzas\n",
        "* 4-2 Animals"
      ],
      "metadata": {
        "id": "TpcMiJWFekUv"
      }
    },
    {
      "cell_type": "code",
      "source": [
        "#4-1\n",
        "pizza = ['bacon', 'pinapple', 'jalapeno']\n",
        "for toppings in pizza:\n",
        "  print(f\"One of my favorite pizzas is {toppings.title()}.\")\n",
        "print(\"\\nHonestly, I just really like pizza!\\n\")\n",
        "\n",
        "#4-2\n",
        "cats = ['tiger', 'cheeta', 'lepord']\n",
        "for cat in cats:\n",
        "  print(f\" You know, a {cat.title()} would make a cool pet!\")"
      ],
      "metadata": {
        "colab": {
          "base_uri": "https://localhost:8080/"
        },
        "id": "gp7QfGaXdtSo",
        "outputId": "987907ce-6fd0-4194-e3cf-f46db9f8c593"
      },
      "execution_count": null,
      "outputs": [
        {
          "output_type": "stream",
          "name": "stdout",
          "text": [
            "One of my favorite pizzas is Bacon.\n",
            "One of my favorite pizzas is Pinapple.\n",
            "One of my favorite pizzas is Jalapeno.\n",
            "\n",
            "Honestly, I just really like pizza!\n",
            "\n",
            " You know, a Tiger would make a cool pet!\n",
            " You know, a Cheeta would make a cool pet!\n",
            " You know, a Lepord would make a cool pet!\n"
          ]
        }
      ]
    },
    {
      "cell_type": "code",
      "source": [
        "for value in range(1, 5): #range(x, y) function will not print the last number (off by one behavior of computer programming)\n",
        " print(value)\n",
        "print(\"-----------------------------\\n\")\n",
        "\n",
        "for value in range(6): #range(6) gives us a list of number from 0-5\n",
        " print(value)\n",
        "print(\"-----------------------------\\n\")\n",
        "\n",
        "numbers = list(range(1,6)) #wrapping list funcition around range creates a list with assocated range.\n",
        "print(numbers)\n",
        "print(\"-----------------------------\\n\")\n",
        "\n",
        "even_numbers = list(range(2,11,2)) #rang(x, y, z) starts at x, and adds z until it passes or reaches y.\n",
        "print(even_numbers)"
      ],
      "metadata": {
        "colab": {
          "base_uri": "https://localhost:8080/"
        },
        "id": "Azd3TEBYfSU8",
        "outputId": "c8bcbc19-4fbb-464c-ecfd-6437482f1473"
      },
      "execution_count": 12,
      "outputs": [
        {
          "output_type": "stream",
          "name": "stdout",
          "text": [
            "1\n",
            "2\n",
            "3\n",
            "4\n",
            "-----------------------------\n",
            "\n",
            "0\n",
            "1\n",
            "2\n",
            "3\n",
            "4\n",
            "5\n",
            "-----------------------------\n",
            "\n",
            "[1, 2, 3, 4, 5]\n",
            "-----------------------------\n",
            "\n",
            "[2, 4, 6, 8, 10]\n"
          ]
        }
      ]
    },
    {
      "cell_type": "code",
      "source": [
        "# We want to create a list of the first 10 squares, that is, 1^2, 2^2, 3^2, 4^2 and so on..\n",
        "squares = [] # We start with an empty list called squares\n",
        "for value in range(1,11): #Loop through each value from 1 to 10\n",
        "  square = value**2 # Square each value\n",
        "  squares.append(square) # Add the results to the list until it gets to 10\n",
        "\n",
        "print(squares) # print the resulting list\n",
        "\n",
        "squares = []\n",
        "for value in range(1,11):\n",
        "  squares.append(value**2) #this is a list comprehension, it allows you to generate the same list in just one line of code\n",
        "print(squares)\n",
        "\n",
        "print(min(squares))\n",
        "print(max(squares))\n",
        "print(sum(squares))"
      ],
      "metadata": {
        "colab": {
          "base_uri": "https://localhost:8080/"
        },
        "id": "YUCmTiTPUMyJ",
        "outputId": "1c983b60-6d0f-47e2-af09-e8a54de94a4d"
      },
      "execution_count": 21,
      "outputs": [
        {
          "output_type": "stream",
          "name": "stdout",
          "text": [
            "[1, 4, 9, 16, 25, 36, 49, 64, 81, 100]\n",
            "[1, 4, 9, 16, 25, 36, 49, 64, 81, 100]\n",
            "1\n",
            "100\n",
            "385\n"
          ]
        }
      ]
    },
    {
      "cell_type": "code",
      "source": [],
      "metadata": {
        "id": "NuD_Oci8pFr7"
      },
      "execution_count": null,
      "outputs": []
    }
  ]
}